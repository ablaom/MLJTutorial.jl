{
 "cells": [
  {
   "cell_type": "markdown",
   "source": [
    "# Machine Learning in Julia"
   ],
   "metadata": {}
  },
  {
   "cell_type": "markdown",
   "source": [
    "An introduction to the\n",
    "[MLJ](https://alan-turing-institute.github.io/MLJ.jl/stable/)\n",
    "toolbox."
   ],
   "metadata": {}
  },
  {
   "cell_type": "markdown",
   "source": [
    "### Set-up"
   ],
   "metadata": {}
  },
  {
   "cell_type": "markdown",
   "source": [
    "Inspect Julia version:"
   ],
   "metadata": {}
  },
  {
   "outputs": [
    {
     "output_type": "execute_result",
     "data": {
      "text/plain": "v\"1.7.1\""
     },
     "metadata": {},
     "execution_count": 1
    }
   ],
   "cell_type": "code",
   "source": [
    "VERSION"
   ],
   "metadata": {},
   "execution_count": 1
  },
  {
   "cell_type": "markdown",
   "source": [
    "The following instantiates a package environment."
   ],
   "metadata": {}
  },
  {
   "cell_type": "markdown",
   "source": [
    "The package environment has been created using **Julia 1.6** and may not\n",
    "instantiate properly for other Julia versions."
   ],
   "metadata": {}
  },
  {
   "outputs": [
    {
     "name": "stdout",
     "output_type": "stream",
     "text": [
      "  Activating project at `~/GoogleDrive/Julia/MLJ/MLJTutorial/notebooks/01_data_representation/env`\n",
      "┌ Warning: The active manifest file is an older format with no julia version entry. Dependencies may have been resolved with a different julia version.\n",
      "└ @ ~/GoogleDrive/Julia/MLJ/MLJTutorial/notebooks/01_data_representation/env/Manifest.toml:0\n"
     ]
    }
   ],
   "cell_type": "code",
   "source": [
    "using Pkg\n",
    "Pkg.activate(\"env\")\n",
    "Pkg.instantiate()"
   ],
   "metadata": {},
   "execution_count": 2
  },
  {
   "cell_type": "markdown",
   "source": [
    "## General resources"
   ],
   "metadata": {}
  },
  {
   "cell_type": "markdown",
   "source": [
    "- [MLJ Cheatsheet](https://alan-turing-institute.github.io/MLJ.jl/dev/mlj_cheatsheet/)\n",
    "- [Common MLJ Workflows](https://alan-turing-institute.github.io/MLJ.jl/dev/common_mlj_workflows/)\n",
    "- [MLJ manual](https://alan-turing-institute.github.io/MLJ.jl/dev/)\n",
    "- [Data Science Tutorials in Julia](https://juliaai.github.io/DataScienceTutorials.jl/)"
   ],
   "metadata": {}
  },
  {
   "cell_type": "markdown",
   "source": [
    "## Part 1 - Data Representation"
   ],
   "metadata": {}
  },
  {
   "cell_type": "markdown",
   "source": [
    "> **Goals:**\n",
    "> 1. Learn how MLJ specifies it's data requirements using \"scientific\" types\n",
    "> 2. Understand the options for representing tabular data\n",
    "> 3. Learn how to inspect and fix the representation of data to meet MLJ requirements"
   ],
   "metadata": {}
  },
  {
   "cell_type": "markdown",
   "source": [
    "### Scientific types"
   ],
   "metadata": {}
  },
  {
   "cell_type": "markdown",
   "source": [
    "To help you focus on the intended *purpose* or *interpretation* of\n",
    "data, MLJ models specify data requirements using *scientific types*,\n",
    "instead of machine types. An example of a scientific type is\n",
    "`OrderedFactor`. The other basic \"scalar\" scientific types are\n",
    "illustrated below:"
   ],
   "metadata": {}
  },
  {
   "cell_type": "markdown",
   "source": [
    "![](scitypes.png)"
   ],
   "metadata": {}
  },
  {
   "cell_type": "markdown",
   "source": [
    "A scientific type is an ordinary Julia type (so it can be used for\n",
    "method dispatch, for example) but it usually has no instances. The\n",
    "`scitype` function is used to articulate MLJ's convention about how\n",
    "different machine types will be interpreted by MLJ models:"
   ],
   "metadata": {}
  },
  {
   "outputs": [
    {
     "output_type": "execute_result",
     "data": {
      "text/plain": "Continuous"
     },
     "metadata": {},
     "execution_count": 3
    }
   ],
   "cell_type": "code",
   "source": [
    "using ScientificTypes\n",
    "scitype(3.141)"
   ],
   "metadata": {},
   "execution_count": 3
  },
  {
   "outputs": [
    {
     "output_type": "execute_result",
     "data": {
      "text/plain": "AbstractVector{Continuous} (alias for AbstractArray{Continuous, 1})"
     },
     "metadata": {},
     "execution_count": 4
    }
   ],
   "cell_type": "code",
   "source": [
    "time = [2.3, 4.5, 4.2, 1.8, 7.1]\n",
    "scitype(time)"
   ],
   "metadata": {},
   "execution_count": 4
  },
  {
   "cell_type": "markdown",
   "source": [
    "To fix data which MLJ is interpreting incorrectly, we use the\n",
    "`coerce` method:"
   ],
   "metadata": {}
  },
  {
   "outputs": [
    {
     "output_type": "execute_result",
     "data": {
      "text/plain": "AbstractVector{Count} (alias for AbstractArray{Count, 1})"
     },
     "metadata": {},
     "execution_count": 5
    }
   ],
   "cell_type": "code",
   "source": [
    "height = [185, 153, 163, 114, 180]\n",
    "scitype(height)"
   ],
   "metadata": {},
   "execution_count": 5
  },
  {
   "outputs": [
    {
     "output_type": "execute_result",
     "data": {
      "text/plain": "5-element Vector{Float64}:\n 185.0\n 153.0\n 163.0\n 114.0\n 180.0"
     },
     "metadata": {},
     "execution_count": 6
    }
   ],
   "cell_type": "code",
   "source": [
    "height = coerce(height, Continuous)"
   ],
   "metadata": {},
   "execution_count": 6
  },
  {
   "cell_type": "markdown",
   "source": [
    "Here's an example of data we would want interpreted as\n",
    "`OrderedFactor` but isn't:"
   ],
   "metadata": {}
  },
  {
   "outputs": [
    {
     "output_type": "execute_result",
     "data": {
      "text/plain": "AbstractVector{Union{Missing, Textual}} (alias for AbstractArray{Union{Missing, Textual}, 1})"
     },
     "metadata": {},
     "execution_count": 7
    }
   ],
   "cell_type": "code",
   "source": [
    "exam_mark = [\"rotten\", \"great\", \"bla\",  missing, \"great\"]\n",
    "scitype(exam_mark)"
   ],
   "metadata": {},
   "execution_count": 7
  },
  {
   "outputs": [
    {
     "name": "stdout",
     "output_type": "stream",
     "text": [
      "┌ Info: Trying to coerce from `Union{Missing, String}` to `OrderedFactor`.\n",
      "└ Coerced to `Union{Missing,OrderedFactor}` instead.\n"
     ]
    },
    {
     "output_type": "execute_result",
     "data": {
      "text/plain": "5-element CategoricalArrays.CategoricalArray{Union{Missing, String},1,UInt32}:\n \"rotten\"\n \"great\"\n \"bla\"\n missing\n \"great\""
     },
     "metadata": {},
     "execution_count": 8
    }
   ],
   "cell_type": "code",
   "source": [
    "exam_mark = coerce(exam_mark, OrderedFactor)"
   ],
   "metadata": {},
   "execution_count": 8
  },
  {
   "outputs": [
    {
     "output_type": "execute_result",
     "data": {
      "text/plain": "3-element Vector{String}:\n \"bla\"\n \"great\"\n \"rotten\""
     },
     "metadata": {},
     "execution_count": 9
    }
   ],
   "cell_type": "code",
   "source": [
    "levels(exam_mark)"
   ],
   "metadata": {},
   "execution_count": 9
  },
  {
   "cell_type": "markdown",
   "source": [
    "Use `levels!` to put the classes in the right order:"
   ],
   "metadata": {}
  },
  {
   "outputs": [
    {
     "output_type": "execute_result",
     "data": {
      "text/plain": "true"
     },
     "metadata": {},
     "execution_count": 10
    }
   ],
   "cell_type": "code",
   "source": [
    "levels!(exam_mark, [\"rotten\", \"bla\", \"great\"])\n",
    "exam_mark[1] < exam_mark[2]"
   ],
   "metadata": {},
   "execution_count": 10
  },
  {
   "cell_type": "markdown",
   "source": [
    "When sub-sampling, no levels are lost:"
   ],
   "metadata": {}
  },
  {
   "outputs": [
    {
     "output_type": "execute_result",
     "data": {
      "text/plain": "3-element Vector{String}:\n \"rotten\"\n \"bla\"\n \"great\""
     },
     "metadata": {},
     "execution_count": 11
    }
   ],
   "cell_type": "code",
   "source": [
    "levels(exam_mark[1:2])"
   ],
   "metadata": {},
   "execution_count": 11
  },
  {
   "cell_type": "markdown",
   "source": [
    "**Note on binary data.** There is no separate scientific type for\n",
    "binary data. Binary data is `OrderedFactor{2}` or\n",
    "`Multiclass{2}`. If a binary measure like `truepositive` is a\n",
    "applied to `OrderedFactor{2}` then the \"positive\" class is assumed\n",
    "to appear *second* in the ordering. If such a measure is applied to\n",
    "`Multiclass{2}` data, a warning is issued. A single `OrderedFactor`\n",
    "can be coerced to a single `Continuous` variable, for models that\n",
    "require this, while a `Multiclass` variable can only be one-hot\n",
    "encoded."
   ],
   "metadata": {}
  },
  {
   "cell_type": "markdown",
   "source": [
    "### Two-dimensional data"
   ],
   "metadata": {}
  },
  {
   "cell_type": "markdown",
   "source": [
    "Whenever it makes sense, MLJ Models generally expect two-dimensional\n",
    "data to be *tabular*. All the tabular formats implementing the\n",
    "[Tables.jl API](https://juliadata.github.io/Tables.jl/stable/) (see\n",
    "this\n",
    "[list](https://github.com/JuliaData/Tables.jl/blob/master/INTEGRATIONS.md))\n",
    "have a scientific type of `Table` and can be used with such models."
   ],
   "metadata": {}
  },
  {
   "cell_type": "markdown",
   "source": [
    "Probably the simplest example of a table is the julia native *column\n",
    "table*, which is just a named tuple of equal-length vectors:"
   ],
   "metadata": {}
  },
  {
   "outputs": [
    {
     "output_type": "execute_result",
     "data": {
      "text/plain": "(h = [185.0, 153.0, 163.0, 114.0, 180.0],\n e = Union{Missing, CategoricalArrays.CategoricalValue{String, UInt32}}[\"rotten\", \"great\", \"bla\", missing, \"great\"],\n t = [2.3, 4.5, 4.2, 1.8, 7.1],)"
     },
     "metadata": {},
     "execution_count": 12
    }
   ],
   "cell_type": "code",
   "source": [
    "column_table = (h=height, e=exam_mark, t=time)"
   ],
   "metadata": {},
   "execution_count": 12
  },
  {
   "outputs": [
    {
     "output_type": "execute_result",
     "data": {
      "text/plain": "Table{Union{AbstractVector{Union{Missing, OrderedFactor{3}}}, AbstractVector{Continuous}}}"
     },
     "metadata": {},
     "execution_count": 13
    }
   ],
   "cell_type": "code",
   "source": [
    "scitype(column_table)"
   ],
   "metadata": {},
   "execution_count": 13
  },
  {
   "cell_type": "markdown",
   "source": [
    "Notice the `Table{K}` type parameter `K` encodes the scientific\n",
    "types of the columns. (This is useful when comparing table scitypes\n",
    "with `<:`). To inspect the individual column scitypes, we use the\n",
    "`schema` method instead:"
   ],
   "metadata": {}
  },
  {
   "outputs": [
    {
     "output_type": "execute_result",
     "data": {
      "text/plain": "┌───────┬──────────────────────────────────┬────────────────────────────────────────────────\n│\u001b[22m names \u001b[0m│\u001b[22m scitypes                         \u001b[0m│\u001b[22m types                                        \u001b[0m ⋯\n├───────┼──────────────────────────────────┼────────────────────────────────────────────────\n│ h     │ Continuous                       │ Float64                                       ⋯\n│ e     │ Union{Missing, OrderedFactor{3}} │ Union{Missing, CategoricalValue{String, UInt3 ⋯\n│ t     │ Continuous                       │ Float64                                       ⋯\n└───────┴──────────────────────────────────┴────────────────────────────────────────────────\n\u001b[36m                                                                            1 column omitted\u001b[0m\n"
     },
     "metadata": {},
     "execution_count": 14
    }
   ],
   "cell_type": "code",
   "source": [
    "schema(column_table)"
   ],
   "metadata": {},
   "execution_count": 14
  },
  {
   "cell_type": "markdown",
   "source": [
    "Here are five other examples of tables:"
   ],
   "metadata": {}
  },
  {
   "outputs": [
    {
     "output_type": "execute_result",
     "data": {
      "text/plain": "┌───────┬──────────────────────────────────┬────────────────────────────────────────────────\n│\u001b[22m names \u001b[0m│\u001b[22m scitypes                         \u001b[0m│\u001b[22m types                                        \u001b[0m ⋯\n├───────┼──────────────────────────────────┼────────────────────────────────────────────────\n│ e     │ Union{Missing, OrderedFactor{3}} │ Union{Missing, CategoricalValue{String, UInt3 ⋯\n│ h     │ Continuous                       │ Float64                                       ⋯\n│ t     │ Continuous                       │ Float64                                       ⋯\n└───────┴──────────────────────────────────┴────────────────────────────────────────────────\n\u001b[36m                                                                            1 column omitted\u001b[0m\n"
     },
     "metadata": {},
     "execution_count": 15
    }
   ],
   "cell_type": "code",
   "source": [
    "dict_table = Dict(:h => height, :e => exam_mark, :t => time)\n",
    "schema(dict_table)"
   ],
   "metadata": {},
   "execution_count": 15
  },
  {
   "cell_type": "markdown",
   "source": [
    "(To control column order here, instead use `LittleDict` from\n",
    "OrderedCollections.jl.)"
   ],
   "metadata": {}
  },
  {
   "outputs": [
    {
     "output_type": "execute_result",
     "data": {
      "text/plain": "┌───────┬────────────┬─────────┐\n│\u001b[22m names \u001b[0m│\u001b[22m scitypes   \u001b[0m│\u001b[22m types   \u001b[0m│\n├───────┼────────────┼─────────┤\n│ a     │ Count      │ Int64   │\n│ b     │ Continuous │ Float64 │\n└───────┴────────────┴─────────┘\n"
     },
     "metadata": {},
     "execution_count": 16
    }
   ],
   "cell_type": "code",
   "source": [
    "row_table = [(a=1, b=3.4),\n",
    "             (a=2, b=4.5),\n",
    "             (a=3, b=5.6)]\n",
    "schema(row_table)"
   ],
   "metadata": {},
   "execution_count": 16
  },
  {
   "outputs": [
    {
     "output_type": "execute_result",
     "data": {
      "text/plain": "\u001b[1m5×3 DataFrame\u001b[0m\n\u001b[1m Row \u001b[0m│\u001b[1m h       \u001b[0m\u001b[1m e       \u001b[0m\u001b[1m t       \u001b[0m\n\u001b[1m     \u001b[0m│\u001b[90m Float64 \u001b[0m\u001b[90m Cat…?   \u001b[0m\u001b[90m Float64 \u001b[0m\n─────┼───────────────────────────\n   1 │   185.0  rotten       2.3\n   2 │   153.0  great        4.5\n   3 │   163.0  bla          4.2\n   4 │   114.0 \u001b[90m missing \u001b[0m     1.8\n   5 │   180.0  great        7.1",
      "text/html": [
       "<div class=\"data-frame\"><p>5 rows × 3 columns</p><table class=\"data-frame\"><thead><tr><th></th><th>h</th><th>e</th><th>t</th></tr><tr><th></th><th title=\"Float64\">Float64</th><th title=\"Union{Missing, CategoricalArrays.CategoricalValue{String, UInt32}}\">Cat…?</th><th title=\"Float64\">Float64</th></tr></thead><tbody><tr><th>1</th><td>185.0</td><td>rotten</td><td>2.3</td></tr><tr><th>2</th><td>153.0</td><td>great</td><td>4.5</td></tr><tr><th>3</th><td>163.0</td><td>bla</td><td>4.2</td></tr><tr><th>4</th><td>114.0</td><td><em>missing</em></td><td>1.8</td></tr><tr><th>5</th><td>180.0</td><td>great</td><td>7.1</td></tr></tbody></table></div>"
      ]
     },
     "metadata": {},
     "execution_count": 17
    }
   ],
   "cell_type": "code",
   "source": [
    "import DataFrames\n",
    "df = DataFrames.DataFrame(column_table)"
   ],
   "metadata": {},
   "execution_count": 17
  },
  {
   "outputs": [
    {
     "output_type": "execute_result",
     "data": {
      "text/plain": "true"
     },
     "metadata": {},
     "execution_count": 18
    }
   ],
   "cell_type": "code",
   "source": [
    "schema(df) == schema(column_table)"
   ],
   "metadata": {},
   "execution_count": 18
  },
  {
   "outputs": [
    {
     "output_type": "execute_result",
     "data": {
      "text/plain": "┌─────────────────────────┬────────────┬─────────┐\n│\u001b[22m names                   \u001b[0m│\u001b[22m scitypes   \u001b[0m│\u001b[22m types   \u001b[0m│\n├─────────────────────────┼────────────┼─────────┤\n│ surgery                 │ Count      │ Int64   │\n│ age                     │ Count      │ Int64   │\n│ rectal_temperature      │ Continuous │ Float64 │\n│ pulse                   │ Count      │ Int64   │\n│ respiratory_rate        │ Count      │ Int64   │\n│ temperature_extremities │ Count      │ Int64   │\n│ mucous_membranes        │ Count      │ Int64   │\n│ capillary_refill_time   │ Count      │ Int64   │\n│ pain                    │ Count      │ Int64   │\n│ peristalsis             │ Count      │ Int64   │\n│ abdominal_distension    │ Count      │ Int64   │\n│ packed_cell_volume      │ Continuous │ Float64 │\n│ total_protein           │ Continuous │ Float64 │\n│ outcome                 │ Count      │ Int64   │\n│ surgical_lesion         │ Count      │ Int64   │\n│ cp_data                 │ Count      │ Int64   │\n└─────────────────────────┴────────────┴─────────┘\n"
     },
     "metadata": {},
     "execution_count": 19
    }
   ],
   "cell_type": "code",
   "source": [
    "using UrlDownload, CSV\n",
    "csv_file = urldownload(\"https://raw.githubusercontent.com/ablaom/\"*\n",
    "                   \"MachineLearningInJulia2020/\"*\n",
    "                   \"for-MLJ-version-0.16/data/horse.csv\");\n",
    "schema(csv_file)"
   ],
   "metadata": {},
   "execution_count": 19
  },
  {
   "cell_type": "markdown",
   "source": [
    "Most MLJ models do not accept matrix in lieu of a table, but you can\n",
    "wrap a matrix as a table:"
   ],
   "metadata": {}
  },
  {
   "outputs": [
    {
     "output_type": "execute_result",
     "data": {
      "text/plain": "┌─────────┬────────────┬─────────┐\n│\u001b[22m names   \u001b[0m│\u001b[22m scitypes   \u001b[0m│\u001b[22m types   \u001b[0m│\n├─────────┼────────────┼─────────┤\n│ Column1 │ Continuous │ Float64 │\n│ Column2 │ Continuous │ Float64 │\n│ Column3 │ Continuous │ Float64 │\n└─────────┴────────────┴─────────┘\n"
     },
     "metadata": {},
     "execution_count": 20
    }
   ],
   "cell_type": "code",
   "source": [
    "using Tables\n",
    "matrix_table = Tables.table(rand(2,3))\n",
    "schema(matrix_table)"
   ],
   "metadata": {},
   "execution_count": 20
  },
  {
   "cell_type": "markdown",
   "source": [
    "The matrix is *not* copied, only wrapped. Some models may perform\n",
    "better if one wraps the adjoint of the transpose - see\n",
    "[here](https://alan-turing-institute.github.io/MLJ.jl/dev/getting_started/#Observations-correspond-to-rows,-not-columns)."
   ],
   "metadata": {}
  },
  {
   "cell_type": "markdown",
   "source": [
    "**Manipulating tabular data.** In this workshop we assume\n",
    "familiarity with some kind of tabular data container (although it is\n",
    "possible, in principle, to carry out the exercises without this.)\n",
    "For a quick start introduction to `DataFrames`, see [this\n",
    "tutorial](https://juliaai.github.io/DataScienceTutorials.jl/data/dataframe/)."
   ],
   "metadata": {}
  },
  {
   "cell_type": "markdown",
   "source": [
    "### Fixing scientific types in tabular data"
   ],
   "metadata": {}
  },
  {
   "cell_type": "markdown",
   "source": [
    "To show how we can correct the scientific types of data in tables,\n",
    "we introduce a cleaned up version of the UCI Horse Colic Data Set\n",
    "(the cleaning work-flow is described\n",
    "[here](https://juliaai.github.io/DataScienceTutorials.jl/end-to-end/horse/#dealing_with_missing_values)).\n",
    "We already downloaded this data set immediately above.q"
   ],
   "metadata": {}
  },
  {
   "outputs": [
    {
     "output_type": "execute_result",
     "data": {
      "text/plain": "\u001b[1m4×16 DataFrame\u001b[0m\n\u001b[1m Row \u001b[0m│\u001b[1m surgery \u001b[0m\u001b[1m age   \u001b[0m\u001b[1m rectal_temperature \u001b[0m\u001b[1m pulse \u001b[0m\u001b[1m respiratory_rate \u001b[0m\u001b[1m temperature_extremitie\u001b[0m ⋯\n\u001b[1m     \u001b[0m│\u001b[90m Int64   \u001b[0m\u001b[90m Int64 \u001b[0m\u001b[90m Float64            \u001b[0m\u001b[90m Int64 \u001b[0m\u001b[90m Int64            \u001b[0m\u001b[90m Int64                 \u001b[0m ⋯\n─────┼──────────────────────────────────────────────────────────────────────────────────────\n   1 │       2      1                38.5     66                66                         ⋯\n   2 │       1      1                39.2     88                88\n   3 │       2      1                38.3     40                40\n   4 │       1      9                39.1    164               164\n\u001b[36m                                                                          11 columns omitted\u001b[0m",
      "text/html": [
       "<div class=\"data-frame\"><p>4 rows × 16 columns (omitted printing of 9 columns)</p><table class=\"data-frame\"><thead><tr><th></th><th>surgery</th><th>age</th><th>rectal_temperature</th><th>pulse</th><th>respiratory_rate</th><th>temperature_extremities</th><th>mucous_membranes</th></tr><tr><th></th><th title=\"Int64\">Int64</th><th title=\"Int64\">Int64</th><th title=\"Float64\">Float64</th><th title=\"Int64\">Int64</th><th title=\"Int64\">Int64</th><th title=\"Int64\">Int64</th><th title=\"Int64\">Int64</th></tr></thead><tbody><tr><th>1</th><td>2</td><td>1</td><td>38.5</td><td>66</td><td>66</td><td>3</td><td>1</td></tr><tr><th>2</th><td>1</td><td>1</td><td>39.2</td><td>88</td><td>88</td><td>3</td><td>4</td></tr><tr><th>3</th><td>2</td><td>1</td><td>38.3</td><td>40</td><td>40</td><td>1</td><td>3</td></tr><tr><th>4</th><td>1</td><td>9</td><td>39.1</td><td>164</td><td>164</td><td>4</td><td>6</td></tr></tbody></table></div>"
      ]
     },
     "metadata": {},
     "execution_count": 21
    }
   ],
   "cell_type": "code",
   "source": [
    "horse = DataFrames.DataFrame(csv_file); # convert to data frame\n",
    "first(horse, 4)"
   ],
   "metadata": {},
   "execution_count": 21
  },
  {
   "cell_type": "markdown",
   "source": [
    "From [the UCI\n",
    "docs](http://archive.ics.uci.edu/ml/datasets/Horse+Colic) we can\n",
    "surmise how each variable ought to be interpreted (a step in our\n",
    "work-flow that cannot reliably be left to the computer):"
   ],
   "metadata": {}
  },
  {
   "cell_type": "markdown",
   "source": [
    "variable                    | scientific type (interpretation)\n",
    "----------------------------|-----------------------------------\n",
    "`:surgery`                  | Multiclass\n",
    "`:age`                      | Multiclass\n",
    "`:rectal_temperature`       | Continuous\n",
    "`:pulse`                    | Continuous\n",
    "`:respiratory_rate`         | Continuous\n",
    "`:temperature_extremities`  | OrderedFactor\n",
    "`:mucous_membranes`         | Multiclass\n",
    "`:capillary_refill_time`    | Multiclass\n",
    "`:pain`                     | OrderedFactor\n",
    "`:peristalsis`              | OrderedFactor\n",
    "`:abdominal_distension`     | OrderedFactor\n",
    "`:packed_cell_volume`       | Continuous\n",
    "`:total_protein`            | Continuous\n",
    "`:outcome`                  | Multiclass\n",
    "`:surgical_lesion`          | OrderedFactor\n",
    "`:cp_data`                  | Multiclass"
   ],
   "metadata": {}
  },
  {
   "cell_type": "markdown",
   "source": [
    "Let's see how MLJ will actually interpret the data, as it is\n",
    "currently encoded:"
   ],
   "metadata": {}
  },
  {
   "outputs": [
    {
     "output_type": "execute_result",
     "data": {
      "text/plain": "┌─────────────────────────┬────────────┬─────────┐\n│\u001b[22m names                   \u001b[0m│\u001b[22m scitypes   \u001b[0m│\u001b[22m types   \u001b[0m│\n├─────────────────────────┼────────────┼─────────┤\n│ surgery                 │ Count      │ Int64   │\n│ age                     │ Count      │ Int64   │\n│ rectal_temperature      │ Continuous │ Float64 │\n│ pulse                   │ Count      │ Int64   │\n│ respiratory_rate        │ Count      │ Int64   │\n│ temperature_extremities │ Count      │ Int64   │\n│ mucous_membranes        │ Count      │ Int64   │\n│ capillary_refill_time   │ Count      │ Int64   │\n│ pain                    │ Count      │ Int64   │\n│ peristalsis             │ Count      │ Int64   │\n│ abdominal_distension    │ Count      │ Int64   │\n│ packed_cell_volume      │ Continuous │ Float64 │\n│ total_protein           │ Continuous │ Float64 │\n│ outcome                 │ Count      │ Int64   │\n│ surgical_lesion         │ Count      │ Int64   │\n│ cp_data                 │ Count      │ Int64   │\n└─────────────────────────┴────────────┴─────────┘\n"
     },
     "metadata": {},
     "execution_count": 22
    }
   ],
   "cell_type": "code",
   "source": [
    "schema(horse)"
   ],
   "metadata": {},
   "execution_count": 22
  },
  {
   "cell_type": "markdown",
   "source": [
    "As a first correction step, we can get MLJ to \"guess\" the\n",
    "appropriate fix, using the `autotype` method:"
   ],
   "metadata": {}
  },
  {
   "outputs": [
    {
     "output_type": "execute_result",
     "data": {
      "text/plain": "Dict{Symbol, Type} with 11 entries:\n  :abdominal_distension    => OrderedFactor\n  :pain                    => OrderedFactor\n  :surgery                 => OrderedFactor\n  :mucous_membranes        => OrderedFactor\n  :surgical_lesion         => OrderedFactor\n  :outcome                 => OrderedFactor\n  :capillary_refill_time   => OrderedFactor\n  :age                     => OrderedFactor\n  :temperature_extremities => OrderedFactor\n  :peristalsis             => OrderedFactor\n  :cp_data                 => OrderedFactor"
     },
     "metadata": {},
     "execution_count": 23
    }
   ],
   "cell_type": "code",
   "source": [
    "autotype(horse)"
   ],
   "metadata": {},
   "execution_count": 23
  },
  {
   "cell_type": "markdown",
   "source": [
    "Okay, this is not perfect, but a step in the right direction, which\n",
    "we implement like this:"
   ],
   "metadata": {}
  },
  {
   "outputs": [
    {
     "output_type": "execute_result",
     "data": {
      "text/plain": "┌─────────────────────────┬──────────────────┬─────────────────────────────────┐\n│\u001b[22m names                   \u001b[0m│\u001b[22m scitypes         \u001b[0m│\u001b[22m types                           \u001b[0m│\n├─────────────────────────┼──────────────────┼─────────────────────────────────┤\n│ surgery                 │ OrderedFactor{2} │ CategoricalValue{Int64, UInt32} │\n│ age                     │ OrderedFactor{2} │ CategoricalValue{Int64, UInt32} │\n│ rectal_temperature      │ Continuous       │ Float64                         │\n│ pulse                   │ Count            │ Int64                           │\n│ respiratory_rate        │ Count            │ Int64                           │\n│ temperature_extremities │ OrderedFactor{4} │ CategoricalValue{Int64, UInt32} │\n│ mucous_membranes        │ OrderedFactor{6} │ CategoricalValue{Int64, UInt32} │\n│ capillary_refill_time   │ OrderedFactor{3} │ CategoricalValue{Int64, UInt32} │\n│ pain                    │ OrderedFactor{5} │ CategoricalValue{Int64, UInt32} │\n│ peristalsis             │ OrderedFactor{4} │ CategoricalValue{Int64, UInt32} │\n│ abdominal_distension    │ OrderedFactor{4} │ CategoricalValue{Int64, UInt32} │\n│ packed_cell_volume      │ Continuous       │ Float64                         │\n│ total_protein           │ Continuous       │ Float64                         │\n│ outcome                 │ OrderedFactor{3} │ CategoricalValue{Int64, UInt32} │\n│ surgical_lesion         │ OrderedFactor{2} │ CategoricalValue{Int64, UInt32} │\n│ cp_data                 │ OrderedFactor{2} │ CategoricalValue{Int64, UInt32} │\n└─────────────────────────┴──────────────────┴─────────────────────────────────┘\n"
     },
     "metadata": {},
     "execution_count": 24
    }
   ],
   "cell_type": "code",
   "source": [
    "coerce!(horse, autotype(horse));\n",
    "schema(horse)"
   ],
   "metadata": {},
   "execution_count": 24
  },
  {
   "cell_type": "markdown",
   "source": [
    "All remaining `Count` data should be `Continuous`:"
   ],
   "metadata": {}
  },
  {
   "outputs": [
    {
     "output_type": "execute_result",
     "data": {
      "text/plain": "┌─────────────────────────┬──────────────────┬─────────────────────────────────┐\n│\u001b[22m names                   \u001b[0m│\u001b[22m scitypes         \u001b[0m│\u001b[22m types                           \u001b[0m│\n├─────────────────────────┼──────────────────┼─────────────────────────────────┤\n│ surgery                 │ OrderedFactor{2} │ CategoricalValue{Int64, UInt32} │\n│ age                     │ OrderedFactor{2} │ CategoricalValue{Int64, UInt32} │\n│ rectal_temperature      │ Continuous       │ Float64                         │\n│ pulse                   │ Continuous       │ Float64                         │\n│ respiratory_rate        │ Continuous       │ Float64                         │\n│ temperature_extremities │ OrderedFactor{4} │ CategoricalValue{Int64, UInt32} │\n│ mucous_membranes        │ OrderedFactor{6} │ CategoricalValue{Int64, UInt32} │\n│ capillary_refill_time   │ OrderedFactor{3} │ CategoricalValue{Int64, UInt32} │\n│ pain                    │ OrderedFactor{5} │ CategoricalValue{Int64, UInt32} │\n│ peristalsis             │ OrderedFactor{4} │ CategoricalValue{Int64, UInt32} │\n│ abdominal_distension    │ OrderedFactor{4} │ CategoricalValue{Int64, UInt32} │\n│ packed_cell_volume      │ Continuous       │ Float64                         │\n│ total_protein           │ Continuous       │ Float64                         │\n│ outcome                 │ OrderedFactor{3} │ CategoricalValue{Int64, UInt32} │\n│ surgical_lesion         │ OrderedFactor{2} │ CategoricalValue{Int64, UInt32} │\n│ cp_data                 │ OrderedFactor{2} │ CategoricalValue{Int64, UInt32} │\n└─────────────────────────┴──────────────────┴─────────────────────────────────┘\n"
     },
     "metadata": {},
     "execution_count": 25
    }
   ],
   "cell_type": "code",
   "source": [
    "coerce!(horse, Count => Continuous);\n",
    "schema(horse)"
   ],
   "metadata": {},
   "execution_count": 25
  },
  {
   "cell_type": "markdown",
   "source": [
    "We'll correct the remaining truant entries manually:"
   ],
   "metadata": {}
  },
  {
   "outputs": [
    {
     "output_type": "execute_result",
     "data": {
      "text/plain": "┌─────────────────────────┬──────────────────┬─────────────────────────────────┐\n│\u001b[22m names                   \u001b[0m│\u001b[22m scitypes         \u001b[0m│\u001b[22m types                           \u001b[0m│\n├─────────────────────────┼──────────────────┼─────────────────────────────────┤\n│ surgery                 │ Multiclass{2}    │ CategoricalValue{Int64, UInt32} │\n│ age                     │ Multiclass{2}    │ CategoricalValue{Int64, UInt32} │\n│ rectal_temperature      │ Continuous       │ Float64                         │\n│ pulse                   │ Continuous       │ Float64                         │\n│ respiratory_rate        │ Continuous       │ Float64                         │\n│ temperature_extremities │ OrderedFactor{4} │ CategoricalValue{Int64, UInt32} │\n│ mucous_membranes        │ Multiclass{6}    │ CategoricalValue{Int64, UInt32} │\n│ capillary_refill_time   │ Multiclass{3}    │ CategoricalValue{Int64, UInt32} │\n│ pain                    │ OrderedFactor{5} │ CategoricalValue{Int64, UInt32} │\n│ peristalsis             │ OrderedFactor{4} │ CategoricalValue{Int64, UInt32} │\n│ abdominal_distension    │ OrderedFactor{4} │ CategoricalValue{Int64, UInt32} │\n│ packed_cell_volume      │ Continuous       │ Float64                         │\n│ total_protein           │ Continuous       │ Float64                         │\n│ outcome                 │ Multiclass{3}    │ CategoricalValue{Int64, UInt32} │\n│ surgical_lesion         │ OrderedFactor{2} │ CategoricalValue{Int64, UInt32} │\n│ cp_data                 │ Multiclass{2}    │ CategoricalValue{Int64, UInt32} │\n└─────────────────────────┴──────────────────┴─────────────────────────────────┘\n"
     },
     "metadata": {},
     "execution_count": 26
    }
   ],
   "cell_type": "code",
   "source": [
    "coerce!(horse,\n",
    "        :surgery               => Multiclass,\n",
    "        :age                   => Multiclass,\n",
    "        :mucous_membranes      => Multiclass,\n",
    "        :capillary_refill_time => Multiclass,\n",
    "        :outcome               => Multiclass,\n",
    "        :cp_data               => Multiclass);\n",
    "schema(horse)"
   ],
   "metadata": {},
   "execution_count": 26
  },
  {
   "cell_type": "markdown",
   "source": [
    "### Resources for Part 1\n",
    "\n",
    "- From the MLJ manual:\n",
    "   - [A preview of data type specification in\n",
    "  MLJ](https://alan-turing-institute.github.io/MLJ.jl/dev/getting_started/#A-preview-of-data-type-specification-in-MLJ-1)\n",
    "   - [Data containers and scientific types](https://alan-turing-institute.github.io/MLJ.jl/dev/getting_started/#Data-containers-and-scientific-types-1)\n",
    "   - [Working with Categorical Data](https://alan-turing-institute.github.io/MLJ.jl/dev/working_with_categorical_data/)\n",
    "- [Summary](https://juliaai.github.io/ScientificTypes.jl/dev/#Summary-of-the-default-convention) of the MLJ convention for representing scientific types\n",
    "- [ScientificTypes.jl](https://juliaai.github.io/ScientificTypes.jl/dev/)\n",
    "- From Data Science Tutorials:\n",
    "    - [Data interpretation: Scientific Types](https://juliaai.github.io/DataScienceTutorials.jl/data/scitype/)\n",
    "    - [Horse colic data](https://juliaai.github.io/DataScienceTutorials.jl/end-to-end/horse/)\n",
    "- [UCI Horse Colic Data Set](http://archive.ics.uci.edu/ml/datasets/Horse+Colic)"
   ],
   "metadata": {}
  },
  {
   "cell_type": "markdown",
   "source": [
    "### Exercises for Part 1"
   ],
   "metadata": {}
  },
  {
   "cell_type": "markdown",
   "source": [
    "#### Exercise 1"
   ],
   "metadata": {}
  },
  {
   "cell_type": "markdown",
   "source": [
    "Try to guess how each code snippet below will evaluate:"
   ],
   "metadata": {}
  },
  {
   "outputs": [
    {
     "output_type": "execute_result",
     "data": {
      "text/plain": "Count"
     },
     "metadata": {},
     "execution_count": 27
    }
   ],
   "cell_type": "code",
   "source": [
    "scitype(42)"
   ],
   "metadata": {},
   "execution_count": 27
  },
  {
   "outputs": [
    {
     "output_type": "execute_result",
     "data": {
      "text/plain": "AbstractVector{Textual} (alias for AbstractArray{Textual, 1})"
     },
     "metadata": {},
     "execution_count": 28
    }
   ],
   "cell_type": "code",
   "source": [
    "questions = [\"who\", \"why\", \"what\", \"when\"]\n",
    "scitype(questions)"
   ],
   "metadata": {},
   "execution_count": 28
  },
  {
   "outputs": [
    {
     "output_type": "execute_result",
     "data": {
      "text/plain": "Textual"
     },
     "metadata": {},
     "execution_count": 29
    }
   ],
   "cell_type": "code",
   "source": [
    "elscitype(questions)"
   ],
   "metadata": {},
   "execution_count": 29
  },
  {
   "outputs": [
    {
     "output_type": "execute_result",
     "data": {
      "text/plain": "Tuple{Continuous, Count, Textual}"
     },
     "metadata": {},
     "execution_count": 30
    }
   ],
   "cell_type": "code",
   "source": [
    "t = (3.141, 42, \"how\")\n",
    "scitype(t)"
   ],
   "metadata": {},
   "execution_count": 30
  },
  {
   "outputs": [
    {
     "output_type": "execute_result",
     "data": {
      "text/plain": "2×3 Matrix{Float64}:\n 0.362628  0.514262  0.443691\n 0.905562  0.186287  0.216368"
     },
     "metadata": {},
     "execution_count": 31
    }
   ],
   "cell_type": "code",
   "source": [
    "A = rand(2, 3)"
   ],
   "metadata": {},
   "execution_count": 31
  },
  {
   "cell_type": "markdown",
   "source": [
    "-"
   ],
   "metadata": {}
  },
  {
   "outputs": [
    {
     "output_type": "execute_result",
     "data": {
      "text/plain": "AbstractMatrix{Continuous} (alias for AbstractArray{Continuous, 2})"
     },
     "metadata": {},
     "execution_count": 32
    }
   ],
   "cell_type": "code",
   "source": [
    "scitype(A)"
   ],
   "metadata": {},
   "execution_count": 32
  },
  {
   "outputs": [
    {
     "output_type": "execute_result",
     "data": {
      "text/plain": "Continuous"
     },
     "metadata": {},
     "execution_count": 33
    }
   ],
   "cell_type": "code",
   "source": [
    "elscitype(A)"
   ],
   "metadata": {},
   "execution_count": 33
  },
  {
   "outputs": [
    {
     "output_type": "execute_result",
     "data": {
      "text/plain": "2×3 SparseArrays.SparseMatrixCSC{Float64, Int64} with 6 stored entries:\n 0.362628  0.514262  0.443691\n 0.905562  0.186287  0.216368"
     },
     "metadata": {},
     "execution_count": 34
    }
   ],
   "cell_type": "code",
   "source": [
    "using SparseArrays\n",
    "Asparse = sparse(A)"
   ],
   "metadata": {},
   "execution_count": 34
  },
  {
   "outputs": [
    {
     "output_type": "execute_result",
     "data": {
      "text/plain": "AbstractMatrix{Continuous} (alias for AbstractArray{Continuous, 2})"
     },
     "metadata": {},
     "execution_count": 35
    }
   ],
   "cell_type": "code",
   "source": [
    "scitype(Asparse)"
   ],
   "metadata": {},
   "execution_count": 35
  },
  {
   "outputs": [
    {
     "output_type": "execute_result",
     "data": {
      "text/plain": "2×3 CategoricalArrays.CategoricalArray{Float64,2,UInt32}:\n 0.362628  0.514262  0.443691\n 0.905562  0.186287  0.216368"
     },
     "metadata": {},
     "execution_count": 36
    }
   ],
   "cell_type": "code",
   "source": [
    "C = coerce(A, Multiclass)"
   ],
   "metadata": {},
   "execution_count": 36
  },
  {
   "outputs": [
    {
     "output_type": "execute_result",
     "data": {
      "text/plain": "AbstractMatrix{Multiclass{6}} (alias for AbstractArray{Multiclass{6}, 2})"
     },
     "metadata": {},
     "execution_count": 37
    }
   ],
   "cell_type": "code",
   "source": [
    "scitype(C)"
   ],
   "metadata": {},
   "execution_count": 37
  },
  {
   "outputs": [
    {
     "output_type": "execute_result",
     "data": {
      "text/plain": "Multiclass{6}"
     },
     "metadata": {},
     "execution_count": 38
    }
   ],
   "cell_type": "code",
   "source": [
    "elscitype(C)"
   ],
   "metadata": {},
   "execution_count": 38
  },
  {
   "outputs": [
    {
     "output_type": "execute_result",
     "data": {
      "text/plain": "AbstractVector{Union{Missing, Count}} (alias for AbstractArray{Union{Missing, Count}, 1})"
     },
     "metadata": {},
     "execution_count": 39
    }
   ],
   "cell_type": "code",
   "source": [
    "v = [1, 2, missing, 4]\n",
    "scitype(v)"
   ],
   "metadata": {},
   "execution_count": 39
  },
  {
   "outputs": [
    {
     "output_type": "execute_result",
     "data": {
      "text/plain": "Union{Missing, Count}"
     },
     "metadata": {},
     "execution_count": 40
    }
   ],
   "cell_type": "code",
   "source": [
    "elscitype(v)"
   ],
   "metadata": {},
   "execution_count": 40
  },
  {
   "outputs": [
    {
     "output_type": "execute_result",
     "data": {
      "text/plain": "AbstractVector{Union{Missing, Count}} (alias for AbstractArray{Union{Missing, Count}, 1})"
     },
     "metadata": {},
     "execution_count": 41
    }
   ],
   "cell_type": "code",
   "source": [
    "scitype(v[1:2])"
   ],
   "metadata": {},
   "execution_count": 41
  },
  {
   "cell_type": "markdown",
   "source": [
    "Can you guess at the general behavior of\n",
    "`scitype` with respect to tuples, abstract arrays and missing\n",
    "values? The answers are\n",
    "[here](https://github.com/juliaai/ScientificTypesBase.jl#2-the-scitype-and-scitype-methods)\n",
    "(ignore \"Property 1\")."
   ],
   "metadata": {}
  },
  {
   "cell_type": "markdown",
   "source": [
    "#### Exercise 2"
   ],
   "metadata": {}
  },
  {
   "cell_type": "markdown",
   "source": [
    "Coerce the following vector to make MLJ recognize it as a vector of\n",
    "ordered factors (with an appropriate ordering):"
   ],
   "metadata": {}
  },
  {
   "outputs": [
    {
     "output_type": "execute_result",
     "data": {
      "text/plain": "7-element Vector{Union{Missing, String}}:\n \"good\"\n \"poor\"\n \"poor\"\n \"excellent\"\n missing\n \"good\"\n \"excellent\""
     },
     "metadata": {},
     "execution_count": 42
    }
   ],
   "cell_type": "code",
   "source": [
    "quality = [\"good\", \"poor\", \"poor\", \"excellent\", missing, \"good\", \"excellent\"]"
   ],
   "metadata": {},
   "execution_count": 42
  },
  {
   "cell_type": "markdown",
   "source": [
    "#### Exercise 3 (fixing scitypes in a table)"
   ],
   "metadata": {}
  },
  {
   "cell_type": "markdown",
   "source": [
    "Fix the scitypes for the [House Prices in King\n",
    "County](https://mlr3gallery.mlr-org.com/posts/2020-01-30-house-prices-in-king-county/)\n",
    "dataset:"
   ],
   "metadata": {}
  },
  {
   "outputs": [
    {
     "output_type": "execute_result",
     "data": {
      "text/plain": "\u001b[1m4×19 DataFrame\u001b[0m\n\u001b[1m Row \u001b[0m│\u001b[1m price    \u001b[0m\u001b[1m bedrooms \u001b[0m\u001b[1m bathrooms \u001b[0m\u001b[1m sqft_living \u001b[0m\u001b[1m sqft_lot \u001b[0m\u001b[1m floors  \u001b[0m\u001b[1m waterfront \u001b[0m\u001b[1m view  \u001b[0m\u001b[1m c\u001b[0m ⋯\n\u001b[1m     \u001b[0m│\u001b[90m Float64  \u001b[0m\u001b[90m Int64    \u001b[0m\u001b[90m Float64   \u001b[0m\u001b[90m Int64       \u001b[0m\u001b[90m Int64    \u001b[0m\u001b[90m Float64 \u001b[0m\u001b[90m Int64      \u001b[0m\u001b[90m Int64 \u001b[0m\u001b[90m I\u001b[0m ⋯\n─────┼──────────────────────────────────────────────────────────────────────────────────────\n   1 │ 221900.0         3       1.0          1180      5650      1.0           0      0    ⋯\n   2 │ 538000.0         3       2.25         2570      7242      2.0           0      0\n   3 │ 180000.0         2       1.0           770     10000      1.0           0      0\n   4 │ 604000.0         4       3.0          1960      5000      1.0           0      0\n\u001b[36m                                                                          11 columns omitted\u001b[0m",
      "text/html": [
       "<div class=\"data-frame\"><p>4 rows × 19 columns (omitted printing of 10 columns)</p><table class=\"data-frame\"><thead><tr><th></th><th>price</th><th>bedrooms</th><th>bathrooms</th><th>sqft_living</th><th>sqft_lot</th><th>floors</th><th>waterfront</th><th>view</th><th>condition</th></tr><tr><th></th><th title=\"Float64\">Float64</th><th title=\"Int64\">Int64</th><th title=\"Float64\">Float64</th><th title=\"Int64\">Int64</th><th title=\"Int64\">Int64</th><th title=\"Float64\">Float64</th><th title=\"Int64\">Int64</th><th title=\"Int64\">Int64</th><th title=\"Int64\">Int64</th></tr></thead><tbody><tr><th>1</th><td>221900.0</td><td>3</td><td>1.0</td><td>1180</td><td>5650</td><td>1.0</td><td>0</td><td>0</td><td>3</td></tr><tr><th>2</th><td>538000.0</td><td>3</td><td>2.25</td><td>2570</td><td>7242</td><td>2.0</td><td>0</td><td>0</td><td>3</td></tr><tr><th>3</th><td>180000.0</td><td>2</td><td>1.0</td><td>770</td><td>10000</td><td>1.0</td><td>0</td><td>0</td><td>3</td></tr><tr><th>4</th><td>604000.0</td><td>4</td><td>3.0</td><td>1960</td><td>5000</td><td>1.0</td><td>0</td><td>0</td><td>5</td></tr></tbody></table></div>"
      ]
     },
     "metadata": {},
     "execution_count": 43
    }
   ],
   "cell_type": "code",
   "source": [
    "house_csv = urldownload(\"https://raw.githubusercontent.com/ablaom/\"*\n",
    "                        \"MachineLearningInJulia2020/for-MLJ-version-0.16/\"*\n",
    "                        \"data/house.csv\");\n",
    "house = DataFrames.DataFrame(house_csv)\n",
    "first(house, 4)"
   ],
   "metadata": {},
   "execution_count": 43
  },
  {
   "cell_type": "markdown",
   "source": [
    "(Two features in the original data set have been deemed uninformative\n",
    "and dropped, namely `:id` and `:date`. The original feature\n",
    "`:yr_renovated` has been replaced by the `Bool` feature `is_renovated`.)"
   ],
   "metadata": {}
  },
  {
   "cell_type": "markdown",
   "source": [
    "<a id='part-2-selecting-training-and-evaluating-models'></a>"
   ],
   "metadata": {}
  },
  {
   "cell_type": "markdown",
   "source": [
    "---\n",
    "\n",
    "*This notebook was generated using [Literate.jl](https://github.com/fredrikekre/Literate.jl).*"
   ],
   "metadata": {}
  }
 ],
 "nbformat_minor": 3,
 "metadata": {
  "language_info": {
   "file_extension": ".jl",
   "mimetype": "application/julia",
   "name": "julia",
   "version": "1.7.1"
  },
  "kernelspec": {
   "name": "julia-1.7",
   "display_name": "Julia 1.7.1",
   "language": "julia"
  }
 },
 "nbformat": 4
}
