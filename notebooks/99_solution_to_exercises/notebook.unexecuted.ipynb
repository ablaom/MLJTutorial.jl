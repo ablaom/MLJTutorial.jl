{
 "cells": [
  {
   "cell_type": "markdown",
   "metadata": {},
   "source": [
    "# Machine Learning in Julia (conclusion)"
   ]
  },
  {
   "cell_type": "markdown",
   "metadata": {},
   "source": [
    "An introduction to the\n",
    "[MLJ](https://alan-turing-institute.github.io/MLJ.jl/stable/)\n",
    "toolbox."
   ]
  },
  {
   "cell_type": "markdown",
   "metadata": {},
   "source": [
    "### Set-up"
   ]
  },
  {
   "cell_type": "markdown",
   "metadata": {},
   "source": [
    "Inspect Julia version:"
   ]
  },
  {
   "cell_type": "code",
   "execution_count": 1,
   "metadata": {},
   "outputs": [
    {
     "data": {
      "text/plain": [
       "v\"1.6.3\""
      ]
     },
     "execution_count": 1,
     "metadata": {},
     "output_type": "execute_result"
    }
   ],
   "source": [
    "VERSION"
   ]
  },
  {
   "cell_type": "markdown",
   "metadata": {},
   "source": [
    "The following instantiates a package environment."
   ]
  },
  {
   "cell_type": "markdown",
   "metadata": {},
   "source": [
    "The package environment has been created using **Julia 1.6** and may not\n",
    "instantiate properly for other Julia versions."
   ]
  },
  {
   "cell_type": "code",
   "execution_count": 2,
   "metadata": {},
   "outputs": [
    {
     "name": "stderr",
     "output_type": "stream",
     "text": [
      "\u001b[32m\u001b[1m  Activating\u001b[22m\u001b[39m environment at `~/GoogleDrive/Julia/MLJ/MLJTutorial/notebooks/99_solution_to_exercises/env/Project.toml`\n"
     ]
    }
   ],
   "source": [
    "using Pkg\n",
    "Pkg.activate(\"env\")\n",
    "Pkg.instantiate()"
   ]
  },
  {
   "cell_type": "markdown",
   "metadata": {},
   "source": [
    "## General resources"
   ]
  },
  {
   "cell_type": "markdown",
   "metadata": {},
   "source": [
    "- [MLJ Cheatsheet](https://alan-turing-institute.github.io/MLJ.jl/dev/mlj_cheatsheet/)\n",
    "- [Common MLJ Workflows](https://alan-turing-institute.github.io/MLJ.jl/dev/common_mlj_workflows/)\n",
    "- [MLJ manual](https://alan-turing-institute.github.io/MLJ.jl/dev/)\n",
    "- [Data Science Tutorials in Julia](https://juliaai.github.io/DataScienceTutorials.jl/)"
   ]
  },
  {
   "cell_type": "markdown",
   "metadata": {},
   "source": [
    "## Solutions to exercises"
   ]
  },
  {
   "cell_type": "code",
   "execution_count": 3,
   "metadata": {},
   "outputs": [],
   "source": [
    "using MLJ, UrlDownload, CSV, DataFrames, Plots"
   ]
  },
  {
   "cell_type": "markdown",
   "metadata": {},
   "source": [
    "#### Exercise 2 solution"
   ]
  },
  {
   "cell_type": "markdown",
   "metadata": {},
   "source": [
    "From the question statememt:"
   ]
  },
  {
   "cell_type": "code",
   "execution_count": 4,
   "metadata": {},
   "outputs": [
    {
     "data": {
      "text/plain": [
       "7-element Vector{Union{Missing, String}}:\n",
       " \"good\"\n",
       " \"poor\"\n",
       " \"poor\"\n",
       " \"excellent\"\n",
       " missing\n",
       " \"good\"\n",
       " \"excellent\""
      ]
     },
     "execution_count": 4,
     "metadata": {},
     "output_type": "execute_result"
    }
   ],
   "source": [
    "quality = [\"good\", \"poor\", \"poor\", \"excellent\", missing, \"good\", \"excellent\"]"
   ]
  },
  {
   "cell_type": "code",
   "execution_count": 5,
   "metadata": {},
   "outputs": [
    {
     "name": "stderr",
     "output_type": "stream",
     "text": [
      "┌ Info: Trying to coerce from `Union{Missing, String}` to `OrderedFactor`.\n",
      "│ Coerced to `Union{Missing,OrderedFactor}` instead.\n",
      "└ @ ScientificTypes /Users/anthony/.julia/packages/ScientificTypes/Vswzn/src/convention/coerce.jl:174\n"
     ]
    },
    {
     "data": {
      "text/plain": [
       "Union{Missing, OrderedFactor{3}}"
      ]
     },
     "execution_count": 5,
     "metadata": {},
     "output_type": "execute_result"
    }
   ],
   "source": [
    "quality = coerce(quality, OrderedFactor);\n",
    "levels!(quality, [\"poor\", \"good\", \"excellent\"]);\n",
    "elscitype(quality)"
   ]
  },
  {
   "cell_type": "markdown",
   "metadata": {},
   "source": [
    "#### Exercise 3 solution"
   ]
  },
  {
   "cell_type": "markdown",
   "metadata": {},
   "source": [
    "From the question statement:"
   ]
  },
  {
   "cell_type": "code",
   "execution_count": 6,
   "metadata": {},
   "outputs": [
    {
     "data": {
      "text/html": [
       "<div class=\"data-frame\"><p>21,613 rows × 19 columns (omitted printing of 11 columns)</p><table class=\"data-frame\"><thead><tr><th></th><th>price</th><th>bedrooms</th><th>bathrooms</th><th>sqft_living</th><th>sqft_lot</th><th>floors</th><th>waterfront</th><th>view</th></tr><tr><th></th><th title=\"Float64\">Float64</th><th title=\"Int64\">Int64</th><th title=\"Float64\">Float64</th><th title=\"Int64\">Int64</th><th title=\"Int64\">Int64</th><th title=\"Float64\">Float64</th><th title=\"Int64\">Int64</th><th title=\"Int64\">Int64</th></tr></thead><tbody><tr><th>1</th><td>221900.0</td><td>3</td><td>1.0</td><td>1180</td><td>5650</td><td>1.0</td><td>0</td><td>0</td></tr><tr><th>2</th><td>538000.0</td><td>3</td><td>2.25</td><td>2570</td><td>7242</td><td>2.0</td><td>0</td><td>0</td></tr><tr><th>3</th><td>180000.0</td><td>2</td><td>1.0</td><td>770</td><td>10000</td><td>1.0</td><td>0</td><td>0</td></tr><tr><th>4</th><td>604000.0</td><td>4</td><td>3.0</td><td>1960</td><td>5000</td><td>1.0</td><td>0</td><td>0</td></tr><tr><th>5</th><td>510000.0</td><td>3</td><td>2.0</td><td>1680</td><td>8080</td><td>1.0</td><td>0</td><td>0</td></tr><tr><th>6</th><td>1.225e6</td><td>4</td><td>4.5</td><td>5420</td><td>101930</td><td>1.0</td><td>0</td><td>0</td></tr><tr><th>7</th><td>257500.0</td><td>3</td><td>2.25</td><td>1715</td><td>6819</td><td>2.0</td><td>0</td><td>0</td></tr><tr><th>8</th><td>291850.0</td><td>3</td><td>1.5</td><td>1060</td><td>9711</td><td>1.0</td><td>0</td><td>0</td></tr><tr><th>9</th><td>229500.0</td><td>3</td><td>1.0</td><td>1780</td><td>7470</td><td>1.0</td><td>0</td><td>0</td></tr><tr><th>10</th><td>323000.0</td><td>3</td><td>2.5</td><td>1890</td><td>6560</td><td>2.0</td><td>0</td><td>0</td></tr><tr><th>11</th><td>662500.0</td><td>3</td><td>2.5</td><td>3560</td><td>9796</td><td>1.0</td><td>0</td><td>0</td></tr><tr><th>12</th><td>468000.0</td><td>2</td><td>1.0</td><td>1160</td><td>6000</td><td>1.0</td><td>0</td><td>0</td></tr><tr><th>13</th><td>310000.0</td><td>3</td><td>1.0</td><td>1430</td><td>19901</td><td>1.5</td><td>0</td><td>0</td></tr><tr><th>14</th><td>400000.0</td><td>3</td><td>1.75</td><td>1370</td><td>9680</td><td>1.0</td><td>0</td><td>0</td></tr><tr><th>15</th><td>530000.0</td><td>5</td><td>2.0</td><td>1810</td><td>4850</td><td>1.5</td><td>0</td><td>0</td></tr><tr><th>16</th><td>650000.0</td><td>4</td><td>3.0</td><td>2950</td><td>5000</td><td>2.0</td><td>0</td><td>3</td></tr><tr><th>17</th><td>395000.0</td><td>3</td><td>2.0</td><td>1890</td><td>14040</td><td>2.0</td><td>0</td><td>0</td></tr><tr><th>18</th><td>485000.0</td><td>4</td><td>1.0</td><td>1600</td><td>4300</td><td>1.5</td><td>0</td><td>0</td></tr><tr><th>19</th><td>189000.0</td><td>2</td><td>1.0</td><td>1200</td><td>9850</td><td>1.0</td><td>0</td><td>0</td></tr><tr><th>20</th><td>230000.0</td><td>3</td><td>1.0</td><td>1250</td><td>9774</td><td>1.0</td><td>0</td><td>0</td></tr><tr><th>21</th><td>385000.0</td><td>4</td><td>1.75</td><td>1620</td><td>4980</td><td>1.0</td><td>0</td><td>0</td></tr><tr><th>22</th><td>2.0e6</td><td>3</td><td>2.75</td><td>3050</td><td>44867</td><td>1.0</td><td>0</td><td>4</td></tr><tr><th>23</th><td>285000.0</td><td>5</td><td>2.5</td><td>2270</td><td>6300</td><td>2.0</td><td>0</td><td>0</td></tr><tr><th>24</th><td>252700.0</td><td>2</td><td>1.5</td><td>1070</td><td>9643</td><td>1.0</td><td>0</td><td>0</td></tr><tr><th>25</th><td>329000.0</td><td>3</td><td>2.25</td><td>2450</td><td>6500</td><td>2.0</td><td>0</td><td>0</td></tr><tr><th>26</th><td>233000.0</td><td>3</td><td>2.0</td><td>1710</td><td>4697</td><td>1.5</td><td>0</td><td>0</td></tr><tr><th>27</th><td>937000.0</td><td>3</td><td>1.75</td><td>2450</td><td>2691</td><td>2.0</td><td>0</td><td>0</td></tr><tr><th>28</th><td>667000.0</td><td>3</td><td>1.0</td><td>1400</td><td>1581</td><td>1.5</td><td>0</td><td>0</td></tr><tr><th>29</th><td>438000.0</td><td>3</td><td>1.75</td><td>1520</td><td>6380</td><td>1.0</td><td>0</td><td>0</td></tr><tr><th>30</th><td>719000.0</td><td>4</td><td>2.5</td><td>2570</td><td>7173</td><td>2.0</td><td>0</td><td>0</td></tr><tr><th>&vellip;</th><td>&vellip;</td><td>&vellip;</td><td>&vellip;</td><td>&vellip;</td><td>&vellip;</td><td>&vellip;</td><td>&vellip;</td><td>&vellip;</td></tr></tbody></table></div>"
      ],
      "text/latex": [
       "\\begin{tabular}{r|ccccccccc}\n",
       "\t& price & bedrooms & bathrooms & sqft\\_living & sqft\\_lot & floors & waterfront & view & \\\\\n",
       "\t\\hline\n",
       "\t& Float64 & Int64 & Float64 & Int64 & Int64 & Float64 & Int64 & Int64 & \\\\\n",
       "\t\\hline\n",
       "\t1 & 221900.0 & 3 & 1.0 & 1180 & 5650 & 1.0 & 0 & 0 & $\\dots$ \\\\\n",
       "\t2 & 538000.0 & 3 & 2.25 & 2570 & 7242 & 2.0 & 0 & 0 & $\\dots$ \\\\\n",
       "\t3 & 180000.0 & 2 & 1.0 & 770 & 10000 & 1.0 & 0 & 0 & $\\dots$ \\\\\n",
       "\t4 & 604000.0 & 4 & 3.0 & 1960 & 5000 & 1.0 & 0 & 0 & $\\dots$ \\\\\n",
       "\t5 & 510000.0 & 3 & 2.0 & 1680 & 8080 & 1.0 & 0 & 0 & $\\dots$ \\\\\n",
       "\t6 & 1.225e6 & 4 & 4.5 & 5420 & 101930 & 1.0 & 0 & 0 & $\\dots$ \\\\\n",
       "\t7 & 257500.0 & 3 & 2.25 & 1715 & 6819 & 2.0 & 0 & 0 & $\\dots$ \\\\\n",
       "\t8 & 291850.0 & 3 & 1.5 & 1060 & 9711 & 1.0 & 0 & 0 & $\\dots$ \\\\\n",
       "\t9 & 229500.0 & 3 & 1.0 & 1780 & 7470 & 1.0 & 0 & 0 & $\\dots$ \\\\\n",
       "\t10 & 323000.0 & 3 & 2.5 & 1890 & 6560 & 2.0 & 0 & 0 & $\\dots$ \\\\\n",
       "\t11 & 662500.0 & 3 & 2.5 & 3560 & 9796 & 1.0 & 0 & 0 & $\\dots$ \\\\\n",
       "\t12 & 468000.0 & 2 & 1.0 & 1160 & 6000 & 1.0 & 0 & 0 & $\\dots$ \\\\\n",
       "\t13 & 310000.0 & 3 & 1.0 & 1430 & 19901 & 1.5 & 0 & 0 & $\\dots$ \\\\\n",
       "\t14 & 400000.0 & 3 & 1.75 & 1370 & 9680 & 1.0 & 0 & 0 & $\\dots$ \\\\\n",
       "\t15 & 530000.0 & 5 & 2.0 & 1810 & 4850 & 1.5 & 0 & 0 & $\\dots$ \\\\\n",
       "\t16 & 650000.0 & 4 & 3.0 & 2950 & 5000 & 2.0 & 0 & 3 & $\\dots$ \\\\\n",
       "\t17 & 395000.0 & 3 & 2.0 & 1890 & 14040 & 2.0 & 0 & 0 & $\\dots$ \\\\\n",
       "\t18 & 485000.0 & 4 & 1.0 & 1600 & 4300 & 1.5 & 0 & 0 & $\\dots$ \\\\\n",
       "\t19 & 189000.0 & 2 & 1.0 & 1200 & 9850 & 1.0 & 0 & 0 & $\\dots$ \\\\\n",
       "\t20 & 230000.0 & 3 & 1.0 & 1250 & 9774 & 1.0 & 0 & 0 & $\\dots$ \\\\\n",
       "\t21 & 385000.0 & 4 & 1.75 & 1620 & 4980 & 1.0 & 0 & 0 & $\\dots$ \\\\\n",
       "\t22 & 2.0e6 & 3 & 2.75 & 3050 & 44867 & 1.0 & 0 & 4 & $\\dots$ \\\\\n",
       "\t23 & 285000.0 & 5 & 2.5 & 2270 & 6300 & 2.0 & 0 & 0 & $\\dots$ \\\\\n",
       "\t24 & 252700.0 & 2 & 1.5 & 1070 & 9643 & 1.0 & 0 & 0 & $\\dots$ \\\\\n",
       "\t25 & 329000.0 & 3 & 2.25 & 2450 & 6500 & 2.0 & 0 & 0 & $\\dots$ \\\\\n",
       "\t26 & 233000.0 & 3 & 2.0 & 1710 & 4697 & 1.5 & 0 & 0 & $\\dots$ \\\\\n",
       "\t27 & 937000.0 & 3 & 1.75 & 2450 & 2691 & 2.0 & 0 & 0 & $\\dots$ \\\\\n",
       "\t28 & 667000.0 & 3 & 1.0 & 1400 & 1581 & 1.5 & 0 & 0 & $\\dots$ \\\\\n",
       "\t29 & 438000.0 & 3 & 1.75 & 1520 & 6380 & 1.0 & 0 & 0 & $\\dots$ \\\\\n",
       "\t30 & 719000.0 & 4 & 2.5 & 2570 & 7173 & 2.0 & 0 & 0 & $\\dots$ \\\\\n",
       "\t$\\dots$ & $\\dots$ & $\\dots$ & $\\dots$ & $\\dots$ & $\\dots$ & $\\dots$ & $\\dots$ & $\\dots$ &  \\\\\n",
       "\\end{tabular}\n"
      ],
      "text/plain": [
       "\u001b[1m21613×19 DataFrame\u001b[0m\n",
       "\u001b[1m   Row \u001b[0m│\u001b[1m price         \u001b[0m\u001b[1m bedrooms \u001b[0m\u001b[1m bathrooms \u001b[0m\u001b[1m sqft_living \u001b[0m\u001b[1m sqft_lot \u001b[0m\u001b[1m floors  \u001b[0m\u001b[1m w\u001b[0m ⋯\n",
       "\u001b[1m       \u001b[0m│\u001b[90m Float64       \u001b[0m\u001b[90m Int64    \u001b[0m\u001b[90m Float64   \u001b[0m\u001b[90m Int64       \u001b[0m\u001b[90m Int64    \u001b[0m\u001b[90m Float64 \u001b[0m\u001b[90m I\u001b[0m ⋯\n",
       "───────┼────────────────────────────────────────────────────────────────────────\n",
       "     1 │ 221900.0              3       1.0          1180      5650      1.0    ⋯\n",
       "     2 │ 538000.0              3       2.25         2570      7242      2.0\n",
       "     3 │ 180000.0              2       1.0           770     10000      1.0\n",
       "     4 │ 604000.0              4       3.0          1960      5000      1.0\n",
       "     5 │ 510000.0              3       2.0          1680      8080      1.0    ⋯\n",
       "     6 │      1.225e6          4       4.5          5420    101930      1.0\n",
       "     7 │ 257500.0              3       2.25         1715      6819      2.0\n",
       "     8 │ 291850.0              3       1.5          1060      9711      1.0\n",
       "     9 │ 229500.0              3       1.0          1780      7470      1.0    ⋯\n",
       "    10 │ 323000.0              3       2.5          1890      6560      2.0\n",
       "    11 │ 662500.0              3       2.5          3560      9796      1.0\n",
       "   ⋮   │       ⋮           ⋮          ⋮           ⋮          ⋮         ⋮       ⋱\n",
       " 21604 │ 507250.0              3       2.5          2270      5536      2.0\n",
       " 21605 │ 429000.0              3       2.0          1490      1126      3.0    ⋯\n",
       " 21606 │ 610685.0              4       2.5          2520      6023      2.0\n",
       " 21607 │      1.0075e6         4       3.5          3510      7200      2.0\n",
       " 21608 │ 475000.0              3       2.5          1310      1294      2.0\n",
       " 21609 │ 360000.0              3       2.5          1530      1131      3.0    ⋯\n",
       " 21610 │ 400000.0              4       2.5          2310      5813      2.0\n",
       " 21611 │ 402101.0              2       0.75         1020      1350      2.0\n",
       " 21612 │ 400000.0              3       2.5          1600      2388      2.0\n",
       " 21613 │ 325000.0              2       0.75         1020      1076      2.0    ⋯\n",
       "\u001b[36m                                               13 columns and 21592 rows omitted\u001b[0m"
      ]
     },
     "execution_count": 6,
     "metadata": {},
     "output_type": "execute_result"
    }
   ],
   "source": [
    "house_csv = urldownload(\"https://raw.githubusercontent.com/ablaom/\"*\n",
    "                        \"MachineLearningInJulia2020/for-MLJ-version-0.16/\"*\n",
    "                        \"data/house.csv\");\n",
    "house = DataFrames.DataFrame(house_csv)"
   ]
  },
  {
   "cell_type": "markdown",
   "metadata": {},
   "source": [
    "First pass:"
   ]
  },
  {
   "cell_type": "code",
   "execution_count": 7,
   "metadata": {},
   "outputs": [
    {
     "data": {
      "text/plain": [
       "┌───────────────┬───────────────────────────────────┬───────────────────┐\n",
       "│\u001b[22m _.names       \u001b[0m│\u001b[22m _.types                           \u001b[0m│\u001b[22m _.scitypes        \u001b[0m│\n",
       "├───────────────┼───────────────────────────────────┼───────────────────┤\n",
       "│ price         │ Float64                           │ Continuous        │\n",
       "│ bedrooms      │ CategoricalValue{Int64, UInt32}   │ OrderedFactor{13} │\n",
       "│ bathrooms     │ CategoricalValue{Float64, UInt32} │ OrderedFactor{30} │\n",
       "│ sqft_living   │ Int64                             │ Count             │\n",
       "│ sqft_lot      │ Int64                             │ Count             │\n",
       "│ floors        │ CategoricalValue{Float64, UInt32} │ OrderedFactor{6}  │\n",
       "│ waterfront    │ CategoricalValue{Int64, UInt32}   │ OrderedFactor{2}  │\n",
       "│ view          │ CategoricalValue{Int64, UInt32}   │ OrderedFactor{5}  │\n",
       "│ condition     │ CategoricalValue{Int64, UInt32}   │ OrderedFactor{5}  │\n",
       "│ grade         │ CategoricalValue{Int64, UInt32}   │ OrderedFactor{12} │\n",
       "│ sqft_above    │ Int64                             │ Count             │\n",
       "│ sqft_basement │ Int64                             │ Count             │\n",
       "│ yr_built      │ Int64                             │ Count             │\n",
       "│ zipcode       │ CategoricalValue{Int64, UInt32}   │ OrderedFactor{70} │\n",
       "│ lat           │ Float64                           │ Continuous        │\n",
       "│ long          │ Float64                           │ Continuous        │\n",
       "│ sqft_living15 │ Int64                             │ Count             │\n",
       "│ sqft_lot15    │ Int64                             │ Count             │\n",
       "│ is_renovated  │ CategoricalValue{Bool, UInt32}    │ OrderedFactor{2}  │\n",
       "└───────────────┴───────────────────────────────────┴───────────────────┘\n",
       "_.nrows = 21613\n"
      ]
     },
     "execution_count": 7,
     "metadata": {},
     "output_type": "execute_result"
    }
   ],
   "source": [
    "coerce!(house, autotype(house));\n",
    "schema(house)"
   ]
  },
  {
   "cell_type": "markdown",
   "metadata": {},
   "source": [
    "All the \"sqft\" fields refer to \"square feet\" so are\n",
    "really `Continuous`. We'll regard `:yr_built` (the other `Count`\n",
    "variable above) as `Continuous` as well. So:"
   ]
  },
  {
   "cell_type": "code",
   "execution_count": 8,
   "metadata": {},
   "outputs": [],
   "source": [
    "coerce!(house, Count => Continuous);"
   ]
  },
  {
   "cell_type": "markdown",
   "metadata": {},
   "source": [
    "And `:zipcode` should not be ordered:"
   ]
  },
  {
   "cell_type": "code",
   "execution_count": 9,
   "metadata": {},
   "outputs": [
    {
     "data": {
      "text/plain": [
       "┌───────────────┬───────────────────────────────────┬───────────────────┐\n",
       "│\u001b[22m _.names       \u001b[0m│\u001b[22m _.types                           \u001b[0m│\u001b[22m _.scitypes        \u001b[0m│\n",
       "├───────────────┼───────────────────────────────────┼───────────────────┤\n",
       "│ price         │ Float64                           │ Continuous        │\n",
       "│ bedrooms      │ CategoricalValue{Int64, UInt32}   │ OrderedFactor{13} │\n",
       "│ bathrooms     │ CategoricalValue{Float64, UInt32} │ OrderedFactor{30} │\n",
       "│ sqft_living   │ Float64                           │ Continuous        │\n",
       "│ sqft_lot      │ Float64                           │ Continuous        │\n",
       "│ floors        │ CategoricalValue{Float64, UInt32} │ OrderedFactor{6}  │\n",
       "│ waterfront    │ CategoricalValue{Int64, UInt32}   │ OrderedFactor{2}  │\n",
       "│ view          │ CategoricalValue{Int64, UInt32}   │ OrderedFactor{5}  │\n",
       "│ condition     │ CategoricalValue{Int64, UInt32}   │ OrderedFactor{5}  │\n",
       "│ grade         │ CategoricalValue{Int64, UInt32}   │ OrderedFactor{12} │\n",
       "│ sqft_above    │ Float64                           │ Continuous        │\n",
       "│ sqft_basement │ Float64                           │ Continuous        │\n",
       "│ yr_built      │ Float64                           │ Continuous        │\n",
       "│ zipcode       │ CategoricalValue{Int64, UInt32}   │ Multiclass{70}    │\n",
       "│ lat           │ Float64                           │ Continuous        │\n",
       "│ long          │ Float64                           │ Continuous        │\n",
       "│ sqft_living15 │ Float64                           │ Continuous        │\n",
       "│ sqft_lot15    │ Float64                           │ Continuous        │\n",
       "│ is_renovated  │ CategoricalValue{Bool, UInt32}    │ OrderedFactor{2}  │\n",
       "└───────────────┴───────────────────────────────────┴───────────────────┘\n",
       "_.nrows = 21613\n"
      ]
     },
     "execution_count": 9,
     "metadata": {},
     "output_type": "execute_result"
    }
   ],
   "source": [
    "coerce!(house, :zipcode => Multiclass);\n",
    "schema(house)"
   ]
  },
  {
   "cell_type": "markdown",
   "metadata": {},
   "source": [
    "`:bathrooms` looks like it has a lot of levels, but on further\n",
    "inspection we see why, and `OrderedFactor` remains appropriate:"
   ]
  },
  {
   "cell_type": "code",
   "execution_count": 10,
   "metadata": {},
   "outputs": [
    {
     "data": {
      "text/plain": [
       "Dict{CategoricalArrays.CategoricalValue{Float64, UInt32}, Int64} with 30 entries:\n",
       "  5.0  => 21\n",
       "  5.25 => 13\n",
       "  1.25 => 9\n",
       "  8.0  => 2\n",
       "  6.75 => 2\n",
       "  1.0  => 3852\n",
       "  5.5  => 10\n",
       "  0.0  => 10\n",
       "  6.0  => 6\n",
       "  6.25 => 2\n",
       "  4.75 => 23\n",
       "  3.25 => 589\n",
       "  3.0  => 753\n",
       "  2.25 => 2047\n",
       "  0.5  => 4\n",
       "  7.5  => 1\n",
       "  5.75 => 4\n",
       "  1.5  => 1446\n",
       "  3.75 => 155\n",
       "  4.0  => 136\n",
       "  4.25 => 79\n",
       "  2.0  => 1930\n",
       "  2.75 => 1185\n",
       "  3.5  => 731\n",
       "  6.5  => 2\n",
       "  ⋮    => ⋮"
      ]
     },
     "execution_count": 10,
     "metadata": {},
     "output_type": "execute_result"
    }
   ],
   "source": [
    "import StatsBase.countmap\n",
    "countmap(house.bathrooms)"
   ]
  },
  {
   "cell_type": "markdown",
   "metadata": {},
   "source": [
    "#### Exercise 4 solution"
   ]
  },
  {
   "cell_type": "markdown",
   "metadata": {},
   "source": [
    "From the question statement:"
   ]
  },
  {
   "cell_type": "code",
   "execution_count": 11,
   "metadata": {},
   "outputs": [
    {
     "data": {
      "text/plain": [
       "10-element Vector{Int64}:\n",
       " 4\n",
       " 6\n",
       " 4\n",
       " 5\n",
       " 5\n",
       " 2\n",
       " 6\n",
       " 1\n",
       " 3\n",
       " 5"
      ]
     },
     "execution_count": 11,
     "metadata": {},
     "output_type": "execute_result"
    }
   ],
   "source": [
    "import Distributions\n",
    "poisson = Distributions.Poisson\n",
    "\n",
    "age = 18 .+ 60*rand(10);\n",
    "salary = coerce(rand([\"small\", \"big\", \"huge\"], 10), OrderedFactor);\n",
    "levels!(salary, [\"small\", \"big\", \"huge\"]);\n",
    "small = salary[1]\n",
    "\n",
    "X4 = DataFrames.DataFrame(age=age, salary=salary)\n",
    "\n",
    "n_devices(salary) = salary > small ? rand(poisson(1.3)) : rand(poisson(2.9))\n",
    "y4 = [n_devices(row.salary) for row in eachrow(X4)]"
   ]
  },
  {
   "cell_type": "markdown",
   "metadata": {},
   "source": [
    "4(a)"
   ]
  },
  {
   "cell_type": "markdown",
   "metadata": {},
   "source": [
    "There are *no* models that apply immediately:"
   ]
  },
  {
   "cell_type": "code",
   "execution_count": 12,
   "metadata": {},
   "outputs": [
    {
     "data": {
      "text/plain": [
       "NamedTuple{(:name, :package_name, :is_supervised, :abstract_type, :deep_properties, :docstring, :fit_data_scitype, :hyperparameter_ranges, :hyperparameter_types, :hyperparameters, :implemented_methods, :inverse_transform_scitype, :is_pure_julia, :is_wrapper, :iteration_parameter, :load_path, :package_license, :package_url, :package_uuid, :predict_scitype, :prediction_type, :supports_class_weights, :supports_online, :supports_training_losses, :supports_weights, :transform_scitype, :input_scitype, :target_scitype, :output_scitype), T} where T<:Tuple[]"
      ]
     },
     "execution_count": 12,
     "metadata": {},
     "output_type": "execute_result"
    }
   ],
   "source": [
    "models(matching(X4, y4))"
   ]
  },
  {
   "cell_type": "markdown",
   "metadata": {},
   "source": [
    "4(b)"
   ]
  },
  {
   "cell_type": "code",
   "execution_count": 13,
   "metadata": {},
   "outputs": [
    {
     "data": {
      "text/plain": [
       "6-element Vector{NamedTuple{(:name, :package_name, :is_supervised, :abstract_type, :deep_properties, :docstring, :fit_data_scitype, :hyperparameter_ranges, :hyperparameter_types, :hyperparameters, :implemented_methods, :inverse_transform_scitype, :is_pure_julia, :is_wrapper, :iteration_parameter, :load_path, :package_license, :package_url, :package_uuid, :predict_scitype, :prediction_type, :supports_class_weights, :supports_online, :supports_training_losses, :supports_weights, :transform_scitype, :input_scitype, :target_scitype, :output_scitype), T} where T<:Tuple}:\n",
       " (name = ConstantRegressor, package_name = MLJModels, ... )\n",
       " (name = DecisionTreeRegressor, package_name = BetaML, ... )\n",
       " (name = DecisionTreeRegressor, package_name = DecisionTree, ... )\n",
       " (name = DeterministicConstantRegressor, package_name = MLJModels, ... )\n",
       " (name = RandomForestRegressor, package_name = BetaML, ... )\n",
       " (name = RandomForestRegressor, package_name = DecisionTree, ... )"
      ]
     },
     "execution_count": 13,
     "metadata": {},
     "output_type": "execute_result"
    }
   ],
   "source": [
    "y4 = coerce(y4, Continuous);\n",
    "models(matching(X4, y4))"
   ]
  },
  {
   "cell_type": "markdown",
   "metadata": {},
   "source": [
    "#### Exercise 6 solution"
   ]
  },
  {
   "cell_type": "markdown",
   "metadata": {},
   "source": [
    "From the question statement:"
   ]
  },
  {
   "cell_type": "code",
   "execution_count": 14,
   "metadata": {},
   "outputs": [
    {
     "data": {
      "text/plain": [
       "┌─────────────────────────┬─────────────────────────────────┬───────────────────\n",
       "│\u001b[22m _.names                 \u001b[0m│\u001b[22m _.types                         \u001b[0m│\u001b[22m _.scitypes      \u001b[0m ⋯\n",
       "├─────────────────────────┼─────────────────────────────────┼───────────────────\n",
       "│ surgery                 │ CategoricalValue{Int64, UInt32} │ Multiclass{2}    ⋯\n",
       "│ age                     │ CategoricalValue{Int64, UInt32} │ Multiclass{2}    ⋯\n",
       "│ rectal_temperature      │ Float64                         │ Continuous       ⋯\n",
       "│ pulse                   │ Float64                         │ Continuous       ⋯\n",
       "│ respiratory_rate        │ Float64                         │ Continuous       ⋯\n",
       "│ temperature_extremities │ CategoricalValue{Int64, UInt32} │ OrderedFactor{4} ⋯\n",
       "│ mucous_membranes        │ CategoricalValue{Int64, UInt32} │ Multiclass{6}    ⋯\n",
       "│ capillary_refill_time   │ CategoricalValue{Int64, UInt32} │ Multiclass{3}    ⋯\n",
       "│ pain                    │ CategoricalValue{Int64, UInt32} │ OrderedFactor{5} ⋯\n",
       "│ peristalsis             │ CategoricalValue{Int64, UInt32} │ OrderedFactor{4} ⋯\n",
       "│ abdominal_distension    │ CategoricalValue{Int64, UInt32} │ OrderedFactor{4} ⋯\n",
       "│ packed_cell_volume      │ Float64                         │ Continuous       ⋯\n",
       "│ total_protein           │ Float64                         │ Continuous       ⋯\n",
       "│ outcome                 │ CategoricalValue{Int64, UInt32} │ Multiclass{3}    ⋯\n",
       "│ surgical_lesion         │ CategoricalValue{Int64, UInt32} │ OrderedFactor{2} ⋯\n",
       "│ cp_data                 │ CategoricalValue{Int64, UInt32} │ Multiclass{2}    ⋯\n",
       "└─────────────────────────┴─────────────────────────────────┴───────────────────\n",
       "_.nrows = 366\n"
      ]
     },
     "execution_count": 14,
     "metadata": {},
     "output_type": "execute_result"
    }
   ],
   "source": [
    "using UrlDownload, CSV\n",
    "csv_file = urldownload(\"https://raw.githubusercontent.com/ablaom/\"*\n",
    "                   \"MachineLearningInJulia2020/\"*\n",
    "                   \"for-MLJ-version-0.16/data/horse.csv\");\n",
    "horse = DataFrames.DataFrame(csv_file); # convert to data frame\n",
    "coerce!(horse, autotype(horse));\n",
    "coerce!(horse, Count => Continuous);\n",
    "coerce!(horse,\n",
    "        :surgery               => Multiclass,\n",
    "        :age                   => Multiclass,\n",
    "        :mucous_membranes      => Multiclass,\n",
    "        :capillary_refill_time => Multiclass,\n",
    "        :outcome               => Multiclass,\n",
    "        :cp_data               => Multiclass);\n",
    "schema(horse)"
   ]
  },
  {
   "cell_type": "markdown",
   "metadata": {},
   "source": [
    "6(a)"
   ]
  },
  {
   "cell_type": "code",
   "execution_count": 15,
   "metadata": {},
   "outputs": [],
   "source": [
    "y, X = unpack(horse,\n",
    "              ==(:outcome),\n",
    "              name -> elscitype(Tables.getcolumn(horse, name)) == Continuous);"
   ]
  },
  {
   "cell_type": "markdown",
   "metadata": {},
   "source": [
    "6(b)(i)"
   ]
  },
  {
   "cell_type": "code",
   "execution_count": 16,
   "metadata": {},
   "outputs": [
    {
     "name": "stderr",
     "output_type": "stream",
     "text": [
      "┌ Info: For silent loading, specify `verbosity=0`. \n",
      "└ @ Main /Users/anthony/.julia/packages/MLJModels/4sRmw/src/loading.jl:168\n"
     ]
    },
    {
     "name": "stdout",
     "output_type": "stream",
     "text": [
      "import MLJLinearModels ✔\n"
     ]
    },
    {
     "name": "stderr",
     "output_type": "stream",
     "text": [
      "┌ Info: Training Machine{LogisticClassifier,…}.\n",
      "└ @ MLJBase /Users/anthony/.julia/packages/MLJBase/u6vLz/src/machines.jl:403\n"
     ]
    },
    {
     "data": {
      "text/plain": [
       "(classes = CategoricalArrays.CategoricalValue{Int64, UInt32}[1, 2, 3],\n",
       " coefs = Pair{Symbol, SubArray{Float64, 1, Matrix{Float64}, Tuple{Int64, Base.Slice{Base.OneTo{Int64}}}, true}}[:rectal_temperature => [0.06404489861119958, -0.054496936875540046, -0.009547961735659501], :pulse => [-0.006271354370414986, 0.0030195481537235087, 0.0032518062166935436], :respiratory_rate => [-0.006271354370414986, 0.0030195481537235087, 0.0032518062166935436], :packed_cell_volume => [-0.050661880364348426, 0.03574495338668303, 0.014916926977666974], :total_protein => [0.059973266693703765, -0.12804140372101466, 0.06806813702731153]],\n",
       " intercept = [3.37428722398718e-6, -3.37428699190205e-6, -3.3349798867560985],)"
      ]
     },
     "execution_count": 16,
     "metadata": {},
     "output_type": "execute_result"
    }
   ],
   "source": [
    "train, test = partition(eachindex(y), 0.7)\n",
    "model = (@load LogisticClassifier pkg=MLJLinearModels)();\n",
    "model.lambda = 100\n",
    "mach = machine(model, X, y)\n",
    "fit!(mach, rows=train)\n",
    "fitted_params(mach)"
   ]
  },
  {
   "cell_type": "code",
   "execution_count": 17,
   "metadata": {},
   "outputs": [
    {
     "data": {
      "text/plain": [
       "0.8037782856338999"
      ]
     },
     "execution_count": 17,
     "metadata": {},
     "output_type": "execute_result"
    }
   ],
   "source": [
    "coefs_given_feature = Dict(fitted_params(mach).coefs)\n",
    "coefs_given_feature[:pulse]\n",
    "\n",
    "#6(b)(ii)\n",
    "\n",
    "yhat = predict(mach, rows=test); # or predict(mach, X[test,:])\n",
    "err = cross_entropy(yhat, y[test]) |> mean"
   ]
  },
  {
   "cell_type": "markdown",
   "metadata": {},
   "source": [
    "6(b)(iii)"
   ]
  },
  {
   "cell_type": "markdown",
   "metadata": {},
   "source": [
    "The predicted probabilities of the actual observations in the test\n",
    "are given by"
   ]
  },
  {
   "cell_type": "code",
   "execution_count": 18,
   "metadata": {},
   "outputs": [],
   "source": [
    "p = broadcast(pdf, yhat, y[test]);"
   ]
  },
  {
   "cell_type": "markdown",
   "metadata": {},
   "source": [
    "The number of times this probability exceeds 50% is:"
   ]
  },
  {
   "cell_type": "code",
   "execution_count": 19,
   "metadata": {},
   "outputs": [
    {
     "data": {
      "text/plain": [
       "79"
      ]
     },
     "execution_count": 19,
     "metadata": {},
     "output_type": "execute_result"
    }
   ],
   "source": [
    "n50 = filter(x -> x > 0.5, p) |> length"
   ]
  },
  {
   "cell_type": "markdown",
   "metadata": {},
   "source": [
    "Or, as a proportion:"
   ]
  },
  {
   "cell_type": "code",
   "execution_count": 20,
   "metadata": {},
   "outputs": [
    {
     "data": {
      "text/plain": [
       "0.7181818181818181"
      ]
     },
     "execution_count": 20,
     "metadata": {},
     "output_type": "execute_result"
    }
   ],
   "source": [
    "n50/length(test)"
   ]
  },
  {
   "cell_type": "markdown",
   "metadata": {},
   "source": [
    "6(b)(iv)"
   ]
  },
  {
   "cell_type": "code",
   "execution_count": 21,
   "metadata": {},
   "outputs": [
    {
     "data": {
      "text/plain": [
       "0.2727272727272727"
      ]
     },
     "execution_count": 21,
     "metadata": {},
     "output_type": "execute_result"
    }
   ],
   "source": [
    "misclassification_rate(mode.(yhat), y[test])"
   ]
  },
  {
   "cell_type": "markdown",
   "metadata": {},
   "source": [
    "6(c)(i)"
   ]
  },
  {
   "cell_type": "code",
   "execution_count": 22,
   "metadata": {},
   "outputs": [
    {
     "name": "stdout",
     "output_type": "stream",
     "text": [
      "import MLJDecisionTreeInterface ✔\n"
     ]
    },
    {
     "name": "stderr",
     "output_type": "stream",
     "text": [
      "┌ Info: For silent loading, specify `verbosity=0`. \n",
      "└ @ Main /Users/anthony/.julia/packages/MLJModels/4sRmw/src/loading.jl:168\n",
      "\u001b[33mEvaluating over 6 folds: 100%[=========================] Time: 0:00:02\u001b[39m\n"
     ]
    },
    {
     "data": {
      "text/plain": [
       "NumericRange(10 ≤ n_trees ≤ 70; origin=40.0, unit=30.0) on log10 scale"
      ]
     },
     "execution_count": 22,
     "metadata": {},
     "output_type": "execute_result"
    }
   ],
   "source": [
    "model = (@load RandomForestClassifier pkg=DecisionTree)()\n",
    "mach = machine(model, X, y)\n",
    "evaluate!(mach, resampling=CV(nfolds=6), measure=cross_entropy)\n",
    "\n",
    "r = range(model, :n_trees, lower=10, upper=70, scale=:log10)"
   ]
  },
  {
   "cell_type": "markdown",
   "metadata": {},
   "source": [
    "Since random forests are inherently randomized, we generate multiple\n",
    "curves:"
   ]
  },
  {
   "cell_type": "code",
   "execution_count": 23,
   "metadata": {},
   "outputs": [
    {
     "name": "stderr",
     "output_type": "stream",
     "text": [
      "┌ Info: Training Machine{ProbabilisticTunedModel{Grid,…},…}.\n",
      "└ @ MLJBase /Users/anthony/.julia/packages/MLJBase/u6vLz/src/machines.jl:403\n",
      "┌ Info: Attempting to evaluate 29 models.\n",
      "└ @ MLJTuning /Users/anthony/.julia/packages/MLJTuning/bjRHJ/src/tuned_models.jl:680\n",
      "\u001b[33mEvaluating over 29 metamodels: 100%[=========================] Time: 0:00:02\u001b[39m\n",
      "┌ Info: Training Machine{ProbabilisticTunedModel{Grid,…},…}.\n",
      "└ @ MLJBase /Users/anthony/.julia/packages/MLJBase/u6vLz/src/machines.jl:403\n",
      "┌ Info: Attempting to evaluate 29 models.\n",
      "└ @ MLJTuning /Users/anthony/.julia/packages/MLJTuning/bjRHJ/src/tuned_models.jl:680\n",
      "\u001b[33mEvaluating over 29 metamodels: 100%[=========================] Time: 0:00:00\u001b[39m\n",
      "┌ Info: Training Machine{ProbabilisticTunedModel{Grid,…},…}.\n",
      "└ @ MLJBase /Users/anthony/.julia/packages/MLJBase/u6vLz/src/machines.jl:403\n",
      "┌ Info: Attempting to evaluate 29 models.\n",
      "└ @ MLJTuning /Users/anthony/.julia/packages/MLJTuning/bjRHJ/src/tuned_models.jl:680\n",
      "\u001b[33mEvaluating over 29 metamodels: 100%[=========================] Time: 0:00:00\u001b[39m\n",
      "┌ Info: Training Machine{ProbabilisticTunedModel{Grid,…},…}.\n",
      "└ @ MLJBase /Users/anthony/.julia/packages/MLJBase/u6vLz/src/machines.jl:403\n",
      "┌ Info: Attempting to evaluate 29 models.\n",
      "└ @ MLJTuning /Users/anthony/.julia/packages/MLJTuning/bjRHJ/src/tuned_models.jl:680\n",
      "\u001b[33mEvaluating over 29 metamodels: 100%[=========================] Time: 0:00:00\u001b[39m\n"
     ]
    },
    {
     "data": {
      "image/svg+xml": [
       "<?xml version=\"1.0\" encoding=\"utf-8\"?>\n",
       "<svg xmlns=\"http://www.w3.org/2000/svg\" xmlns:xlink=\"http://www.w3.org/1999/xlink\" width=\"600\" height=\"400\" viewBox=\"0 0 2400 1600\">\n",
       "<defs>\n",
       "  <clipPath id=\"clip750\">\n",
       "    <rect x=\"0\" y=\"0\" width=\"2400\" height=\"1600\"/>\n",
       "  </clipPath>\n",
       "</defs>\n",
       "<path clip-path=\"url(#clip750)\" d=\"\n",
       "M0 1600 L2400 1600 L2400 0 L0 0  Z\n",
       "  \" fill=\"#ffffff\" fill-rule=\"evenodd\" fill-opacity=\"1\"/>\n",
       "<defs>\n",
       "  <clipPath id=\"clip751\">\n",
       "    <rect x=\"480\" y=\"0\" width=\"1681\" height=\"1600\"/>\n",
       "  </clipPath>\n",
       "</defs>\n",
       "<path clip-path=\"url(#clip750)\" d=\"\n",
       "M219.033 1423.18 L2352.76 1423.18 L2352.76 47.2441 L219.033 47.2441  Z\n",
       "  \" fill=\"#ffffff\" fill-rule=\"evenodd\" fill-opacity=\"1\"/>\n",
       "<defs>\n",
       "  <clipPath id=\"clip752\">\n",
       "    <rect x=\"219\" y=\"47\" width=\"2135\" height=\"1377\"/>\n",
       "  </clipPath>\n",
       "</defs>\n",
       "<polyline clip-path=\"url(#clip752)\" style=\"stroke:#000000; stroke-linecap:butt; stroke-linejoin:round; stroke-width:2; stroke-opacity:0.1; fill:none\" points=\"\n",
       "  279.421,1423.18 279.421,47.2441 \n",
       "  \"/>\n",
       "<polyline clip-path=\"url(#clip752)\" style=\"stroke:#000000; stroke-linecap:butt; stroke-linejoin:round; stroke-width:2; stroke-opacity:0.1; fill:none\" points=\"\n",
       "  614.912,1423.18 614.912,47.2441 \n",
       "  \"/>\n",
       "<polyline clip-path=\"url(#clip752)\" style=\"stroke:#000000; stroke-linecap:butt; stroke-linejoin:round; stroke-width:2; stroke-opacity:0.1; fill:none\" points=\"\n",
       "  950.403,1423.18 950.403,47.2441 \n",
       "  \"/>\n",
       "<polyline clip-path=\"url(#clip752)\" style=\"stroke:#000000; stroke-linecap:butt; stroke-linejoin:round; stroke-width:2; stroke-opacity:0.1; fill:none\" points=\"\n",
       "  1285.89,1423.18 1285.89,47.2441 \n",
       "  \"/>\n",
       "<polyline clip-path=\"url(#clip752)\" style=\"stroke:#000000; stroke-linecap:butt; stroke-linejoin:round; stroke-width:2; stroke-opacity:0.1; fill:none\" points=\"\n",
       "  1621.39,1423.18 1621.39,47.2441 \n",
       "  \"/>\n",
       "<polyline clip-path=\"url(#clip752)\" style=\"stroke:#000000; stroke-linecap:butt; stroke-linejoin:round; stroke-width:2; stroke-opacity:0.1; fill:none\" points=\"\n",
       "  1956.88,1423.18 1956.88,47.2441 \n",
       "  \"/>\n",
       "<polyline clip-path=\"url(#clip752)\" style=\"stroke:#000000; stroke-linecap:butt; stroke-linejoin:round; stroke-width:2; stroke-opacity:0.1; fill:none\" points=\"\n",
       "  2292.37,1423.18 2292.37,47.2441 \n",
       "  \"/>\n",
       "<polyline clip-path=\"url(#clip750)\" style=\"stroke:#000000; stroke-linecap:butt; stroke-linejoin:round; stroke-width:4; stroke-opacity:1; fill:none\" points=\"\n",
       "  219.033,1423.18 2352.76,1423.18 \n",
       "  \"/>\n",
       "<polyline clip-path=\"url(#clip750)\" style=\"stroke:#000000; stroke-linecap:butt; stroke-linejoin:round; stroke-width:4; stroke-opacity:1; fill:none\" points=\"\n",
       "  279.421,1423.18 279.421,1404.28 \n",
       "  \"/>\n",
       "<polyline clip-path=\"url(#clip750)\" style=\"stroke:#000000; stroke-linecap:butt; stroke-linejoin:round; stroke-width:4; stroke-opacity:1; fill:none\" points=\"\n",
       "  614.912,1423.18 614.912,1404.28 \n",
       "  \"/>\n",
       "<polyline clip-path=\"url(#clip750)\" style=\"stroke:#000000; stroke-linecap:butt; stroke-linejoin:round; stroke-width:4; stroke-opacity:1; fill:none\" points=\"\n",
       "  950.403,1423.18 950.403,1404.28 \n",
       "  \"/>\n",
       "<polyline clip-path=\"url(#clip750)\" style=\"stroke:#000000; stroke-linecap:butt; stroke-linejoin:round; stroke-width:4; stroke-opacity:1; fill:none\" points=\"\n",
       "  1285.89,1423.18 1285.89,1404.28 \n",
       "  \"/>\n",
       "<polyline clip-path=\"url(#clip750)\" style=\"stroke:#000000; stroke-linecap:butt; stroke-linejoin:round; stroke-width:4; stroke-opacity:1; fill:none\" points=\"\n",
       "  1621.39,1423.18 1621.39,1404.28 \n",
       "  \"/>\n",
       "<polyline clip-path=\"url(#clip750)\" style=\"stroke:#000000; stroke-linecap:butt; stroke-linejoin:round; stroke-width:4; stroke-opacity:1; fill:none\" points=\"\n",
       "  1956.88,1423.18 1956.88,1404.28 \n",
       "  \"/>\n",
       "<polyline clip-path=\"url(#clip750)\" style=\"stroke:#000000; stroke-linecap:butt; stroke-linejoin:round; stroke-width:4; stroke-opacity:1; fill:none\" points=\"\n",
       "  2292.37,1423.18 2292.37,1404.28 \n",
       "  \"/>\n",
       "<path clip-path=\"url(#clip750)\" d=\"M254.109 1481.64 L261.748 1481.64 L261.748 1455.28 L253.438 1456.95 L253.438 1452.69 L261.702 1451.02 L266.377 1451.02 L266.377 1481.64 L274.016 1481.64 L274.016 1485.58 L254.109 1485.58 L254.109 1481.64 Z\" fill=\"#000000\" fill-rule=\"evenodd\" fill-opacity=\"1\" /><path clip-path=\"url(#clip750)\" d=\"M293.461 1454.1 Q289.85 1454.1 288.021 1457.66 Q286.215 1461.2 286.215 1468.33 Q286.215 1475.44 288.021 1479.01 Q289.85 1482.55 293.461 1482.55 Q297.095 1482.55 298.9 1479.01 Q300.729 1475.44 300.729 1468.33 Q300.729 1461.2 298.9 1457.66 Q297.095 1454.1 293.461 1454.1 M293.461 1450.39 Q299.271 1450.39 302.326 1455 Q305.405 1459.58 305.405 1468.33 Q305.405 1477.06 302.326 1481.67 Q299.271 1486.25 293.461 1486.25 Q287.65 1486.25 284.572 1481.67 Q281.516 1477.06 281.516 1468.33 Q281.516 1459.58 284.572 1455 Q287.65 1450.39 293.461 1450.39 Z\" fill=\"#000000\" fill-rule=\"evenodd\" fill-opacity=\"1\" /><path clip-path=\"url(#clip750)\" d=\"M593.686 1481.64 L610.005 1481.64 L610.005 1485.58 L588.061 1485.58 L588.061 1481.64 Q590.723 1478.89 595.306 1474.26 Q599.912 1469.61 601.093 1468.27 Q603.338 1465.74 604.218 1464.01 Q605.121 1462.25 605.121 1460.56 Q605.121 1457.8 603.176 1456.07 Q601.255 1454.33 598.153 1454.33 Q595.954 1454.33 593.5 1455.09 Q591.07 1455.86 588.292 1457.41 L588.292 1452.69 Q591.116 1451.55 593.57 1450.97 Q596.024 1450.39 598.061 1450.39 Q603.431 1450.39 606.625 1453.08 Q609.82 1455.77 609.82 1460.26 Q609.82 1462.39 609.01 1464.31 Q608.223 1466.2 606.116 1468.8 Q605.537 1469.47 602.436 1472.69 Q599.334 1475.88 593.686 1481.64 Z\" fill=\"#000000\" fill-rule=\"evenodd\" fill-opacity=\"1\" /><path clip-path=\"url(#clip750)\" d=\"M629.82 1454.1 Q626.209 1454.1 624.38 1457.66 Q622.574 1461.2 622.574 1468.33 Q622.574 1475.44 624.38 1479.01 Q626.209 1482.55 629.82 1482.55 Q633.454 1482.55 635.259 1479.01 Q637.088 1475.44 637.088 1468.33 Q637.088 1461.2 635.259 1457.66 Q633.454 1454.1 629.82 1454.1 M629.82 1450.39 Q635.63 1450.39 638.685 1455 Q641.764 1459.58 641.764 1468.33 Q641.764 1477.06 638.685 1481.67 Q635.63 1486.25 629.82 1486.25 Q624.01 1486.25 620.931 1481.67 Q617.875 1477.06 617.875 1468.33 Q617.875 1459.58 620.931 1455 Q624.01 1450.39 629.82 1450.39 Z\" fill=\"#000000\" fill-rule=\"evenodd\" fill-opacity=\"1\" /><path clip-path=\"url(#clip750)\" d=\"M939.246 1466.95 Q942.603 1467.66 944.477 1469.93 Q946.376 1472.2 946.376 1475.53 Q946.376 1480.65 942.857 1483.45 Q939.339 1486.25 932.857 1486.25 Q930.681 1486.25 928.366 1485.81 Q926.075 1485.39 923.621 1484.54 L923.621 1480.02 Q925.566 1481.16 927.88 1481.74 Q930.195 1482.32 932.718 1482.32 Q937.116 1482.32 939.408 1480.58 Q941.723 1478.84 941.723 1475.53 Q941.723 1472.48 939.57 1470.77 Q937.44 1469.03 933.621 1469.03 L929.593 1469.03 L929.593 1465.19 L933.806 1465.19 Q937.255 1465.19 939.084 1463.82 Q940.913 1462.43 940.913 1459.84 Q940.913 1457.18 939.015 1455.77 Q937.14 1454.33 933.621 1454.33 Q931.7 1454.33 929.501 1454.75 Q927.302 1455.16 924.663 1456.04 L924.663 1451.88 Q927.325 1451.14 929.64 1450.77 Q931.978 1450.39 934.038 1450.39 Q939.362 1450.39 942.464 1452.83 Q945.565 1455.23 945.565 1459.35 Q945.565 1462.22 943.922 1464.21 Q942.278 1466.18 939.246 1466.95 Z\" fill=\"#000000\" fill-rule=\"evenodd\" fill-opacity=\"1\" /><path clip-path=\"url(#clip750)\" d=\"M965.241 1454.1 Q961.63 1454.1 959.801 1457.66 Q957.996 1461.2 957.996 1468.33 Q957.996 1475.44 959.801 1479.01 Q961.63 1482.55 965.241 1482.55 Q968.876 1482.55 970.681 1479.01 Q972.51 1475.44 972.51 1468.33 Q972.51 1461.2 970.681 1457.66 Q968.876 1454.1 965.241 1454.1 M965.241 1450.39 Q971.051 1450.39 974.107 1455 Q977.186 1459.58 977.186 1468.33 Q977.186 1477.06 974.107 1481.67 Q971.051 1486.25 965.241 1486.25 Q959.431 1486.25 956.352 1481.67 Q953.297 1477.06 953.297 1468.33 Q953.297 1459.58 956.352 1455 Q959.431 1450.39 965.241 1450.39 Z\" fill=\"#000000\" fill-rule=\"evenodd\" fill-opacity=\"1\" /><path clip-path=\"url(#clip750)\" d=\"M1274.07 1455.09 L1262.26 1473.54 L1274.07 1473.54 L1274.07 1455.09 M1272.84 1451.02 L1278.72 1451.02 L1278.72 1473.54 L1283.65 1473.54 L1283.65 1477.43 L1278.72 1477.43 L1278.72 1485.58 L1274.07 1485.58 L1274.07 1477.43 L1258.46 1477.43 L1258.46 1472.92 L1272.84 1451.02 Z\" fill=\"#000000\" fill-rule=\"evenodd\" fill-opacity=\"1\" /><path clip-path=\"url(#clip750)\" d=\"M1301.38 1454.1 Q1297.77 1454.1 1295.94 1457.66 Q1294.14 1461.2 1294.14 1468.33 Q1294.14 1475.44 1295.94 1479.01 Q1297.77 1482.55 1301.38 1482.55 Q1305.01 1482.55 1306.82 1479.01 Q1308.65 1475.44 1308.65 1468.33 Q1308.65 1461.2 1306.82 1457.66 Q1305.01 1454.1 1301.38 1454.1 M1301.38 1450.39 Q1307.19 1450.39 1310.25 1455 Q1313.32 1459.58 1313.32 1468.33 Q1313.32 1477.06 1310.25 1481.67 Q1307.19 1486.25 1301.38 1486.25 Q1295.57 1486.25 1292.49 1481.67 Q1289.44 1477.06 1289.44 1468.33 Q1289.44 1459.58 1292.49 1455 Q1295.57 1450.39 1301.38 1450.39 Z\" fill=\"#000000\" fill-rule=\"evenodd\" fill-opacity=\"1\" /><path clip-path=\"url(#clip750)\" d=\"M1596.08 1451.02 L1614.44 1451.02 L1614.44 1454.96 L1600.37 1454.96 L1600.37 1463.43 Q1601.39 1463.08 1602.4 1462.92 Q1603.42 1462.73 1604.44 1462.73 Q1610.23 1462.73 1613.61 1465.9 Q1616.99 1469.08 1616.99 1474.49 Q1616.99 1480.07 1613.52 1483.17 Q1610.04 1486.25 1603.72 1486.25 Q1601.55 1486.25 1599.28 1485.88 Q1597.03 1485.51 1594.63 1484.77 L1594.63 1480.07 Q1596.71 1481.2 1598.93 1481.76 Q1601.15 1482.32 1603.63 1482.32 Q1607.64 1482.32 1609.97 1480.21 Q1612.31 1478.1 1612.31 1474.49 Q1612.31 1470.88 1609.97 1468.77 Q1607.64 1466.67 1603.63 1466.67 Q1601.76 1466.67 1599.88 1467.08 Q1598.03 1467.5 1596.08 1468.38 L1596.08 1451.02 Z\" fill=\"#000000\" fill-rule=\"evenodd\" fill-opacity=\"1\" /><path clip-path=\"url(#clip750)\" d=\"M1636.2 1454.1 Q1632.59 1454.1 1630.76 1457.66 Q1628.95 1461.2 1628.95 1468.33 Q1628.95 1475.44 1630.76 1479.01 Q1632.59 1482.55 1636.2 1482.55 Q1639.83 1482.55 1641.64 1479.01 Q1643.47 1475.44 1643.47 1468.33 Q1643.47 1461.2 1641.64 1457.66 Q1639.83 1454.1 1636.2 1454.1 M1636.2 1450.39 Q1642.01 1450.39 1645.07 1455 Q1648.14 1459.58 1648.14 1468.33 Q1648.14 1477.06 1645.07 1481.67 Q1642.01 1486.25 1636.2 1486.25 Q1630.39 1486.25 1627.31 1481.67 Q1624.26 1477.06 1624.26 1468.33 Q1624.26 1459.58 1627.31 1455 Q1630.39 1450.39 1636.2 1450.39 Z\" fill=\"#000000\" fill-rule=\"evenodd\" fill-opacity=\"1\" /><path clip-path=\"url(#clip750)\" d=\"M1942.28 1466.44 Q1939.13 1466.44 1937.28 1468.59 Q1935.45 1470.74 1935.45 1474.49 Q1935.45 1478.22 1937.28 1480.39 Q1939.13 1482.55 1942.28 1482.55 Q1945.43 1482.55 1947.26 1480.39 Q1949.11 1478.22 1949.11 1474.49 Q1949.11 1470.74 1947.26 1468.59 Q1945.43 1466.44 1942.28 1466.44 M1951.56 1451.78 L1951.56 1456.04 Q1949.8 1455.21 1948 1454.77 Q1946.22 1454.33 1944.46 1454.33 Q1939.83 1454.33 1937.37 1457.45 Q1934.94 1460.58 1934.6 1466.9 Q1935.96 1464.89 1938.02 1463.82 Q1940.08 1462.73 1942.56 1462.73 Q1947.77 1462.73 1950.78 1465.9 Q1953.81 1469.05 1953.81 1474.49 Q1953.81 1479.82 1950.66 1483.03 Q1947.51 1486.25 1942.28 1486.25 Q1936.29 1486.25 1933.12 1481.67 Q1929.94 1477.06 1929.94 1468.33 Q1929.94 1460.14 1933.83 1455.28 Q1937.72 1450.39 1944.27 1450.39 Q1946.03 1450.39 1947.81 1450.74 Q1949.62 1451.09 1951.56 1451.78 Z\" fill=\"#000000\" fill-rule=\"evenodd\" fill-opacity=\"1\" /><path clip-path=\"url(#clip750)\" d=\"M1971.86 1454.1 Q1968.25 1454.1 1966.43 1457.66 Q1964.62 1461.2 1964.62 1468.33 Q1964.62 1475.44 1966.43 1479.01 Q1968.25 1482.55 1971.86 1482.55 Q1975.5 1482.55 1977.3 1479.01 Q1979.13 1475.44 1979.13 1468.33 Q1979.13 1461.2 1977.3 1457.66 Q1975.5 1454.1 1971.86 1454.1 M1971.86 1450.39 Q1977.67 1450.39 1980.73 1455 Q1983.81 1459.58 1983.81 1468.33 Q1983.81 1477.06 1980.73 1481.67 Q1977.67 1486.25 1971.86 1486.25 Q1966.05 1486.25 1962.98 1481.67 Q1959.92 1477.06 1959.92 1468.33 Q1959.92 1459.58 1962.98 1455 Q1966.05 1450.39 1971.86 1450.39 Z\" fill=\"#000000\" fill-rule=\"evenodd\" fill-opacity=\"1\" /><path clip-path=\"url(#clip750)\" d=\"M2265.72 1451.02 L2287.95 1451.02 L2287.95 1453.01 L2275.4 1485.58 L2270.52 1485.58 L2282.32 1454.96 L2265.72 1454.96 L2265.72 1451.02 Z\" fill=\"#000000\" fill-rule=\"evenodd\" fill-opacity=\"1\" /><path clip-path=\"url(#clip750)\" d=\"M2307.07 1454.1 Q2303.46 1454.1 2301.63 1457.66 Q2299.82 1461.2 2299.82 1468.33 Q2299.82 1475.44 2301.63 1479.01 Q2303.46 1482.55 2307.07 1482.55 Q2310.7 1482.55 2312.51 1479.01 Q2314.33 1475.44 2314.33 1468.33 Q2314.33 1461.2 2312.51 1457.66 Q2310.7 1454.1 2307.07 1454.1 M2307.07 1450.39 Q2312.88 1450.39 2315.93 1455 Q2319.01 1459.58 2319.01 1468.33 Q2319.01 1477.06 2315.93 1481.67 Q2312.88 1486.25 2307.07 1486.25 Q2301.26 1486.25 2298.18 1481.67 Q2295.12 1477.06 2295.12 1468.33 Q2295.12 1459.58 2298.18 1455 Q2301.26 1450.39 2307.07 1450.39 Z\" fill=\"#000000\" fill-rule=\"evenodd\" fill-opacity=\"1\" /><path clip-path=\"url(#clip750)\" d=\"M1200.8 1546.53 L1200.8 1568.04 L1194.94 1568.04 L1194.94 1546.72 Q1194.94 1541.66 1192.97 1539.14 Q1191 1536.63 1187.05 1536.63 Q1182.31 1536.63 1179.57 1539.65 Q1176.83 1542.68 1176.83 1547.9 L1176.83 1568.04 L1170.95 1568.04 L1170.95 1532.4 L1176.83 1532.4 L1176.83 1537.93 Q1178.93 1534.72 1181.77 1533.13 Q1184.63 1531.54 1188.36 1531.54 Q1194.5 1531.54 1197.65 1535.36 Q1200.8 1539.14 1200.8 1546.53 Z\" fill=\"#000000\" fill-rule=\"evenodd\" fill-opacity=\"1\" /><path clip-path=\"url(#clip750)\" d=\"M1239.57 1578.87 L1239.57 1583.42 L1205.7 1583.42 L1205.7 1578.87 L1239.57 1578.87 Z\" fill=\"#000000\" fill-rule=\"evenodd\" fill-opacity=\"1\" /><path clip-path=\"url(#clip750)\" d=\"M1250.87 1522.27 L1250.87 1532.4 L1262.93 1532.4 L1262.93 1536.95 L1250.87 1536.95 L1250.87 1556.3 Q1250.87 1560.66 1252.04 1561.9 Q1253.25 1563.14 1256.91 1563.14 L1262.93 1563.14 L1262.93 1568.04 L1256.91 1568.04 Q1250.14 1568.04 1247.56 1565.53 Q1244.98 1562.98 1244.98 1556.3 L1244.98 1536.95 L1240.68 1536.95 L1240.68 1532.4 L1244.98 1532.4 L1244.98 1522.27 L1250.87 1522.27 Z\" fill=\"#000000\" fill-rule=\"evenodd\" fill-opacity=\"1\" /><path clip-path=\"url(#clip750)\" d=\"M1291.29 1537.87 Q1290.3 1537.3 1289.13 1537.04 Q1287.98 1536.76 1286.58 1536.76 Q1281.61 1536.76 1278.94 1540 Q1276.3 1543.22 1276.3 1549.27 L1276.3 1568.04 L1270.41 1568.04 L1270.41 1532.4 L1276.3 1532.4 L1276.3 1537.93 Q1278.14 1534.69 1281.1 1533.13 Q1284.06 1531.54 1288.3 1531.54 Q1288.9 1531.54 1289.63 1531.63 Q1290.37 1531.7 1291.26 1531.85 L1291.29 1537.87 Z\" fill=\"#000000\" fill-rule=\"evenodd\" fill-opacity=\"1\" /><path clip-path=\"url(#clip750)\" d=\"M1326.49 1548.76 L1326.49 1551.62 L1299.56 1551.62 Q1299.95 1557.67 1303.19 1560.85 Q1306.47 1564 1312.3 1564 Q1315.67 1564 1318.82 1563.17 Q1322 1562.35 1325.12 1560.69 L1325.12 1566.23 Q1321.97 1567.57 1318.66 1568.27 Q1315.35 1568.97 1311.95 1568.97 Q1303.42 1568.97 1298.42 1564 Q1293.45 1559.04 1293.45 1550.57 Q1293.45 1541.82 1298.16 1536.69 Q1302.91 1531.54 1310.93 1531.54 Q1318.12 1531.54 1322.29 1536.18 Q1326.49 1540.8 1326.49 1548.76 M1320.64 1547.04 Q1320.57 1542.23 1317.93 1539.37 Q1315.32 1536.5 1310.99 1536.5 Q1306.09 1536.5 1303.13 1539.27 Q1300.2 1542.04 1299.76 1547.07 L1320.64 1547.04 Z\" fill=\"#000000\" fill-rule=\"evenodd\" fill-opacity=\"1\" /><path clip-path=\"url(#clip750)\" d=\"M1366.6 1548.76 L1366.6 1551.62 L1339.67 1551.62 Q1340.05 1557.67 1343.3 1560.85 Q1346.58 1564 1352.4 1564 Q1355.77 1564 1358.92 1563.17 Q1362.11 1562.35 1365.23 1560.69 L1365.23 1566.23 Q1362.08 1567.57 1358.77 1568.27 Q1355.46 1568.97 1352.05 1568.97 Q1343.52 1568.97 1338.52 1564 Q1333.56 1559.04 1333.56 1550.57 Q1333.56 1541.82 1338.27 1536.69 Q1343.01 1531.54 1351.03 1531.54 Q1358.22 1531.54 1362.39 1536.18 Q1366.6 1540.8 1366.6 1548.76 M1360.74 1547.04 Q1360.68 1542.23 1358.03 1539.37 Q1355.42 1536.5 1351.1 1536.5 Q1346.19 1536.5 1343.23 1539.27 Q1340.31 1542.04 1339.86 1547.07 L1360.74 1547.04 Z\" fill=\"#000000\" fill-rule=\"evenodd\" fill-opacity=\"1\" /><path clip-path=\"url(#clip750)\" d=\"M1398.93 1533.45 L1398.93 1538.98 Q1396.45 1537.71 1393.78 1537.07 Q1391.1 1536.44 1388.24 1536.44 Q1383.88 1536.44 1381.68 1537.77 Q1379.52 1539.11 1379.52 1541.79 Q1379.52 1543.82 1381.08 1545 Q1382.64 1546.15 1387.35 1547.2 L1389.35 1547.64 Q1395.59 1548.98 1398.2 1551.43 Q1400.84 1553.85 1400.84 1558.21 Q1400.84 1563.17 1396.9 1566.07 Q1392.98 1568.97 1386.11 1568.97 Q1383.24 1568.97 1380.12 1568.39 Q1377.04 1567.85 1373.6 1566.74 L1373.6 1560.69 Q1376.84 1562.38 1380 1563.24 Q1383.15 1564.07 1386.23 1564.07 Q1390.37 1564.07 1392.6 1562.66 Q1394.83 1561.23 1394.83 1558.65 Q1394.83 1556.27 1393.2 1554.99 Q1391.61 1553.72 1386.17 1552.54 L1384.13 1552.07 Q1378.69 1550.92 1376.27 1548.56 Q1373.85 1546.18 1373.85 1542.04 Q1373.85 1537.01 1377.42 1534.27 Q1380.98 1531.54 1387.54 1531.54 Q1390.79 1531.54 1393.65 1532.01 Q1396.51 1532.49 1398.93 1533.45 Z\" fill=\"#000000\" fill-rule=\"evenodd\" fill-opacity=\"1\" /><polyline clip-path=\"url(#clip752)\" style=\"stroke:#000000; stroke-linecap:butt; stroke-linejoin:round; stroke-width:2; stroke-opacity:0.1; fill:none\" points=\"\n",
       "  219.033,1200.66 2352.76,1200.66 \n",
       "  \"/>\n",
       "<polyline clip-path=\"url(#clip752)\" style=\"stroke:#000000; stroke-linecap:butt; stroke-linejoin:round; stroke-width:2; stroke-opacity:0.1; fill:none\" points=\"\n",
       "  219.033,942.693 2352.76,942.693 \n",
       "  \"/>\n",
       "<polyline clip-path=\"url(#clip752)\" style=\"stroke:#000000; stroke-linecap:butt; stroke-linejoin:round; stroke-width:2; stroke-opacity:0.1; fill:none\" points=\"\n",
       "  219.033,684.731 2352.76,684.731 \n",
       "  \"/>\n",
       "<polyline clip-path=\"url(#clip752)\" style=\"stroke:#000000; stroke-linecap:butt; stroke-linejoin:round; stroke-width:2; stroke-opacity:0.1; fill:none\" points=\"\n",
       "  219.033,426.768 2352.76,426.768 \n",
       "  \"/>\n",
       "<polyline clip-path=\"url(#clip752)\" style=\"stroke:#000000; stroke-linecap:butt; stroke-linejoin:round; stroke-width:2; stroke-opacity:0.1; fill:none\" points=\"\n",
       "  219.033,168.806 2352.76,168.806 \n",
       "  \"/>\n",
       "<polyline clip-path=\"url(#clip750)\" style=\"stroke:#000000; stroke-linecap:butt; stroke-linejoin:round; stroke-width:4; stroke-opacity:1; fill:none\" points=\"\n",
       "  219.033,1423.18 219.033,47.2441 \n",
       "  \"/>\n",
       "<polyline clip-path=\"url(#clip750)\" style=\"stroke:#000000; stroke-linecap:butt; stroke-linejoin:round; stroke-width:4; stroke-opacity:1; fill:none\" points=\"\n",
       "  219.033,1200.66 237.931,1200.66 \n",
       "  \"/>\n",
       "<polyline clip-path=\"url(#clip750)\" style=\"stroke:#000000; stroke-linecap:butt; stroke-linejoin:round; stroke-width:4; stroke-opacity:1; fill:none\" points=\"\n",
       "  219.033,942.693 237.931,942.693 \n",
       "  \"/>\n",
       "<polyline clip-path=\"url(#clip750)\" style=\"stroke:#000000; stroke-linecap:butt; stroke-linejoin:round; stroke-width:4; stroke-opacity:1; fill:none\" points=\"\n",
       "  219.033,684.731 237.931,684.731 \n",
       "  \"/>\n",
       "<polyline clip-path=\"url(#clip750)\" style=\"stroke:#000000; stroke-linecap:butt; stroke-linejoin:round; stroke-width:4; stroke-opacity:1; fill:none\" points=\"\n",
       "  219.033,426.768 237.931,426.768 \n",
       "  \"/>\n",
       "<polyline clip-path=\"url(#clip750)\" style=\"stroke:#000000; stroke-linecap:butt; stroke-linejoin:round; stroke-width:4; stroke-opacity:1; fill:none\" points=\"\n",
       "  219.033,168.806 237.931,168.806 \n",
       "  \"/>\n",
       "<path clip-path=\"url(#clip750)\" d=\"M116.668 1214 L124.306 1214 L124.306 1187.63 L115.996 1189.3 L115.996 1185.04 L124.26 1183.38 L128.936 1183.38 L128.936 1214 L136.575 1214 L136.575 1217.94 L116.668 1217.94 L116.668 1214 Z\" fill=\"#000000\" fill-rule=\"evenodd\" fill-opacity=\"1\" /><path clip-path=\"url(#clip750)\" d=\"M146.019 1212.06 L150.903 1212.06 L150.903 1217.94 L146.019 1217.94 L146.019 1212.06 Z\" fill=\"#000000\" fill-rule=\"evenodd\" fill-opacity=\"1\" /><path clip-path=\"url(#clip750)\" d=\"M171.089 1186.45 Q167.477 1186.45 165.649 1190.02 Q163.843 1193.56 163.843 1200.69 Q163.843 1207.8 165.649 1211.36 Q167.477 1214.9 171.089 1214.9 Q174.723 1214.9 176.528 1211.36 Q178.357 1207.8 178.357 1200.69 Q178.357 1193.56 176.528 1190.02 Q174.723 1186.45 171.089 1186.45 M171.089 1182.75 Q176.899 1182.75 179.954 1187.36 Q183.033 1191.94 183.033 1200.69 Q183.033 1209.42 179.954 1214.02 Q176.899 1218.61 171.089 1218.61 Q165.278 1218.61 162.2 1214.02 Q159.144 1209.42 159.144 1200.69 Q159.144 1191.94 162.2 1187.36 Q165.278 1182.75 171.089 1182.75 Z\" fill=\"#000000\" fill-rule=\"evenodd\" fill-opacity=\"1\" /><path clip-path=\"url(#clip750)\" d=\"M117.663 956.038 L125.302 956.038 L125.302 929.672 L116.992 931.339 L116.992 927.08 L125.255 925.413 L129.931 925.413 L129.931 956.038 L137.57 956.038 L137.57 959.973 L117.663 959.973 L117.663 956.038 Z\" fill=\"#000000\" fill-rule=\"evenodd\" fill-opacity=\"1\" /><path clip-path=\"url(#clip750)\" d=\"M147.015 954.093 L151.899 954.093 L151.899 959.973 L147.015 959.973 L147.015 954.093 Z\" fill=\"#000000\" fill-rule=\"evenodd\" fill-opacity=\"1\" /><path clip-path=\"url(#clip750)\" d=\"M162.13 925.413 L180.487 925.413 L180.487 929.348 L166.413 929.348 L166.413 937.82 Q167.431 937.473 168.45 937.311 Q169.468 937.126 170.487 937.126 Q176.274 937.126 179.653 940.297 Q183.033 943.468 183.033 948.885 Q183.033 954.464 179.561 957.566 Q176.089 960.644 169.769 960.644 Q167.593 960.644 165.325 960.274 Q163.079 959.904 160.672 959.163 L160.672 954.464 Q162.755 955.598 164.977 956.154 Q167.2 956.709 169.677 956.709 Q173.681 956.709 176.019 954.603 Q178.357 952.496 178.357 948.885 Q178.357 945.274 176.019 943.168 Q173.681 941.061 169.677 941.061 Q167.802 941.061 165.927 941.478 Q164.075 941.894 162.13 942.774 L162.13 925.413 Z\" fill=\"#000000\" fill-rule=\"evenodd\" fill-opacity=\"1\" /><path clip-path=\"url(#clip750)\" d=\"M119.885 698.075 L136.204 698.075 L136.204 702.011 L114.26 702.011 L114.26 698.075 Q116.922 695.321 121.505 690.691 Q126.112 686.038 127.292 684.696 Q129.538 682.173 130.417 680.437 Q131.32 678.677 131.32 676.988 Q131.32 674.233 129.376 672.497 Q127.455 670.761 124.353 670.761 Q122.154 670.761 119.7 671.525 Q117.269 672.289 114.492 673.839 L114.492 669.117 Q117.316 667.983 119.769 667.404 Q122.223 666.826 124.26 666.826 Q129.63 666.826 132.825 669.511 Q136.019 672.196 136.019 676.687 Q136.019 678.816 135.209 680.738 Q134.422 682.636 132.316 685.228 Q131.737 685.9 128.635 689.117 Q125.533 692.312 119.885 698.075 Z\" fill=\"#000000\" fill-rule=\"evenodd\" fill-opacity=\"1\" /><path clip-path=\"url(#clip750)\" d=\"M146.019 696.131 L150.903 696.131 L150.903 702.011 L146.019 702.011 L146.019 696.131 Z\" fill=\"#000000\" fill-rule=\"evenodd\" fill-opacity=\"1\" /><path clip-path=\"url(#clip750)\" d=\"M171.089 670.529 Q167.477 670.529 165.649 674.094 Q163.843 677.636 163.843 684.765 Q163.843 691.872 165.649 695.437 Q167.477 698.978 171.089 698.978 Q174.723 698.978 176.528 695.437 Q178.357 691.872 178.357 684.765 Q178.357 677.636 176.528 674.094 Q174.723 670.529 171.089 670.529 M171.089 666.826 Q176.899 666.826 179.954 671.432 Q183.033 676.015 183.033 684.765 Q183.033 693.492 179.954 698.099 Q176.899 702.682 171.089 702.682 Q165.278 702.682 162.2 698.099 Q159.144 693.492 159.144 684.765 Q159.144 676.015 162.2 671.432 Q165.278 666.826 171.089 666.826 Z\" fill=\"#000000\" fill-rule=\"evenodd\" fill-opacity=\"1\" /><path clip-path=\"url(#clip750)\" d=\"M120.88 440.113 L137.2 440.113 L137.2 444.048 L115.256 444.048 L115.256 440.113 Q117.918 437.358 122.501 432.729 Q127.107 428.076 128.288 426.734 Q130.533 424.21 131.413 422.474 Q132.316 420.715 132.316 419.025 Q132.316 416.271 130.371 414.535 Q128.45 412.798 125.348 412.798 Q123.149 412.798 120.695 413.562 Q118.265 414.326 115.487 415.877 L115.487 411.155 Q118.311 410.021 120.765 409.442 Q123.218 408.863 125.255 408.863 Q130.626 408.863 133.82 411.548 Q137.015 414.234 137.015 418.724 Q137.015 420.854 136.204 422.775 Q135.417 424.673 133.311 427.266 Q132.732 427.937 129.63 431.155 Q126.529 434.349 120.88 440.113 Z\" fill=\"#000000\" fill-rule=\"evenodd\" fill-opacity=\"1\" /><path clip-path=\"url(#clip750)\" d=\"M147.015 438.169 L151.899 438.169 L151.899 444.048 L147.015 444.048 L147.015 438.169 Z\" fill=\"#000000\" fill-rule=\"evenodd\" fill-opacity=\"1\" /><path clip-path=\"url(#clip750)\" d=\"M162.13 409.488 L180.487 409.488 L180.487 413.423 L166.413 413.423 L166.413 421.896 Q167.431 421.548 168.45 421.386 Q169.468 421.201 170.487 421.201 Q176.274 421.201 179.653 424.372 Q183.033 427.544 183.033 432.96 Q183.033 438.539 179.561 441.641 Q176.089 444.72 169.769 444.72 Q167.593 444.72 165.325 444.349 Q163.079 443.979 160.672 443.238 L160.672 438.539 Q162.755 439.673 164.977 440.229 Q167.2 440.784 169.677 440.784 Q173.681 440.784 176.019 438.678 Q178.357 436.571 178.357 432.96 Q178.357 429.349 176.019 427.243 Q173.681 425.136 169.677 425.136 Q167.802 425.136 165.927 425.553 Q164.075 425.97 162.13 426.849 L162.13 409.488 Z\" fill=\"#000000\" fill-rule=\"evenodd\" fill-opacity=\"1\" /><path clip-path=\"url(#clip750)\" d=\"M130.024 167.452 Q133.38 168.169 135.255 170.438 Q137.154 172.706 137.154 176.04 Q137.154 181.155 133.635 183.956 Q130.117 186.757 123.635 186.757 Q121.459 186.757 119.144 186.317 Q116.853 185.901 114.399 185.044 L114.399 180.53 Q116.343 181.665 118.658 182.243 Q120.973 182.822 123.496 182.822 Q127.894 182.822 130.186 181.086 Q132.501 179.35 132.501 176.04 Q132.501 172.984 130.348 171.271 Q128.218 169.535 124.399 169.535 L120.371 169.535 L120.371 165.692 L124.584 165.692 Q128.033 165.692 129.862 164.327 Q131.691 162.938 131.691 160.345 Q131.691 157.683 129.792 156.271 Q127.917 154.836 124.399 154.836 Q122.478 154.836 120.279 155.253 Q118.08 155.669 115.441 156.549 L115.441 152.382 Q118.103 151.642 120.418 151.271 Q122.755 150.901 124.816 150.901 Q130.14 150.901 133.242 153.331 Q136.343 155.739 136.343 159.859 Q136.343 162.73 134.7 164.72 Q133.056 166.688 130.024 167.452 Z\" fill=\"#000000\" fill-rule=\"evenodd\" fill-opacity=\"1\" /><path clip-path=\"url(#clip750)\" d=\"M146.019 180.206 L150.903 180.206 L150.903 186.086 L146.019 186.086 L146.019 180.206 Z\" fill=\"#000000\" fill-rule=\"evenodd\" fill-opacity=\"1\" /><path clip-path=\"url(#clip750)\" d=\"M171.089 154.605 Q167.477 154.605 165.649 158.169 Q163.843 161.711 163.843 168.841 Q163.843 175.947 165.649 179.512 Q167.477 183.053 171.089 183.053 Q174.723 183.053 176.528 179.512 Q178.357 175.947 178.357 168.841 Q178.357 161.711 176.528 158.169 Q174.723 154.605 171.089 154.605 M171.089 150.901 Q176.899 150.901 179.954 155.507 Q183.033 160.091 183.033 168.841 Q183.033 177.567 179.954 182.174 Q176.899 186.757 171.089 186.757 Q165.278 186.757 162.2 182.174 Q159.144 177.567 159.144 168.841 Q159.144 160.091 162.2 155.507 Q165.278 150.901 171.089 150.901 Z\" fill=\"#000000\" fill-rule=\"evenodd\" fill-opacity=\"1\" /><path clip-path=\"url(#clip750)\" d=\"M29.7248 925.196 L35.1993 925.196 Q33.8307 927.679 33.1623 930.194 Q32.4621 932.676 32.4621 935.222 Q32.4621 940.92 36.0905 944.071 Q39.6872 947.222 46.212 947.222 Q52.7369 947.222 56.3653 944.071 Q59.9619 940.92 59.9619 935.222 Q59.9619 932.676 59.2935 930.194 Q58.5933 927.679 57.2247 925.196 L62.6355 925.196 Q63.7814 927.647 64.3543 930.289 Q64.9272 932.899 64.9272 935.859 Q64.9272 943.912 59.8664 948.654 Q54.8057 953.397 46.212 953.397 Q37.491 953.397 32.4939 948.622 Q27.4968 943.816 27.4968 935.477 Q27.4968 932.772 28.0697 930.194 Q28.6108 927.615 29.7248 925.196 Z\" fill=\"#000000\" fill-rule=\"evenodd\" fill-opacity=\"1\" /><path clip-path=\"url(#clip750)\" d=\"M33.8307 894.355 Q33.2578 895.341 33.0032 896.519 Q32.7167 897.665 32.7167 899.065 Q32.7167 904.031 35.9632 906.704 Q39.1779 909.346 45.2253 909.346 L64.0042 909.346 L64.0042 915.234 L28.3562 915.234 L28.3562 909.346 L33.8944 909.346 Q30.6479 907.5 29.0883 904.54 Q27.4968 901.58 27.4968 897.347 Q27.4968 896.742 27.5923 896.01 Q27.656 895.278 27.8151 894.386 L33.8307 894.355 Z\" fill=\"#000000\" fill-rule=\"evenodd\" fill-opacity=\"1\" /><path clip-path=\"url(#clip750)\" d=\"M32.4621 875.83 Q32.4621 880.541 36.1542 883.278 Q39.8145 886.016 46.212 886.016 Q52.6095 886.016 56.3017 883.31 Q59.9619 880.573 59.9619 875.83 Q59.9619 871.152 56.2698 868.414 Q52.5777 865.677 46.212 865.677 Q39.8781 865.677 36.186 868.414 Q32.4621 871.152 32.4621 875.83 M27.4968 875.83 Q27.4968 868.192 32.4621 863.831 Q37.4273 859.471 46.212 859.471 Q54.9649 859.471 59.9619 863.831 Q64.9272 868.192 64.9272 875.83 Q64.9272 883.501 59.9619 887.862 Q54.9649 892.19 46.212 892.19 Q37.4273 892.19 32.4621 887.862 Q27.4968 883.501 27.4968 875.83 Z\" fill=\"#000000\" fill-rule=\"evenodd\" fill-opacity=\"1\" /><path clip-path=\"url(#clip750)\" d=\"M29.4065 827.037 L34.9447 827.037 Q33.6716 829.52 33.035 832.194 Q32.3984 834.867 32.3984 837.732 Q32.3984 842.092 33.7352 844.288 Q35.072 846.453 37.7456 846.453 Q39.7826 846.453 40.9603 844.893 Q42.1061 843.333 43.1565 838.623 L43.6021 836.618 Q44.9389 830.379 47.3897 827.769 Q49.8086 825.128 54.1691 825.128 Q59.1344 825.128 62.0308 829.074 Q64.9272 832.989 64.9272 839.864 Q64.9272 842.729 64.3543 845.848 Q63.8132 848.935 62.6992 852.373 L56.6518 852.373 Q58.3387 849.126 59.198 845.975 Q60.0256 842.824 60.0256 839.737 Q60.0256 835.599 58.6251 833.371 Q57.1929 831.143 54.6147 831.143 Q52.2276 831.143 50.9545 832.766 Q49.6813 834.358 48.5037 839.801 L48.0262 841.838 Q46.8804 847.28 44.5251 849.699 Q42.138 852.118 38.0002 852.118 Q32.9713 852.118 30.2341 848.553 Q27.4968 844.989 27.4968 838.432 Q27.4968 835.185 27.9743 832.321 Q28.4517 829.456 29.4065 827.037 Z\" fill=\"#000000\" fill-rule=\"evenodd\" fill-opacity=\"1\" /><path clip-path=\"url(#clip750)\" d=\"M29.4065 793.076 L34.9447 793.076 Q33.6716 795.559 33.035 798.232 Q32.3984 800.906 32.3984 803.771 Q32.3984 808.131 33.7352 810.327 Q35.072 812.492 37.7456 812.492 Q39.7826 812.492 40.9603 810.932 Q42.1061 809.372 43.1565 804.662 L43.6021 802.657 Q44.9389 796.418 47.3897 793.808 Q49.8086 791.167 54.1691 791.167 Q59.1344 791.167 62.0308 795.113 Q64.9272 799.028 64.9272 805.903 Q64.9272 808.768 64.3543 811.887 Q63.8132 814.974 62.6992 818.412 L56.6518 818.412 Q58.3387 815.165 59.198 812.014 Q60.0256 808.863 60.0256 805.776 Q60.0256 801.638 58.6251 799.41 Q57.1929 797.182 54.6147 797.182 Q52.2276 797.182 50.9545 798.805 Q49.6813 800.397 48.5037 805.839 L48.0262 807.877 Q46.8804 813.319 44.5251 815.738 Q42.138 818.157 38.0002 818.157 Q32.9713 818.157 30.2341 814.592 Q27.4968 811.028 27.4968 804.471 Q27.4968 801.224 27.9743 798.36 Q28.4517 795.495 29.4065 793.076 Z\" fill=\"#000000\" fill-rule=\"evenodd\" fill-opacity=\"1\" /><path clip-path=\"url(#clip750)\" d=\"M44.7161 730.629 L47.5806 730.629 L47.5806 757.556 Q53.6281 757.174 56.8109 753.927 Q59.9619 750.649 59.9619 744.824 Q59.9619 741.45 59.1344 738.299 Q58.3069 735.116 56.6518 731.997 L62.1899 731.997 Q63.5267 735.148 64.227 738.458 Q64.9272 741.769 64.9272 745.174 Q64.9272 753.704 59.9619 758.701 Q54.9967 763.667 46.5303 763.667 Q37.7774 763.667 32.6531 758.956 Q27.4968 754.214 27.4968 746.193 Q27.4968 739 32.1438 734.83 Q36.7589 730.629 44.7161 730.629 M42.9973 736.485 Q38.1912 736.549 35.3266 739.191 Q32.4621 741.8 32.4621 746.129 Q32.4621 751.031 35.2312 753.991 Q38.0002 756.919 43.0292 757.365 L42.9973 736.485 Z\" fill=\"#000000\" fill-rule=\"evenodd\" fill-opacity=\"1\" /><path clip-path=\"url(#clip750)\" d=\"M42.4881 691.384 L64.0042 691.384 L64.0042 697.241 L42.679 697.241 Q37.6183 697.241 35.1038 699.214 Q32.5894 701.187 32.5894 705.134 Q32.5894 709.876 35.6131 712.614 Q38.6368 715.351 43.8567 715.351 L64.0042 715.351 L64.0042 721.239 L28.3562 721.239 L28.3562 715.351 L33.8944 715.351 Q30.6797 713.25 29.0883 710.418 Q27.4968 707.553 27.4968 703.829 Q27.4968 697.686 31.3163 694.535 Q35.1038 691.384 42.4881 691.384 Z\" fill=\"#000000\" fill-rule=\"evenodd\" fill-opacity=\"1\" /><path clip-path=\"url(#clip750)\" d=\"M18.2347 673.91 L28.3562 673.91 L28.3562 661.847 L32.9077 661.847 L32.9077 673.91 L52.2594 673.91 Q56.6199 673.91 57.8613 672.733 Q59.1026 671.523 59.1026 667.863 L59.1026 661.847 L64.0042 661.847 L64.0042 667.863 Q64.0042 674.642 61.4897 677.22 Q58.9434 679.798 52.2594 679.798 L32.9077 679.798 L32.9077 684.095 L28.3562 684.095 L28.3562 679.798 L18.2347 679.798 L18.2347 673.91 Z\" fill=\"#000000\" fill-rule=\"evenodd\" fill-opacity=\"1\" /><path clip-path=\"url(#clip750)\" d=\"M33.8307 633.488 Q33.2578 634.475 33.0032 635.652 Q32.7167 636.798 32.7167 638.199 Q32.7167 643.164 35.9632 645.837 Q39.1779 648.479 45.2253 648.479 L64.0042 648.479 L64.0042 654.367 L28.3562 654.367 L28.3562 648.479 L33.8944 648.479 Q30.6479 646.633 29.0883 643.673 Q27.4968 640.713 27.4968 636.48 Q27.4968 635.875 27.5923 635.143 Q27.656 634.411 27.8151 633.52 L33.8307 633.488 Z\" fill=\"#000000\" fill-rule=\"evenodd\" fill-opacity=\"1\" /><path clip-path=\"url(#clip750)\" d=\"M32.4621 614.964 Q32.4621 619.674 36.1542 622.412 Q39.8145 625.149 46.212 625.149 Q52.6095 625.149 56.3017 622.443 Q59.9619 619.706 59.9619 614.964 Q59.9619 610.285 56.2698 607.548 Q52.5777 604.81 46.212 604.81 Q39.8781 604.81 36.186 607.548 Q32.4621 610.285 32.4621 614.964 M27.4968 614.964 Q27.4968 607.325 32.4621 602.964 Q37.4273 598.604 46.212 598.604 Q54.9649 598.604 59.9619 602.964 Q64.9272 607.325 64.9272 614.964 Q64.9272 622.634 59.9619 626.995 Q54.9649 631.324 46.212 631.324 Q37.4273 631.324 32.4621 626.995 Q27.4968 622.634 27.4968 614.964 Z\" fill=\"#000000\" fill-rule=\"evenodd\" fill-opacity=\"1\" /><path clip-path=\"url(#clip750)\" d=\"M58.657 583.231 L77.5631 583.231 L77.5631 589.119 L28.3562 589.119 L28.3562 583.231 L33.7671 583.231 Q30.5842 581.385 29.0564 578.584 Q27.4968 575.751 27.4968 571.836 Q27.4968 565.343 32.6531 561.301 Q37.8093 557.227 46.212 557.227 Q54.6147 557.227 59.771 561.301 Q64.9272 565.343 64.9272 571.836 Q64.9272 575.751 63.3994 578.584 Q61.8398 581.385 58.657 583.231 M46.212 563.306 Q39.7508 563.306 36.0905 565.98 Q32.3984 568.621 32.3984 573.268 Q32.3984 577.915 36.0905 580.589 Q39.7508 583.231 46.212 583.231 Q52.6732 583.231 56.3653 580.589 Q60.0256 577.915 60.0256 573.268 Q60.0256 568.621 56.3653 565.98 Q52.6732 563.306 46.212 563.306 Z\" fill=\"#000000\" fill-rule=\"evenodd\" fill-opacity=\"1\" /><path clip-path=\"url(#clip750)\" d=\"M67.3143 532.687 Q73.68 535.17 75.6216 537.525 Q77.5631 539.88 77.5631 543.827 L77.5631 548.506 L72.6615 548.506 L72.6615 545.068 Q72.6615 542.649 71.5157 541.313 Q70.3699 539.976 66.1048 538.352 L63.4312 537.302 L28.3562 551.72 L28.3562 545.514 L56.238 534.374 L28.3562 523.234 L28.3562 517.027 L67.3143 532.687 Z\" fill=\"#000000\" fill-rule=\"evenodd\" fill-opacity=\"1\" /><polyline clip-path=\"url(#clip752)\" style=\"stroke:#009af9; stroke-linecap:butt; stroke-linejoin:round; stroke-width:4; stroke-opacity:1; fill:none\" points=\"\n",
       "  279.421,262.312 312.97,451.13 346.52,588.571 380.069,444.247 413.618,746.258 447.167,274.971 480.716,586.478 514.265,904.297 547.814,763.59 614.912,584.215 \n",
       "  648.461,916.01 682.011,926.793 749.109,883.591 816.207,753.222 849.756,1062.01 916.854,1045.91 983.952,1220.08 1051.05,1042.01 1151.7,1081.83 1218.8,1055.59 \n",
       "  1319.44,1067.43 1420.09,1215.35 1520.74,1217.42 1621.39,1070.05 1755.58,1061.19 1856.23,1368.45 1990.43,1064.27 2124.62,1058.75 2292.37,918.834 \n",
       "  \"/>\n",
       "<polyline clip-path=\"url(#clip752)\" style=\"stroke:#e26f46; stroke-linecap:butt; stroke-linejoin:round; stroke-width:4; stroke-opacity:1; fill:none\" points=\"\n",
       "  279.421,747.367 312.97,86.1857 346.52,265.688 380.069,402.933 413.618,889.815 447.167,756.55 480.716,585.583 514.265,1076.1 547.814,916.863 614.912,924.877 \n",
       "  648.461,1064.25 682.011,732.966 749.109,891.896 816.207,756.235 849.756,1052.02 916.854,1055.12 983.952,899.017 1051.05,895.113 1151.7,895.457 1218.8,1068.89 \n",
       "  1319.44,890.593 1420.09,903.242 1520.74,1066.53 1621.39,1201.57 1755.58,1077.06 1856.23,914.738 1990.43,1359.58 2124.62,1214.82 2292.37,1052.13 \n",
       "  \"/>\n",
       "<polyline clip-path=\"url(#clip752)\" style=\"stroke:#3da44d; stroke-linecap:butt; stroke-linejoin:round; stroke-width:4; stroke-opacity:1; fill:none\" points=\"\n",
       "  279.421,581.763 312.97,913.771 346.52,741.999 380.069,757.481 413.618,758.506 447.167,728.636 480.716,751.947 514.265,900.229 547.814,1071.92 614.912,908.199 \n",
       "  648.461,908.991 682.011,904.102 749.109,890.987 816.207,914.601 849.756,748.259 916.854,1065.39 983.952,904.62 1051.05,1072.42 1151.7,1213.11 1218.8,1064.15 \n",
       "  1319.44,1225.7 1420.09,1062.96 1520.74,903.433 1621.39,1063.83 1755.58,1051.01 1856.23,916.912 1990.43,1212.63 2124.62,1049.76 2292.37,1066.92 \n",
       "  \"/>\n",
       "<polyline clip-path=\"url(#clip752)\" style=\"stroke:#c271d2; stroke-linecap:butt; stroke-linejoin:round; stroke-width:4; stroke-opacity:1; fill:none\" points=\"\n",
       "  279.421,262.412 312.97,768.864 346.52,875.751 380.069,416.668 413.618,594.853 447.167,744.131 480.716,916.743 514.265,579.12 547.814,742.604 614.912,750.334 \n",
       "  648.461,728.423 682.011,747.778 749.109,899.292 816.207,908.135 849.756,1076.05 916.854,900.605 983.952,1077.13 1051.05,917.763 1151.7,1072.02 1218.8,901.824 \n",
       "  1319.44,1384.24 1420.09,1225.02 1520.74,1066.17 1621.39,916.634 1755.58,1057.56 1856.23,1065.25 1990.43,897.977 2124.62,1062.81 2292.37,1060.76 \n",
       "  \"/>\n",
       "<path clip-path=\"url(#clip750)\" d=\"\n",
       "M1990.41 352.309 L2281.63 352.309 L2281.63 93.1086 L1990.41 93.1086  Z\n",
       "  \" fill=\"#ffffff\" fill-rule=\"evenodd\" fill-opacity=\"1\"/>\n",
       "<polyline clip-path=\"url(#clip750)\" style=\"stroke:#000000; stroke-linecap:butt; stroke-linejoin:round; stroke-width:4; stroke-opacity:1; fill:none\" points=\"\n",
       "  1990.41,352.309 2281.63,352.309 2281.63,93.1086 1990.41,93.1086 1990.41,352.309 \n",
       "  \"/>\n",
       "<polyline clip-path=\"url(#clip750)\" style=\"stroke:#009af9; stroke-linecap:butt; stroke-linejoin:round; stroke-width:4; stroke-opacity:1; fill:none\" points=\"\n",
       "  2014.12,144.949 2156.36,144.949 \n",
       "  \"/>\n",
       "<path clip-path=\"url(#clip750)\" d=\"M2193.92 164.636 Q2192.11 169.266 2190.4 170.678 Q2188.68 172.09 2185.81 172.09 L2182.41 172.09 L2182.41 168.525 L2184.91 168.525 Q2186.67 168.525 2187.64 167.692 Q2188.61 166.858 2189.79 163.756 L2190.56 161.812 L2180.07 136.303 L2184.59 136.303 L2192.69 156.581 L2200.79 136.303 L2205.3 136.303 L2193.92 164.636 Z\" fill=\"#000000\" fill-rule=\"evenodd\" fill-opacity=\"1\" /><path clip-path=\"url(#clip750)\" d=\"M2212.6 158.293 L2220.23 158.293 L2220.23 131.928 L2211.92 133.595 L2211.92 129.335 L2220.19 127.669 L2224.86 127.669 L2224.86 158.293 L2232.5 158.293 L2232.5 162.229 L2212.6 162.229 L2212.6 158.293 Z\" fill=\"#000000\" fill-rule=\"evenodd\" fill-opacity=\"1\" /><polyline clip-path=\"url(#clip750)\" style=\"stroke:#e26f46; stroke-linecap:butt; stroke-linejoin:round; stroke-width:4; stroke-opacity:1; fill:none\" points=\"\n",
       "  2014.12,196.789 2156.36,196.789 \n",
       "  \"/>\n",
       "<path clip-path=\"url(#clip750)\" d=\"M2193.92 216.476 Q2192.11 221.106 2190.4 222.518 Q2188.68 223.93 2185.81 223.93 L2182.41 223.93 L2182.41 220.365 L2184.91 220.365 Q2186.67 220.365 2187.64 219.532 Q2188.61 218.698 2189.79 215.596 L2190.56 213.652 L2180.07 188.143 L2184.59 188.143 L2192.69 208.421 L2200.79 188.143 L2205.3 188.143 L2193.92 216.476 Z\" fill=\"#000000\" fill-rule=\"evenodd\" fill-opacity=\"1\" /><path clip-path=\"url(#clip750)\" d=\"M2215.81 210.133 L2232.13 210.133 L2232.13 214.069 L2210.19 214.069 L2210.19 210.133 Q2212.85 207.379 2217.43 202.749 Q2222.04 198.096 2223.22 196.754 Q2225.47 194.231 2226.35 192.495 Q2227.25 190.735 2227.25 189.046 Q2227.25 186.291 2225.3 184.555 Q2223.38 182.819 2220.28 182.819 Q2218.08 182.819 2215.63 183.583 Q2213.2 184.347 2210.42 185.897 L2210.42 181.175 Q2213.24 180.041 2215.7 179.462 Q2218.15 178.884 2220.19 178.884 Q2225.56 178.884 2228.75 181.569 Q2231.95 184.254 2231.95 188.745 Q2231.95 190.874 2231.14 192.796 Q2230.35 194.694 2228.24 197.286 Q2227.66 197.958 2224.56 201.175 Q2221.46 204.37 2215.81 210.133 Z\" fill=\"#000000\" fill-rule=\"evenodd\" fill-opacity=\"1\" /><polyline clip-path=\"url(#clip750)\" style=\"stroke:#3da44d; stroke-linecap:butt; stroke-linejoin:round; stroke-width:4; stroke-opacity:1; fill:none\" points=\"\n",
       "  2014.12,248.629 2156.36,248.629 \n",
       "  \"/>\n",
       "<path clip-path=\"url(#clip750)\" d=\"M2193.92 268.316 Q2192.11 272.946 2190.4 274.358 Q2188.68 275.77 2185.81 275.77 L2182.41 275.77 L2182.41 272.205 L2184.91 272.205 Q2186.67 272.205 2187.64 271.372 Q2188.61 270.538 2189.79 267.436 L2190.56 265.492 L2180.07 239.983 L2184.59 239.983 L2192.69 260.261 L2200.79 239.983 L2205.3 239.983 L2193.92 268.316 Z\" fill=\"#000000\" fill-rule=\"evenodd\" fill-opacity=\"1\" /><path clip-path=\"url(#clip750)\" d=\"M2225.95 247.274 Q2229.31 247.992 2231.18 250.261 Q2233.08 252.529 2233.08 255.862 Q2233.08 260.978 2229.56 263.779 Q2226.04 266.58 2219.56 266.58 Q2217.39 266.58 2215.07 266.14 Q2212.78 265.723 2210.33 264.867 L2210.33 260.353 Q2212.27 261.487 2214.59 262.066 Q2216.9 262.645 2219.42 262.645 Q2223.82 262.645 2226.11 260.909 Q2228.43 259.173 2228.43 255.862 Q2228.43 252.807 2226.28 251.094 Q2224.15 249.358 2220.33 249.358 L2216.3 249.358 L2216.3 245.515 L2220.51 245.515 Q2223.96 245.515 2225.79 244.149 Q2227.62 242.761 2227.62 240.168 Q2227.62 237.506 2225.72 236.094 Q2223.85 234.659 2220.33 234.659 Q2218.41 234.659 2216.21 235.075 Q2214.01 235.492 2211.37 236.372 L2211.37 232.205 Q2214.03 231.464 2216.35 231.094 Q2218.68 230.724 2220.74 230.724 Q2226.07 230.724 2229.17 233.154 Q2232.27 235.562 2232.27 239.682 Q2232.27 242.552 2230.63 244.543 Q2228.98 246.511 2225.95 247.274 Z\" fill=\"#000000\" fill-rule=\"evenodd\" fill-opacity=\"1\" /><polyline clip-path=\"url(#clip750)\" style=\"stroke:#c271d2; stroke-linecap:butt; stroke-linejoin:round; stroke-width:4; stroke-opacity:1; fill:none\" points=\"\n",
       "  2014.12,300.469 2156.36,300.469 \n",
       "  \"/>\n",
       "<path clip-path=\"url(#clip750)\" d=\"M2193.92 320.156 Q2192.11 324.786 2190.4 326.198 Q2188.68 327.61 2185.81 327.61 L2182.41 327.61 L2182.41 324.045 L2184.91 324.045 Q2186.67 324.045 2187.64 323.212 Q2188.61 322.378 2189.79 319.276 L2190.56 317.332 L2180.07 291.823 L2184.59 291.823 L2192.69 312.101 L2200.79 291.823 L2205.3 291.823 L2193.92 320.156 Z\" fill=\"#000000\" fill-rule=\"evenodd\" fill-opacity=\"1\" /><path clip-path=\"url(#clip750)\" d=\"M2224.63 287.263 L2212.83 305.712 L2224.63 305.712 L2224.63 287.263 M2223.41 283.189 L2229.29 283.189 L2229.29 305.712 L2234.22 305.712 L2234.22 309.601 L2229.29 309.601 L2229.29 317.749 L2224.63 317.749 L2224.63 309.601 L2209.03 309.601 L2209.03 305.087 L2223.41 283.189 Z\" fill=\"#000000\" fill-rule=\"evenodd\" fill-opacity=\"1\" /></svg>\n"
      ]
     },
     "execution_count": 23,
     "metadata": {},
     "output_type": "execute_result"
    }
   ],
   "source": [
    "plt = plot()\n",
    "for i in 1:4\n",
    "    one_curve = learning_curve(mach,\n",
    "                           range=r,\n",
    "                           resampling=Holdout(),\n",
    "                           measure=cross_entropy)\n",
    "    plot!(one_curve.parameter_values, one_curve.measurements)\n",
    "end\n",
    "xlabel!(plt, \"n_trees\")\n",
    "ylabel!(plt, \"cross entropy\")\n",
    "savefig(\"exercise_6ci.png\")\n",
    "plt"
   ]
  },
  {
   "cell_type": "markdown",
   "metadata": {},
   "source": [
    "6(c)(ii)"
   ]
  },
  {
   "cell_type": "code",
   "execution_count": 24,
   "metadata": {},
   "outputs": [
    {
     "name": "stderr",
     "output_type": "stream",
     "text": [
      "┌ Info: Creating subsamples from a subset of all rows. \n",
      "└ @ MLJBase /Users/anthony/.julia/packages/MLJBase/u6vLz/src/resampling.jl:490\n",
      "\u001b[33mEvaluating over 9 folds: 100%[=========================] Time: 0:00:00\u001b[39m\n"
     ]
    },
    {
     "data": {
      "text/plain": [
       "90"
      ]
     },
     "execution_count": 24,
     "metadata": {},
     "output_type": "execute_result"
    }
   ],
   "source": [
    "evaluate!(mach, resampling=CV(nfolds=9),\n",
    "                measure=cross_entropy,\n",
    "                rows=train).measurement[1]\n",
    "\n",
    "model.n_trees = 90"
   ]
  },
  {
   "cell_type": "markdown",
   "metadata": {},
   "source": [
    "6(c)(iii)"
   ]
  },
  {
   "cell_type": "code",
   "execution_count": 25,
   "metadata": {},
   "outputs": [
    {
     "data": {
      "text/plain": [
       "0.9891019012564205"
      ]
     },
     "execution_count": 25,
     "metadata": {},
     "output_type": "execute_result"
    }
   ],
   "source": [
    "err_forest = evaluate!(mach, resampling=Holdout(),\n",
    "                       measure=cross_entropy).measurement[1]"
   ]
  },
  {
   "cell_type": "markdown",
   "metadata": {},
   "source": [
    "#### Exercise 7"
   ]
  },
  {
   "cell_type": "markdown",
   "metadata": {},
   "source": [
    "(a)"
   ]
  },
  {
   "cell_type": "code",
   "execution_count": 26,
   "metadata": {},
   "outputs": [
    {
     "name": "stdout",
     "output_type": "stream",
     "text": [
      "import MLJClusteringInterface ✔\n"
     ]
    },
    {
     "name": "stderr",
     "output_type": "stream",
     "text": [
      "┌ Info: For silent loading, specify `verbosity=0`. \n",
      "└ @ Main /Users/anthony/.julia/packages/MLJModels/4sRmw/src/loading.jl:168\n"
     ]
    },
    {
     "name": "stdout",
     "output_type": "stream",
     "text": [
      "import EvoTrees ✔"
     ]
    },
    {
     "name": "stderr",
     "output_type": "stream",
     "text": [
      "┌ Info: For silent loading, specify `verbosity=0`. \n",
      "└ @ Main /Users/anthony/.julia/packages/MLJModels/4sRmw/src/loading.jl:168\n"
     ]
    },
    {
     "name": "stdout",
     "output_type": "stream",
     "text": [
      "\n"
     ]
    },
    {
     "data": {
      "text/plain": [
       "Pipeline263(\n",
       "    standardizer = Standardizer(\n",
       "            features = Symbol[],\n",
       "            ignore = false,\n",
       "            ordered_factor = false,\n",
       "            count = false),\n",
       "    continuous_encoder = ContinuousEncoder(\n",
       "            drop_last = false,\n",
       "            one_hot_ordered_factors = false),\n",
       "    k_means = KMeans(\n",
       "            k = 10,\n",
       "            metric = Distances.SqEuclidean(0.0)),\n",
       "    evo_tree_classifier = EvoTreeClassifier(\n",
       "            loss = EvoTrees.Softmax(),\n",
       "            nrounds = 50,\n",
       "            λ = 0.0,\n",
       "            γ = 0.0,\n",
       "            η = 0.1,\n",
       "            max_depth = 5,\n",
       "            min_weight = 1.0,\n",
       "            rowsample = 1.0,\n",
       "            colsample = 1.0,\n",
       "            nbins = 64,\n",
       "            α = 0.5,\n",
       "            metric = :mlogloss,\n",
       "            rng = MersenneTwister(123),\n",
       "            device = \"cpu\"))"
      ]
     },
     "execution_count": 26,
     "metadata": {},
     "output_type": "execute_result"
    }
   ],
   "source": [
    "KMeans = @load KMeans pkg=Clustering\n",
    "EvoTreeClassifier = @load EvoTreeClassifier\n",
    "pipe = @pipeline(Standardizer,\n",
    "                 ContinuousEncoder,\n",
    "                 KMeans(k=10),\n",
    "                 EvoTreeClassifier(nrounds=50))"
   ]
  },
  {
   "cell_type": "markdown",
   "metadata": {},
   "source": [
    "(b)"
   ]
  },
  {
   "cell_type": "code",
   "execution_count": 27,
   "metadata": {},
   "outputs": [
    {
     "name": "stderr",
     "output_type": "stream",
     "text": [
      "\u001b[33mEvaluating over 6 folds: 100%[=========================] Time: 0:00:47\u001b[39m\n"
     ]
    },
    {
     "data": {
      "text/plain": [
       "PerformanceEvaluation object with these fields:\n",
       "  measure, measurement, operation, per_fold,\n",
       "  per_observation, fitted_params_per_fold,\n",
       "  report_per_fold, train_test_pairs\n",
       "Extract:\n",
       "┌────────────────────────────┬─────────────┬───────────┬────────────────────────\n",
       "│\u001b[22m measure                    \u001b[0m│\u001b[22m measurement \u001b[0m│\u001b[22m operation \u001b[0m│\u001b[22m per_fold             \u001b[0m ⋯\n",
       "├────────────────────────────┼─────────────┼───────────┼────────────────────────\n",
       "│ LogLoss(tol = 2.22045e-16) │ 0.765       │ predict   │ [0.807, 0.884, 0.757, ⋯\n",
       "└────────────────────────────┴─────────────┴───────────┴────────────────────────\n",
       "\u001b[36m                                                                1 column omitted\u001b[0m\n"
      ]
     },
     "execution_count": 27,
     "metadata": {},
     "output_type": "execute_result"
    }
   ],
   "source": [
    "mach = machine(pipe, X, y)\n",
    "evaluate!(mach, resampling=CV(nfolds=6), measure=cross_entropy)"
   ]
  },
  {
   "cell_type": "markdown",
   "metadata": {},
   "source": [
    "(c)"
   ]
  },
  {
   "cell_type": "code",
   "execution_count": 28,
   "metadata": {},
   "outputs": [
    {
     "name": "stderr",
     "output_type": "stream",
     "text": [
      "┌ Info: Training Machine{ProbabilisticTunedModel{Grid,…},…}.\n",
      "└ @ MLJBase /Users/anthony/.julia/packages/MLJBase/u6vLz/src/machines.jl:403\n",
      "┌ Info: Attempting to evaluate 10 models.\n",
      "└ @ MLJTuning /Users/anthony/.julia/packages/MLJTuning/bjRHJ/src/tuned_models.jl:680\n",
      "\u001b[33mEvaluating over 10 metamodels: 100%[=========================] Time: 0:00:14\u001b[39m\n"
     ]
    },
    {
     "data": {
      "image/svg+xml": [
       "<?xml version=\"1.0\" encoding=\"utf-8\"?>\n",
       "<svg xmlns=\"http://www.w3.org/2000/svg\" xmlns:xlink=\"http://www.w3.org/1999/xlink\" width=\"600\" height=\"400\" viewBox=\"0 0 2400 1600\">\n",
       "<defs>\n",
       "  <clipPath id=\"clip800\">\n",
       "    <rect x=\"0\" y=\"0\" width=\"2400\" height=\"1600\"/>\n",
       "  </clipPath>\n",
       "</defs>\n",
       "<path clip-path=\"url(#clip800)\" d=\"\n",
       "M0 1600 L2400 1600 L2400 0 L0 0  Z\n",
       "  \" fill=\"#ffffff\" fill-rule=\"evenodd\" fill-opacity=\"1\"/>\n",
       "<defs>\n",
       "  <clipPath id=\"clip801\">\n",
       "    <rect x=\"480\" y=\"0\" width=\"1681\" height=\"1600\"/>\n",
       "  </clipPath>\n",
       "</defs>\n",
       "<path clip-path=\"url(#clip800)\" d=\"\n",
       "M249.542 1423.18 L2352.76 1423.18 L2352.76 47.2441 L249.542 47.2441  Z\n",
       "  \" fill=\"#ffffff\" fill-rule=\"evenodd\" fill-opacity=\"1\"/>\n",
       "<defs>\n",
       "  <clipPath id=\"clip802\">\n",
       "    <rect x=\"249\" y=\"47\" width=\"2104\" height=\"1377\"/>\n",
       "  </clipPath>\n",
       "</defs>\n",
       "<polyline clip-path=\"url(#clip802)\" style=\"stroke:#000000; stroke-linecap:butt; stroke-linejoin:round; stroke-width:2; stroke-opacity:0.1; fill:none\" points=\"\n",
       "  529.53,1423.18 529.53,47.2441 \n",
       "  \"/>\n",
       "<polyline clip-path=\"url(#clip802)\" style=\"stroke:#000000; stroke-linecap:butt; stroke-linejoin:round; stroke-width:2; stroke-opacity:0.1; fill:none\" points=\"\n",
       "  970.455,1423.18 970.455,47.2441 \n",
       "  \"/>\n",
       "<polyline clip-path=\"url(#clip802)\" style=\"stroke:#000000; stroke-linecap:butt; stroke-linejoin:round; stroke-width:2; stroke-opacity:0.1; fill:none\" points=\"\n",
       "  1411.38,1423.18 1411.38,47.2441 \n",
       "  \"/>\n",
       "<polyline clip-path=\"url(#clip802)\" style=\"stroke:#000000; stroke-linecap:butt; stroke-linejoin:round; stroke-width:2; stroke-opacity:0.1; fill:none\" points=\"\n",
       "  1852.31,1423.18 1852.31,47.2441 \n",
       "  \"/>\n",
       "<polyline clip-path=\"url(#clip802)\" style=\"stroke:#000000; stroke-linecap:butt; stroke-linejoin:round; stroke-width:2; stroke-opacity:0.1; fill:none\" points=\"\n",
       "  2293.23,1423.18 2293.23,47.2441 \n",
       "  \"/>\n",
       "<polyline clip-path=\"url(#clip800)\" style=\"stroke:#000000; stroke-linecap:butt; stroke-linejoin:round; stroke-width:4; stroke-opacity:1; fill:none\" points=\"\n",
       "  249.542,1423.18 2352.76,1423.18 \n",
       "  \"/>\n",
       "<polyline clip-path=\"url(#clip800)\" style=\"stroke:#000000; stroke-linecap:butt; stroke-linejoin:round; stroke-width:4; stroke-opacity:1; fill:none\" points=\"\n",
       "  529.53,1423.18 529.53,1404.28 \n",
       "  \"/>\n",
       "<polyline clip-path=\"url(#clip800)\" style=\"stroke:#000000; stroke-linecap:butt; stroke-linejoin:round; stroke-width:4; stroke-opacity:1; fill:none\" points=\"\n",
       "  970.455,1423.18 970.455,1404.28 \n",
       "  \"/>\n",
       "<polyline clip-path=\"url(#clip800)\" style=\"stroke:#000000; stroke-linecap:butt; stroke-linejoin:round; stroke-width:4; stroke-opacity:1; fill:none\" points=\"\n",
       "  1411.38,1423.18 1411.38,1404.28 \n",
       "  \"/>\n",
       "<polyline clip-path=\"url(#clip800)\" style=\"stroke:#000000; stroke-linecap:butt; stroke-linejoin:round; stroke-width:4; stroke-opacity:1; fill:none\" points=\"\n",
       "  1852.31,1423.18 1852.31,1404.28 \n",
       "  \"/>\n",
       "<polyline clip-path=\"url(#clip800)\" style=\"stroke:#000000; stroke-linecap:butt; stroke-linejoin:round; stroke-width:4; stroke-opacity:1; fill:none\" points=\"\n",
       "  2293.23,1423.18 2293.23,1404.28 \n",
       "  \"/>\n",
       "<path clip-path=\"url(#clip800)\" d=\"M524.182 1481.64 L540.502 1481.64 L540.502 1485.58 L518.557 1485.58 L518.557 1481.64 Q521.219 1478.89 525.803 1474.26 Q530.409 1469.61 531.59 1468.27 Q533.835 1465.74 534.715 1464.01 Q535.618 1462.25 535.618 1460.56 Q535.618 1457.8 533.673 1456.07 Q531.752 1454.33 528.65 1454.33 Q526.451 1454.33 523.997 1455.09 Q521.567 1455.86 518.789 1457.41 L518.789 1452.69 Q521.613 1451.55 524.067 1450.97 Q526.52 1450.39 528.557 1450.39 Q533.928 1450.39 537.122 1453.08 Q540.317 1455.77 540.317 1460.26 Q540.317 1462.39 539.506 1464.31 Q538.719 1466.2 536.613 1468.8 Q536.034 1469.47 532.932 1472.69 Q529.831 1475.88 524.182 1481.64 Z\" fill=\"#000000\" fill-rule=\"evenodd\" fill-opacity=\"1\" /><path clip-path=\"url(#clip800)\" d=\"M973.464 1455.09 L961.659 1473.54 L973.464 1473.54 L973.464 1455.09 M972.237 1451.02 L978.117 1451.02 L978.117 1473.54 L983.047 1473.54 L983.047 1477.43 L978.117 1477.43 L978.117 1485.58 L973.464 1485.58 L973.464 1477.43 L957.862 1477.43 L957.862 1472.92 L972.237 1451.02 Z\" fill=\"#000000\" fill-rule=\"evenodd\" fill-opacity=\"1\" /><path clip-path=\"url(#clip800)\" d=\"M1411.79 1466.44 Q1408.64 1466.44 1406.79 1468.59 Q1404.96 1470.74 1404.96 1474.49 Q1404.96 1478.22 1406.79 1480.39 Q1408.64 1482.55 1411.79 1482.55 Q1414.93 1482.55 1416.76 1480.39 Q1418.61 1478.22 1418.61 1474.49 Q1418.61 1470.74 1416.76 1468.59 Q1414.93 1466.44 1411.79 1466.44 M1421.07 1451.78 L1421.07 1456.04 Q1419.31 1455.21 1417.5 1454.77 Q1415.72 1454.33 1413.96 1454.33 Q1409.33 1454.33 1406.88 1457.45 Q1404.45 1460.58 1404.1 1466.9 Q1405.47 1464.89 1407.53 1463.82 Q1409.59 1462.73 1412.06 1462.73 Q1417.27 1462.73 1420.28 1465.9 Q1423.31 1469.05 1423.31 1474.49 Q1423.31 1479.82 1420.16 1483.03 Q1417.02 1486.25 1411.79 1486.25 Q1405.79 1486.25 1402.62 1481.67 Q1399.45 1477.06 1399.45 1468.33 Q1399.45 1460.14 1403.34 1455.28 Q1407.23 1450.39 1413.78 1450.39 Q1415.54 1450.39 1417.32 1450.74 Q1419.12 1451.09 1421.07 1451.78 Z\" fill=\"#000000\" fill-rule=\"evenodd\" fill-opacity=\"1\" /><path clip-path=\"url(#clip800)\" d=\"M1852.31 1469.17 Q1848.97 1469.17 1847.05 1470.95 Q1845.15 1472.73 1845.15 1475.86 Q1845.15 1478.98 1847.05 1480.77 Q1848.97 1482.55 1852.31 1482.55 Q1855.64 1482.55 1857.56 1480.77 Q1859.48 1478.96 1859.48 1475.86 Q1859.48 1472.73 1857.56 1470.95 Q1855.66 1469.17 1852.31 1469.17 M1847.63 1467.18 Q1844.62 1466.44 1842.93 1464.38 Q1841.26 1462.32 1841.26 1459.35 Q1841.26 1455.21 1844.2 1452.8 Q1847.17 1450.39 1852.31 1450.39 Q1857.47 1450.39 1860.41 1452.8 Q1863.35 1455.21 1863.35 1459.35 Q1863.35 1462.32 1861.66 1464.38 Q1859.99 1466.44 1857 1467.18 Q1860.38 1467.96 1862.26 1470.26 Q1864.16 1472.55 1864.16 1475.86 Q1864.16 1480.88 1861.08 1483.57 Q1858.02 1486.25 1852.31 1486.25 Q1846.59 1486.25 1843.51 1483.57 Q1840.45 1480.88 1840.45 1475.86 Q1840.45 1472.55 1842.35 1470.26 Q1844.25 1467.96 1847.63 1467.18 M1845.92 1459.79 Q1845.92 1462.48 1847.58 1463.98 Q1849.27 1465.49 1852.31 1465.49 Q1855.31 1465.49 1857 1463.98 Q1858.72 1462.48 1858.72 1459.79 Q1858.72 1457.11 1857 1455.6 Q1855.31 1454.1 1852.31 1454.1 Q1849.27 1454.1 1847.58 1455.6 Q1845.92 1457.11 1845.92 1459.79 Z\" fill=\"#000000\" fill-rule=\"evenodd\" fill-opacity=\"1\" /><path clip-path=\"url(#clip800)\" d=\"M2267.92 1481.64 L2275.56 1481.64 L2275.56 1455.28 L2267.25 1456.95 L2267.25 1452.69 L2275.51 1451.02 L2280.19 1451.02 L2280.19 1481.64 L2287.83 1481.64 L2287.83 1485.58 L2267.92 1485.58 L2267.92 1481.64 Z\" fill=\"#000000\" fill-rule=\"evenodd\" fill-opacity=\"1\" /><path clip-path=\"url(#clip800)\" d=\"M2307.27 1454.1 Q2303.66 1454.1 2301.83 1457.66 Q2300.02 1461.2 2300.02 1468.33 Q2300.02 1475.44 2301.83 1479.01 Q2303.66 1482.55 2307.27 1482.55 Q2310.9 1482.55 2312.71 1479.01 Q2314.54 1475.44 2314.54 1468.33 Q2314.54 1461.2 2312.71 1457.66 Q2310.9 1454.1 2307.27 1454.1 M2307.27 1450.39 Q2313.08 1450.39 2316.14 1455 Q2319.21 1459.58 2319.21 1468.33 Q2319.21 1477.06 2316.14 1481.67 Q2313.08 1486.25 2307.27 1486.25 Q2301.46 1486.25 2298.38 1481.67 Q2295.33 1477.06 2295.33 1468.33 Q2295.33 1459.58 2298.38 1455 Q2301.46 1450.39 2307.27 1450.39 Z\" fill=\"#000000\" fill-rule=\"evenodd\" fill-opacity=\"1\" /><path clip-path=\"url(#clip800)\" d=\"M1152.68 1539.24 Q1154.88 1535.29 1157.94 1533.41 Q1160.99 1531.54 1165.13 1531.54 Q1170.7 1531.54 1173.72 1535.45 Q1176.75 1539.33 1176.75 1546.53 L1176.75 1568.04 L1170.86 1568.04 L1170.86 1546.72 Q1170.86 1541.59 1169.04 1539.11 Q1167.23 1536.63 1163.51 1536.63 Q1158.95 1536.63 1156.31 1539.65 Q1153.67 1542.68 1153.67 1547.9 L1153.67 1568.04 L1147.78 1568.04 L1147.78 1546.72 Q1147.78 1541.56 1145.97 1539.11 Q1144.15 1536.63 1140.37 1536.63 Q1135.88 1536.63 1133.24 1539.68 Q1130.6 1542.71 1130.6 1547.9 L1130.6 1568.04 L1124.71 1568.04 L1124.71 1532.4 L1130.6 1532.4 L1130.6 1537.93 Q1132.6 1534.66 1135.4 1533.1 Q1138.2 1531.54 1142.05 1531.54 Q1145.94 1531.54 1148.64 1533.51 Q1151.38 1535.48 1152.68 1539.24 Z\" fill=\"#000000\" fill-rule=\"evenodd\" fill-opacity=\"1\" /><path clip-path=\"url(#clip800)\" d=\"M1204.63 1550.12 Q1197.53 1550.12 1194.79 1551.75 Q1192.06 1553.37 1192.06 1557.29 Q1192.06 1560.4 1194.09 1562.25 Q1196.16 1564.07 1199.7 1564.07 Q1204.57 1564.07 1207.49 1560.63 Q1210.45 1557.16 1210.45 1551.43 L1210.45 1550.12 L1204.63 1550.12 M1216.31 1547.71 L1216.31 1568.04 L1210.45 1568.04 L1210.45 1562.63 Q1208.45 1565.88 1205.46 1567.44 Q1202.46 1568.97 1198.14 1568.97 Q1192.66 1568.97 1189.41 1565.91 Q1186.2 1562.82 1186.2 1557.67 Q1186.2 1551.65 1190.21 1548.6 Q1194.25 1545.54 1202.24 1545.54 L1210.45 1545.54 L1210.45 1544.97 Q1210.45 1540.93 1207.78 1538.73 Q1205.14 1536.5 1200.33 1536.5 Q1197.28 1536.5 1194.38 1537.23 Q1191.48 1537.97 1188.81 1539.43 L1188.81 1534.02 Q1192.02 1532.78 1195.05 1532.17 Q1198.07 1531.54 1200.94 1531.54 Q1208.67 1531.54 1212.49 1535.55 Q1216.31 1539.56 1216.31 1547.71 Z\" fill=\"#000000\" fill-rule=\"evenodd\" fill-opacity=\"1\" /><path clip-path=\"url(#clip800)\" d=\"M1258.01 1532.4 L1245.11 1549.74 L1258.67 1568.04 L1251.77 1568.04 L1241.39 1554.04 L1231.01 1568.04 L1224.11 1568.04 L1237.95 1549.39 L1225.29 1532.4 L1232.19 1532.4 L1241.65 1545.1 L1251.1 1532.4 L1258.01 1532.4 Z\" fill=\"#000000\" fill-rule=\"evenodd\" fill-opacity=\"1\" /><path clip-path=\"url(#clip800)\" d=\"M1294.04 1578.87 L1294.04 1583.42 L1260.17 1583.42 L1260.17 1578.87 L1294.04 1578.87 Z\" fill=\"#000000\" fill-rule=\"evenodd\" fill-opacity=\"1\" /><path clip-path=\"url(#clip800)\" d=\"M1323 1537.81 L1323 1518.52 L1328.86 1518.52 L1328.86 1568.04 L1323 1568.04 L1323 1562.7 Q1321.15 1565.88 1318.32 1567.44 Q1315.52 1568.97 1311.57 1568.97 Q1305.11 1568.97 1301.04 1563.81 Q1297 1558.65 1297 1550.25 Q1297 1541.85 1301.04 1536.69 Q1305.11 1531.54 1311.57 1531.54 Q1315.52 1531.54 1318.32 1533.1 Q1321.15 1534.62 1323 1537.81 M1303.04 1550.25 Q1303.04 1556.71 1305.68 1560.4 Q1308.36 1564.07 1313.01 1564.07 Q1317.65 1564.07 1320.33 1560.4 Q1323 1556.71 1323 1550.25 Q1323 1543.79 1320.33 1540.13 Q1317.65 1536.44 1313.01 1536.44 Q1308.36 1536.44 1305.68 1540.13 Q1303.04 1543.79 1303.04 1550.25 Z\" fill=\"#000000\" fill-rule=\"evenodd\" fill-opacity=\"1\" /><path clip-path=\"url(#clip800)\" d=\"M1371.41 1548.76 L1371.41 1551.62 L1344.48 1551.62 Q1344.87 1557.67 1348.11 1560.85 Q1351.39 1564 1357.21 1564 Q1360.59 1564 1363.74 1563.17 Q1366.92 1562.35 1370.04 1560.69 L1370.04 1566.23 Q1366.89 1567.57 1363.58 1568.27 Q1360.27 1568.97 1356.86 1568.97 Q1348.33 1568.97 1343.34 1564 Q1338.37 1559.04 1338.37 1550.57 Q1338.37 1541.82 1343.08 1536.69 Q1347.83 1531.54 1355.85 1531.54 Q1363.04 1531.54 1367.21 1536.18 Q1371.41 1540.8 1371.41 1548.76 M1365.55 1547.04 Q1365.49 1542.23 1362.85 1539.37 Q1360.24 1536.5 1355.91 1536.5 Q1351.01 1536.5 1348.05 1539.27 Q1345.12 1542.04 1344.67 1547.07 L1365.55 1547.04 Z\" fill=\"#000000\" fill-rule=\"evenodd\" fill-opacity=\"1\" /><path clip-path=\"url(#clip800)\" d=\"M1386.69 1562.7 L1386.69 1581.6 L1380.8 1581.6 L1380.8 1532.4 L1386.69 1532.4 L1386.69 1537.81 Q1388.53 1534.62 1391.34 1533.1 Q1394.17 1531.54 1398.08 1531.54 Q1404.58 1531.54 1408.62 1536.69 Q1412.69 1541.85 1412.69 1550.25 Q1412.69 1558.65 1408.62 1563.81 Q1404.58 1568.97 1398.08 1568.97 Q1394.17 1568.97 1391.34 1567.44 Q1388.53 1565.88 1386.69 1562.7 M1406.61 1550.25 Q1406.61 1543.79 1403.94 1540.13 Q1401.3 1536.44 1396.65 1536.44 Q1392 1536.44 1389.33 1540.13 Q1386.69 1543.79 1386.69 1550.25 Q1386.69 1556.71 1389.33 1560.4 Q1392 1564.07 1396.65 1564.07 Q1401.3 1564.07 1403.94 1560.4 Q1406.61 1556.71 1406.61 1550.25 Z\" fill=\"#000000\" fill-rule=\"evenodd\" fill-opacity=\"1\" /><path clip-path=\"url(#clip800)\" d=\"M1428.19 1522.27 L1428.19 1532.4 L1440.26 1532.4 L1440.26 1536.95 L1428.19 1536.95 L1428.19 1556.3 Q1428.19 1560.66 1429.37 1561.9 Q1430.58 1563.14 1434.24 1563.14 L1440.26 1563.14 L1440.26 1568.04 L1434.24 1568.04 Q1427.46 1568.04 1424.88 1565.53 Q1422.3 1562.98 1422.3 1556.3 L1422.3 1536.95 L1418.01 1536.95 L1418.01 1532.4 L1422.3 1532.4 L1422.3 1522.27 L1428.19 1522.27 Z\" fill=\"#000000\" fill-rule=\"evenodd\" fill-opacity=\"1\" /><path clip-path=\"url(#clip800)\" d=\"M1477.59 1546.53 L1477.59 1568.04 L1471.73 1568.04 L1471.73 1546.72 Q1471.73 1541.66 1469.76 1539.14 Q1467.79 1536.63 1463.84 1536.63 Q1459.1 1536.63 1456.36 1539.65 Q1453.62 1542.68 1453.62 1547.9 L1453.62 1568.04 L1447.74 1568.04 L1447.74 1518.52 L1453.62 1518.52 L1453.62 1537.93 Q1455.72 1534.72 1458.56 1533.13 Q1461.42 1531.54 1465.15 1531.54 Q1471.29 1531.54 1474.44 1535.36 Q1477.59 1539.14 1477.59 1546.53 Z\" fill=\"#000000\" fill-rule=\"evenodd\" fill-opacity=\"1\" /><polyline clip-path=\"url(#clip802)\" style=\"stroke:#000000; stroke-linecap:butt; stroke-linejoin:round; stroke-width:2; stroke-opacity:0.1; fill:none\" points=\"\n",
       "  249.542,1238.29 2352.76,1238.29 \n",
       "  \"/>\n",
       "<polyline clip-path=\"url(#clip802)\" style=\"stroke:#000000; stroke-linecap:butt; stroke-linejoin:round; stroke-width:2; stroke-opacity:0.1; fill:none\" points=\"\n",
       "  249.542,935.981 2352.76,935.981 \n",
       "  \"/>\n",
       "<polyline clip-path=\"url(#clip802)\" style=\"stroke:#000000; stroke-linecap:butt; stroke-linejoin:round; stroke-width:2; stroke-opacity:0.1; fill:none\" points=\"\n",
       "  249.542,633.669 2352.76,633.669 \n",
       "  \"/>\n",
       "<polyline clip-path=\"url(#clip802)\" style=\"stroke:#000000; stroke-linecap:butt; stroke-linejoin:round; stroke-width:2; stroke-opacity:0.1; fill:none\" points=\"\n",
       "  249.542,331.357 2352.76,331.357 \n",
       "  \"/>\n",
       "<polyline clip-path=\"url(#clip800)\" style=\"stroke:#000000; stroke-linecap:butt; stroke-linejoin:round; stroke-width:4; stroke-opacity:1; fill:none\" points=\"\n",
       "  249.542,1423.18 249.542,47.2441 \n",
       "  \"/>\n",
       "<polyline clip-path=\"url(#clip800)\" style=\"stroke:#000000; stroke-linecap:butt; stroke-linejoin:round; stroke-width:4; stroke-opacity:1; fill:none\" points=\"\n",
       "  249.542,1238.29 268.44,1238.29 \n",
       "  \"/>\n",
       "<polyline clip-path=\"url(#clip800)\" style=\"stroke:#000000; stroke-linecap:butt; stroke-linejoin:round; stroke-width:4; stroke-opacity:1; fill:none\" points=\"\n",
       "  249.542,935.981 268.44,935.981 \n",
       "  \"/>\n",
       "<polyline clip-path=\"url(#clip800)\" style=\"stroke:#000000; stroke-linecap:butt; stroke-linejoin:round; stroke-width:4; stroke-opacity:1; fill:none\" points=\"\n",
       "  249.542,633.669 268.44,633.669 \n",
       "  \"/>\n",
       "<polyline clip-path=\"url(#clip800)\" style=\"stroke:#000000; stroke-linecap:butt; stroke-linejoin:round; stroke-width:4; stroke-opacity:1; fill:none\" points=\"\n",
       "  249.542,331.357 268.44,331.357 \n",
       "  \"/>\n",
       "<path clip-path=\"url(#clip800)\" d=\"M126.205 1224.09 Q122.593 1224.09 120.765 1227.66 Q118.959 1231.2 118.959 1238.33 Q118.959 1245.43 120.765 1249 Q122.593 1252.54 126.205 1252.54 Q129.839 1252.54 131.644 1249 Q133.473 1245.43 133.473 1238.33 Q133.473 1231.2 131.644 1227.66 Q129.839 1224.09 126.205 1224.09 M126.205 1220.39 Q132.015 1220.39 135.07 1224.99 Q138.149 1229.58 138.149 1238.33 Q138.149 1247.05 135.07 1251.66 Q132.015 1256.24 126.205 1256.24 Q120.394 1256.24 117.316 1251.66 Q114.26 1247.05 114.26 1238.33 Q114.26 1229.58 117.316 1224.99 Q120.394 1220.39 126.205 1220.39 Z\" fill=\"#000000\" fill-rule=\"evenodd\" fill-opacity=\"1\" /><path clip-path=\"url(#clip800)\" d=\"M146.366 1249.69 L151.251 1249.69 L151.251 1255.57 L146.366 1255.57 L146.366 1249.69 Z\" fill=\"#000000\" fill-rule=\"evenodd\" fill-opacity=\"1\" /><path clip-path=\"url(#clip800)\" d=\"M171.436 1239.16 Q168.102 1239.16 166.181 1240.94 Q164.283 1242.73 164.283 1245.85 Q164.283 1248.98 166.181 1250.76 Q168.102 1252.54 171.436 1252.54 Q174.769 1252.54 176.69 1250.76 Q178.612 1248.95 178.612 1245.85 Q178.612 1242.73 176.69 1240.94 Q174.792 1239.16 171.436 1239.16 M166.76 1237.17 Q163.751 1236.43 162.061 1234.37 Q160.394 1232.31 160.394 1229.35 Q160.394 1225.2 163.334 1222.8 Q166.297 1220.39 171.436 1220.39 Q176.598 1220.39 179.538 1222.8 Q182.477 1225.2 182.477 1229.35 Q182.477 1232.31 180.788 1234.37 Q179.121 1236.43 176.135 1237.17 Q179.514 1237.96 181.389 1240.25 Q183.288 1242.54 183.288 1245.85 Q183.288 1250.87 180.209 1253.56 Q177.153 1256.24 171.436 1256.24 Q165.718 1256.24 162.64 1253.56 Q159.584 1250.87 159.584 1245.85 Q159.584 1242.54 161.482 1240.25 Q163.38 1237.96 166.76 1237.17 M165.047 1229.79 Q165.047 1232.47 166.714 1233.98 Q168.403 1235.48 171.436 1235.48 Q174.445 1235.48 176.135 1233.98 Q177.848 1232.47 177.848 1229.79 Q177.848 1227.1 176.135 1225.6 Q174.445 1224.09 171.436 1224.09 Q168.403 1224.09 166.714 1225.6 Q165.047 1227.1 165.047 1229.79 Z\" fill=\"#000000\" fill-rule=\"evenodd\" fill-opacity=\"1\" /><path clip-path=\"url(#clip800)\" d=\"M201.598 1224.09 Q197.987 1224.09 196.158 1227.66 Q194.352 1231.2 194.352 1238.33 Q194.352 1245.43 196.158 1249 Q197.987 1252.54 201.598 1252.54 Q205.232 1252.54 207.037 1249 Q208.866 1245.43 208.866 1238.33 Q208.866 1231.2 207.037 1227.66 Q205.232 1224.09 201.598 1224.09 M201.598 1220.39 Q207.408 1220.39 210.463 1224.99 Q213.542 1229.58 213.542 1238.33 Q213.542 1247.05 210.463 1251.66 Q207.408 1256.24 201.598 1256.24 Q195.787 1256.24 192.709 1251.66 Q189.653 1247.05 189.653 1238.33 Q189.653 1229.58 192.709 1224.99 Q195.787 1220.39 201.598 1220.39 Z\" fill=\"#000000\" fill-rule=\"evenodd\" fill-opacity=\"1\" /><path clip-path=\"url(#clip800)\" d=\"M127.2 921.78 Q123.589 921.78 121.76 925.345 Q119.955 928.886 119.955 936.016 Q119.955 943.122 121.76 946.687 Q123.589 950.229 127.2 950.229 Q130.834 950.229 132.64 946.687 Q134.468 943.122 134.468 936.016 Q134.468 928.886 132.64 925.345 Q130.834 921.78 127.2 921.78 M127.2 918.076 Q133.01 918.076 136.066 922.683 Q139.144 927.266 139.144 936.016 Q139.144 944.743 136.066 949.349 Q133.01 953.932 127.2 953.932 Q121.39 953.932 118.311 949.349 Q115.256 944.743 115.256 936.016 Q115.256 927.266 118.311 922.683 Q121.39 918.076 127.2 918.076 Z\" fill=\"#000000\" fill-rule=\"evenodd\" fill-opacity=\"1\" /><path clip-path=\"url(#clip800)\" d=\"M147.362 947.382 L152.246 947.382 L152.246 953.261 L147.362 953.261 L147.362 947.382 Z\" fill=\"#000000\" fill-rule=\"evenodd\" fill-opacity=\"1\" /><path clip-path=\"url(#clip800)\" d=\"M172.431 936.849 Q169.098 936.849 167.177 938.632 Q165.278 940.414 165.278 943.539 Q165.278 946.664 167.177 948.446 Q169.098 950.229 172.431 950.229 Q175.764 950.229 177.686 948.446 Q179.607 946.641 179.607 943.539 Q179.607 940.414 177.686 938.632 Q175.788 936.849 172.431 936.849 M167.755 934.858 Q164.746 934.118 163.056 932.058 Q161.39 929.997 161.39 927.034 Q161.39 922.891 164.329 920.484 Q167.292 918.076 172.431 918.076 Q177.593 918.076 180.533 920.484 Q183.473 922.891 183.473 927.034 Q183.473 929.997 181.783 932.058 Q180.116 934.118 177.13 934.858 Q180.51 935.646 182.385 937.937 Q184.283 940.229 184.283 943.539 Q184.283 948.562 181.204 951.247 Q178.149 953.932 172.431 953.932 Q166.714 953.932 163.635 951.247 Q160.579 948.562 160.579 943.539 Q160.579 940.229 162.477 937.937 Q164.376 935.646 167.755 934.858 M166.042 927.474 Q166.042 930.159 167.709 931.664 Q169.399 933.169 172.431 933.169 Q175.44 933.169 177.13 931.664 Q178.843 930.159 178.843 927.474 Q178.843 924.789 177.13 923.284 Q175.44 921.78 172.431 921.78 Q169.399 921.78 167.709 923.284 Q166.042 924.789 166.042 927.474 Z\" fill=\"#000000\" fill-rule=\"evenodd\" fill-opacity=\"1\" /><path clip-path=\"url(#clip800)\" d=\"M192.639 918.701 L210.996 918.701 L210.996 922.636 L196.922 922.636 L196.922 931.108 Q197.94 930.761 198.959 930.599 Q199.977 930.414 200.996 930.414 Q206.783 930.414 210.162 933.585 Q213.542 936.757 213.542 942.173 Q213.542 947.752 210.07 950.854 Q206.598 953.932 200.278 953.932 Q198.102 953.932 195.834 953.562 Q193.588 953.192 191.181 952.451 L191.181 947.752 Q193.264 948.886 195.487 949.442 Q197.709 949.997 200.186 949.997 Q204.19 949.997 206.528 947.891 Q208.866 945.784 208.866 942.173 Q208.866 938.562 206.528 936.456 Q204.19 934.349 200.186 934.349 Q198.311 934.349 196.436 934.766 Q194.584 935.183 192.639 936.062 L192.639 918.701 Z\" fill=\"#000000\" fill-rule=\"evenodd\" fill-opacity=\"1\" /><path clip-path=\"url(#clip800)\" d=\"M126.205 619.468 Q122.593 619.468 120.765 623.033 Q118.959 626.574 118.959 633.704 Q118.959 640.81 120.765 644.375 Q122.593 647.917 126.205 647.917 Q129.839 647.917 131.644 644.375 Q133.473 640.81 133.473 633.704 Q133.473 626.574 131.644 623.033 Q129.839 619.468 126.205 619.468 M126.205 615.764 Q132.015 615.764 135.07 620.371 Q138.149 624.954 138.149 633.704 Q138.149 642.431 135.07 647.037 Q132.015 651.621 126.205 651.621 Q120.394 651.621 117.316 647.037 Q114.26 642.431 114.26 633.704 Q114.26 624.954 117.316 620.371 Q120.394 615.764 126.205 615.764 Z\" fill=\"#000000\" fill-rule=\"evenodd\" fill-opacity=\"1\" /><path clip-path=\"url(#clip800)\" d=\"M146.366 645.07 L151.251 645.07 L151.251 650.949 L146.366 650.949 L146.366 645.07 Z\" fill=\"#000000\" fill-rule=\"evenodd\" fill-opacity=\"1\" /><path clip-path=\"url(#clip800)\" d=\"M161.575 650.232 L161.575 645.972 Q163.334 646.806 165.14 647.246 Q166.945 647.685 168.681 647.685 Q173.311 647.685 175.741 644.584 Q178.195 641.459 178.542 635.116 Q177.2 637.107 175.139 638.172 Q173.079 639.236 170.579 639.236 Q165.394 639.236 162.362 636.111 Q159.353 632.963 159.353 627.523 Q159.353 622.199 162.501 618.982 Q165.649 615.764 170.88 615.764 Q176.876 615.764 180.024 620.371 Q183.195 624.954 183.195 633.704 Q183.195 641.875 179.306 646.759 Q175.44 651.621 168.889 651.621 Q167.13 651.621 165.325 651.273 Q163.519 650.926 161.575 650.232 M170.88 635.579 Q174.028 635.579 175.857 633.426 Q177.709 631.273 177.709 627.523 Q177.709 623.797 175.857 621.644 Q174.028 619.468 170.88 619.468 Q167.732 619.468 165.88 621.644 Q164.052 623.797 164.052 627.523 Q164.052 631.273 165.88 633.426 Q167.732 635.579 170.88 635.579 Z\" fill=\"#000000\" fill-rule=\"evenodd\" fill-opacity=\"1\" /><path clip-path=\"url(#clip800)\" d=\"M201.598 619.468 Q197.987 619.468 196.158 623.033 Q194.352 626.574 194.352 633.704 Q194.352 640.81 196.158 644.375 Q197.987 647.917 201.598 647.917 Q205.232 647.917 207.037 644.375 Q208.866 640.81 208.866 633.704 Q208.866 626.574 207.037 623.033 Q205.232 619.468 201.598 619.468 M201.598 615.764 Q207.408 615.764 210.463 620.371 Q213.542 624.954 213.542 633.704 Q213.542 642.431 210.463 647.037 Q207.408 651.621 201.598 651.621 Q195.787 651.621 192.709 647.037 Q189.653 642.431 189.653 633.704 Q189.653 624.954 192.709 620.371 Q195.787 615.764 201.598 615.764 Z\" fill=\"#000000\" fill-rule=\"evenodd\" fill-opacity=\"1\" /><path clip-path=\"url(#clip800)\" d=\"M127.2 317.156 Q123.589 317.156 121.76 320.721 Q119.955 324.263 119.955 331.392 Q119.955 338.499 121.76 342.063 Q123.589 345.605 127.2 345.605 Q130.834 345.605 132.64 342.063 Q134.468 338.499 134.468 331.392 Q134.468 324.263 132.64 320.721 Q130.834 317.156 127.2 317.156 M127.2 313.452 Q133.01 313.452 136.066 318.059 Q139.144 322.642 139.144 331.392 Q139.144 340.119 136.066 344.725 Q133.01 349.309 127.2 349.309 Q121.39 349.309 118.311 344.725 Q115.256 340.119 115.256 331.392 Q115.256 322.642 118.311 318.059 Q121.39 313.452 127.2 313.452 Z\" fill=\"#000000\" fill-rule=\"evenodd\" fill-opacity=\"1\" /><path clip-path=\"url(#clip800)\" d=\"M147.362 342.758 L152.246 342.758 L152.246 348.637 L147.362 348.637 L147.362 342.758 Z\" fill=\"#000000\" fill-rule=\"evenodd\" fill-opacity=\"1\" /><path clip-path=\"url(#clip800)\" d=\"M162.57 347.92 L162.57 343.661 Q164.329 344.494 166.135 344.934 Q167.94 345.374 169.677 345.374 Q174.306 345.374 176.737 342.272 Q179.19 339.147 179.538 332.804 Q178.195 334.795 176.135 335.86 Q174.075 336.924 171.575 336.924 Q166.39 336.924 163.357 333.799 Q160.348 330.651 160.348 325.212 Q160.348 319.888 163.496 316.67 Q166.644 313.452 171.876 313.452 Q177.871 313.452 181.019 318.059 Q184.19 322.642 184.19 331.392 Q184.19 339.563 180.301 344.448 Q176.436 349.309 169.885 349.309 Q168.126 349.309 166.32 348.961 Q164.515 348.614 162.57 347.92 M171.876 333.267 Q175.024 333.267 176.852 331.114 Q178.704 328.962 178.704 325.212 Q178.704 321.485 176.852 319.332 Q175.024 317.156 171.876 317.156 Q168.727 317.156 166.876 319.332 Q165.047 321.485 165.047 325.212 Q165.047 328.962 166.876 331.114 Q168.727 333.267 171.876 333.267 Z\" fill=\"#000000\" fill-rule=\"evenodd\" fill-opacity=\"1\" /><path clip-path=\"url(#clip800)\" d=\"M192.639 314.077 L210.996 314.077 L210.996 318.013 L196.922 318.013 L196.922 326.485 Q197.94 326.137 198.959 325.975 Q199.977 325.79 200.996 325.79 Q206.783 325.79 210.162 328.962 Q213.542 332.133 213.542 337.549 Q213.542 343.128 210.07 346.23 Q206.598 349.309 200.278 349.309 Q198.102 349.309 195.834 348.938 Q193.588 348.568 191.181 347.827 L191.181 343.128 Q193.264 344.262 195.487 344.818 Q197.709 345.374 200.186 345.374 Q204.19 345.374 206.528 343.267 Q208.866 341.161 208.866 337.549 Q208.866 333.938 206.528 331.832 Q204.19 329.725 200.186 329.725 Q198.311 329.725 196.436 330.142 Q194.584 330.559 192.639 331.438 L192.639 314.077 Z\" fill=\"#000000\" fill-rule=\"evenodd\" fill-opacity=\"1\" /><path clip-path=\"url(#clip800)\" d=\"M20.1444 1166.01 L26.9239 1166.01 Q23.9002 1169.26 22.4043 1172.95 Q20.9083 1176.61 20.9083 1180.75 Q20.9083 1188.9 25.9054 1193.22 Q30.8707 1197.55 40.2919 1197.55 Q49.6813 1197.55 54.6784 1193.22 Q59.6436 1188.9 59.6436 1180.75 Q59.6436 1176.61 58.1477 1172.95 Q56.6518 1169.26 53.6281 1166.01 L60.3439 1166.01 Q62.6355 1169.38 63.7814 1173.17 Q64.9272 1176.93 64.9272 1181.13 Q64.9272 1191.92 58.3387 1198.13 Q51.7183 1204.33 40.2919 1204.33 Q28.8336 1204.33 22.2451 1198.13 Q15.6248 1191.92 15.6248 1181.13 Q15.6248 1176.86 16.7706 1173.11 Q17.8846 1169.32 20.1444 1166.01 Z\" fill=\"#000000\" fill-rule=\"evenodd\" fill-opacity=\"1\" /><path clip-path=\"url(#clip800)\" d=\"M64.0042 1143.83 L16.4842 1161.97 L16.4842 1155.25 L56.4926 1140.2 L16.4842 1125.11 L16.4842 1118.43 L64.0042 1136.54 L64.0042 1143.83 Z\" fill=\"#000000\" fill-rule=\"evenodd\" fill-opacity=\"1\" /><path clip-path=\"url(#clip800)\" d=\"M44.7161 1060.53 L47.5806 1060.53 L47.5806 1087.46 Q53.6281 1087.08 56.8109 1083.83 Q59.9619 1080.55 59.9619 1074.73 Q59.9619 1071.35 59.1344 1068.2 Q58.3069 1065.02 56.6518 1061.9 L62.1899 1061.9 Q63.5267 1065.05 64.227 1068.36 Q64.9272 1071.67 64.9272 1075.08 Q64.9272 1083.61 59.9619 1088.6 Q54.9967 1093.57 46.5303 1093.57 Q37.7774 1093.57 32.6531 1088.86 Q27.4968 1084.12 27.4968 1076.1 Q27.4968 1068.9 32.1438 1064.73 Q36.7589 1060.53 44.7161 1060.53 M42.9973 1066.39 Q38.1912 1066.45 35.3266 1069.09 Q32.4621 1071.7 32.4621 1076.03 Q32.4621 1080.93 35.2312 1083.89 Q38.0002 1086.82 43.0292 1087.27 L42.9973 1066.39 Z\" fill=\"#000000\" fill-rule=\"evenodd\" fill-opacity=\"1\" /><path clip-path=\"url(#clip800)\" d=\"M29.4065 1028.19 L34.9447 1028.19 Q33.6716 1030.68 33.035 1033.35 Q32.3984 1036.02 32.3984 1038.89 Q32.3984 1043.25 33.7352 1045.44 Q35.072 1047.61 37.7456 1047.61 Q39.7826 1047.61 40.9603 1046.05 Q42.1061 1044.49 43.1565 1039.78 L43.6021 1037.77 Q44.9389 1031.54 47.3897 1028.93 Q49.8086 1026.28 54.1691 1026.28 Q59.1344 1026.28 62.0308 1030.23 Q64.9272 1034.15 64.9272 1041.02 Q64.9272 1043.89 64.3543 1047 Q63.8132 1050.09 62.6992 1053.53 L56.6518 1053.53 Q58.3387 1050.28 59.198 1047.13 Q60.0256 1043.98 60.0256 1040.89 Q60.0256 1036.76 58.6251 1034.53 Q57.1929 1032.3 54.6147 1032.3 Q52.2276 1032.3 50.9545 1033.92 Q49.6813 1035.51 48.5037 1040.96 L48.0262 1042.99 Q46.8804 1048.44 44.5251 1050.86 Q42.138 1053.27 38.0002 1053.27 Q32.9713 1053.27 30.2341 1049.71 Q27.4968 1046.14 27.4968 1039.59 Q27.4968 1036.34 27.9743 1033.48 Q28.4517 1030.61 29.4065 1028.19 Z\" fill=\"#000000\" fill-rule=\"evenodd\" fill-opacity=\"1\" /><path clip-path=\"url(#clip800)\" d=\"M18.2347 1011.17 L28.3562 1011.17 L28.3562 999.102 L32.9077 999.102 L32.9077 1011.17 L52.2594 1011.17 Q56.6199 1011.17 57.8613 1009.99 Q59.1026 1008.78 59.1026 1005.12 L59.1026 999.102 L64.0042 999.102 L64.0042 1005.12 Q64.0042 1011.9 61.4897 1014.48 Q58.9434 1017.05 52.2594 1017.05 L32.9077 1017.05 L32.9077 1021.35 L28.3562 1021.35 L28.3562 1017.05 L18.2347 1017.05 L18.2347 1011.17 Z\" fill=\"#000000\" fill-rule=\"evenodd\" fill-opacity=\"1\" /><path clip-path=\"url(#clip800)\" d=\"M28.3562 991.4 L28.3562 985.543 L64.0042 985.543 L64.0042 991.4 L28.3562 991.4 M14.479 991.4 L14.479 985.543 L21.895 985.543 L21.895 991.4 L14.479 991.4 Z\" fill=\"#000000\" fill-rule=\"evenodd\" fill-opacity=\"1\" /><path clip-path=\"url(#clip800)\" d=\"M35.1993 945.535 Q31.2526 943.339 29.3747 940.283 Q27.4968 937.228 27.4968 933.09 Q27.4968 927.52 31.4117 924.496 Q35.2948 921.473 42.4881 921.473 L64.0042 921.473 L64.0042 927.361 L42.679 927.361 Q37.5546 927.361 35.072 929.175 Q32.5894 930.989 32.5894 934.713 Q32.5894 939.265 35.6131 941.906 Q38.6368 944.548 43.8567 944.548 L64.0042 944.548 L64.0042 950.437 L42.679 950.437 Q37.5228 950.437 35.072 952.251 Q32.5894 954.065 32.5894 957.853 Q32.5894 962.34 35.6449 964.982 Q38.6686 967.624 43.8567 967.624 L64.0042 967.624 L64.0042 973.512 L28.3562 973.512 L28.3562 967.624 L33.8944 967.624 Q30.616 965.619 29.0564 962.818 Q27.4968 960.017 27.4968 956.166 Q27.4968 952.283 29.4702 949.577 Q31.4436 946.84 35.1993 945.535 Z\" fill=\"#000000\" fill-rule=\"evenodd\" fill-opacity=\"1\" /><path clip-path=\"url(#clip800)\" d=\"M46.0847 893.591 Q46.0847 900.689 47.7079 903.426 Q49.3312 906.163 53.2461 906.163 Q56.3653 906.163 58.2114 904.126 Q60.0256 902.057 60.0256 898.524 Q60.0256 893.654 56.5881 890.726 Q53.1188 887.766 47.3897 887.766 L46.0847 887.766 L46.0847 893.591 M43.6657 881.91 L64.0042 881.91 L64.0042 887.766 L58.5933 887.766 Q61.8398 889.771 63.3994 892.763 Q64.9272 895.755 64.9272 900.084 Q64.9272 905.558 61.8716 908.805 Q58.7843 912.019 53.6281 912.019 Q47.6125 912.019 44.5569 908.009 Q41.5014 903.967 41.5014 895.978 L41.5014 887.766 L40.9285 887.766 Q36.8862 887.766 34.6901 890.44 Q32.4621 893.081 32.4621 897.888 Q32.4621 900.943 33.1941 903.84 Q33.9262 906.736 35.3903 909.41 L29.9795 909.41 Q28.7381 906.195 28.1334 903.171 Q27.4968 900.147 27.4968 897.283 Q27.4968 889.549 31.5072 885.729 Q35.5176 881.91 43.6657 881.91 Z\" fill=\"#000000\" fill-rule=\"evenodd\" fill-opacity=\"1\" /><path clip-path=\"url(#clip800)\" d=\"M18.2347 864.054 L28.3562 864.054 L28.3562 851.991 L32.9077 851.991 L32.9077 864.054 L52.2594 864.054 Q56.6199 864.054 57.8613 862.876 Q59.1026 861.667 59.1026 858.006 L59.1026 851.991 L64.0042 851.991 L64.0042 858.006 Q64.0042 864.786 61.4897 867.364 Q58.9434 869.942 52.2594 869.942 L32.9077 869.942 L32.9077 874.239 L28.3562 874.239 L28.3562 869.942 L18.2347 869.942 L18.2347 864.054 Z\" fill=\"#000000\" fill-rule=\"evenodd\" fill-opacity=\"1\" /><path clip-path=\"url(#clip800)\" d=\"M44.7161 813.797 L47.5806 813.797 L47.5806 840.724 Q53.6281 840.342 56.8109 837.095 Q59.9619 833.817 59.9619 827.992 Q59.9619 824.618 59.1344 821.467 Q58.3069 818.284 56.6518 815.165 L62.1899 815.165 Q63.5267 818.316 64.227 821.626 Q64.9272 824.937 64.9272 828.342 Q64.9272 836.872 59.9619 841.869 Q54.9967 846.835 46.5303 846.835 Q37.7774 846.835 32.6531 842.124 Q27.4968 837.382 27.4968 829.361 Q27.4968 822.168 32.1438 817.998 Q36.7589 813.797 44.7161 813.797 M42.9973 819.653 Q38.1912 819.717 35.3266 822.358 Q32.4621 824.968 32.4621 829.297 Q32.4621 834.199 35.2312 837.159 Q38.0002 840.087 43.0292 840.533 L42.9973 819.653 Z\" fill=\"#000000\" fill-rule=\"evenodd\" fill-opacity=\"1\" /><path clip-path=\"url(#clip800)\" d=\"M32.4621 769.65 Q32.4621 774.361 36.1542 777.098 Q39.8145 779.836 46.212 779.836 Q52.6095 779.836 56.3017 777.13 Q59.9619 774.393 59.9619 769.65 Q59.9619 764.972 56.2698 762.234 Q52.5777 759.497 46.212 759.497 Q39.8781 759.497 36.186 762.234 Q32.4621 764.972 32.4621 769.65 M27.4968 769.65 Q27.4968 762.012 32.4621 757.651 Q37.4273 753.291 46.212 753.291 Q54.9649 753.291 59.9619 757.651 Q64.9272 762.012 64.9272 769.65 Q64.9272 777.321 59.9619 781.682 Q54.9649 786.01 46.212 786.01 Q37.4273 786.01 32.4621 781.682 Q27.4968 777.321 27.4968 769.65 Z\" fill=\"#000000\" fill-rule=\"evenodd\" fill-opacity=\"1\" /><path clip-path=\"url(#clip800)\" d=\"M14.479 725.536 L19.3487 725.536 L19.3487 731.138 Q19.3487 734.289 20.6219 735.53 Q21.895 736.74 25.2052 736.74 L28.3562 736.74 L28.3562 727.096 L32.9077 727.096 L32.9077 736.74 L64.0042 736.74 L64.0042 742.628 L32.9077 742.628 L32.9077 748.23 L28.3562 748.23 L28.3562 742.628 L25.8736 742.628 Q19.9216 742.628 17.2162 739.859 Q14.479 737.09 14.479 731.074 L14.479 725.536 Z\" fill=\"#000000\" fill-rule=\"evenodd\" fill-opacity=\"1\" /><path clip-path=\"url(#clip800)\" d=\"M29.7248 674.26 L35.1993 674.26 Q33.8307 676.743 33.1623 679.257 Q32.4621 681.74 32.4621 684.286 Q32.4621 689.984 36.0905 693.135 Q39.6872 696.286 46.212 696.286 Q52.7369 696.286 56.3653 693.135 Q59.9619 689.984 59.9619 684.286 Q59.9619 681.74 59.2935 679.257 Q58.5933 676.743 57.2247 674.26 L62.6355 674.26 Q63.7814 676.711 64.3543 679.353 Q64.9272 681.963 64.9272 684.923 Q64.9272 692.976 59.8664 697.718 Q54.8057 702.46 46.212 702.46 Q37.491 702.46 32.4939 697.686 Q27.4968 692.88 27.4968 684.541 Q27.4968 681.836 28.0697 679.257 Q28.6108 676.679 29.7248 674.26 Z\" fill=\"#000000\" fill-rule=\"evenodd\" fill-opacity=\"1\" /><path clip-path=\"url(#clip800)\" d=\"M33.8307 643.418 Q33.2578 644.405 33.0032 645.583 Q32.7167 646.729 32.7167 648.129 Q32.7167 653.094 35.9632 655.768 Q39.1779 658.41 45.2253 658.41 L64.0042 658.41 L64.0042 664.298 L28.3562 664.298 L28.3562 658.41 L33.8944 658.41 Q30.6479 656.564 29.0883 653.604 Q27.4968 650.644 27.4968 646.41 Q27.4968 645.806 27.5923 645.074 Q27.656 644.342 27.8151 643.45 L33.8307 643.418 Z\" fill=\"#000000\" fill-rule=\"evenodd\" fill-opacity=\"1\" /><path clip-path=\"url(#clip800)\" d=\"M32.4621 624.894 Q32.4621 629.605 36.1542 632.342 Q39.8145 635.079 46.212 635.079 Q52.6095 635.079 56.3017 632.374 Q59.9619 629.637 59.9619 624.894 Q59.9619 620.215 56.2698 617.478 Q52.5777 614.741 46.212 614.741 Q39.8781 614.741 36.186 617.478 Q32.4621 620.215 32.4621 624.894 M27.4968 624.894 Q27.4968 617.255 32.4621 612.895 Q37.4273 608.534 46.212 608.534 Q54.9649 608.534 59.9619 612.895 Q64.9272 617.255 64.9272 624.894 Q64.9272 632.565 59.9619 636.925 Q54.9649 641.254 46.212 641.254 Q37.4273 641.254 32.4621 636.925 Q27.4968 632.565 27.4968 624.894 Z\" fill=\"#000000\" fill-rule=\"evenodd\" fill-opacity=\"1\" /><path clip-path=\"url(#clip800)\" d=\"M29.4065 576.101 L34.9447 576.101 Q33.6716 578.584 33.035 581.257 Q32.3984 583.931 32.3984 586.796 Q32.3984 591.156 33.7352 593.352 Q35.072 595.517 37.7456 595.517 Q39.7826 595.517 40.9603 593.957 Q42.1061 592.397 43.1565 587.687 L43.6021 585.682 Q44.9389 579.443 47.3897 576.833 Q49.8086 574.191 54.1691 574.191 Q59.1344 574.191 62.0308 578.138 Q64.9272 582.053 64.9272 588.928 Q64.9272 591.793 64.3543 594.912 Q63.8132 597.999 62.6992 601.437 L56.6518 601.437 Q58.3387 598.19 59.198 595.039 Q60.0256 591.888 60.0256 588.801 Q60.0256 584.663 58.6251 582.435 Q57.1929 580.207 54.6147 580.207 Q52.2276 580.207 50.9545 581.83 Q49.6813 583.422 48.5037 588.864 L48.0262 590.901 Q46.8804 596.344 44.5251 598.763 Q42.138 601.182 38.0002 601.182 Q32.9713 601.182 30.2341 597.617 Q27.4968 594.052 27.4968 587.496 Q27.4968 584.249 27.9743 581.385 Q28.4517 578.52 29.4065 576.101 Z\" fill=\"#000000\" fill-rule=\"evenodd\" fill-opacity=\"1\" /><path clip-path=\"url(#clip800)\" d=\"M29.4065 542.14 L34.9447 542.14 Q33.6716 544.623 33.035 547.296 Q32.3984 549.97 32.3984 552.834 Q32.3984 557.195 33.7352 559.391 Q35.072 561.555 37.7456 561.555 Q39.7826 561.555 40.9603 559.996 Q42.1061 558.436 43.1565 553.726 L43.6021 551.72 Q44.9389 545.482 47.3897 542.872 Q49.8086 540.23 54.1691 540.23 Q59.1344 540.23 62.0308 544.177 Q64.9272 548.092 64.9272 554.967 Q64.9272 557.832 64.3543 560.951 Q63.8132 564.038 62.6992 567.476 L56.6518 567.476 Q58.3387 564.229 59.198 561.078 Q60.0256 557.927 60.0256 554.84 Q60.0256 550.702 58.6251 548.474 Q57.1929 546.246 54.6147 546.246 Q52.2276 546.246 50.9545 547.869 Q49.6813 549.461 48.5037 554.903 L48.0262 556.94 Q46.8804 562.383 44.5251 564.802 Q42.138 567.221 38.0002 567.221 Q32.9713 567.221 30.2341 563.656 Q27.4968 560.091 27.4968 553.535 Q27.4968 550.288 27.9743 547.424 Q28.4517 544.559 29.4065 542.14 Z\" fill=\"#000000\" fill-rule=\"evenodd\" fill-opacity=\"1\" /><path clip-path=\"url(#clip800)\" d=\"M44.7161 479.693 L47.5806 479.693 L47.5806 506.619 Q53.6281 506.238 56.8109 502.991 Q59.9619 499.713 59.9619 493.888 Q59.9619 490.514 59.1344 487.363 Q58.3069 484.18 56.6518 481.061 L62.1899 481.061 Q63.5267 484.212 64.227 487.522 Q64.9272 490.832 64.9272 494.238 Q64.9272 502.768 59.9619 507.765 Q54.9967 512.731 46.5303 512.731 Q37.7774 512.731 32.6531 508.02 Q27.4968 503.277 27.4968 495.257 Q27.4968 488.063 32.1438 483.894 Q36.7589 479.693 44.7161 479.693 M42.9973 485.549 Q38.1912 485.613 35.3266 488.254 Q32.4621 490.864 32.4621 495.193 Q32.4621 500.095 35.2312 503.055 Q38.0002 505.983 43.0292 506.428 L42.9973 485.549 Z\" fill=\"#000000\" fill-rule=\"evenodd\" fill-opacity=\"1\" /><path clip-path=\"url(#clip800)\" d=\"M42.4881 440.448 L64.0042 440.448 L64.0042 446.304 L42.679 446.304 Q37.6183 446.304 35.1038 448.278 Q32.5894 450.251 32.5894 454.198 Q32.5894 458.94 35.6131 461.678 Q38.6368 464.415 43.8567 464.415 L64.0042 464.415 L64.0042 470.303 L28.3562 470.303 L28.3562 464.415 L33.8944 464.415 Q30.6797 462.314 29.0883 459.481 Q27.4968 456.617 27.4968 452.893 Q27.4968 446.75 31.3163 443.599 Q35.1038 440.448 42.4881 440.448 Z\" fill=\"#000000\" fill-rule=\"evenodd\" fill-opacity=\"1\" /><path clip-path=\"url(#clip800)\" d=\"M18.2347 422.974 L28.3562 422.974 L28.3562 410.911 L32.9077 410.911 L32.9077 422.974 L52.2594 422.974 Q56.6199 422.974 57.8613 421.796 Q59.1026 420.587 59.1026 416.927 L59.1026 410.911 L64.0042 410.911 L64.0042 416.927 Q64.0042 423.706 61.4897 426.284 Q58.9434 428.862 52.2594 428.862 L32.9077 428.862 L32.9077 433.159 L28.3562 433.159 L28.3562 428.862 L18.2347 428.862 L18.2347 422.974 Z\" fill=\"#000000\" fill-rule=\"evenodd\" fill-opacity=\"1\" /><path clip-path=\"url(#clip800)\" d=\"M33.8307 382.552 Q33.2578 383.539 33.0032 384.716 Q32.7167 385.862 32.7167 387.262 Q32.7167 392.228 35.9632 394.901 Q39.1779 397.543 45.2253 397.543 L64.0042 397.543 L64.0042 403.431 L28.3562 403.431 L28.3562 397.543 L33.8944 397.543 Q30.6479 395.697 29.0883 392.737 Q27.4968 389.777 27.4968 385.544 Q27.4968 384.939 27.5923 384.207 Q27.656 383.475 27.8151 382.584 L33.8307 382.552 Z\" fill=\"#000000\" fill-rule=\"evenodd\" fill-opacity=\"1\" /><path clip-path=\"url(#clip800)\" d=\"M32.4621 364.028 Q32.4621 368.738 36.1542 371.475 Q39.8145 374.213 46.212 374.213 Q52.6095 374.213 56.3017 371.507 Q59.9619 368.77 59.9619 364.028 Q59.9619 359.349 56.2698 356.612 Q52.5777 353.874 46.212 353.874 Q39.8781 353.874 36.186 356.612 Q32.4621 359.349 32.4621 364.028 M27.4968 364.028 Q27.4968 356.389 32.4621 352.028 Q37.4273 347.668 46.212 347.668 Q54.9649 347.668 59.9619 352.028 Q64.9272 356.389 64.9272 364.028 Q64.9272 371.698 59.9619 376.059 Q54.9649 380.387 46.212 380.387 Q37.4273 380.387 32.4621 376.059 Q27.4968 371.698 27.4968 364.028 Z\" fill=\"#000000\" fill-rule=\"evenodd\" fill-opacity=\"1\" /><path clip-path=\"url(#clip800)\" d=\"M58.657 332.295 L77.5631 332.295 L77.5631 338.183 L28.3562 338.183 L28.3562 332.295 L33.7671 332.295 Q30.5842 330.449 29.0564 327.648 Q27.4968 324.815 27.4968 320.9 Q27.4968 314.407 32.6531 310.365 Q37.8093 306.291 46.212 306.291 Q54.6147 306.291 59.771 310.365 Q64.9272 314.407 64.9272 320.9 Q64.9272 324.815 63.3994 327.648 Q61.8398 330.449 58.657 332.295 M46.212 312.37 Q39.7508 312.37 36.0905 315.044 Q32.3984 317.685 32.3984 322.332 Q32.3984 326.979 36.0905 329.653 Q39.7508 332.295 46.212 332.295 Q52.6732 332.295 56.3653 329.653 Q60.0256 326.979 60.0256 322.332 Q60.0256 317.685 56.3653 315.044 Q52.6732 312.37 46.212 312.37 Z\" fill=\"#000000\" fill-rule=\"evenodd\" fill-opacity=\"1\" /><path clip-path=\"url(#clip800)\" d=\"M67.3143 281.751 Q73.68 284.233 75.6216 286.589 Q77.5631 288.944 77.5631 292.891 L77.5631 297.57 L72.6615 297.57 L72.6615 294.132 Q72.6615 291.713 71.5157 290.376 Q70.3699 289.04 66.1048 287.416 L63.4312 286.366 L28.3562 300.784 L28.3562 294.578 L56.238 283.438 L28.3562 272.298 L28.3562 266.091 L67.3143 281.751 Z\" fill=\"#000000\" fill-rule=\"evenodd\" fill-opacity=\"1\" /><polyline clip-path=\"url(#clip802)\" style=\"stroke:#009af9; stroke-linecap:butt; stroke-linejoin:round; stroke-width:4; stroke-opacity:1; fill:none\" points=\"\n",
       "  309.067,489.327 529.53,1384.24 749.992,1307.62 970.455,1264.77 1190.92,1135.3 1411.38,907.156 1631.84,758.093 1852.31,86.1857 2072.77,300.787 2293.23,401.09 \n",
       "  \n",
       "  \"/>\n",
       "<path clip-path=\"url(#clip800)\" d=\"\n",
       "M1996.53 196.789 L2282.65 196.789 L2282.65 93.1086 L1996.53 93.1086  Z\n",
       "  \" fill=\"#ffffff\" fill-rule=\"evenodd\" fill-opacity=\"1\"/>\n",
       "<polyline clip-path=\"url(#clip800)\" style=\"stroke:#000000; stroke-linecap:butt; stroke-linejoin:round; stroke-width:4; stroke-opacity:1; fill:none\" points=\"\n",
       "  1996.53,196.789 2282.65,196.789 2282.65,93.1086 1996.53,93.1086 1996.53,196.789 \n",
       "  \"/>\n",
       "<polyline clip-path=\"url(#clip800)\" style=\"stroke:#009af9; stroke-linecap:butt; stroke-linejoin:round; stroke-width:4; stroke-opacity:1; fill:none\" points=\"\n",
       "  2019.9,144.949 2160.11,144.949 \n",
       "  \"/>\n",
       "<path clip-path=\"url(#clip800)\" d=\"M2197.32 164.636 Q2195.52 169.266 2193.8 170.678 Q2192.09 172.09 2189.22 172.09 L2185.82 172.09 L2185.82 168.525 L2188.32 168.525 Q2190.08 168.525 2191.05 167.692 Q2192.02 166.858 2193.2 163.756 L2193.97 161.812 L2183.48 136.303 L2187.99 136.303 L2196.1 156.581 L2204.2 136.303 L2208.71 136.303 L2197.32 164.636 Z\" fill=\"#000000\" fill-rule=\"evenodd\" fill-opacity=\"1\" /><path clip-path=\"url(#clip800)\" d=\"M2216 158.293 L2223.64 158.293 L2223.64 131.928 L2215.33 133.595 L2215.33 129.335 L2223.6 127.669 L2228.27 127.669 L2228.27 158.293 L2235.91 158.293 L2235.91 162.229 L2216 162.229 L2216 158.293 Z\" fill=\"#000000\" fill-rule=\"evenodd\" fill-opacity=\"1\" /></svg>\n"
      ]
     },
     "execution_count": 28,
     "metadata": {},
     "output_type": "execute_result"
    }
   ],
   "source": [
    "r = range(pipe, :(evo_tree_classifier.max_depth), lower=1, upper=10)\n",
    "\n",
    "curve = learning_curve(mach,\n",
    "                       range=r,\n",
    "                       resampling=CV(nfolds=6),\n",
    "                       measure=cross_entropy)\n",
    "\n",
    "plt = plot(curve.parameter_values, curve.measurements)\n",
    "xlabel!(plt, \"max_depth\")\n",
    "ylabel!(plt, \"CV estimate of cross entropy\")\n",
    "savefig(\"exercise_7c.png\")\n",
    "plt"
   ]
  },
  {
   "cell_type": "markdown",
   "metadata": {},
   "source": [
    "Here's a second curve using a different random seed for the booster:"
   ]
  },
  {
   "cell_type": "code",
   "execution_count": 29,
   "metadata": {},
   "outputs": [
    {
     "name": "stderr",
     "output_type": "stream",
     "text": [
      "┌ Info: Training Machine{ProbabilisticTunedModel{Grid,…},…}.\n",
      "└ @ MLJBase /Users/anthony/.julia/packages/MLJBase/u6vLz/src/machines.jl:403\n",
      "┌ Info: Attempting to evaluate 10 models.\n",
      "└ @ MLJTuning /Users/anthony/.julia/packages/MLJTuning/bjRHJ/src/tuned_models.jl:680\n",
      "\u001b[33mEvaluating over 10 metamodels: 100%[=========================] Time: 0:00:13\u001b[39m\n"
     ]
    },
    {
     "data": {
      "image/svg+xml": [
       "<?xml version=\"1.0\" encoding=\"utf-8\"?>\n",
       "<svg xmlns=\"http://www.w3.org/2000/svg\" xmlns:xlink=\"http://www.w3.org/1999/xlink\" width=\"600\" height=\"400\" viewBox=\"0 0 2400 1600\">\n",
       "<defs>\n",
       "  <clipPath id=\"clip850\">\n",
       "    <rect x=\"0\" y=\"0\" width=\"2400\" height=\"1600\"/>\n",
       "  </clipPath>\n",
       "</defs>\n",
       "<path clip-path=\"url(#clip850)\" d=\"\n",
       "M0 1600 L2400 1600 L2400 0 L0 0  Z\n",
       "  \" fill=\"#ffffff\" fill-rule=\"evenodd\" fill-opacity=\"1\"/>\n",
       "<defs>\n",
       "  <clipPath id=\"clip851\">\n",
       "    <rect x=\"480\" y=\"0\" width=\"1681\" height=\"1600\"/>\n",
       "  </clipPath>\n",
       "</defs>\n",
       "<path clip-path=\"url(#clip850)\" d=\"\n",
       "M249.542 1423.18 L2352.76 1423.18 L2352.76 47.2441 L249.542 47.2441  Z\n",
       "  \" fill=\"#ffffff\" fill-rule=\"evenodd\" fill-opacity=\"1\"/>\n",
       "<defs>\n",
       "  <clipPath id=\"clip852\">\n",
       "    <rect x=\"249\" y=\"47\" width=\"2104\" height=\"1377\"/>\n",
       "  </clipPath>\n",
       "</defs>\n",
       "<polyline clip-path=\"url(#clip852)\" style=\"stroke:#000000; stroke-linecap:butt; stroke-linejoin:round; stroke-width:2; stroke-opacity:0.1; fill:none\" points=\"\n",
       "  529.53,1423.18 529.53,47.2441 \n",
       "  \"/>\n",
       "<polyline clip-path=\"url(#clip852)\" style=\"stroke:#000000; stroke-linecap:butt; stroke-linejoin:round; stroke-width:2; stroke-opacity:0.1; fill:none\" points=\"\n",
       "  970.455,1423.18 970.455,47.2441 \n",
       "  \"/>\n",
       "<polyline clip-path=\"url(#clip852)\" style=\"stroke:#000000; stroke-linecap:butt; stroke-linejoin:round; stroke-width:2; stroke-opacity:0.1; fill:none\" points=\"\n",
       "  1411.38,1423.18 1411.38,47.2441 \n",
       "  \"/>\n",
       "<polyline clip-path=\"url(#clip852)\" style=\"stroke:#000000; stroke-linecap:butt; stroke-linejoin:round; stroke-width:2; stroke-opacity:0.1; fill:none\" points=\"\n",
       "  1852.31,1423.18 1852.31,47.2441 \n",
       "  \"/>\n",
       "<polyline clip-path=\"url(#clip852)\" style=\"stroke:#000000; stroke-linecap:butt; stroke-linejoin:round; stroke-width:2; stroke-opacity:0.1; fill:none\" points=\"\n",
       "  2293.23,1423.18 2293.23,47.2441 \n",
       "  \"/>\n",
       "<polyline clip-path=\"url(#clip850)\" style=\"stroke:#000000; stroke-linecap:butt; stroke-linejoin:round; stroke-width:4; stroke-opacity:1; fill:none\" points=\"\n",
       "  249.542,1423.18 2352.76,1423.18 \n",
       "  \"/>\n",
       "<polyline clip-path=\"url(#clip850)\" style=\"stroke:#000000; stroke-linecap:butt; stroke-linejoin:round; stroke-width:4; stroke-opacity:1; fill:none\" points=\"\n",
       "  529.53,1423.18 529.53,1404.28 \n",
       "  \"/>\n",
       "<polyline clip-path=\"url(#clip850)\" style=\"stroke:#000000; stroke-linecap:butt; stroke-linejoin:round; stroke-width:4; stroke-opacity:1; fill:none\" points=\"\n",
       "  970.455,1423.18 970.455,1404.28 \n",
       "  \"/>\n",
       "<polyline clip-path=\"url(#clip850)\" style=\"stroke:#000000; stroke-linecap:butt; stroke-linejoin:round; stroke-width:4; stroke-opacity:1; fill:none\" points=\"\n",
       "  1411.38,1423.18 1411.38,1404.28 \n",
       "  \"/>\n",
       "<polyline clip-path=\"url(#clip850)\" style=\"stroke:#000000; stroke-linecap:butt; stroke-linejoin:round; stroke-width:4; stroke-opacity:1; fill:none\" points=\"\n",
       "  1852.31,1423.18 1852.31,1404.28 \n",
       "  \"/>\n",
       "<polyline clip-path=\"url(#clip850)\" style=\"stroke:#000000; stroke-linecap:butt; stroke-linejoin:round; stroke-width:4; stroke-opacity:1; fill:none\" points=\"\n",
       "  2293.23,1423.18 2293.23,1404.28 \n",
       "  \"/>\n",
       "<path clip-path=\"url(#clip850)\" d=\"M524.182 1481.64 L540.502 1481.64 L540.502 1485.58 L518.557 1485.58 L518.557 1481.64 Q521.219 1478.89 525.803 1474.26 Q530.409 1469.61 531.59 1468.27 Q533.835 1465.74 534.715 1464.01 Q535.618 1462.25 535.618 1460.56 Q535.618 1457.8 533.673 1456.07 Q531.752 1454.33 528.65 1454.33 Q526.451 1454.33 523.997 1455.09 Q521.567 1455.86 518.789 1457.41 L518.789 1452.69 Q521.613 1451.55 524.067 1450.97 Q526.52 1450.39 528.557 1450.39 Q533.928 1450.39 537.122 1453.08 Q540.317 1455.77 540.317 1460.26 Q540.317 1462.39 539.506 1464.31 Q538.719 1466.2 536.613 1468.8 Q536.034 1469.47 532.932 1472.69 Q529.831 1475.88 524.182 1481.64 Z\" fill=\"#000000\" fill-rule=\"evenodd\" fill-opacity=\"1\" /><path clip-path=\"url(#clip850)\" d=\"M973.464 1455.09 L961.659 1473.54 L973.464 1473.54 L973.464 1455.09 M972.237 1451.02 L978.117 1451.02 L978.117 1473.54 L983.047 1473.54 L983.047 1477.43 L978.117 1477.43 L978.117 1485.58 L973.464 1485.58 L973.464 1477.43 L957.862 1477.43 L957.862 1472.92 L972.237 1451.02 Z\" fill=\"#000000\" fill-rule=\"evenodd\" fill-opacity=\"1\" /><path clip-path=\"url(#clip850)\" d=\"M1411.79 1466.44 Q1408.64 1466.44 1406.79 1468.59 Q1404.96 1470.74 1404.96 1474.49 Q1404.96 1478.22 1406.79 1480.39 Q1408.64 1482.55 1411.79 1482.55 Q1414.93 1482.55 1416.76 1480.39 Q1418.61 1478.22 1418.61 1474.49 Q1418.61 1470.74 1416.76 1468.59 Q1414.93 1466.44 1411.79 1466.44 M1421.07 1451.78 L1421.07 1456.04 Q1419.31 1455.21 1417.5 1454.77 Q1415.72 1454.33 1413.96 1454.33 Q1409.33 1454.33 1406.88 1457.45 Q1404.45 1460.58 1404.1 1466.9 Q1405.47 1464.89 1407.53 1463.82 Q1409.59 1462.73 1412.06 1462.73 Q1417.27 1462.73 1420.28 1465.9 Q1423.31 1469.05 1423.31 1474.49 Q1423.31 1479.82 1420.16 1483.03 Q1417.02 1486.25 1411.79 1486.25 Q1405.79 1486.25 1402.62 1481.67 Q1399.45 1477.06 1399.45 1468.33 Q1399.45 1460.14 1403.34 1455.28 Q1407.23 1450.39 1413.78 1450.39 Q1415.54 1450.39 1417.32 1450.74 Q1419.12 1451.09 1421.07 1451.78 Z\" fill=\"#000000\" fill-rule=\"evenodd\" fill-opacity=\"1\" /><path clip-path=\"url(#clip850)\" d=\"M1852.31 1469.17 Q1848.97 1469.17 1847.05 1470.95 Q1845.15 1472.73 1845.15 1475.86 Q1845.15 1478.98 1847.05 1480.77 Q1848.97 1482.55 1852.31 1482.55 Q1855.64 1482.55 1857.56 1480.77 Q1859.48 1478.96 1859.48 1475.86 Q1859.48 1472.73 1857.56 1470.95 Q1855.66 1469.17 1852.31 1469.17 M1847.63 1467.18 Q1844.62 1466.44 1842.93 1464.38 Q1841.26 1462.32 1841.26 1459.35 Q1841.26 1455.21 1844.2 1452.8 Q1847.17 1450.39 1852.31 1450.39 Q1857.47 1450.39 1860.41 1452.8 Q1863.35 1455.21 1863.35 1459.35 Q1863.35 1462.32 1861.66 1464.38 Q1859.99 1466.44 1857 1467.18 Q1860.38 1467.96 1862.26 1470.26 Q1864.16 1472.55 1864.16 1475.86 Q1864.16 1480.88 1861.08 1483.57 Q1858.02 1486.25 1852.31 1486.25 Q1846.59 1486.25 1843.51 1483.57 Q1840.45 1480.88 1840.45 1475.86 Q1840.45 1472.55 1842.35 1470.26 Q1844.25 1467.96 1847.63 1467.18 M1845.92 1459.79 Q1845.92 1462.48 1847.58 1463.98 Q1849.27 1465.49 1852.31 1465.49 Q1855.31 1465.49 1857 1463.98 Q1858.72 1462.48 1858.72 1459.79 Q1858.72 1457.11 1857 1455.6 Q1855.31 1454.1 1852.31 1454.1 Q1849.27 1454.1 1847.58 1455.6 Q1845.92 1457.11 1845.92 1459.79 Z\" fill=\"#000000\" fill-rule=\"evenodd\" fill-opacity=\"1\" /><path clip-path=\"url(#clip850)\" d=\"M2267.92 1481.64 L2275.56 1481.64 L2275.56 1455.28 L2267.25 1456.95 L2267.25 1452.69 L2275.51 1451.02 L2280.19 1451.02 L2280.19 1481.64 L2287.83 1481.64 L2287.83 1485.58 L2267.92 1485.58 L2267.92 1481.64 Z\" fill=\"#000000\" fill-rule=\"evenodd\" fill-opacity=\"1\" /><path clip-path=\"url(#clip850)\" d=\"M2307.27 1454.1 Q2303.66 1454.1 2301.83 1457.66 Q2300.02 1461.2 2300.02 1468.33 Q2300.02 1475.44 2301.83 1479.01 Q2303.66 1482.55 2307.27 1482.55 Q2310.9 1482.55 2312.71 1479.01 Q2314.54 1475.44 2314.54 1468.33 Q2314.54 1461.2 2312.71 1457.66 Q2310.9 1454.1 2307.27 1454.1 M2307.27 1450.39 Q2313.08 1450.39 2316.14 1455 Q2319.21 1459.58 2319.21 1468.33 Q2319.21 1477.06 2316.14 1481.67 Q2313.08 1486.25 2307.27 1486.25 Q2301.46 1486.25 2298.38 1481.67 Q2295.33 1477.06 2295.33 1468.33 Q2295.33 1459.58 2298.38 1455 Q2301.46 1450.39 2307.27 1450.39 Z\" fill=\"#000000\" fill-rule=\"evenodd\" fill-opacity=\"1\" /><path clip-path=\"url(#clip850)\" d=\"M1152.68 1539.24 Q1154.88 1535.29 1157.94 1533.41 Q1160.99 1531.54 1165.13 1531.54 Q1170.7 1531.54 1173.72 1535.45 Q1176.75 1539.33 1176.75 1546.53 L1176.75 1568.04 L1170.86 1568.04 L1170.86 1546.72 Q1170.86 1541.59 1169.04 1539.11 Q1167.23 1536.63 1163.51 1536.63 Q1158.95 1536.63 1156.31 1539.65 Q1153.67 1542.68 1153.67 1547.9 L1153.67 1568.04 L1147.78 1568.04 L1147.78 1546.72 Q1147.78 1541.56 1145.97 1539.11 Q1144.15 1536.63 1140.37 1536.63 Q1135.88 1536.63 1133.24 1539.68 Q1130.6 1542.71 1130.6 1547.9 L1130.6 1568.04 L1124.71 1568.04 L1124.71 1532.4 L1130.6 1532.4 L1130.6 1537.93 Q1132.6 1534.66 1135.4 1533.1 Q1138.2 1531.54 1142.05 1531.54 Q1145.94 1531.54 1148.64 1533.51 Q1151.38 1535.48 1152.68 1539.24 Z\" fill=\"#000000\" fill-rule=\"evenodd\" fill-opacity=\"1\" /><path clip-path=\"url(#clip850)\" d=\"M1204.63 1550.12 Q1197.53 1550.12 1194.79 1551.75 Q1192.06 1553.37 1192.06 1557.29 Q1192.06 1560.4 1194.09 1562.25 Q1196.16 1564.07 1199.7 1564.07 Q1204.57 1564.07 1207.49 1560.63 Q1210.45 1557.16 1210.45 1551.43 L1210.45 1550.12 L1204.63 1550.12 M1216.31 1547.71 L1216.31 1568.04 L1210.45 1568.04 L1210.45 1562.63 Q1208.45 1565.88 1205.46 1567.44 Q1202.46 1568.97 1198.14 1568.97 Q1192.66 1568.97 1189.41 1565.91 Q1186.2 1562.82 1186.2 1557.67 Q1186.2 1551.65 1190.21 1548.6 Q1194.25 1545.54 1202.24 1545.54 L1210.45 1545.54 L1210.45 1544.97 Q1210.45 1540.93 1207.78 1538.73 Q1205.14 1536.5 1200.33 1536.5 Q1197.28 1536.5 1194.38 1537.23 Q1191.48 1537.97 1188.81 1539.43 L1188.81 1534.02 Q1192.02 1532.78 1195.05 1532.17 Q1198.07 1531.54 1200.94 1531.54 Q1208.67 1531.54 1212.49 1535.55 Q1216.31 1539.56 1216.31 1547.71 Z\" fill=\"#000000\" fill-rule=\"evenodd\" fill-opacity=\"1\" /><path clip-path=\"url(#clip850)\" d=\"M1258.01 1532.4 L1245.11 1549.74 L1258.67 1568.04 L1251.77 1568.04 L1241.39 1554.04 L1231.01 1568.04 L1224.11 1568.04 L1237.95 1549.39 L1225.29 1532.4 L1232.19 1532.4 L1241.65 1545.1 L1251.1 1532.4 L1258.01 1532.4 Z\" fill=\"#000000\" fill-rule=\"evenodd\" fill-opacity=\"1\" /><path clip-path=\"url(#clip850)\" d=\"M1294.04 1578.87 L1294.04 1583.42 L1260.17 1583.42 L1260.17 1578.87 L1294.04 1578.87 Z\" fill=\"#000000\" fill-rule=\"evenodd\" fill-opacity=\"1\" /><path clip-path=\"url(#clip850)\" d=\"M1323 1537.81 L1323 1518.52 L1328.86 1518.52 L1328.86 1568.04 L1323 1568.04 L1323 1562.7 Q1321.15 1565.88 1318.32 1567.44 Q1315.52 1568.97 1311.57 1568.97 Q1305.11 1568.97 1301.04 1563.81 Q1297 1558.65 1297 1550.25 Q1297 1541.85 1301.04 1536.69 Q1305.11 1531.54 1311.57 1531.54 Q1315.52 1531.54 1318.32 1533.1 Q1321.15 1534.62 1323 1537.81 M1303.04 1550.25 Q1303.04 1556.71 1305.68 1560.4 Q1308.36 1564.07 1313.01 1564.07 Q1317.65 1564.07 1320.33 1560.4 Q1323 1556.71 1323 1550.25 Q1323 1543.79 1320.33 1540.13 Q1317.65 1536.44 1313.01 1536.44 Q1308.36 1536.44 1305.68 1540.13 Q1303.04 1543.79 1303.04 1550.25 Z\" fill=\"#000000\" fill-rule=\"evenodd\" fill-opacity=\"1\" /><path clip-path=\"url(#clip850)\" d=\"M1371.41 1548.76 L1371.41 1551.62 L1344.48 1551.62 Q1344.87 1557.67 1348.11 1560.85 Q1351.39 1564 1357.21 1564 Q1360.59 1564 1363.74 1563.17 Q1366.92 1562.35 1370.04 1560.69 L1370.04 1566.23 Q1366.89 1567.57 1363.58 1568.27 Q1360.27 1568.97 1356.86 1568.97 Q1348.33 1568.97 1343.34 1564 Q1338.37 1559.04 1338.37 1550.57 Q1338.37 1541.82 1343.08 1536.69 Q1347.83 1531.54 1355.85 1531.54 Q1363.04 1531.54 1367.21 1536.18 Q1371.41 1540.8 1371.41 1548.76 M1365.55 1547.04 Q1365.49 1542.23 1362.85 1539.37 Q1360.24 1536.5 1355.91 1536.5 Q1351.01 1536.5 1348.05 1539.27 Q1345.12 1542.04 1344.67 1547.07 L1365.55 1547.04 Z\" fill=\"#000000\" fill-rule=\"evenodd\" fill-opacity=\"1\" /><path clip-path=\"url(#clip850)\" d=\"M1386.69 1562.7 L1386.69 1581.6 L1380.8 1581.6 L1380.8 1532.4 L1386.69 1532.4 L1386.69 1537.81 Q1388.53 1534.62 1391.34 1533.1 Q1394.17 1531.54 1398.08 1531.54 Q1404.58 1531.54 1408.62 1536.69 Q1412.69 1541.85 1412.69 1550.25 Q1412.69 1558.65 1408.62 1563.81 Q1404.58 1568.97 1398.08 1568.97 Q1394.17 1568.97 1391.34 1567.44 Q1388.53 1565.88 1386.69 1562.7 M1406.61 1550.25 Q1406.61 1543.79 1403.94 1540.13 Q1401.3 1536.44 1396.65 1536.44 Q1392 1536.44 1389.33 1540.13 Q1386.69 1543.79 1386.69 1550.25 Q1386.69 1556.71 1389.33 1560.4 Q1392 1564.07 1396.65 1564.07 Q1401.3 1564.07 1403.94 1560.4 Q1406.61 1556.71 1406.61 1550.25 Z\" fill=\"#000000\" fill-rule=\"evenodd\" fill-opacity=\"1\" /><path clip-path=\"url(#clip850)\" d=\"M1428.19 1522.27 L1428.19 1532.4 L1440.26 1532.4 L1440.26 1536.95 L1428.19 1536.95 L1428.19 1556.3 Q1428.19 1560.66 1429.37 1561.9 Q1430.58 1563.14 1434.24 1563.14 L1440.26 1563.14 L1440.26 1568.04 L1434.24 1568.04 Q1427.46 1568.04 1424.88 1565.53 Q1422.3 1562.98 1422.3 1556.3 L1422.3 1536.95 L1418.01 1536.95 L1418.01 1532.4 L1422.3 1532.4 L1422.3 1522.27 L1428.19 1522.27 Z\" fill=\"#000000\" fill-rule=\"evenodd\" fill-opacity=\"1\" /><path clip-path=\"url(#clip850)\" d=\"M1477.59 1546.53 L1477.59 1568.04 L1471.73 1568.04 L1471.73 1546.72 Q1471.73 1541.66 1469.76 1539.14 Q1467.79 1536.63 1463.84 1536.63 Q1459.1 1536.63 1456.36 1539.65 Q1453.62 1542.68 1453.62 1547.9 L1453.62 1568.04 L1447.74 1568.04 L1447.74 1518.52 L1453.62 1518.52 L1453.62 1537.93 Q1455.72 1534.72 1458.56 1533.13 Q1461.42 1531.54 1465.15 1531.54 Q1471.29 1531.54 1474.44 1535.36 Q1477.59 1539.14 1477.59 1546.53 Z\" fill=\"#000000\" fill-rule=\"evenodd\" fill-opacity=\"1\" /><polyline clip-path=\"url(#clip852)\" style=\"stroke:#000000; stroke-linecap:butt; stroke-linejoin:round; stroke-width:2; stroke-opacity:0.1; fill:none\" points=\"\n",
       "  249.542,1214.28 2352.76,1214.28 \n",
       "  \"/>\n",
       "<polyline clip-path=\"url(#clip852)\" style=\"stroke:#000000; stroke-linecap:butt; stroke-linejoin:round; stroke-width:2; stroke-opacity:0.1; fill:none\" points=\"\n",
       "  249.542,964.139 2352.76,964.139 \n",
       "  \"/>\n",
       "<polyline clip-path=\"url(#clip852)\" style=\"stroke:#000000; stroke-linecap:butt; stroke-linejoin:round; stroke-width:2; stroke-opacity:0.1; fill:none\" points=\"\n",
       "  249.542,713.994 2352.76,713.994 \n",
       "  \"/>\n",
       "<polyline clip-path=\"url(#clip852)\" style=\"stroke:#000000; stroke-linecap:butt; stroke-linejoin:round; stroke-width:2; stroke-opacity:0.1; fill:none\" points=\"\n",
       "  249.542,463.849 2352.76,463.849 \n",
       "  \"/>\n",
       "<polyline clip-path=\"url(#clip852)\" style=\"stroke:#000000; stroke-linecap:butt; stroke-linejoin:round; stroke-width:2; stroke-opacity:0.1; fill:none\" points=\"\n",
       "  249.542,213.705 2352.76,213.705 \n",
       "  \"/>\n",
       "<polyline clip-path=\"url(#clip850)\" style=\"stroke:#000000; stroke-linecap:butt; stroke-linejoin:round; stroke-width:4; stroke-opacity:1; fill:none\" points=\"\n",
       "  249.542,1423.18 249.542,47.2441 \n",
       "  \"/>\n",
       "<polyline clip-path=\"url(#clip850)\" style=\"stroke:#000000; stroke-linecap:butt; stroke-linejoin:round; stroke-width:4; stroke-opacity:1; fill:none\" points=\"\n",
       "  249.542,1214.28 268.44,1214.28 \n",
       "  \"/>\n",
       "<polyline clip-path=\"url(#clip850)\" style=\"stroke:#000000; stroke-linecap:butt; stroke-linejoin:round; stroke-width:4; stroke-opacity:1; fill:none\" points=\"\n",
       "  249.542,964.139 268.44,964.139 \n",
       "  \"/>\n",
       "<polyline clip-path=\"url(#clip850)\" style=\"stroke:#000000; stroke-linecap:butt; stroke-linejoin:round; stroke-width:4; stroke-opacity:1; fill:none\" points=\"\n",
       "  249.542,713.994 268.44,713.994 \n",
       "  \"/>\n",
       "<polyline clip-path=\"url(#clip850)\" style=\"stroke:#000000; stroke-linecap:butt; stroke-linejoin:round; stroke-width:4; stroke-opacity:1; fill:none\" points=\"\n",
       "  249.542,463.849 268.44,463.849 \n",
       "  \"/>\n",
       "<polyline clip-path=\"url(#clip850)\" style=\"stroke:#000000; stroke-linecap:butt; stroke-linejoin:round; stroke-width:4; stroke-opacity:1; fill:none\" points=\"\n",
       "  249.542,213.705 268.44,213.705 \n",
       "  \"/>\n",
       "<path clip-path=\"url(#clip850)\" d=\"M126.205 1200.08 Q122.593 1200.08 120.765 1203.65 Q118.959 1207.19 118.959 1214.32 Q118.959 1221.42 120.765 1224.99 Q122.593 1228.53 126.205 1228.53 Q129.839 1228.53 131.644 1224.99 Q133.473 1221.42 133.473 1214.32 Q133.473 1207.19 131.644 1203.65 Q129.839 1200.08 126.205 1200.08 M126.205 1196.38 Q132.015 1196.38 135.07 1200.98 Q138.149 1205.57 138.149 1214.32 Q138.149 1223.04 135.07 1227.65 Q132.015 1232.23 126.205 1232.23 Q120.394 1232.23 117.316 1227.65 Q114.26 1223.04 114.26 1214.32 Q114.26 1205.57 117.316 1200.98 Q120.394 1196.38 126.205 1196.38 Z\" fill=\"#000000\" fill-rule=\"evenodd\" fill-opacity=\"1\" /><path clip-path=\"url(#clip850)\" d=\"M146.366 1225.68 L151.251 1225.68 L151.251 1231.56 L146.366 1231.56 L146.366 1225.68 Z\" fill=\"#000000\" fill-rule=\"evenodd\" fill-opacity=\"1\" /><path clip-path=\"url(#clip850)\" d=\"M171.436 1215.15 Q168.102 1215.15 166.181 1216.93 Q164.283 1218.72 164.283 1221.84 Q164.283 1224.97 166.181 1226.75 Q168.102 1228.53 171.436 1228.53 Q174.769 1228.53 176.69 1226.75 Q178.612 1224.94 178.612 1221.84 Q178.612 1218.72 176.69 1216.93 Q174.792 1215.15 171.436 1215.15 M166.76 1213.16 Q163.751 1212.42 162.061 1210.36 Q160.394 1208.3 160.394 1205.34 Q160.394 1201.19 163.334 1198.79 Q166.297 1196.38 171.436 1196.38 Q176.598 1196.38 179.538 1198.79 Q182.477 1201.19 182.477 1205.34 Q182.477 1208.3 180.788 1210.36 Q179.121 1212.42 176.135 1213.16 Q179.514 1213.95 181.389 1216.24 Q183.288 1218.53 183.288 1221.84 Q183.288 1226.86 180.209 1229.55 Q177.153 1232.23 171.436 1232.23 Q165.718 1232.23 162.64 1229.55 Q159.584 1226.86 159.584 1221.84 Q159.584 1218.53 161.482 1216.24 Q163.38 1213.95 166.76 1213.16 M165.047 1205.78 Q165.047 1208.46 166.714 1209.97 Q168.403 1211.47 171.436 1211.47 Q174.445 1211.47 176.135 1209.97 Q177.848 1208.46 177.848 1205.78 Q177.848 1203.09 176.135 1201.59 Q174.445 1200.08 171.436 1200.08 Q168.403 1200.08 166.714 1201.59 Q165.047 1203.09 165.047 1205.78 Z\" fill=\"#000000\" fill-rule=\"evenodd\" fill-opacity=\"1\" /><path clip-path=\"url(#clip850)\" d=\"M201.598 1200.08 Q197.987 1200.08 196.158 1203.65 Q194.352 1207.19 194.352 1214.32 Q194.352 1221.42 196.158 1224.99 Q197.987 1228.53 201.598 1228.53 Q205.232 1228.53 207.037 1224.99 Q208.866 1221.42 208.866 1214.32 Q208.866 1207.19 207.037 1203.65 Q205.232 1200.08 201.598 1200.08 M201.598 1196.38 Q207.408 1196.38 210.463 1200.98 Q213.542 1205.57 213.542 1214.32 Q213.542 1223.04 210.463 1227.65 Q207.408 1232.23 201.598 1232.23 Q195.787 1232.23 192.709 1227.65 Q189.653 1223.04 189.653 1214.32 Q189.653 1205.57 192.709 1200.98 Q195.787 1196.38 201.598 1196.38 Z\" fill=\"#000000\" fill-rule=\"evenodd\" fill-opacity=\"1\" /><path clip-path=\"url(#clip850)\" d=\"M127.2 949.937 Q123.589 949.937 121.76 953.502 Q119.955 957.044 119.955 964.173 Q119.955 971.28 121.76 974.845 Q123.589 978.386 127.2 978.386 Q130.834 978.386 132.64 974.845 Q134.468 971.28 134.468 964.173 Q134.468 957.044 132.64 953.502 Q130.834 949.937 127.2 949.937 M127.2 946.234 Q133.01 946.234 136.066 950.84 Q139.144 955.423 139.144 964.173 Q139.144 972.9 136.066 977.507 Q133.01 982.09 127.2 982.09 Q121.39 982.09 118.311 977.507 Q115.256 972.9 115.256 964.173 Q115.256 955.423 118.311 950.84 Q121.39 946.234 127.2 946.234 Z\" fill=\"#000000\" fill-rule=\"evenodd\" fill-opacity=\"1\" /><path clip-path=\"url(#clip850)\" d=\"M147.362 975.539 L152.246 975.539 L152.246 981.419 L147.362 981.419 L147.362 975.539 Z\" fill=\"#000000\" fill-rule=\"evenodd\" fill-opacity=\"1\" /><path clip-path=\"url(#clip850)\" d=\"M172.431 965.007 Q169.098 965.007 167.177 966.789 Q165.278 968.572 165.278 971.697 Q165.278 974.822 167.177 976.604 Q169.098 978.386 172.431 978.386 Q175.764 978.386 177.686 976.604 Q179.607 974.798 179.607 971.697 Q179.607 968.572 177.686 966.789 Q175.788 965.007 172.431 965.007 M167.755 963.016 Q164.746 962.275 163.056 960.215 Q161.39 958.155 161.39 955.192 Q161.39 951.048 164.329 948.641 Q167.292 946.234 172.431 946.234 Q177.593 946.234 180.533 948.641 Q183.473 951.048 183.473 955.192 Q183.473 958.155 181.783 960.215 Q180.116 962.275 177.13 963.016 Q180.51 963.803 182.385 966.095 Q184.283 968.386 184.283 971.697 Q184.283 976.72 181.204 979.405 Q178.149 982.09 172.431 982.09 Q166.714 982.09 163.635 979.405 Q160.579 976.72 160.579 971.697 Q160.579 968.386 162.477 966.095 Q164.376 963.803 167.755 963.016 M166.042 955.632 Q166.042 958.317 167.709 959.822 Q169.399 961.326 172.431 961.326 Q175.44 961.326 177.13 959.822 Q178.843 958.317 178.843 955.632 Q178.843 952.947 177.13 951.442 Q175.44 949.937 172.431 949.937 Q169.399 949.937 167.709 951.442 Q166.042 952.947 166.042 955.632 Z\" fill=\"#000000\" fill-rule=\"evenodd\" fill-opacity=\"1\" /><path clip-path=\"url(#clip850)\" d=\"M192.639 946.859 L210.996 946.859 L210.996 950.794 L196.922 950.794 L196.922 959.266 Q197.94 958.919 198.959 958.757 Q199.977 958.572 200.996 958.572 Q206.783 958.572 210.162 961.743 Q213.542 964.914 213.542 970.331 Q213.542 975.909 210.07 979.011 Q206.598 982.09 200.278 982.09 Q198.102 982.09 195.834 981.72 Q193.588 981.349 191.181 980.609 L191.181 975.909 Q193.264 977.044 195.487 977.599 Q197.709 978.155 200.186 978.155 Q204.19 978.155 206.528 976.048 Q208.866 973.942 208.866 970.331 Q208.866 966.72 206.528 964.613 Q204.19 962.507 200.186 962.507 Q198.311 962.507 196.436 962.923 Q194.584 963.34 192.639 964.22 L192.639 946.859 Z\" fill=\"#000000\" fill-rule=\"evenodd\" fill-opacity=\"1\" /><path clip-path=\"url(#clip850)\" d=\"M126.205 699.793 Q122.593 699.793 120.765 703.357 Q118.959 706.899 118.959 714.029 Q118.959 721.135 120.765 724.7 Q122.593 728.242 126.205 728.242 Q129.839 728.242 131.644 724.7 Q133.473 721.135 133.473 714.029 Q133.473 706.899 131.644 703.357 Q129.839 699.793 126.205 699.793 M126.205 696.089 Q132.015 696.089 135.07 700.695 Q138.149 705.279 138.149 714.029 Q138.149 722.756 135.07 727.362 Q132.015 731.945 126.205 731.945 Q120.394 731.945 117.316 727.362 Q114.26 722.756 114.26 714.029 Q114.26 705.279 117.316 700.695 Q120.394 696.089 126.205 696.089 Z\" fill=\"#000000\" fill-rule=\"evenodd\" fill-opacity=\"1\" /><path clip-path=\"url(#clip850)\" d=\"M146.366 725.394 L151.251 725.394 L151.251 731.274 L146.366 731.274 L146.366 725.394 Z\" fill=\"#000000\" fill-rule=\"evenodd\" fill-opacity=\"1\" /><path clip-path=\"url(#clip850)\" d=\"M161.575 730.556 L161.575 726.297 Q163.334 727.131 165.14 727.57 Q166.945 728.01 168.681 728.01 Q173.311 728.01 175.741 724.908 Q178.195 721.783 178.542 715.441 Q177.2 717.431 175.139 718.496 Q173.079 719.561 170.579 719.561 Q165.394 719.561 162.362 716.436 Q159.353 713.288 159.353 707.848 Q159.353 702.524 162.501 699.307 Q165.649 696.089 170.88 696.089 Q176.876 696.089 180.024 700.695 Q183.195 705.279 183.195 714.029 Q183.195 722.2 179.306 727.084 Q175.44 731.945 168.889 731.945 Q167.13 731.945 165.325 731.598 Q163.519 731.251 161.575 730.556 M170.88 715.904 Q174.028 715.904 175.857 713.751 Q177.709 711.598 177.709 707.848 Q177.709 704.121 175.857 701.969 Q174.028 699.793 170.88 699.793 Q167.732 699.793 165.88 701.969 Q164.052 704.121 164.052 707.848 Q164.052 711.598 165.88 713.751 Q167.732 715.904 170.88 715.904 Z\" fill=\"#000000\" fill-rule=\"evenodd\" fill-opacity=\"1\" /><path clip-path=\"url(#clip850)\" d=\"M201.598 699.793 Q197.987 699.793 196.158 703.357 Q194.352 706.899 194.352 714.029 Q194.352 721.135 196.158 724.7 Q197.987 728.242 201.598 728.242 Q205.232 728.242 207.037 724.7 Q208.866 721.135 208.866 714.029 Q208.866 706.899 207.037 703.357 Q205.232 699.793 201.598 699.793 M201.598 696.089 Q207.408 696.089 210.463 700.695 Q213.542 705.279 213.542 714.029 Q213.542 722.756 210.463 727.362 Q207.408 731.945 201.598 731.945 Q195.787 731.945 192.709 727.362 Q189.653 722.756 189.653 714.029 Q189.653 705.279 192.709 700.695 Q195.787 696.089 201.598 696.089 Z\" fill=\"#000000\" fill-rule=\"evenodd\" fill-opacity=\"1\" /><path clip-path=\"url(#clip850)\" d=\"M127.2 449.648 Q123.589 449.648 121.76 453.213 Q119.955 456.754 119.955 463.884 Q119.955 470.99 121.76 474.555 Q123.589 478.097 127.2 478.097 Q130.834 478.097 132.64 474.555 Q134.468 470.99 134.468 463.884 Q134.468 456.754 132.64 453.213 Q130.834 449.648 127.2 449.648 M127.2 445.944 Q133.01 445.944 136.066 450.551 Q139.144 455.134 139.144 463.884 Q139.144 472.611 136.066 477.217 Q133.01 481.801 127.2 481.801 Q121.39 481.801 118.311 477.217 Q115.256 472.611 115.256 463.884 Q115.256 455.134 118.311 450.551 Q121.39 445.944 127.2 445.944 Z\" fill=\"#000000\" fill-rule=\"evenodd\" fill-opacity=\"1\" /><path clip-path=\"url(#clip850)\" d=\"M147.362 475.25 L152.246 475.25 L152.246 481.129 L147.362 481.129 L147.362 475.25 Z\" fill=\"#000000\" fill-rule=\"evenodd\" fill-opacity=\"1\" /><path clip-path=\"url(#clip850)\" d=\"M162.57 480.412 L162.57 476.153 Q164.329 476.986 166.135 477.426 Q167.94 477.865 169.677 477.865 Q174.306 477.865 176.737 474.764 Q179.19 471.639 179.538 465.296 Q178.195 467.287 176.135 468.352 Q174.075 469.416 171.575 469.416 Q166.39 469.416 163.357 466.291 Q160.348 463.143 160.348 457.704 Q160.348 452.379 163.496 449.162 Q166.644 445.944 171.876 445.944 Q177.871 445.944 181.019 450.551 Q184.19 455.134 184.19 463.884 Q184.19 472.055 180.301 476.94 Q176.436 481.801 169.885 481.801 Q168.126 481.801 166.32 481.453 Q164.515 481.106 162.57 480.412 M171.876 465.759 Q175.024 465.759 176.852 463.606 Q178.704 461.454 178.704 457.704 Q178.704 453.977 176.852 451.824 Q175.024 449.648 171.876 449.648 Q168.727 449.648 166.876 451.824 Q165.047 453.977 165.047 457.704 Q165.047 461.454 166.876 463.606 Q168.727 465.759 171.876 465.759 Z\" fill=\"#000000\" fill-rule=\"evenodd\" fill-opacity=\"1\" /><path clip-path=\"url(#clip850)\" d=\"M192.639 446.569 L210.996 446.569 L210.996 450.504 L196.922 450.504 L196.922 458.977 Q197.94 458.629 198.959 458.467 Q199.977 458.282 200.996 458.282 Q206.783 458.282 210.162 461.454 Q213.542 464.625 213.542 470.041 Q213.542 475.62 210.07 478.722 Q206.598 481.801 200.278 481.801 Q198.102 481.801 195.834 481.43 Q193.588 481.06 191.181 480.319 L191.181 475.62 Q193.264 476.754 195.487 477.31 Q197.709 477.865 200.186 477.865 Q204.19 477.865 206.528 475.759 Q208.866 473.653 208.866 470.041 Q208.866 466.43 206.528 464.324 Q204.19 462.217 200.186 462.217 Q198.311 462.217 196.436 462.634 Q194.584 463.051 192.639 463.93 L192.639 446.569 Z\" fill=\"#000000\" fill-rule=\"evenodd\" fill-opacity=\"1\" /><path clip-path=\"url(#clip850)\" d=\"M117.015 227.049 L124.654 227.049 L124.654 200.684 L116.343 202.351 L116.343 198.091 L124.607 196.425 L129.283 196.425 L129.283 227.049 L136.922 227.049 L136.922 230.985 L117.015 230.985 L117.015 227.049 Z\" fill=\"#000000\" fill-rule=\"evenodd\" fill-opacity=\"1\" /><path clip-path=\"url(#clip850)\" d=\"M146.366 225.105 L151.251 225.105 L151.251 230.985 L146.366 230.985 L146.366 225.105 Z\" fill=\"#000000\" fill-rule=\"evenodd\" fill-opacity=\"1\" /><path clip-path=\"url(#clip850)\" d=\"M171.436 199.503 Q167.825 199.503 165.996 203.068 Q164.19 206.61 164.19 213.739 Q164.19 220.846 165.996 224.411 Q167.825 227.952 171.436 227.952 Q175.07 227.952 176.876 224.411 Q178.704 220.846 178.704 213.739 Q178.704 206.61 176.876 203.068 Q175.07 199.503 171.436 199.503 M171.436 195.8 Q177.246 195.8 180.301 200.406 Q183.38 204.989 183.38 213.739 Q183.38 222.466 180.301 227.073 Q177.246 231.656 171.436 231.656 Q165.626 231.656 162.547 227.073 Q159.491 222.466 159.491 213.739 Q159.491 204.989 162.547 200.406 Q165.626 195.8 171.436 195.8 Z\" fill=\"#000000\" fill-rule=\"evenodd\" fill-opacity=\"1\" /><path clip-path=\"url(#clip850)\" d=\"M201.598 199.503 Q197.987 199.503 196.158 203.068 Q194.352 206.61 194.352 213.739 Q194.352 220.846 196.158 224.411 Q197.987 227.952 201.598 227.952 Q205.232 227.952 207.037 224.411 Q208.866 220.846 208.866 213.739 Q208.866 206.61 207.037 203.068 Q205.232 199.503 201.598 199.503 M201.598 195.8 Q207.408 195.8 210.463 200.406 Q213.542 204.989 213.542 213.739 Q213.542 222.466 210.463 227.073 Q207.408 231.656 201.598 231.656 Q195.787 231.656 192.709 227.073 Q189.653 222.466 189.653 213.739 Q189.653 204.989 192.709 200.406 Q195.787 195.8 201.598 195.8 Z\" fill=\"#000000\" fill-rule=\"evenodd\" fill-opacity=\"1\" /><path clip-path=\"url(#clip850)\" d=\"M20.1444 1166.01 L26.9239 1166.01 Q23.9002 1169.26 22.4043 1172.95 Q20.9083 1176.61 20.9083 1180.75 Q20.9083 1188.9 25.9054 1193.22 Q30.8707 1197.55 40.2919 1197.55 Q49.6813 1197.55 54.6784 1193.22 Q59.6436 1188.9 59.6436 1180.75 Q59.6436 1176.61 58.1477 1172.95 Q56.6518 1169.26 53.6281 1166.01 L60.3439 1166.01 Q62.6355 1169.38 63.7814 1173.17 Q64.9272 1176.93 64.9272 1181.13 Q64.9272 1191.92 58.3387 1198.13 Q51.7183 1204.33 40.2919 1204.33 Q28.8336 1204.33 22.2451 1198.13 Q15.6248 1191.92 15.6248 1181.13 Q15.6248 1176.86 16.7706 1173.11 Q17.8846 1169.32 20.1444 1166.01 Z\" fill=\"#000000\" fill-rule=\"evenodd\" fill-opacity=\"1\" /><path clip-path=\"url(#clip850)\" d=\"M64.0042 1143.83 L16.4842 1161.97 L16.4842 1155.25 L56.4926 1140.2 L16.4842 1125.11 L16.4842 1118.43 L64.0042 1136.54 L64.0042 1143.83 Z\" fill=\"#000000\" fill-rule=\"evenodd\" fill-opacity=\"1\" /><path clip-path=\"url(#clip850)\" d=\"M44.7161 1060.53 L47.5806 1060.53 L47.5806 1087.46 Q53.6281 1087.08 56.8109 1083.83 Q59.9619 1080.55 59.9619 1074.73 Q59.9619 1071.35 59.1344 1068.2 Q58.3069 1065.02 56.6518 1061.9 L62.1899 1061.9 Q63.5267 1065.05 64.227 1068.36 Q64.9272 1071.67 64.9272 1075.08 Q64.9272 1083.61 59.9619 1088.6 Q54.9967 1093.57 46.5303 1093.57 Q37.7774 1093.57 32.6531 1088.86 Q27.4968 1084.12 27.4968 1076.1 Q27.4968 1068.9 32.1438 1064.73 Q36.7589 1060.53 44.7161 1060.53 M42.9973 1066.39 Q38.1912 1066.45 35.3266 1069.09 Q32.4621 1071.7 32.4621 1076.03 Q32.4621 1080.93 35.2312 1083.89 Q38.0002 1086.82 43.0292 1087.27 L42.9973 1066.39 Z\" fill=\"#000000\" fill-rule=\"evenodd\" fill-opacity=\"1\" /><path clip-path=\"url(#clip850)\" d=\"M29.4065 1028.19 L34.9447 1028.19 Q33.6716 1030.68 33.035 1033.35 Q32.3984 1036.02 32.3984 1038.89 Q32.3984 1043.25 33.7352 1045.44 Q35.072 1047.61 37.7456 1047.61 Q39.7826 1047.61 40.9603 1046.05 Q42.1061 1044.49 43.1565 1039.78 L43.6021 1037.77 Q44.9389 1031.54 47.3897 1028.93 Q49.8086 1026.28 54.1691 1026.28 Q59.1344 1026.28 62.0308 1030.23 Q64.9272 1034.15 64.9272 1041.02 Q64.9272 1043.89 64.3543 1047 Q63.8132 1050.09 62.6992 1053.53 L56.6518 1053.53 Q58.3387 1050.28 59.198 1047.13 Q60.0256 1043.98 60.0256 1040.89 Q60.0256 1036.76 58.6251 1034.53 Q57.1929 1032.3 54.6147 1032.3 Q52.2276 1032.3 50.9545 1033.92 Q49.6813 1035.51 48.5037 1040.96 L48.0262 1042.99 Q46.8804 1048.44 44.5251 1050.86 Q42.138 1053.27 38.0002 1053.27 Q32.9713 1053.27 30.2341 1049.71 Q27.4968 1046.14 27.4968 1039.59 Q27.4968 1036.34 27.9743 1033.48 Q28.4517 1030.61 29.4065 1028.19 Z\" fill=\"#000000\" fill-rule=\"evenodd\" fill-opacity=\"1\" /><path clip-path=\"url(#clip850)\" d=\"M18.2347 1011.17 L28.3562 1011.17 L28.3562 999.102 L32.9077 999.102 L32.9077 1011.17 L52.2594 1011.17 Q56.6199 1011.17 57.8613 1009.99 Q59.1026 1008.78 59.1026 1005.12 L59.1026 999.102 L64.0042 999.102 L64.0042 1005.12 Q64.0042 1011.9 61.4897 1014.48 Q58.9434 1017.05 52.2594 1017.05 L32.9077 1017.05 L32.9077 1021.35 L28.3562 1021.35 L28.3562 1017.05 L18.2347 1017.05 L18.2347 1011.17 Z\" fill=\"#000000\" fill-rule=\"evenodd\" fill-opacity=\"1\" /><path clip-path=\"url(#clip850)\" d=\"M28.3562 991.4 L28.3562 985.543 L64.0042 985.543 L64.0042 991.4 L28.3562 991.4 M14.479 991.4 L14.479 985.543 L21.895 985.543 L21.895 991.4 L14.479 991.4 Z\" fill=\"#000000\" fill-rule=\"evenodd\" fill-opacity=\"1\" /><path clip-path=\"url(#clip850)\" d=\"M35.1993 945.535 Q31.2526 943.339 29.3747 940.283 Q27.4968 937.228 27.4968 933.09 Q27.4968 927.52 31.4117 924.496 Q35.2948 921.473 42.4881 921.473 L64.0042 921.473 L64.0042 927.361 L42.679 927.361 Q37.5546 927.361 35.072 929.175 Q32.5894 930.989 32.5894 934.713 Q32.5894 939.265 35.6131 941.906 Q38.6368 944.548 43.8567 944.548 L64.0042 944.548 L64.0042 950.437 L42.679 950.437 Q37.5228 950.437 35.072 952.251 Q32.5894 954.065 32.5894 957.853 Q32.5894 962.34 35.6449 964.982 Q38.6686 967.624 43.8567 967.624 L64.0042 967.624 L64.0042 973.512 L28.3562 973.512 L28.3562 967.624 L33.8944 967.624 Q30.616 965.619 29.0564 962.818 Q27.4968 960.017 27.4968 956.166 Q27.4968 952.283 29.4702 949.577 Q31.4436 946.84 35.1993 945.535 Z\" fill=\"#000000\" fill-rule=\"evenodd\" fill-opacity=\"1\" /><path clip-path=\"url(#clip850)\" d=\"M46.0847 893.591 Q46.0847 900.689 47.7079 903.426 Q49.3312 906.163 53.2461 906.163 Q56.3653 906.163 58.2114 904.126 Q60.0256 902.057 60.0256 898.524 Q60.0256 893.654 56.5881 890.726 Q53.1188 887.766 47.3897 887.766 L46.0847 887.766 L46.0847 893.591 M43.6657 881.91 L64.0042 881.91 L64.0042 887.766 L58.5933 887.766 Q61.8398 889.771 63.3994 892.763 Q64.9272 895.755 64.9272 900.084 Q64.9272 905.558 61.8716 908.805 Q58.7843 912.019 53.6281 912.019 Q47.6125 912.019 44.5569 908.009 Q41.5014 903.967 41.5014 895.978 L41.5014 887.766 L40.9285 887.766 Q36.8862 887.766 34.6901 890.44 Q32.4621 893.081 32.4621 897.888 Q32.4621 900.943 33.1941 903.84 Q33.9262 906.736 35.3903 909.41 L29.9795 909.41 Q28.7381 906.195 28.1334 903.171 Q27.4968 900.147 27.4968 897.283 Q27.4968 889.549 31.5072 885.729 Q35.5176 881.91 43.6657 881.91 Z\" fill=\"#000000\" fill-rule=\"evenodd\" fill-opacity=\"1\" /><path clip-path=\"url(#clip850)\" d=\"M18.2347 864.054 L28.3562 864.054 L28.3562 851.991 L32.9077 851.991 L32.9077 864.054 L52.2594 864.054 Q56.6199 864.054 57.8613 862.876 Q59.1026 861.667 59.1026 858.006 L59.1026 851.991 L64.0042 851.991 L64.0042 858.006 Q64.0042 864.786 61.4897 867.364 Q58.9434 869.942 52.2594 869.942 L32.9077 869.942 L32.9077 874.239 L28.3562 874.239 L28.3562 869.942 L18.2347 869.942 L18.2347 864.054 Z\" fill=\"#000000\" fill-rule=\"evenodd\" fill-opacity=\"1\" /><path clip-path=\"url(#clip850)\" d=\"M44.7161 813.797 L47.5806 813.797 L47.5806 840.724 Q53.6281 840.342 56.8109 837.095 Q59.9619 833.817 59.9619 827.992 Q59.9619 824.618 59.1344 821.467 Q58.3069 818.284 56.6518 815.165 L62.1899 815.165 Q63.5267 818.316 64.227 821.626 Q64.9272 824.937 64.9272 828.342 Q64.9272 836.872 59.9619 841.869 Q54.9967 846.835 46.5303 846.835 Q37.7774 846.835 32.6531 842.124 Q27.4968 837.382 27.4968 829.361 Q27.4968 822.168 32.1438 817.998 Q36.7589 813.797 44.7161 813.797 M42.9973 819.653 Q38.1912 819.717 35.3266 822.358 Q32.4621 824.968 32.4621 829.297 Q32.4621 834.199 35.2312 837.159 Q38.0002 840.087 43.0292 840.533 L42.9973 819.653 Z\" fill=\"#000000\" fill-rule=\"evenodd\" fill-opacity=\"1\" /><path clip-path=\"url(#clip850)\" d=\"M32.4621 769.65 Q32.4621 774.361 36.1542 777.098 Q39.8145 779.836 46.212 779.836 Q52.6095 779.836 56.3017 777.13 Q59.9619 774.393 59.9619 769.65 Q59.9619 764.972 56.2698 762.234 Q52.5777 759.497 46.212 759.497 Q39.8781 759.497 36.186 762.234 Q32.4621 764.972 32.4621 769.65 M27.4968 769.65 Q27.4968 762.012 32.4621 757.651 Q37.4273 753.291 46.212 753.291 Q54.9649 753.291 59.9619 757.651 Q64.9272 762.012 64.9272 769.65 Q64.9272 777.321 59.9619 781.682 Q54.9649 786.01 46.212 786.01 Q37.4273 786.01 32.4621 781.682 Q27.4968 777.321 27.4968 769.65 Z\" fill=\"#000000\" fill-rule=\"evenodd\" fill-opacity=\"1\" /><path clip-path=\"url(#clip850)\" d=\"M14.479 725.536 L19.3487 725.536 L19.3487 731.138 Q19.3487 734.289 20.6219 735.53 Q21.895 736.74 25.2052 736.74 L28.3562 736.74 L28.3562 727.096 L32.9077 727.096 L32.9077 736.74 L64.0042 736.74 L64.0042 742.628 L32.9077 742.628 L32.9077 748.23 L28.3562 748.23 L28.3562 742.628 L25.8736 742.628 Q19.9216 742.628 17.2162 739.859 Q14.479 737.09 14.479 731.074 L14.479 725.536 Z\" fill=\"#000000\" fill-rule=\"evenodd\" fill-opacity=\"1\" /><path clip-path=\"url(#clip850)\" d=\"M29.7248 674.26 L35.1993 674.26 Q33.8307 676.743 33.1623 679.257 Q32.4621 681.74 32.4621 684.286 Q32.4621 689.984 36.0905 693.135 Q39.6872 696.286 46.212 696.286 Q52.7369 696.286 56.3653 693.135 Q59.9619 689.984 59.9619 684.286 Q59.9619 681.74 59.2935 679.257 Q58.5933 676.743 57.2247 674.26 L62.6355 674.26 Q63.7814 676.711 64.3543 679.353 Q64.9272 681.963 64.9272 684.923 Q64.9272 692.976 59.8664 697.718 Q54.8057 702.46 46.212 702.46 Q37.491 702.46 32.4939 697.686 Q27.4968 692.88 27.4968 684.541 Q27.4968 681.836 28.0697 679.257 Q28.6108 676.679 29.7248 674.26 Z\" fill=\"#000000\" fill-rule=\"evenodd\" fill-opacity=\"1\" /><path clip-path=\"url(#clip850)\" d=\"M33.8307 643.418 Q33.2578 644.405 33.0032 645.583 Q32.7167 646.729 32.7167 648.129 Q32.7167 653.094 35.9632 655.768 Q39.1779 658.41 45.2253 658.41 L64.0042 658.41 L64.0042 664.298 L28.3562 664.298 L28.3562 658.41 L33.8944 658.41 Q30.6479 656.564 29.0883 653.604 Q27.4968 650.644 27.4968 646.41 Q27.4968 645.806 27.5923 645.074 Q27.656 644.342 27.8151 643.45 L33.8307 643.418 Z\" fill=\"#000000\" fill-rule=\"evenodd\" fill-opacity=\"1\" /><path clip-path=\"url(#clip850)\" d=\"M32.4621 624.894 Q32.4621 629.605 36.1542 632.342 Q39.8145 635.079 46.212 635.079 Q52.6095 635.079 56.3017 632.374 Q59.9619 629.637 59.9619 624.894 Q59.9619 620.215 56.2698 617.478 Q52.5777 614.741 46.212 614.741 Q39.8781 614.741 36.186 617.478 Q32.4621 620.215 32.4621 624.894 M27.4968 624.894 Q27.4968 617.255 32.4621 612.895 Q37.4273 608.534 46.212 608.534 Q54.9649 608.534 59.9619 612.895 Q64.9272 617.255 64.9272 624.894 Q64.9272 632.565 59.9619 636.925 Q54.9649 641.254 46.212 641.254 Q37.4273 641.254 32.4621 636.925 Q27.4968 632.565 27.4968 624.894 Z\" fill=\"#000000\" fill-rule=\"evenodd\" fill-opacity=\"1\" /><path clip-path=\"url(#clip850)\" d=\"M29.4065 576.101 L34.9447 576.101 Q33.6716 578.584 33.035 581.257 Q32.3984 583.931 32.3984 586.796 Q32.3984 591.156 33.7352 593.352 Q35.072 595.517 37.7456 595.517 Q39.7826 595.517 40.9603 593.957 Q42.1061 592.397 43.1565 587.687 L43.6021 585.682 Q44.9389 579.443 47.3897 576.833 Q49.8086 574.191 54.1691 574.191 Q59.1344 574.191 62.0308 578.138 Q64.9272 582.053 64.9272 588.928 Q64.9272 591.793 64.3543 594.912 Q63.8132 597.999 62.6992 601.437 L56.6518 601.437 Q58.3387 598.19 59.198 595.039 Q60.0256 591.888 60.0256 588.801 Q60.0256 584.663 58.6251 582.435 Q57.1929 580.207 54.6147 580.207 Q52.2276 580.207 50.9545 581.83 Q49.6813 583.422 48.5037 588.864 L48.0262 590.901 Q46.8804 596.344 44.5251 598.763 Q42.138 601.182 38.0002 601.182 Q32.9713 601.182 30.2341 597.617 Q27.4968 594.052 27.4968 587.496 Q27.4968 584.249 27.9743 581.385 Q28.4517 578.52 29.4065 576.101 Z\" fill=\"#000000\" fill-rule=\"evenodd\" fill-opacity=\"1\" /><path clip-path=\"url(#clip850)\" d=\"M29.4065 542.14 L34.9447 542.14 Q33.6716 544.623 33.035 547.296 Q32.3984 549.97 32.3984 552.834 Q32.3984 557.195 33.7352 559.391 Q35.072 561.555 37.7456 561.555 Q39.7826 561.555 40.9603 559.996 Q42.1061 558.436 43.1565 553.726 L43.6021 551.72 Q44.9389 545.482 47.3897 542.872 Q49.8086 540.23 54.1691 540.23 Q59.1344 540.23 62.0308 544.177 Q64.9272 548.092 64.9272 554.967 Q64.9272 557.832 64.3543 560.951 Q63.8132 564.038 62.6992 567.476 L56.6518 567.476 Q58.3387 564.229 59.198 561.078 Q60.0256 557.927 60.0256 554.84 Q60.0256 550.702 58.6251 548.474 Q57.1929 546.246 54.6147 546.246 Q52.2276 546.246 50.9545 547.869 Q49.6813 549.461 48.5037 554.903 L48.0262 556.94 Q46.8804 562.383 44.5251 564.802 Q42.138 567.221 38.0002 567.221 Q32.9713 567.221 30.2341 563.656 Q27.4968 560.091 27.4968 553.535 Q27.4968 550.288 27.9743 547.424 Q28.4517 544.559 29.4065 542.14 Z\" fill=\"#000000\" fill-rule=\"evenodd\" fill-opacity=\"1\" /><path clip-path=\"url(#clip850)\" d=\"M44.7161 479.693 L47.5806 479.693 L47.5806 506.619 Q53.6281 506.238 56.8109 502.991 Q59.9619 499.713 59.9619 493.888 Q59.9619 490.514 59.1344 487.363 Q58.3069 484.18 56.6518 481.061 L62.1899 481.061 Q63.5267 484.212 64.227 487.522 Q64.9272 490.832 64.9272 494.238 Q64.9272 502.768 59.9619 507.765 Q54.9967 512.731 46.5303 512.731 Q37.7774 512.731 32.6531 508.02 Q27.4968 503.277 27.4968 495.257 Q27.4968 488.063 32.1438 483.894 Q36.7589 479.693 44.7161 479.693 M42.9973 485.549 Q38.1912 485.613 35.3266 488.254 Q32.4621 490.864 32.4621 495.193 Q32.4621 500.095 35.2312 503.055 Q38.0002 505.983 43.0292 506.428 L42.9973 485.549 Z\" fill=\"#000000\" fill-rule=\"evenodd\" fill-opacity=\"1\" /><path clip-path=\"url(#clip850)\" d=\"M42.4881 440.448 L64.0042 440.448 L64.0042 446.304 L42.679 446.304 Q37.6183 446.304 35.1038 448.278 Q32.5894 450.251 32.5894 454.198 Q32.5894 458.94 35.6131 461.678 Q38.6368 464.415 43.8567 464.415 L64.0042 464.415 L64.0042 470.303 L28.3562 470.303 L28.3562 464.415 L33.8944 464.415 Q30.6797 462.314 29.0883 459.481 Q27.4968 456.617 27.4968 452.893 Q27.4968 446.75 31.3163 443.599 Q35.1038 440.448 42.4881 440.448 Z\" fill=\"#000000\" fill-rule=\"evenodd\" fill-opacity=\"1\" /><path clip-path=\"url(#clip850)\" d=\"M18.2347 422.974 L28.3562 422.974 L28.3562 410.911 L32.9077 410.911 L32.9077 422.974 L52.2594 422.974 Q56.6199 422.974 57.8613 421.796 Q59.1026 420.587 59.1026 416.927 L59.1026 410.911 L64.0042 410.911 L64.0042 416.927 Q64.0042 423.706 61.4897 426.284 Q58.9434 428.862 52.2594 428.862 L32.9077 428.862 L32.9077 433.159 L28.3562 433.159 L28.3562 428.862 L18.2347 428.862 L18.2347 422.974 Z\" fill=\"#000000\" fill-rule=\"evenodd\" fill-opacity=\"1\" /><path clip-path=\"url(#clip850)\" d=\"M33.8307 382.552 Q33.2578 383.539 33.0032 384.716 Q32.7167 385.862 32.7167 387.262 Q32.7167 392.228 35.9632 394.901 Q39.1779 397.543 45.2253 397.543 L64.0042 397.543 L64.0042 403.431 L28.3562 403.431 L28.3562 397.543 L33.8944 397.543 Q30.6479 395.697 29.0883 392.737 Q27.4968 389.777 27.4968 385.544 Q27.4968 384.939 27.5923 384.207 Q27.656 383.475 27.8151 382.584 L33.8307 382.552 Z\" fill=\"#000000\" fill-rule=\"evenodd\" fill-opacity=\"1\" /><path clip-path=\"url(#clip850)\" d=\"M32.4621 364.028 Q32.4621 368.738 36.1542 371.475 Q39.8145 374.213 46.212 374.213 Q52.6095 374.213 56.3017 371.507 Q59.9619 368.77 59.9619 364.028 Q59.9619 359.349 56.2698 356.612 Q52.5777 353.874 46.212 353.874 Q39.8781 353.874 36.186 356.612 Q32.4621 359.349 32.4621 364.028 M27.4968 364.028 Q27.4968 356.389 32.4621 352.028 Q37.4273 347.668 46.212 347.668 Q54.9649 347.668 59.9619 352.028 Q64.9272 356.389 64.9272 364.028 Q64.9272 371.698 59.9619 376.059 Q54.9649 380.387 46.212 380.387 Q37.4273 380.387 32.4621 376.059 Q27.4968 371.698 27.4968 364.028 Z\" fill=\"#000000\" fill-rule=\"evenodd\" fill-opacity=\"1\" /><path clip-path=\"url(#clip850)\" d=\"M58.657 332.295 L77.5631 332.295 L77.5631 338.183 L28.3562 338.183 L28.3562 332.295 L33.7671 332.295 Q30.5842 330.449 29.0564 327.648 Q27.4968 324.815 27.4968 320.9 Q27.4968 314.407 32.6531 310.365 Q37.8093 306.291 46.212 306.291 Q54.6147 306.291 59.771 310.365 Q64.9272 314.407 64.9272 320.9 Q64.9272 324.815 63.3994 327.648 Q61.8398 330.449 58.657 332.295 M46.212 312.37 Q39.7508 312.37 36.0905 315.044 Q32.3984 317.685 32.3984 322.332 Q32.3984 326.979 36.0905 329.653 Q39.7508 332.295 46.212 332.295 Q52.6732 332.295 56.3653 329.653 Q60.0256 326.979 60.0256 322.332 Q60.0256 317.685 56.3653 315.044 Q52.6732 312.37 46.212 312.37 Z\" fill=\"#000000\" fill-rule=\"evenodd\" fill-opacity=\"1\" /><path clip-path=\"url(#clip850)\" d=\"M67.3143 281.751 Q73.68 284.233 75.6216 286.589 Q77.5631 288.944 77.5631 292.891 L77.5631 297.57 L72.6615 297.57 L72.6615 294.132 Q72.6615 291.713 71.5157 290.376 Q70.3699 289.04 66.1048 287.416 L63.4312 286.366 L28.3562 300.784 L28.3562 294.578 L56.238 283.438 L28.3562 272.298 L28.3562 266.091 L67.3143 281.751 Z\" fill=\"#000000\" fill-rule=\"evenodd\" fill-opacity=\"1\" /><polyline clip-path=\"url(#clip852)\" style=\"stroke:#009af9; stroke-linecap:butt; stroke-linejoin:round; stroke-width:4; stroke-opacity:1; fill:none\" points=\"\n",
       "  309.067,594.559 529.53,1335.04 749.992,1271.64 970.455,1236.19 1190.92,1129.07 1411.38,940.288 1631.84,816.947 1852.31,260.985 2072.77,438.555 2293.23,521.549 \n",
       "  \n",
       "  \"/>\n",
       "<polyline clip-path=\"url(#clip852)\" style=\"stroke:#e26f46; stroke-linecap:butt; stroke-linejoin:round; stroke-width:4; stroke-opacity:1; fill:none\" points=\"\n",
       "  309.067,594.559 529.53,1361.57 749.992,1384.24 970.455,1300.45 1190.92,1114.88 1411.38,892.521 1631.84,753.126 1852.31,590.831 2072.77,446.914 2293.23,86.1857 \n",
       "  \n",
       "  \"/>\n",
       "<path clip-path=\"url(#clip850)\" d=\"\n",
       "M1996.53 248.629 L2282.65 248.629 L2282.65 93.1086 L1996.53 93.1086  Z\n",
       "  \" fill=\"#ffffff\" fill-rule=\"evenodd\" fill-opacity=\"1\"/>\n",
       "<polyline clip-path=\"url(#clip850)\" style=\"stroke:#000000; stroke-linecap:butt; stroke-linejoin:round; stroke-width:4; stroke-opacity:1; fill:none\" points=\"\n",
       "  1996.53,248.629 2282.65,248.629 2282.65,93.1086 1996.53,93.1086 1996.53,248.629 \n",
       "  \"/>\n",
       "<polyline clip-path=\"url(#clip850)\" style=\"stroke:#009af9; stroke-linecap:butt; stroke-linejoin:round; stroke-width:4; stroke-opacity:1; fill:none\" points=\"\n",
       "  2019.9,144.949 2160.11,144.949 \n",
       "  \"/>\n",
       "<path clip-path=\"url(#clip850)\" d=\"M2197.32 164.636 Q2195.52 169.266 2193.8 170.678 Q2192.09 172.09 2189.22 172.09 L2185.82 172.09 L2185.82 168.525 L2188.32 168.525 Q2190.08 168.525 2191.05 167.692 Q2192.02 166.858 2193.2 163.756 L2193.97 161.812 L2183.48 136.303 L2187.99 136.303 L2196.1 156.581 L2204.2 136.303 L2208.71 136.303 L2197.32 164.636 Z\" fill=\"#000000\" fill-rule=\"evenodd\" fill-opacity=\"1\" /><path clip-path=\"url(#clip850)\" d=\"M2216 158.293 L2223.64 158.293 L2223.64 131.928 L2215.33 133.595 L2215.33 129.335 L2223.6 127.669 L2228.27 127.669 L2228.27 158.293 L2235.91 158.293 L2235.91 162.229 L2216 162.229 L2216 158.293 Z\" fill=\"#000000\" fill-rule=\"evenodd\" fill-opacity=\"1\" /><polyline clip-path=\"url(#clip850)\" style=\"stroke:#e26f46; stroke-linecap:butt; stroke-linejoin:round; stroke-width:4; stroke-opacity:1; fill:none\" points=\"\n",
       "  2019.9,196.789 2160.11,196.789 \n",
       "  \"/>\n",
       "<path clip-path=\"url(#clip850)\" d=\"M2197.32 216.476 Q2195.52 221.106 2193.8 222.518 Q2192.09 223.93 2189.22 223.93 L2185.82 223.93 L2185.82 220.365 L2188.32 220.365 Q2190.08 220.365 2191.05 219.532 Q2192.02 218.698 2193.2 215.596 L2193.97 213.652 L2183.48 188.143 L2187.99 188.143 L2196.1 208.421 L2204.2 188.143 L2208.71 188.143 L2197.32 216.476 Z\" fill=\"#000000\" fill-rule=\"evenodd\" fill-opacity=\"1\" /><path clip-path=\"url(#clip850)\" d=\"M2219.22 210.133 L2235.54 210.133 L2235.54 214.069 L2213.6 214.069 L2213.6 210.133 Q2216.26 207.379 2220.84 202.749 Q2225.45 198.096 2226.63 196.754 Q2228.87 194.231 2229.75 192.495 Q2230.66 190.735 2230.66 189.046 Q2230.66 186.291 2228.71 184.555 Q2226.79 182.819 2223.69 182.819 Q2221.49 182.819 2219.04 183.583 Q2216.61 184.347 2213.83 185.897 L2213.83 181.175 Q2216.65 180.041 2219.11 179.462 Q2221.56 178.884 2223.6 178.884 Q2228.97 178.884 2232.16 181.569 Q2235.36 184.254 2235.36 188.745 Q2235.36 190.874 2234.54 192.796 Q2233.76 194.694 2231.65 197.286 Q2231.07 197.958 2227.97 201.175 Q2224.87 204.37 2219.22 210.133 Z\" fill=\"#000000\" fill-rule=\"evenodd\" fill-opacity=\"1\" /></svg>\n"
      ]
     },
     "execution_count": 29,
     "metadata": {},
     "output_type": "execute_result"
    }
   ],
   "source": [
    "using Random\n",
    "pipe.evo_tree_classifier.rng = MersenneTwister(123)\n",
    "curve = learning_curve(mach,\n",
    "                       range=r,\n",
    "                       resampling=CV(nfolds=6),\n",
    "                       measure=cross_entropy)\n",
    "plot!(curve.parameter_values, curve.measurements)\n",
    "savefig(\"exercise_7c_2.png\")\n",
    "plt"
   ]
  },
  {
   "cell_type": "markdown",
   "metadata": {},
   "source": [
    "One can automate the production of multiple curves with different\n",
    "seeds in the following way:"
   ]
  },
  {
   "cell_type": "code",
   "execution_count": 30,
   "metadata": {},
   "outputs": [
    {
     "name": "stderr",
     "output_type": "stream",
     "text": [
      "\u001b[33mEvaluating Learning curve with 6 rngs: 100%[==================] Time: 0:01:19\u001b[39m\n"
     ]
    },
    {
     "data": {
      "image/svg+xml": [
       "<?xml version=\"1.0\" encoding=\"utf-8\"?>\n",
       "<svg xmlns=\"http://www.w3.org/2000/svg\" xmlns:xlink=\"http://www.w3.org/1999/xlink\" width=\"600\" height=\"400\" viewBox=\"0 0 2400 1600\">\n",
       "<defs>\n",
       "  <clipPath id=\"clip900\">\n",
       "    <rect x=\"0\" y=\"0\" width=\"2400\" height=\"1600\"/>\n",
       "  </clipPath>\n",
       "</defs>\n",
       "<path clip-path=\"url(#clip900)\" d=\"\n",
       "M0 1600 L2400 1600 L2400 0 L0 0  Z\n",
       "  \" fill=\"#ffffff\" fill-rule=\"evenodd\" fill-opacity=\"1\"/>\n",
       "<defs>\n",
       "  <clipPath id=\"clip901\">\n",
       "    <rect x=\"480\" y=\"0\" width=\"1681\" height=\"1600\"/>\n",
       "  </clipPath>\n",
       "</defs>\n",
       "<path clip-path=\"url(#clip900)\" d=\"\n",
       "M186.274 1486.45 L2352.76 1486.45 L2352.76 47.2441 L186.274 47.2441  Z\n",
       "  \" fill=\"#ffffff\" fill-rule=\"evenodd\" fill-opacity=\"1\"/>\n",
       "<defs>\n",
       "  <clipPath id=\"clip902\">\n",
       "    <rect x=\"186\" y=\"47\" width=\"2167\" height=\"1440\"/>\n",
       "  </clipPath>\n",
       "</defs>\n",
       "<polyline clip-path=\"url(#clip902)\" style=\"stroke:#000000; stroke-linecap:butt; stroke-linejoin:round; stroke-width:2; stroke-opacity:0.1; fill:none\" points=\"\n",
       "  474.684,1486.45 474.684,47.2441 \n",
       "  \"/>\n",
       "<polyline clip-path=\"url(#clip902)\" style=\"stroke:#000000; stroke-linecap:butt; stroke-linejoin:round; stroke-width:2; stroke-opacity:0.1; fill:none\" points=\"\n",
       "  928.873,1486.45 928.873,47.2441 \n",
       "  \"/>\n",
       "<polyline clip-path=\"url(#clip902)\" style=\"stroke:#000000; stroke-linecap:butt; stroke-linejoin:round; stroke-width:2; stroke-opacity:0.1; fill:none\" points=\"\n",
       "  1383.06,1486.45 1383.06,47.2441 \n",
       "  \"/>\n",
       "<polyline clip-path=\"url(#clip902)\" style=\"stroke:#000000; stroke-linecap:butt; stroke-linejoin:round; stroke-width:2; stroke-opacity:0.1; fill:none\" points=\"\n",
       "  1837.25,1486.45 1837.25,47.2441 \n",
       "  \"/>\n",
       "<polyline clip-path=\"url(#clip902)\" style=\"stroke:#000000; stroke-linecap:butt; stroke-linejoin:round; stroke-width:2; stroke-opacity:0.1; fill:none\" points=\"\n",
       "  2291.44,1486.45 2291.44,47.2441 \n",
       "  \"/>\n",
       "<polyline clip-path=\"url(#clip900)\" style=\"stroke:#000000; stroke-linecap:butt; stroke-linejoin:round; stroke-width:4; stroke-opacity:1; fill:none\" points=\"\n",
       "  186.274,1486.45 2352.76,1486.45 \n",
       "  \"/>\n",
       "<polyline clip-path=\"url(#clip900)\" style=\"stroke:#000000; stroke-linecap:butt; stroke-linejoin:round; stroke-width:4; stroke-opacity:1; fill:none\" points=\"\n",
       "  474.684,1486.45 474.684,1467.55 \n",
       "  \"/>\n",
       "<polyline clip-path=\"url(#clip900)\" style=\"stroke:#000000; stroke-linecap:butt; stroke-linejoin:round; stroke-width:4; stroke-opacity:1; fill:none\" points=\"\n",
       "  928.873,1486.45 928.873,1467.55 \n",
       "  \"/>\n",
       "<polyline clip-path=\"url(#clip900)\" style=\"stroke:#000000; stroke-linecap:butt; stroke-linejoin:round; stroke-width:4; stroke-opacity:1; fill:none\" points=\"\n",
       "  1383.06,1486.45 1383.06,1467.55 \n",
       "  \"/>\n",
       "<polyline clip-path=\"url(#clip900)\" style=\"stroke:#000000; stroke-linecap:butt; stroke-linejoin:round; stroke-width:4; stroke-opacity:1; fill:none\" points=\"\n",
       "  1837.25,1486.45 1837.25,1467.55 \n",
       "  \"/>\n",
       "<polyline clip-path=\"url(#clip900)\" style=\"stroke:#000000; stroke-linecap:butt; stroke-linejoin:round; stroke-width:4; stroke-opacity:1; fill:none\" points=\"\n",
       "  2291.44,1486.45 2291.44,1467.55 \n",
       "  \"/>\n",
       "<path clip-path=\"url(#clip900)\" d=\"M469.337 1544.91 L485.656 1544.91 L485.656 1548.85 L463.712 1548.85 L463.712 1544.91 Q466.374 1542.16 470.957 1537.53 Q475.564 1532.88 476.744 1531.53 Q478.99 1529.01 479.869 1527.27 Q480.772 1525.51 480.772 1523.82 Q480.772 1521.07 478.828 1519.33 Q476.906 1517.6 473.804 1517.6 Q471.605 1517.6 469.152 1518.36 Q466.721 1519.13 463.943 1520.68 L463.943 1515.95 Q466.767 1514.82 469.221 1514.24 Q471.675 1513.66 473.712 1513.66 Q479.082 1513.66 482.277 1516.35 Q485.471 1519.03 485.471 1523.52 Q485.471 1525.65 484.661 1527.57 Q483.874 1529.47 481.767 1532.07 Q481.189 1532.74 478.087 1535.95 Q474.985 1539.15 469.337 1544.91 Z\" fill=\"#000000\" fill-rule=\"evenodd\" fill-opacity=\"1\" /><path clip-path=\"url(#clip900)\" d=\"M931.882 1518.36 L920.077 1536.81 L931.882 1536.81 L931.882 1518.36 M930.656 1514.29 L936.535 1514.29 L936.535 1536.81 L941.466 1536.81 L941.466 1540.7 L936.535 1540.7 L936.535 1548.85 L931.882 1548.85 L931.882 1540.7 L916.281 1540.7 L916.281 1536.19 L930.656 1514.29 Z\" fill=\"#000000\" fill-rule=\"evenodd\" fill-opacity=\"1\" /><path clip-path=\"url(#clip900)\" d=\"M1383.47 1529.7 Q1380.32 1529.7 1378.47 1531.86 Q1376.64 1534.01 1376.64 1537.76 Q1376.64 1541.49 1378.47 1543.66 Q1380.32 1545.82 1383.47 1545.82 Q1386.62 1545.82 1388.44 1543.66 Q1390.3 1541.49 1390.3 1537.76 Q1390.3 1534.01 1388.44 1531.86 Q1386.62 1529.7 1383.47 1529.7 M1392.75 1515.05 L1392.75 1519.31 Q1390.99 1518.48 1389.18 1518.04 Q1387.4 1517.6 1385.64 1517.6 Q1381.01 1517.6 1378.56 1520.72 Q1376.13 1523.85 1375.78 1530.17 Q1377.15 1528.15 1379.21 1527.09 Q1381.27 1526 1383.75 1526 Q1388.95 1526 1391.96 1529.17 Q1395 1532.32 1395 1537.76 Q1395 1543.08 1391.85 1546.3 Q1388.7 1549.52 1383.47 1549.52 Q1377.47 1549.52 1374.3 1544.94 Q1371.13 1540.33 1371.13 1531.6 Q1371.13 1523.41 1375.02 1518.55 Q1378.91 1513.66 1385.46 1513.66 Q1387.22 1513.66 1389 1514.01 Q1390.81 1514.36 1392.75 1515.05 Z\" fill=\"#000000\" fill-rule=\"evenodd\" fill-opacity=\"1\" /><path clip-path=\"url(#clip900)\" d=\"M1837.25 1532.44 Q1833.92 1532.44 1832 1534.22 Q1830.1 1536 1830.1 1539.13 Q1830.1 1542.25 1832 1544.03 Q1833.92 1545.82 1837.25 1545.82 Q1840.58 1545.82 1842.51 1544.03 Q1844.43 1542.23 1844.43 1539.13 Q1844.43 1536 1842.51 1534.22 Q1840.61 1532.44 1837.25 1532.44 M1832.58 1530.45 Q1829.57 1529.7 1827.88 1527.64 Q1826.21 1525.58 1826.21 1522.62 Q1826.21 1518.48 1829.15 1516.07 Q1832.11 1513.66 1837.25 1513.66 Q1842.41 1513.66 1845.35 1516.07 Q1848.29 1518.48 1848.29 1522.62 Q1848.29 1525.58 1846.6 1527.64 Q1844.94 1529.7 1841.95 1530.45 Q1845.33 1531.23 1847.2 1533.52 Q1849.1 1535.82 1849.1 1539.13 Q1849.1 1544.15 1846.02 1546.83 Q1842.97 1549.52 1837.25 1549.52 Q1831.53 1549.52 1828.46 1546.83 Q1825.4 1544.15 1825.4 1539.13 Q1825.4 1535.82 1827.3 1533.52 Q1829.2 1531.23 1832.58 1530.45 M1830.86 1523.06 Q1830.86 1525.75 1832.53 1527.25 Q1834.22 1528.76 1837.25 1528.76 Q1840.26 1528.76 1841.95 1527.25 Q1843.66 1525.75 1843.66 1523.06 Q1843.66 1520.38 1841.95 1518.87 Q1840.26 1517.37 1837.25 1517.37 Q1834.22 1517.37 1832.53 1518.87 Q1830.86 1520.38 1830.86 1523.06 Z\" fill=\"#000000\" fill-rule=\"evenodd\" fill-opacity=\"1\" /><path clip-path=\"url(#clip900)\" d=\"M2266.13 1544.91 L2273.77 1544.91 L2273.77 1518.55 L2265.46 1520.21 L2265.46 1515.95 L2273.72 1514.29 L2278.4 1514.29 L2278.4 1544.91 L2286.04 1544.91 L2286.04 1548.85 L2266.13 1548.85 L2266.13 1544.91 Z\" fill=\"#000000\" fill-rule=\"evenodd\" fill-opacity=\"1\" /><path clip-path=\"url(#clip900)\" d=\"M2305.48 1517.37 Q2301.87 1517.37 2300.04 1520.93 Q2298.23 1524.47 2298.23 1531.6 Q2298.23 1538.71 2300.04 1542.27 Q2301.87 1545.82 2305.48 1545.82 Q2309.11 1545.82 2310.92 1542.27 Q2312.75 1538.71 2312.75 1531.6 Q2312.75 1524.47 2310.92 1520.93 Q2309.11 1517.37 2305.48 1517.37 M2305.48 1513.66 Q2311.29 1513.66 2314.35 1518.27 Q2317.42 1522.85 2317.42 1531.6 Q2317.42 1540.33 2314.35 1544.94 Q2311.29 1549.52 2305.48 1549.52 Q2299.67 1549.52 2296.59 1544.94 Q2293.54 1540.33 2293.54 1531.6 Q2293.54 1522.85 2296.59 1518.27 Q2299.67 1513.66 2305.48 1513.66 Z\" fill=\"#000000\" fill-rule=\"evenodd\" fill-opacity=\"1\" /><polyline clip-path=\"url(#clip902)\" style=\"stroke:#000000; stroke-linecap:butt; stroke-linejoin:round; stroke-width:2; stroke-opacity:0.1; fill:none\" points=\"\n",
       "  186.274,1461.9 2352.76,1461.9 \n",
       "  \"/>\n",
       "<polyline clip-path=\"url(#clip902)\" style=\"stroke:#000000; stroke-linecap:butt; stroke-linejoin:round; stroke-width:2; stroke-opacity:0.1; fill:none\" points=\"\n",
       "  186.274,1195.26 2352.76,1195.26 \n",
       "  \"/>\n",
       "<polyline clip-path=\"url(#clip902)\" style=\"stroke:#000000; stroke-linecap:butt; stroke-linejoin:round; stroke-width:2; stroke-opacity:0.1; fill:none\" points=\"\n",
       "  186.274,928.63 2352.76,928.63 \n",
       "  \"/>\n",
       "<polyline clip-path=\"url(#clip902)\" style=\"stroke:#000000; stroke-linecap:butt; stroke-linejoin:round; stroke-width:2; stroke-opacity:0.1; fill:none\" points=\"\n",
       "  186.274,661.996 2352.76,661.996 \n",
       "  \"/>\n",
       "<polyline clip-path=\"url(#clip902)\" style=\"stroke:#000000; stroke-linecap:butt; stroke-linejoin:round; stroke-width:2; stroke-opacity:0.1; fill:none\" points=\"\n",
       "  186.274,395.362 2352.76,395.362 \n",
       "  \"/>\n",
       "<polyline clip-path=\"url(#clip902)\" style=\"stroke:#000000; stroke-linecap:butt; stroke-linejoin:round; stroke-width:2; stroke-opacity:0.1; fill:none\" points=\"\n",
       "  186.274,128.727 2352.76,128.727 \n",
       "  \"/>\n",
       "<polyline clip-path=\"url(#clip900)\" style=\"stroke:#000000; stroke-linecap:butt; stroke-linejoin:round; stroke-width:4; stroke-opacity:1; fill:none\" points=\"\n",
       "  186.274,1486.45 186.274,47.2441 \n",
       "  \"/>\n",
       "<polyline clip-path=\"url(#clip900)\" style=\"stroke:#000000; stroke-linecap:butt; stroke-linejoin:round; stroke-width:4; stroke-opacity:1; fill:none\" points=\"\n",
       "  186.274,1461.9 205.172,1461.9 \n",
       "  \"/>\n",
       "<polyline clip-path=\"url(#clip900)\" style=\"stroke:#000000; stroke-linecap:butt; stroke-linejoin:round; stroke-width:4; stroke-opacity:1; fill:none\" points=\"\n",
       "  186.274,1195.26 205.172,1195.26 \n",
       "  \"/>\n",
       "<polyline clip-path=\"url(#clip900)\" style=\"stroke:#000000; stroke-linecap:butt; stroke-linejoin:round; stroke-width:4; stroke-opacity:1; fill:none\" points=\"\n",
       "  186.274,928.63 205.172,928.63 \n",
       "  \"/>\n",
       "<polyline clip-path=\"url(#clip900)\" style=\"stroke:#000000; stroke-linecap:butt; stroke-linejoin:round; stroke-width:4; stroke-opacity:1; fill:none\" points=\"\n",
       "  186.274,661.996 205.172,661.996 \n",
       "  \"/>\n",
       "<polyline clip-path=\"url(#clip900)\" style=\"stroke:#000000; stroke-linecap:butt; stroke-linejoin:round; stroke-width:4; stroke-opacity:1; fill:none\" points=\"\n",
       "  186.274,395.362 205.172,395.362 \n",
       "  \"/>\n",
       "<polyline clip-path=\"url(#clip900)\" style=\"stroke:#000000; stroke-linecap:butt; stroke-linejoin:round; stroke-width:4; stroke-opacity:1; fill:none\" points=\"\n",
       "  186.274,128.727 205.172,128.727 \n",
       "  \"/>\n",
       "<path clip-path=\"url(#clip900)\" d=\"M63.9319 1447.7 Q60.3208 1447.7 58.4921 1451.26 Q56.6865 1454.8 56.6865 1461.93 Q56.6865 1469.04 58.4921 1472.61 Q60.3208 1476.15 63.9319 1476.15 Q67.5661 1476.15 69.3717 1472.61 Q71.2004 1469.04 71.2004 1461.93 Q71.2004 1454.8 69.3717 1451.26 Q67.5661 1447.7 63.9319 1447.7 M63.9319 1443.99 Q69.742 1443.99 72.7976 1448.6 Q75.8763 1453.18 75.8763 1461.93 Q75.8763 1470.66 72.7976 1475.27 Q69.742 1479.85 63.9319 1479.85 Q58.1217 1479.85 55.043 1475.27 Q51.9875 1470.66 51.9875 1461.93 Q51.9875 1453.18 55.043 1448.6 Q58.1217 1443.99 63.9319 1443.99 Z\" fill=\"#000000\" fill-rule=\"evenodd\" fill-opacity=\"1\" /><path clip-path=\"url(#clip900)\" d=\"M84.0938 1473.3 L88.978 1473.3 L88.978 1479.18 L84.0938 1479.18 L84.0938 1473.3 Z\" fill=\"#000000\" fill-rule=\"evenodd\" fill-opacity=\"1\" /><path clip-path=\"url(#clip900)\" d=\"M97.9826 1444.62 L120.205 1444.62 L120.205 1446.61 L107.658 1479.18 L102.774 1479.18 L114.58 1448.55 L97.9826 1448.55 L97.9826 1444.62 Z\" fill=\"#000000\" fill-rule=\"evenodd\" fill-opacity=\"1\" /><path clip-path=\"url(#clip900)\" d=\"M129.371 1444.62 L147.728 1444.62 L147.728 1448.55 L133.654 1448.55 L133.654 1457.03 Q134.672 1456.68 135.691 1456.52 Q136.709 1456.33 137.728 1456.33 Q143.515 1456.33 146.894 1459.5 Q150.274 1462.67 150.274 1468.09 Q150.274 1473.67 146.802 1476.77 Q143.33 1479.85 137.01 1479.85 Q134.834 1479.85 132.566 1479.48 Q130.32 1479.11 127.913 1478.37 L127.913 1473.67 Q129.996 1474.8 132.219 1475.36 Q134.441 1475.92 136.918 1475.92 Q140.922 1475.92 143.26 1473.81 Q145.598 1471.7 145.598 1468.09 Q145.598 1464.48 143.26 1462.37 Q140.922 1460.27 136.918 1460.27 Q135.043 1460.27 133.168 1460.68 Q131.316 1461.1 129.371 1461.98 L129.371 1444.62 Z\" fill=\"#000000\" fill-rule=\"evenodd\" fill-opacity=\"1\" /><path clip-path=\"url(#clip900)\" d=\"M62.9365 1181.06 Q59.3254 1181.06 57.4967 1184.63 Q55.6912 1188.17 55.6912 1195.3 Q55.6912 1202.41 57.4967 1205.97 Q59.3254 1209.51 62.9365 1209.51 Q66.5707 1209.51 68.3763 1205.97 Q70.205 1202.41 70.205 1195.3 Q70.205 1188.17 68.3763 1184.63 Q66.5707 1181.06 62.9365 1181.06 M62.9365 1177.36 Q68.7467 1177.36 71.8022 1181.97 Q74.8809 1186.55 74.8809 1195.3 Q74.8809 1204.03 71.8022 1208.63 Q68.7467 1213.22 62.9365 1213.22 Q57.1264 1213.22 54.0477 1208.63 Q50.9921 1204.03 50.9921 1195.3 Q50.9921 1186.55 54.0477 1181.97 Q57.1264 1177.36 62.9365 1177.36 Z\" fill=\"#000000\" fill-rule=\"evenodd\" fill-opacity=\"1\" /><path clip-path=\"url(#clip900)\" d=\"M83.0984 1206.67 L87.9827 1206.67 L87.9827 1212.54 L83.0984 1212.54 L83.0984 1206.67 Z\" fill=\"#000000\" fill-rule=\"evenodd\" fill-opacity=\"1\" /><path clip-path=\"url(#clip900)\" d=\"M108.168 1196.13 Q104.834 1196.13 102.913 1197.92 Q101.015 1199.7 101.015 1202.82 Q101.015 1205.95 102.913 1207.73 Q104.834 1209.51 108.168 1209.51 Q111.501 1209.51 113.422 1207.73 Q115.344 1205.92 115.344 1202.82 Q115.344 1199.7 113.422 1197.92 Q111.524 1196.13 108.168 1196.13 M103.492 1194.14 Q100.483 1193.4 98.7928 1191.34 Q97.1261 1189.28 97.1261 1186.32 Q97.1261 1182.17 100.066 1179.77 Q103.029 1177.36 108.168 1177.36 Q113.33 1177.36 116.27 1179.77 Q119.209 1182.17 119.209 1186.32 Q119.209 1189.28 117.52 1191.34 Q115.853 1193.4 112.867 1194.14 Q116.246 1194.93 118.121 1197.22 Q120.02 1199.51 120.02 1202.82 Q120.02 1207.85 116.941 1210.53 Q113.885 1213.22 108.168 1213.22 Q102.45 1213.22 99.3715 1210.53 Q96.316 1207.85 96.316 1202.82 Q96.316 1199.51 98.2141 1197.22 Q100.112 1194.93 103.492 1194.14 M101.779 1186.76 Q101.779 1189.44 103.446 1190.95 Q105.135 1192.45 108.168 1192.45 Q111.177 1192.45 112.867 1190.95 Q114.58 1189.44 114.58 1186.76 Q114.58 1184.07 112.867 1182.57 Q111.177 1181.06 108.168 1181.06 Q105.135 1181.06 103.446 1182.57 Q101.779 1184.07 101.779 1186.76 Z\" fill=\"#000000\" fill-rule=\"evenodd\" fill-opacity=\"1\" /><path clip-path=\"url(#clip900)\" d=\"M138.33 1181.06 Q134.719 1181.06 132.89 1184.63 Q131.084 1188.17 131.084 1195.3 Q131.084 1202.41 132.89 1205.97 Q134.719 1209.51 138.33 1209.51 Q141.964 1209.51 143.769 1205.97 Q145.598 1202.41 145.598 1195.3 Q145.598 1188.17 143.769 1184.63 Q141.964 1181.06 138.33 1181.06 M138.33 1177.36 Q144.14 1177.36 147.195 1181.97 Q150.274 1186.55 150.274 1195.3 Q150.274 1204.03 147.195 1208.63 Q144.14 1213.22 138.33 1213.22 Q132.519 1213.22 129.441 1208.63 Q126.385 1204.03 126.385 1195.3 Q126.385 1186.55 129.441 1181.97 Q132.519 1177.36 138.33 1177.36 Z\" fill=\"#000000\" fill-rule=\"evenodd\" fill-opacity=\"1\" /><path clip-path=\"url(#clip900)\" d=\"M63.9319 914.429 Q60.3208 914.429 58.4921 917.994 Q56.6865 921.536 56.6865 928.665 Q56.6865 935.772 58.4921 939.336 Q60.3208 942.878 63.9319 942.878 Q67.5661 942.878 69.3717 939.336 Q71.2004 935.772 71.2004 928.665 Q71.2004 921.536 69.3717 917.994 Q67.5661 914.429 63.9319 914.429 M63.9319 910.725 Q69.742 910.725 72.7976 915.332 Q75.8763 919.915 75.8763 928.665 Q75.8763 937.392 72.7976 941.998 Q69.742 946.582 63.9319 946.582 Q58.1217 946.582 55.043 941.998 Q51.9875 937.392 51.9875 928.665 Q51.9875 919.915 55.043 915.332 Q58.1217 910.725 63.9319 910.725 Z\" fill=\"#000000\" fill-rule=\"evenodd\" fill-opacity=\"1\" /><path clip-path=\"url(#clip900)\" d=\"M84.0938 940.031 L88.978 940.031 L88.978 945.91 L84.0938 945.91 L84.0938 940.031 Z\" fill=\"#000000\" fill-rule=\"evenodd\" fill-opacity=\"1\" /><path clip-path=\"url(#clip900)\" d=\"M109.163 929.498 Q105.83 929.498 103.909 931.281 Q102.01 933.063 102.01 936.188 Q102.01 939.313 103.909 941.096 Q105.83 942.878 109.163 942.878 Q112.496 942.878 114.418 941.096 Q116.339 939.29 116.339 936.188 Q116.339 933.063 114.418 931.281 Q112.52 929.498 109.163 929.498 M104.487 927.508 Q101.478 926.767 99.7882 924.707 Q98.1215 922.647 98.1215 919.684 Q98.1215 915.54 101.061 913.133 Q104.024 910.725 109.163 910.725 Q114.325 910.725 117.265 913.133 Q120.205 915.54 120.205 919.684 Q120.205 922.647 118.515 924.707 Q116.848 926.767 113.862 927.508 Q117.242 928.295 119.117 930.586 Q121.015 932.878 121.015 936.188 Q121.015 941.211 117.936 943.897 Q114.881 946.582 109.163 946.582 Q103.446 946.582 100.367 943.897 Q97.3113 941.211 97.3113 936.188 Q97.3113 932.878 99.2095 930.586 Q101.108 928.295 104.487 927.508 M102.774 920.124 Q102.774 922.809 104.441 924.313 Q106.131 925.818 109.163 925.818 Q112.172 925.818 113.862 924.313 Q115.575 922.809 115.575 920.124 Q115.575 917.438 113.862 915.934 Q112.172 914.429 109.163 914.429 Q106.131 914.429 104.441 915.934 Q102.774 917.438 102.774 920.124 Z\" fill=\"#000000\" fill-rule=\"evenodd\" fill-opacity=\"1\" /><path clip-path=\"url(#clip900)\" d=\"M129.371 911.35 L147.728 911.35 L147.728 915.286 L133.654 915.286 L133.654 923.758 Q134.672 923.411 135.691 923.249 Q136.709 923.063 137.728 923.063 Q143.515 923.063 146.894 926.235 Q150.274 929.406 150.274 934.823 Q150.274 940.401 146.802 943.503 Q143.33 946.582 137.01 946.582 Q134.834 946.582 132.566 946.211 Q130.32 945.841 127.913 945.1 L127.913 940.401 Q129.996 941.535 132.219 942.091 Q134.441 942.647 136.918 942.647 Q140.922 942.647 143.26 940.54 Q145.598 938.434 145.598 934.823 Q145.598 931.211 143.26 929.105 Q140.922 926.999 136.918 926.999 Q135.043 926.999 133.168 927.415 Q131.316 927.832 129.371 928.711 L129.371 911.35 Z\" fill=\"#000000\" fill-rule=\"evenodd\" fill-opacity=\"1\" /><path clip-path=\"url(#clip900)\" d=\"M62.9365 647.795 Q59.3254 647.795 57.4967 651.359 Q55.6912 654.901 55.6912 662.031 Q55.6912 669.137 57.4967 672.702 Q59.3254 676.244 62.9365 676.244 Q66.5707 676.244 68.3763 672.702 Q70.205 669.137 70.205 662.031 Q70.205 654.901 68.3763 651.359 Q66.5707 647.795 62.9365 647.795 M62.9365 644.091 Q68.7467 644.091 71.8022 648.697 Q74.8809 653.281 74.8809 662.031 Q74.8809 670.758 71.8022 675.364 Q68.7467 679.947 62.9365 679.947 Q57.1264 679.947 54.0477 675.364 Q50.9921 670.758 50.9921 662.031 Q50.9921 653.281 54.0477 648.697 Q57.1264 644.091 62.9365 644.091 Z\" fill=\"#000000\" fill-rule=\"evenodd\" fill-opacity=\"1\" /><path clip-path=\"url(#clip900)\" d=\"M83.0984 673.396 L87.9827 673.396 L87.9827 679.276 L83.0984 679.276 L83.0984 673.396 Z\" fill=\"#000000\" fill-rule=\"evenodd\" fill-opacity=\"1\" /><path clip-path=\"url(#clip900)\" d=\"M98.3067 678.558 L98.3067 674.299 Q100.066 675.132 101.871 675.572 Q103.677 676.012 105.413 676.012 Q110.043 676.012 112.473 672.91 Q114.927 669.785 115.274 663.443 Q113.932 665.433 111.871 666.498 Q109.811 667.563 107.311 667.563 Q102.126 667.563 99.0937 664.438 Q96.0845 661.29 96.0845 655.85 Q96.0845 650.526 99.2326 647.309 Q102.381 644.091 107.612 644.091 Q113.608 644.091 116.756 648.697 Q119.927 653.281 119.927 662.031 Q119.927 670.202 116.038 675.086 Q112.172 679.947 105.621 679.947 Q103.862 679.947 102.057 679.6 Q100.251 679.253 98.3067 678.558 M107.612 663.906 Q110.76 663.906 112.589 661.753 Q114.441 659.6 114.441 655.85 Q114.441 652.123 112.589 649.971 Q110.76 647.795 107.612 647.795 Q104.464 647.795 102.612 649.971 Q100.784 652.123 100.784 655.85 Q100.784 659.6 102.612 661.753 Q104.464 663.906 107.612 663.906 Z\" fill=\"#000000\" fill-rule=\"evenodd\" fill-opacity=\"1\" /><path clip-path=\"url(#clip900)\" d=\"M138.33 647.795 Q134.719 647.795 132.89 651.359 Q131.084 654.901 131.084 662.031 Q131.084 669.137 132.89 672.702 Q134.719 676.244 138.33 676.244 Q141.964 676.244 143.769 672.702 Q145.598 669.137 145.598 662.031 Q145.598 654.901 143.769 651.359 Q141.964 647.795 138.33 647.795 M138.33 644.091 Q144.14 644.091 147.195 648.697 Q150.274 653.281 150.274 662.031 Q150.274 670.758 147.195 675.364 Q144.14 679.947 138.33 679.947 Q132.519 679.947 129.441 675.364 Q126.385 670.758 126.385 662.031 Q126.385 653.281 129.441 648.697 Q132.519 644.091 138.33 644.091 Z\" fill=\"#000000\" fill-rule=\"evenodd\" fill-opacity=\"1\" /><path clip-path=\"url(#clip900)\" d=\"M63.9319 381.16 Q60.3208 381.16 58.4921 384.725 Q56.6865 388.267 56.6865 395.396 Q56.6865 402.503 58.4921 406.067 Q60.3208 409.609 63.9319 409.609 Q67.5661 409.609 69.3717 406.067 Q71.2004 402.503 71.2004 395.396 Q71.2004 388.267 69.3717 384.725 Q67.5661 381.16 63.9319 381.16 M63.9319 377.457 Q69.742 377.457 72.7976 382.063 Q75.8763 386.646 75.8763 395.396 Q75.8763 404.123 72.7976 408.73 Q69.742 413.313 63.9319 413.313 Q58.1217 413.313 55.043 408.73 Q51.9875 404.123 51.9875 395.396 Q51.9875 386.646 55.043 382.063 Q58.1217 377.457 63.9319 377.457 Z\" fill=\"#000000\" fill-rule=\"evenodd\" fill-opacity=\"1\" /><path clip-path=\"url(#clip900)\" d=\"M84.0938 406.762 L88.978 406.762 L88.978 412.642 L84.0938 412.642 L84.0938 406.762 Z\" fill=\"#000000\" fill-rule=\"evenodd\" fill-opacity=\"1\" /><path clip-path=\"url(#clip900)\" d=\"M99.3021 411.924 L99.3021 407.665 Q101.061 408.498 102.867 408.938 Q104.672 409.378 106.408 409.378 Q111.038 409.378 113.469 406.276 Q115.922 403.151 116.27 396.808 Q114.927 398.799 112.867 399.864 Q110.807 400.929 108.307 400.929 Q103.121 400.929 100.089 397.804 Q97.0798 394.656 97.0798 389.216 Q97.0798 383.892 100.228 380.674 Q103.376 377.457 108.608 377.457 Q114.603 377.457 117.751 382.063 Q120.922 386.646 120.922 395.396 Q120.922 403.568 117.033 408.452 Q113.168 413.313 106.617 413.313 Q104.858 413.313 103.052 412.966 Q101.246 412.618 99.3021 411.924 M108.608 397.271 Q111.756 397.271 113.584 395.118 Q115.436 392.966 115.436 389.216 Q115.436 385.489 113.584 383.336 Q111.756 381.16 108.608 381.16 Q105.459 381.16 103.608 383.336 Q101.779 385.489 101.779 389.216 Q101.779 392.966 103.608 395.118 Q105.459 397.271 108.608 397.271 Z\" fill=\"#000000\" fill-rule=\"evenodd\" fill-opacity=\"1\" /><path clip-path=\"url(#clip900)\" d=\"M129.371 378.082 L147.728 378.082 L147.728 382.017 L133.654 382.017 L133.654 390.489 Q134.672 390.142 135.691 389.98 Q136.709 389.794 137.728 389.794 Q143.515 389.794 146.894 392.966 Q150.274 396.137 150.274 401.554 Q150.274 407.132 146.802 410.234 Q143.33 413.313 137.01 413.313 Q134.834 413.313 132.566 412.942 Q130.32 412.572 127.913 411.831 L127.913 407.132 Q129.996 408.267 132.219 408.822 Q134.441 409.378 136.918 409.378 Q140.922 409.378 143.26 407.271 Q145.598 405.165 145.598 401.554 Q145.598 397.943 143.26 395.836 Q140.922 393.73 136.918 393.73 Q135.043 393.73 133.168 394.146 Q131.316 394.563 129.371 395.443 L129.371 378.082 Z\" fill=\"#000000\" fill-rule=\"evenodd\" fill-opacity=\"1\" /><path clip-path=\"url(#clip900)\" d=\"M53.7467 142.072 L61.3856 142.072 L61.3856 115.706 L53.0754 117.373 L53.0754 113.114 L61.3393 111.447 L66.0152 111.447 L66.0152 142.072 L73.654 142.072 L73.654 146.007 L53.7467 146.007 L53.7467 142.072 Z\" fill=\"#000000\" fill-rule=\"evenodd\" fill-opacity=\"1\" /><path clip-path=\"url(#clip900)\" d=\"M83.0984 140.127 L87.9827 140.127 L87.9827 146.007 L83.0984 146.007 L83.0984 140.127 Z\" fill=\"#000000\" fill-rule=\"evenodd\" fill-opacity=\"1\" /><path clip-path=\"url(#clip900)\" d=\"M108.168 114.526 Q104.557 114.526 102.728 118.091 Q100.922 121.632 100.922 128.762 Q100.922 135.868 102.728 139.433 Q104.557 142.975 108.168 142.975 Q111.802 142.975 113.608 139.433 Q115.436 135.868 115.436 128.762 Q115.436 121.632 113.608 118.091 Q111.802 114.526 108.168 114.526 M108.168 110.822 Q113.978 110.822 117.033 115.429 Q120.112 120.012 120.112 128.762 Q120.112 137.489 117.033 142.095 Q113.978 146.678 108.168 146.678 Q102.358 146.678 99.2789 142.095 Q96.2234 137.489 96.2234 128.762 Q96.2234 120.012 99.2789 115.429 Q102.358 110.822 108.168 110.822 Z\" fill=\"#000000\" fill-rule=\"evenodd\" fill-opacity=\"1\" /><path clip-path=\"url(#clip900)\" d=\"M138.33 114.526 Q134.719 114.526 132.89 118.091 Q131.084 121.632 131.084 128.762 Q131.084 135.868 132.89 139.433 Q134.719 142.975 138.33 142.975 Q141.964 142.975 143.769 139.433 Q145.598 135.868 145.598 128.762 Q145.598 121.632 143.769 118.091 Q141.964 114.526 138.33 114.526 M138.33 110.822 Q144.14 110.822 147.195 115.429 Q150.274 120.012 150.274 128.762 Q150.274 137.489 147.195 142.095 Q144.14 146.678 138.33 146.678 Q132.519 146.678 129.441 142.095 Q126.385 137.489 126.385 128.762 Q126.385 120.012 129.441 115.429 Q132.519 110.822 138.33 110.822 Z\" fill=\"#000000\" fill-rule=\"evenodd\" fill-opacity=\"1\" /><polyline clip-path=\"url(#clip902)\" style=\"stroke:#009af9; stroke-linecap:butt; stroke-linejoin:round; stroke-width:4; stroke-opacity:1; fill:none\" points=\"\n",
       "  247.59,534.688 474.684,1256.47 701.779,1244.18 928.873,1300.45 1155.97,1196.96 1383.06,1047 1610.16,863.25 1837.25,603.283 2064.35,179.87 2291.44,257.367 \n",
       "  \n",
       "  \"/>\n",
       "<polyline clip-path=\"url(#clip902)\" style=\"stroke:#e26f46; stroke-linecap:butt; stroke-linejoin:round; stroke-width:4; stroke-opacity:1; fill:none\" points=\"\n",
       "  247.59,534.688 474.684,1311.79 701.779,1292.31 928.873,1180.15 1155.97,1249.83 1383.06,804.171 1610.16,769.671 1837.25,175.419 2064.35,329.336 2291.44,92.4762 \n",
       "  \n",
       "  \"/>\n",
       "<polyline clip-path=\"url(#clip902)\" style=\"stroke:#3da44d; stroke-linecap:butt; stroke-linejoin:round; stroke-width:4; stroke-opacity:1; fill:none\" points=\"\n",
       "  247.59,534.688 474.684,1374.61 701.779,1290.61 928.873,1271.43 1155.97,1067.44 1383.06,877.723 1610.16,730.526 1837.25,889.746 2064.35,379.57 2291.44,87.9763 \n",
       "  \n",
       "  \"/>\n",
       "<polyline clip-path=\"url(#clip902)\" style=\"stroke:#c271d2; stroke-linecap:butt; stroke-linejoin:round; stroke-width:4; stroke-opacity:1; fill:none\" points=\"\n",
       "  247.59,534.688 474.684,1308.55 701.779,1445.72 928.873,1182.74 1155.97,1160.63 1383.06,810.058 1610.16,784.343 1837.25,281.895 2064.35,340.465 2291.44,180.911 \n",
       "  \n",
       "  \"/>\n",
       "<polyline clip-path=\"url(#clip902)\" style=\"stroke:#ac8d18; stroke-linecap:butt; stroke-linejoin:round; stroke-width:4; stroke-opacity:1; fill:none\" points=\"\n",
       "  247.59,534.688 474.684,1268.62 701.779,1386.39 928.873,1395.26 1155.97,1052.89 1383.06,1063.06 1610.16,712.438 1837.25,294.867 2064.35,322.535 2291.44,142.802 \n",
       "  \n",
       "  \"/>\n",
       "<polyline clip-path=\"url(#clip902)\" style=\"stroke:#00a9ad; stroke-linecap:butt; stroke-linejoin:round; stroke-width:4; stroke-opacity:1; fill:none\" points=\"\n",
       "  247.59,534.688 474.684,1264.84 701.779,1352.91 928.873,1311.76 1155.97,1034.91 1383.06,772.575 1610.16,548.904 1837.25,276.752 2064.35,364.098 2291.44,320.439 \n",
       "  \n",
       "  \"/>\n",
       "<path clip-path=\"url(#clip900)\" d=\"\n",
       "M1985.68 458.098 L2280.54 458.098 L2280.54 95.2176 L1985.68 95.2176  Z\n",
       "  \" fill=\"#ffffff\" fill-rule=\"evenodd\" fill-opacity=\"1\"/>\n",
       "<polyline clip-path=\"url(#clip900)\" style=\"stroke:#000000; stroke-linecap:butt; stroke-linejoin:round; stroke-width:4; stroke-opacity:1; fill:none\" points=\"\n",
       "  1985.68,458.098 2280.54,458.098 2280.54,95.2176 1985.68,95.2176 1985.68,458.098 \n",
       "  \"/>\n",
       "<polyline clip-path=\"url(#clip900)\" style=\"stroke:#009af9; stroke-linecap:butt; stroke-linejoin:round; stroke-width:4; stroke-opacity:1; fill:none\" points=\"\n",
       "  2009.75,147.058 2154.18,147.058 \n",
       "  \"/>\n",
       "<path clip-path=\"url(#clip900)\" d=\"M2192.1 166.745 Q2190.29 171.375 2188.58 172.787 Q2186.86 174.199 2183.99 174.199 L2180.59 174.199 L2180.59 170.634 L2183.09 170.634 Q2184.85 170.634 2185.82 169.8 Q2186.79 168.967 2187.97 165.865 L2188.74 163.921 L2178.25 138.412 L2182.77 138.412 L2190.87 158.689 L2198.97 138.412 L2203.48 138.412 L2192.1 166.745 Z\" fill=\"#000000\" fill-rule=\"evenodd\" fill-opacity=\"1\" /><path clip-path=\"url(#clip900)\" d=\"M2210.78 160.402 L2218.41 160.402 L2218.41 134.037 L2210.1 135.703 L2210.1 131.444 L2218.37 129.778 L2223.04 129.778 L2223.04 160.402 L2230.68 160.402 L2230.68 164.338 L2210.78 164.338 L2210.78 160.402 Z\" fill=\"#000000\" fill-rule=\"evenodd\" fill-opacity=\"1\" /><polyline clip-path=\"url(#clip900)\" style=\"stroke:#e26f46; stroke-linecap:butt; stroke-linejoin:round; stroke-width:4; stroke-opacity:1; fill:none\" points=\"\n",
       "  2009.75,198.898 2154.18,198.898 \n",
       "  \"/>\n",
       "<path clip-path=\"url(#clip900)\" d=\"M2192.1 218.585 Q2190.29 223.215 2188.58 224.627 Q2186.86 226.039 2183.99 226.039 L2180.59 226.039 L2180.59 222.474 L2183.09 222.474 Q2184.85 222.474 2185.82 221.64 Q2186.79 220.807 2187.97 217.705 L2188.74 215.761 L2178.25 190.252 L2182.77 190.252 L2190.87 210.529 L2198.97 190.252 L2203.48 190.252 L2192.1 218.585 Z\" fill=\"#000000\" fill-rule=\"evenodd\" fill-opacity=\"1\" /><path clip-path=\"url(#clip900)\" d=\"M2213.99 212.242 L2230.31 212.242 L2230.31 216.178 L2208.37 216.178 L2208.37 212.242 Q2211.03 209.488 2215.61 204.858 Q2220.22 200.205 2221.4 198.863 Q2223.65 196.34 2224.53 194.604 Q2225.43 192.844 2225.43 191.155 Q2225.43 188.4 2223.48 186.664 Q2221.56 184.928 2218.46 184.928 Q2216.26 184.928 2213.81 185.692 Q2211.38 186.455 2208.6 188.006 L2208.6 183.284 Q2211.42 182.15 2213.88 181.571 Q2216.33 180.993 2218.37 180.993 Q2223.74 180.993 2226.93 183.678 Q2230.13 186.363 2230.13 190.854 Q2230.13 192.983 2229.32 194.905 Q2228.53 196.803 2226.42 199.395 Q2225.84 200.067 2222.74 203.284 Q2219.64 206.479 2213.99 212.242 Z\" fill=\"#000000\" fill-rule=\"evenodd\" fill-opacity=\"1\" /><polyline clip-path=\"url(#clip900)\" style=\"stroke:#3da44d; stroke-linecap:butt; stroke-linejoin:round; stroke-width:4; stroke-opacity:1; fill:none\" points=\"\n",
       "  2009.75,250.738 2154.18,250.738 \n",
       "  \"/>\n",
       "<path clip-path=\"url(#clip900)\" d=\"M2192.1 270.425 Q2190.29 275.055 2188.58 276.467 Q2186.86 277.879 2183.99 277.879 L2180.59 277.879 L2180.59 274.314 L2183.09 274.314 Q2184.85 274.314 2185.82 273.48 Q2186.79 272.647 2187.97 269.545 L2188.74 267.601 L2178.25 242.092 L2182.77 242.092 L2190.87 262.369 L2198.97 242.092 L2203.48 242.092 L2192.1 270.425 Z\" fill=\"#000000\" fill-rule=\"evenodd\" fill-opacity=\"1\" /><path clip-path=\"url(#clip900)\" d=\"M2224.13 249.383 Q2227.49 250.101 2229.36 252.369 Q2231.26 254.638 2231.26 257.971 Q2231.26 263.087 2227.74 265.888 Q2224.22 268.689 2217.74 268.689 Q2215.57 268.689 2213.25 268.249 Q2210.96 267.832 2208.51 266.976 L2208.51 262.462 Q2210.45 263.596 2212.77 264.175 Q2215.08 264.754 2217.6 264.754 Q2222 264.754 2224.29 263.018 Q2226.61 261.281 2226.61 257.971 Q2226.61 254.916 2224.46 253.203 Q2222.33 251.467 2218.51 251.467 L2214.48 251.467 L2214.48 247.624 L2218.69 247.624 Q2222.14 247.624 2223.97 246.258 Q2225.8 244.87 2225.8 242.277 Q2225.8 239.615 2223.9 238.203 Q2222.03 236.768 2218.51 236.768 Q2216.59 236.768 2214.39 237.184 Q2212.19 237.601 2209.55 238.481 L2209.55 234.314 Q2212.21 233.573 2214.53 233.203 Q2216.86 232.833 2218.92 232.833 Q2224.25 232.833 2227.35 235.263 Q2230.45 237.67 2230.45 241.791 Q2230.45 244.661 2228.81 246.652 Q2227.16 248.62 2224.13 249.383 Z\" fill=\"#000000\" fill-rule=\"evenodd\" fill-opacity=\"1\" /><polyline clip-path=\"url(#clip900)\" style=\"stroke:#c271d2; stroke-linecap:butt; stroke-linejoin:round; stroke-width:4; stroke-opacity:1; fill:none\" points=\"\n",
       "  2009.75,302.578 2154.18,302.578 \n",
       "  \"/>\n",
       "<path clip-path=\"url(#clip900)\" d=\"M2192.1 322.265 Q2190.29 326.895 2188.58 328.307 Q2186.86 329.719 2183.99 329.719 L2180.59 329.719 L2180.59 326.154 L2183.09 326.154 Q2184.85 326.154 2185.82 325.32 Q2186.79 324.487 2187.97 321.385 L2188.74 319.441 L2178.25 293.932 L2182.77 293.932 L2190.87 314.209 L2198.97 293.932 L2203.48 293.932 L2192.1 322.265 Z\" fill=\"#000000\" fill-rule=\"evenodd\" fill-opacity=\"1\" /><path clip-path=\"url(#clip900)\" d=\"M2222.81 289.372 L2211.01 307.821 L2222.81 307.821 L2222.81 289.372 M2221.59 285.298 L2227.47 285.298 L2227.47 307.821 L2232.4 307.821 L2232.4 311.709 L2227.47 311.709 L2227.47 319.858 L2222.81 319.858 L2222.81 311.709 L2207.21 311.709 L2207.21 307.196 L2221.59 285.298 Z\" fill=\"#000000\" fill-rule=\"evenodd\" fill-opacity=\"1\" /><polyline clip-path=\"url(#clip900)\" style=\"stroke:#ac8d18; stroke-linecap:butt; stroke-linejoin:round; stroke-width:4; stroke-opacity:1; fill:none\" points=\"\n",
       "  2009.75,354.418 2154.18,354.418 \n",
       "  \"/>\n",
       "<path clip-path=\"url(#clip900)\" d=\"M2192.1 374.105 Q2190.29 378.735 2188.58 380.147 Q2186.86 381.559 2183.99 381.559 L2180.59 381.559 L2180.59 377.994 L2183.09 377.994 Q2184.85 377.994 2185.82 377.16 Q2186.79 376.327 2187.97 373.225 L2188.74 371.281 L2178.25 345.772 L2182.77 345.772 L2190.87 366.049 L2198.97 345.772 L2203.48 345.772 L2192.1 374.105 Z\" fill=\"#000000\" fill-rule=\"evenodd\" fill-opacity=\"1\" /><path clip-path=\"url(#clip900)\" d=\"M2210.01 337.138 L2228.37 337.138 L2228.37 341.073 L2214.29 341.073 L2214.29 349.545 Q2215.31 349.198 2216.33 349.036 Q2217.35 348.85 2218.37 348.85 Q2224.16 348.85 2227.53 352.022 Q2230.91 355.193 2230.91 360.61 Q2230.91 366.188 2227.44 369.29 Q2223.97 372.369 2217.65 372.369 Q2215.47 372.369 2213.21 371.998 Q2210.96 371.628 2208.55 370.887 L2208.55 366.188 Q2210.64 367.323 2212.86 367.878 Q2215.08 368.434 2217.56 368.434 Q2221.56 368.434 2223.9 366.327 Q2226.24 364.221 2226.24 360.61 Q2226.24 356.999 2223.9 354.892 Q2221.56 352.786 2217.56 352.786 Q2215.68 352.786 2213.81 353.202 Q2211.96 353.619 2210.01 354.499 L2210.01 337.138 Z\" fill=\"#000000\" fill-rule=\"evenodd\" fill-opacity=\"1\" /><polyline clip-path=\"url(#clip900)\" style=\"stroke:#00a9ad; stroke-linecap:butt; stroke-linejoin:round; stroke-width:4; stroke-opacity:1; fill:none\" points=\"\n",
       "  2009.75,406.258 2154.18,406.258 \n",
       "  \"/>\n",
       "<path clip-path=\"url(#clip900)\" d=\"M2192.1 425.945 Q2190.29 430.575 2188.58 431.987 Q2186.86 433.399 2183.99 433.399 L2180.59 433.399 L2180.59 429.834 L2183.09 429.834 Q2184.85 429.834 2185.82 429 Q2186.79 428.167 2187.97 425.065 L2188.74 423.121 L2178.25 397.612 L2182.77 397.612 L2190.87 417.889 L2198.97 397.612 L2203.48 397.612 L2192.1 425.945 Z\" fill=\"#000000\" fill-rule=\"evenodd\" fill-opacity=\"1\" /><path clip-path=\"url(#clip900)\" d=\"M2220.54 404.394 Q2217.4 404.394 2215.54 406.547 Q2213.72 408.7 2213.72 412.45 Q2213.72 416.176 2215.54 418.352 Q2217.4 420.505 2220.54 420.505 Q2223.69 420.505 2225.52 418.352 Q2227.37 416.176 2227.37 412.45 Q2227.37 408.7 2225.52 406.547 Q2223.69 404.394 2220.54 404.394 M2229.83 389.741 L2229.83 394.001 Q2228.07 393.167 2226.26 392.728 Q2224.48 392.288 2222.72 392.288 Q2218.09 392.288 2215.64 395.413 Q2213.21 398.538 2212.86 404.857 Q2214.22 402.843 2216.28 401.778 Q2218.34 400.69 2220.82 400.69 Q2226.03 400.69 2229.04 403.862 Q2232.07 407.01 2232.07 412.45 Q2232.07 417.774 2228.92 420.991 Q2225.78 424.209 2220.54 424.209 Q2214.55 424.209 2211.38 419.626 Q2208.21 415.019 2208.21 406.292 Q2208.21 398.098 2212.09 393.237 Q2215.98 388.353 2222.53 388.353 Q2224.29 388.353 2226.08 388.7 Q2227.88 389.047 2229.83 389.741 Z\" fill=\"#000000\" fill-rule=\"evenodd\" fill-opacity=\"1\" /></svg>\n"
      ]
     },
     "execution_count": 30,
     "metadata": {},
     "output_type": "execute_result"
    }
   ],
   "source": [
    "curves = learning_curve(mach,\n",
    "                        range=r,\n",
    "                        resampling=CV(nfolds=6),\n",
    "                        measure=cross_entropy,\n",
    "                        rng_name=:(evo_tree_classifier.rng),\n",
    "                        rngs=6) # list of RNGs, or num to auto generate\n",
    "plt = plot(curves.parameter_values, curves.measurements)\n",
    "savefig(\"exercise_7c_3.png\")\n",
    "plt"
   ]
  },
  {
   "cell_type": "markdown",
   "metadata": {},
   "source": [
    "If you have multiple threads available in your julia session, you\n",
    "can add the option `acceleration=CPUThreads()` to speed up this\n",
    "computation."
   ]
  },
  {
   "cell_type": "markdown",
   "metadata": {},
   "source": [
    "#### Exercise 8"
   ]
  },
  {
   "cell_type": "markdown",
   "metadata": {},
   "source": [
    "From the question statement:"
   ]
  },
  {
   "cell_type": "code",
   "execution_count": 31,
   "metadata": {},
   "outputs": [
    {
     "name": "stdout",
     "output_type": "stream",
     "text": [
      "import EvoTrees ✔\n"
     ]
    },
    {
     "name": "stderr",
     "output_type": "stream",
     "text": [
      "┌ Info: For silent loading, specify `verbosity=0`. \n",
      "└ @ Main /Users/anthony/.julia/packages/MLJModels/4sRmw/src/loading.jl:168\n"
     ]
    },
    {
     "data": {
      "text/plain": [
       "transformed NumericRange(2.5 ≤ evo_tree_regressor.nbins ≤ 7.5; origin=5.0, unit=2.5)"
      ]
     },
     "execution_count": 31,
     "metadata": {},
     "output_type": "execute_result"
    }
   ],
   "source": [
    "y, X = unpack(house, ==(:price), name -> true, rng=123); # from Exercise 3\n",
    "\n",
    "EvoTreeRegressor = @load EvoTreeRegressor\n",
    "tree_booster = EvoTreeRegressor(nrounds = 70)\n",
    "model = @pipeline ContinuousEncoder tree_booster\n",
    "\n",
    "r2 = range(model,\n",
    "           :(evo_tree_regressor.nbins),\n",
    "           lower = 2.5,\n",
    "           upper= 7.5, scale=x->2^round(Int, x))"
   ]
  },
  {
   "cell_type": "markdown",
   "metadata": {},
   "source": [
    "(a)"
   ]
  },
  {
   "cell_type": "code",
   "execution_count": 32,
   "metadata": {},
   "outputs": [
    {
     "data": {
      "text/plain": [
       "NumericRange(1 ≤ evo_tree_regressor.max_depth ≤ 12; origin=6.5, unit=5.5)"
      ]
     },
     "execution_count": 32,
     "metadata": {},
     "output_type": "execute_result"
    }
   ],
   "source": [
    "r1 = range(model, :(evo_tree_regressor.max_depth), lower=1, upper=12)"
   ]
  },
  {
   "cell_type": "markdown",
   "metadata": {},
   "source": [
    "(c)"
   ]
  },
  {
   "cell_type": "code",
   "execution_count": 33,
   "metadata": {},
   "outputs": [
    {
     "name": "stderr",
     "output_type": "stream",
     "text": [
      "┌ Info: Training Machine{DeterministicTunedModel{RandomSearch,…},…}.\n",
      "└ @ MLJBase /Users/anthony/.julia/packages/MLJBase/u6vLz/src/machines.jl:403\n",
      "┌ Info: Attempting to evaluate 40 models.\n",
      "└ @ MLJTuning /Users/anthony/.julia/packages/MLJTuning/bjRHJ/src/tuned_models.jl:680\n",
      "\u001b[33mEvaluating over 40 metamodels: 100%[=========================] Time: 0:02:51\u001b[39m\n"
     ]
    },
    {
     "data": {
      "image/svg+xml": [
       "<?xml version=\"1.0\" encoding=\"utf-8\"?>\n",
       "<svg xmlns=\"http://www.w3.org/2000/svg\" xmlns:xlink=\"http://www.w3.org/1999/xlink\" width=\"550\" height=\"500\" viewBox=\"0 0 2200 2000\">\n",
       "<defs>\n",
       "  <clipPath id=\"clip950\">\n",
       "    <rect x=\"0\" y=\"0\" width=\"2200\" height=\"2000\"/>\n",
       "  </clipPath>\n",
       "</defs>\n",
       "<path clip-path=\"url(#clip950)\" d=\"\n",
       "M0 2000 L2200 2000 L2200 0 L0 0  Z\n",
       "  \" fill=\"#ffffff\" fill-rule=\"evenodd\" fill-opacity=\"1\"/>\n",
       "<defs>\n",
       "  <clipPath id=\"clip951\">\n",
       "    <rect x=\"440\" y=\"20\" width=\"1541\" height=\"1541\"/>\n",
       "  </clipPath>\n",
       "</defs>\n",
       "<path clip-path=\"url(#clip950)\" d=\"\n",
       "M414.729 829.607 L1052.76 829.607 L1052.76 47.2441 L414.729 47.2441  Z\n",
       "  \" fill=\"#ffffff\" fill-rule=\"evenodd\" fill-opacity=\"1\"/>\n",
       "<defs>\n",
       "  <clipPath id=\"clip952\">\n",
       "    <rect x=\"414\" y=\"47\" width=\"639\" height=\"783\"/>\n",
       "  </clipPath>\n",
       "</defs>\n",
       "<polyline clip-path=\"url(#clip952)\" style=\"stroke:#000000; stroke-linecap:butt; stroke-linejoin:round; stroke-width:2; stroke-opacity:0.1; fill:none\" points=\"\n",
       "  514.865,829.607 514.865,47.2441 \n",
       "  \"/>\n",
       "<polyline clip-path=\"url(#clip952)\" style=\"stroke:#000000; stroke-linecap:butt; stroke-linejoin:round; stroke-width:2; stroke-opacity:0.1; fill:none\" points=\"\n",
       "  651.663,829.607 651.663,47.2441 \n",
       "  \"/>\n",
       "<polyline clip-path=\"url(#clip952)\" style=\"stroke:#000000; stroke-linecap:butt; stroke-linejoin:round; stroke-width:2; stroke-opacity:0.1; fill:none\" points=\"\n",
       "  788.462,829.607 788.462,47.2441 \n",
       "  \"/>\n",
       "<polyline clip-path=\"url(#clip952)\" style=\"stroke:#000000; stroke-linecap:butt; stroke-linejoin:round; stroke-width:2; stroke-opacity:0.1; fill:none\" points=\"\n",
       "  925.26,829.607 925.26,47.2441 \n",
       "  \"/>\n",
       "<polyline clip-path=\"url(#clip950)\" style=\"stroke:#000000; stroke-linecap:butt; stroke-linejoin:round; stroke-width:4; stroke-opacity:1; fill:none\" points=\"\n",
       "  414.729,829.607 1052.76,829.607 \n",
       "  \"/>\n",
       "<polyline clip-path=\"url(#clip950)\" style=\"stroke:#000000; stroke-linecap:butt; stroke-linejoin:round; stroke-width:4; stroke-opacity:1; fill:none\" points=\"\n",
       "  414.729,47.2441 1052.76,47.2441 \n",
       "  \"/>\n",
       "<polyline clip-path=\"url(#clip950)\" style=\"stroke:#000000; stroke-linecap:butt; stroke-linejoin:round; stroke-width:4; stroke-opacity:1; fill:none\" points=\"\n",
       "  514.865,829.607 514.865,810.709 \n",
       "  \"/>\n",
       "<polyline clip-path=\"url(#clip950)\" style=\"stroke:#000000; stroke-linecap:butt; stroke-linejoin:round; stroke-width:4; stroke-opacity:1; fill:none\" points=\"\n",
       "  651.663,829.607 651.663,810.709 \n",
       "  \"/>\n",
       "<polyline clip-path=\"url(#clip950)\" style=\"stroke:#000000; stroke-linecap:butt; stroke-linejoin:round; stroke-width:4; stroke-opacity:1; fill:none\" points=\"\n",
       "  788.462,829.607 788.462,810.709 \n",
       "  \"/>\n",
       "<polyline clip-path=\"url(#clip950)\" style=\"stroke:#000000; stroke-linecap:butt; stroke-linejoin:round; stroke-width:4; stroke-opacity:1; fill:none\" points=\"\n",
       "  925.26,829.607 925.26,810.709 \n",
       "  \"/>\n",
       "<path clip-path=\"url(#clip950)\" d=\"M486.601 886.471 L502.921 886.471 L502.921 890.407 L480.976 890.407 L480.976 886.471 Q483.638 883.717 488.222 879.087 Q492.828 874.434 494.009 873.092 Q496.254 870.569 497.134 868.833 Q498.036 867.073 498.036 865.384 Q498.036 862.629 496.092 860.893 Q494.171 859.157 491.069 859.157 Q488.87 859.157 486.416 859.921 Q483.986 860.685 481.208 862.235 L481.208 857.513 Q484.032 856.379 486.486 855.8 Q488.939 855.222 490.976 855.222 Q496.347 855.222 499.541 857.907 Q502.735 860.592 502.735 865.083 Q502.735 867.212 501.925 869.134 Q501.138 871.032 499.032 873.624 Q498.453 874.296 495.351 877.513 Q492.249 880.708 486.601 886.471 Z\" fill=\"#000000\" fill-rule=\"evenodd\" fill-opacity=\"1\" /><path clip-path=\"url(#clip950)\" d=\"M512.735 884.527 L517.62 884.527 L517.62 890.407 L512.735 890.407 L512.735 884.527 Z\" fill=\"#000000\" fill-rule=\"evenodd\" fill-opacity=\"1\" /><path clip-path=\"url(#clip950)\" d=\"M527.851 855.847 L546.207 855.847 L546.207 859.782 L532.133 859.782 L532.133 868.254 Q533.152 867.907 534.17 867.745 Q535.189 867.559 536.207 867.559 Q541.994 867.559 545.374 870.731 Q548.754 873.902 548.754 879.319 Q548.754 884.897 545.281 887.999 Q541.809 891.078 535.49 891.078 Q533.314 891.078 531.045 890.708 Q528.8 890.337 526.393 889.596 L526.393 884.897 Q528.476 886.032 530.698 886.587 Q532.92 887.143 535.397 887.143 Q539.402 887.143 541.74 885.036 Q544.078 882.93 544.078 879.319 Q544.078 875.708 541.74 873.601 Q539.402 871.495 535.397 871.495 Q533.522 871.495 531.647 871.911 Q529.795 872.328 527.851 873.208 L527.851 855.847 Z\" fill=\"#000000\" fill-rule=\"evenodd\" fill-opacity=\"1\" /><path clip-path=\"url(#clip950)\" d=\"M618.828 855.847 L637.184 855.847 L637.184 859.782 L623.11 859.782 L623.11 868.254 Q624.129 867.907 625.147 867.745 Q626.166 867.559 627.184 867.559 Q632.971 867.559 636.351 870.731 Q639.73 873.902 639.73 879.319 Q639.73 884.897 636.258 887.999 Q632.786 891.078 626.467 891.078 Q624.291 891.078 622.022 890.708 Q619.777 890.337 617.369 889.596 L617.369 884.897 Q619.453 886.032 621.675 886.587 Q623.897 887.143 626.374 887.143 Q630.379 887.143 632.717 885.036 Q635.055 882.93 635.055 879.319 Q635.055 875.708 632.717 873.601 Q630.379 871.495 626.374 871.495 Q624.499 871.495 622.624 871.911 Q620.772 872.328 618.828 873.208 L618.828 855.847 Z\" fill=\"#000000\" fill-rule=\"evenodd\" fill-opacity=\"1\" /><path clip-path=\"url(#clip950)\" d=\"M648.943 884.527 L653.828 884.527 L653.828 890.407 L648.943 890.407 L648.943 884.527 Z\" fill=\"#000000\" fill-rule=\"evenodd\" fill-opacity=\"1\" /><path clip-path=\"url(#clip950)\" d=\"M674.013 858.925 Q670.402 858.925 668.573 862.49 Q666.767 866.032 666.767 873.161 Q666.767 880.268 668.573 883.833 Q670.402 887.374 674.013 887.374 Q677.647 887.374 679.452 883.833 Q681.281 880.268 681.281 873.161 Q681.281 866.032 679.452 862.49 Q677.647 858.925 674.013 858.925 M674.013 855.222 Q679.823 855.222 682.878 859.828 Q685.957 864.411 685.957 873.161 Q685.957 881.888 682.878 886.495 Q679.823 891.078 674.013 891.078 Q668.203 891.078 665.124 886.495 Q662.068 881.888 662.068 873.161 Q662.068 864.411 665.124 859.828 Q668.203 855.222 674.013 855.222 Z\" fill=\"#000000\" fill-rule=\"evenodd\" fill-opacity=\"1\" /><path clip-path=\"url(#clip950)\" d=\"M754.781 855.847 L777.003 855.847 L777.003 857.837 L764.457 890.407 L759.573 890.407 L771.378 859.782 L754.781 859.782 L754.781 855.847 Z\" fill=\"#000000\" fill-rule=\"evenodd\" fill-opacity=\"1\" /><path clip-path=\"url(#clip950)\" d=\"M786.124 884.527 L791.008 884.527 L791.008 890.407 L786.124 890.407 L786.124 884.527 Z\" fill=\"#000000\" fill-rule=\"evenodd\" fill-opacity=\"1\" /><path clip-path=\"url(#clip950)\" d=\"M801.239 855.847 L819.596 855.847 L819.596 859.782 L805.522 859.782 L805.522 868.254 Q806.54 867.907 807.559 867.745 Q808.577 867.559 809.596 867.559 Q815.383 867.559 818.762 870.731 Q822.142 873.902 822.142 879.319 Q822.142 884.897 818.67 887.999 Q815.198 891.078 808.878 891.078 Q806.702 891.078 804.434 890.708 Q802.188 890.337 799.781 889.596 L799.781 884.897 Q801.864 886.032 804.087 886.587 Q806.309 887.143 808.786 887.143 Q812.79 887.143 815.128 885.036 Q817.466 882.93 817.466 879.319 Q817.466 875.708 815.128 873.601 Q812.79 871.495 808.786 871.495 Q806.911 871.495 805.036 871.911 Q803.184 872.328 801.239 873.208 L801.239 855.847 Z\" fill=\"#000000\" fill-rule=\"evenodd\" fill-opacity=\"1\" /><path clip-path=\"url(#clip950)\" d=\"M877.332 886.471 L884.971 886.471 L884.971 860.106 L876.661 861.772 L876.661 857.513 L884.924 855.847 L889.6 855.847 L889.6 886.471 L897.239 886.471 L897.239 890.407 L877.332 890.407 L877.332 886.471 Z\" fill=\"#000000\" fill-rule=\"evenodd\" fill-opacity=\"1\" /><path clip-path=\"url(#clip950)\" d=\"M916.684 858.925 Q913.072 858.925 911.244 862.49 Q909.438 866.032 909.438 873.161 Q909.438 880.268 911.244 883.833 Q913.072 887.374 916.684 887.374 Q920.318 887.374 922.123 883.833 Q923.952 880.268 923.952 873.161 Q923.952 866.032 922.123 862.49 Q920.318 858.925 916.684 858.925 M916.684 855.222 Q922.494 855.222 925.549 859.828 Q928.628 864.411 928.628 873.161 Q928.628 881.888 925.549 886.495 Q922.494 891.078 916.684 891.078 Q910.873 891.078 907.795 886.495 Q904.739 881.888 904.739 873.161 Q904.739 864.411 907.795 859.828 Q910.873 855.222 916.684 855.222 Z\" fill=\"#000000\" fill-rule=\"evenodd\" fill-opacity=\"1\" /><path clip-path=\"url(#clip950)\" d=\"M936.845 884.527 L941.73 884.527 L941.73 890.407 L936.845 890.407 L936.845 884.527 Z\" fill=\"#000000\" fill-rule=\"evenodd\" fill-opacity=\"1\" /><path clip-path=\"url(#clip950)\" d=\"M961.915 858.925 Q958.304 858.925 956.475 862.49 Q954.669 866.032 954.669 873.161 Q954.669 880.268 956.475 883.833 Q958.304 887.374 961.915 887.374 Q965.549 887.374 967.355 883.833 Q969.183 880.268 969.183 873.161 Q969.183 866.032 967.355 862.49 Q965.549 858.925 961.915 858.925 M961.915 855.222 Q967.725 855.222 970.78 859.828 Q973.859 864.411 973.859 873.161 Q973.859 881.888 970.78 886.495 Q967.725 891.078 961.915 891.078 Q956.105 891.078 953.026 886.495 Q949.97 881.888 949.97 873.161 Q949.97 864.411 953.026 859.828 Q956.105 855.222 961.915 855.222 Z\" fill=\"#000000\" fill-rule=\"evenodd\" fill-opacity=\"1\" /><polyline clip-path=\"url(#clip952)\" style=\"stroke:#000000; stroke-linecap:butt; stroke-linejoin:round; stroke-width:2; stroke-opacity:0.1; fill:none\" points=\"\n",
       "  414.729,775.349 1052.76,775.349 \n",
       "  \"/>\n",
       "<polyline clip-path=\"url(#clip952)\" style=\"stroke:#000000; stroke-linecap:butt; stroke-linejoin:round; stroke-width:2; stroke-opacity:0.1; fill:none\" points=\"\n",
       "  414.729,665.213 1052.76,665.213 \n",
       "  \"/>\n",
       "<polyline clip-path=\"url(#clip952)\" style=\"stroke:#000000; stroke-linecap:butt; stroke-linejoin:round; stroke-width:2; stroke-opacity:0.1; fill:none\" points=\"\n",
       "  414.729,555.077 1052.76,555.077 \n",
       "  \"/>\n",
       "<polyline clip-path=\"url(#clip952)\" style=\"stroke:#000000; stroke-linecap:butt; stroke-linejoin:round; stroke-width:2; stroke-opacity:0.1; fill:none\" points=\"\n",
       "  414.729,444.941 1052.76,444.941 \n",
       "  \"/>\n",
       "<polyline clip-path=\"url(#clip952)\" style=\"stroke:#000000; stroke-linecap:butt; stroke-linejoin:round; stroke-width:2; stroke-opacity:0.1; fill:none\" points=\"\n",
       "  414.729,334.805 1052.76,334.805 \n",
       "  \"/>\n",
       "<polyline clip-path=\"url(#clip952)\" style=\"stroke:#000000; stroke-linecap:butt; stroke-linejoin:round; stroke-width:2; stroke-opacity:0.1; fill:none\" points=\"\n",
       "  414.729,224.669 1052.76,224.669 \n",
       "  \"/>\n",
       "<polyline clip-path=\"url(#clip952)\" style=\"stroke:#000000; stroke-linecap:butt; stroke-linejoin:round; stroke-width:2; stroke-opacity:0.1; fill:none\" points=\"\n",
       "  414.729,114.533 1052.76,114.533 \n",
       "  \"/>\n",
       "<polyline clip-path=\"url(#clip950)\" style=\"stroke:#000000; stroke-linecap:butt; stroke-linejoin:round; stroke-width:4; stroke-opacity:1; fill:none\" points=\"\n",
       "  414.729,829.607 414.729,47.2441 \n",
       "  \"/>\n",
       "<polyline clip-path=\"url(#clip950)\" style=\"stroke:#000000; stroke-linecap:butt; stroke-linejoin:round; stroke-width:4; stroke-opacity:1; fill:none\" points=\"\n",
       "  1052.76,829.607 1052.76,47.2441 \n",
       "  \"/>\n",
       "<polyline clip-path=\"url(#clip950)\" style=\"stroke:#000000; stroke-linecap:butt; stroke-linejoin:round; stroke-width:4; stroke-opacity:1; fill:none\" points=\"\n",
       "  414.729,775.349 433.626,775.349 \n",
       "  \"/>\n",
       "<polyline clip-path=\"url(#clip950)\" style=\"stroke:#000000; stroke-linecap:butt; stroke-linejoin:round; stroke-width:4; stroke-opacity:1; fill:none\" points=\"\n",
       "  414.729,665.213 433.626,665.213 \n",
       "  \"/>\n",
       "<polyline clip-path=\"url(#clip950)\" style=\"stroke:#000000; stroke-linecap:butt; stroke-linejoin:round; stroke-width:4; stroke-opacity:1; fill:none\" points=\"\n",
       "  414.729,555.077 433.626,555.077 \n",
       "  \"/>\n",
       "<polyline clip-path=\"url(#clip950)\" style=\"stroke:#000000; stroke-linecap:butt; stroke-linejoin:round; stroke-width:4; stroke-opacity:1; fill:none\" points=\"\n",
       "  414.729,444.941 433.626,444.941 \n",
       "  \"/>\n",
       "<polyline clip-path=\"url(#clip950)\" style=\"stroke:#000000; stroke-linecap:butt; stroke-linejoin:round; stroke-width:4; stroke-opacity:1; fill:none\" points=\"\n",
       "  414.729,334.805 433.626,334.805 \n",
       "  \"/>\n",
       "<polyline clip-path=\"url(#clip950)\" style=\"stroke:#000000; stroke-linecap:butt; stroke-linejoin:round; stroke-width:4; stroke-opacity:1; fill:none\" points=\"\n",
       "  414.729,224.669 433.626,224.669 \n",
       "  \"/>\n",
       "<polyline clip-path=\"url(#clip950)\" style=\"stroke:#000000; stroke-linecap:butt; stroke-linejoin:round; stroke-width:4; stroke-opacity:1; fill:none\" points=\"\n",
       "  414.729,114.533 433.626,114.533 \n",
       "  \"/>\n",
       "<path clip-path=\"url(#clip950)\" d=\"M132.54 764.516 L154.762 764.516 L154.762 766.507 L142.216 799.076 L137.332 799.076 L149.137 768.452 L132.54 768.452 L132.54 764.516 Z\" fill=\"#000000\" fill-rule=\"evenodd\" fill-opacity=\"1\" /><path clip-path=\"url(#clip950)\" d=\"M163.883 793.197 L168.767 793.197 L168.767 799.076 L163.883 799.076 L163.883 793.197 Z\" fill=\"#000000\" fill-rule=\"evenodd\" fill-opacity=\"1\" /><path clip-path=\"url(#clip950)\" d=\"M178.998 764.516 L197.355 764.516 L197.355 768.452 L183.281 768.452 L183.281 776.924 Q184.299 776.577 185.318 776.415 Q186.336 776.229 187.355 776.229 Q193.142 776.229 196.521 779.401 Q199.901 782.572 199.901 787.989 Q199.901 793.567 196.429 796.669 Q192.957 799.748 186.637 799.748 Q184.461 799.748 182.193 799.377 Q179.947 799.007 177.54 798.266 L177.54 793.567 Q179.623 794.701 181.845 795.257 Q184.068 795.813 186.544 795.813 Q190.549 795.813 192.887 793.706 Q195.225 791.6 195.225 787.989 Q195.225 784.377 192.887 782.271 Q190.549 780.165 186.544 780.165 Q184.67 780.165 182.795 780.581 Q180.943 780.998 178.998 781.877 L178.998 764.516 Z\" fill=\"#000000\" fill-rule=\"evenodd\" fill-opacity=\"1\" /><path clip-path=\"url(#clip950)\" d=\"M219.114 767.595 Q215.503 767.595 213.674 771.16 Q211.868 774.702 211.868 781.831 Q211.868 788.938 213.674 792.502 Q215.503 796.044 219.114 796.044 Q222.748 796.044 224.554 792.502 Q226.382 788.938 226.382 781.831 Q226.382 774.702 224.554 771.16 Q222.748 767.595 219.114 767.595 M219.114 763.891 Q224.924 763.891 227.979 768.498 Q231.058 773.081 231.058 781.831 Q231.058 790.558 227.979 795.164 Q224.924 799.748 219.114 799.748 Q213.304 799.748 210.225 795.164 Q207.169 790.558 207.169 781.831 Q207.169 773.081 210.225 768.498 Q213.304 763.891 219.114 763.891 Z\" fill=\"#000000\" fill-rule=\"evenodd\" fill-opacity=\"1\" /><path clip-path=\"url(#clip950)\" d=\"M249.276 767.595 Q245.665 767.595 243.836 771.16 Q242.03 774.702 242.03 781.831 Q242.03 788.938 243.836 792.502 Q245.665 796.044 249.276 796.044 Q252.91 796.044 254.715 792.502 Q256.544 788.938 256.544 781.831 Q256.544 774.702 254.715 771.16 Q252.91 767.595 249.276 767.595 M249.276 763.891 Q255.086 763.891 258.141 768.498 Q261.22 773.081 261.22 781.831 Q261.22 790.558 258.141 795.164 Q255.086 799.748 249.276 799.748 Q243.465 799.748 240.387 795.164 Q237.331 790.558 237.331 781.831 Q237.331 773.081 240.387 768.498 Q243.465 763.891 249.276 763.891 Z\" fill=\"#000000\" fill-rule=\"evenodd\" fill-opacity=\"1\" /><path clip-path=\"url(#clip950)\" d=\"M297.609 773.614 L287.03 784.239 L297.609 794.817 L294.854 797.618 L284.229 786.993 L273.604 797.618 L270.873 794.817 L281.428 784.239 L270.873 773.614 L273.604 770.813 L284.229 781.438 L294.854 770.813 L297.609 773.614 Z\" fill=\"#000000\" fill-rule=\"evenodd\" fill-opacity=\"1\" /><path clip-path=\"url(#clip950)\" d=\"M309.97 795.141 L317.609 795.141 L317.609 768.776 L309.298 770.442 L309.298 766.183 L317.562 764.516 L322.238 764.516 L322.238 795.141 L329.877 795.141 L329.877 799.076 L309.97 799.076 L309.97 795.141 Z\" fill=\"#000000\" fill-rule=\"evenodd\" fill-opacity=\"1\" /><path clip-path=\"url(#clip950)\" d=\"M349.321 767.595 Q345.71 767.595 343.882 771.16 Q342.076 774.702 342.076 781.831 Q342.076 788.938 343.882 792.502 Q345.71 796.044 349.321 796.044 Q352.956 796.044 354.761 792.502 Q356.59 788.938 356.59 781.831 Q356.59 774.702 354.761 771.16 Q352.956 767.595 349.321 767.595 M349.321 763.891 Q355.132 763.891 358.187 768.498 Q361.266 773.081 361.266 781.831 Q361.266 790.558 358.187 795.164 Q355.132 799.748 349.321 799.748 Q343.511 799.748 340.433 795.164 Q337.377 790.558 337.377 781.831 Q337.377 773.081 340.433 768.498 Q343.511 763.891 349.321 763.891 Z\" fill=\"#000000\" fill-rule=\"evenodd\" fill-opacity=\"1\" /><path clip-path=\"url(#clip950)\" d=\"M373.942 746.896 L364.35 761.886 L373.942 761.886 L373.942 746.896 M372.945 743.586 L377.723 743.586 L377.723 761.886 L381.729 761.886 L381.729 765.046 L377.723 765.046 L377.723 771.666 L373.942 771.666 L373.942 765.046 L361.266 765.046 L361.266 761.378 L372.945 743.586 Z\" fill=\"#000000\" fill-rule=\"evenodd\" fill-opacity=\"1\" /><path clip-path=\"url(#clip950)\" d=\"M136.825 685.005 L144.464 685.005 L144.464 658.64 L136.154 660.306 L136.154 656.047 L144.418 654.38 L149.094 654.38 L149.094 685.005 L156.733 685.005 L156.733 688.94 L136.825 688.94 L136.825 685.005 Z\" fill=\"#000000\" fill-rule=\"evenodd\" fill-opacity=\"1\" /><path clip-path=\"url(#clip950)\" d=\"M166.177 683.061 L171.061 683.061 L171.061 688.94 L166.177 688.94 L166.177 683.061 Z\" fill=\"#000000\" fill-rule=\"evenodd\" fill-opacity=\"1\" /><path clip-path=\"url(#clip950)\" d=\"M191.246 657.459 Q187.635 657.459 185.807 661.024 Q184.001 664.566 184.001 671.695 Q184.001 678.802 185.807 682.366 Q187.635 685.908 191.246 685.908 Q194.881 685.908 196.686 682.366 Q198.515 678.802 198.515 671.695 Q198.515 664.566 196.686 661.024 Q194.881 657.459 191.246 657.459 M191.246 653.755 Q197.057 653.755 200.112 658.362 Q203.191 662.945 203.191 671.695 Q203.191 680.422 200.112 685.028 Q197.057 689.612 191.246 689.612 Q185.436 689.612 182.358 685.028 Q179.302 680.422 179.302 671.695 Q179.302 662.945 182.358 658.362 Q185.436 653.755 191.246 653.755 Z\" fill=\"#000000\" fill-rule=\"evenodd\" fill-opacity=\"1\" /><path clip-path=\"url(#clip950)\" d=\"M221.408 657.459 Q217.797 657.459 215.969 661.024 Q214.163 664.566 214.163 671.695 Q214.163 678.802 215.969 682.366 Q217.797 685.908 221.408 685.908 Q225.043 685.908 226.848 682.366 Q228.677 678.802 228.677 671.695 Q228.677 664.566 226.848 661.024 Q225.043 657.459 221.408 657.459 M221.408 653.755 Q227.218 653.755 230.274 658.362 Q233.353 662.945 233.353 671.695 Q233.353 680.422 230.274 685.028 Q227.218 689.612 221.408 689.612 Q215.598 689.612 212.519 685.028 Q209.464 680.422 209.464 671.695 Q209.464 662.945 212.519 658.362 Q215.598 653.755 221.408 653.755 Z\" fill=\"#000000\" fill-rule=\"evenodd\" fill-opacity=\"1\" /><path clip-path=\"url(#clip950)\" d=\"M251.57 657.459 Q247.959 657.459 246.13 661.024 Q244.325 664.566 244.325 671.695 Q244.325 678.802 246.13 682.366 Q247.959 685.908 251.57 685.908 Q255.204 685.908 257.01 682.366 Q258.839 678.802 258.839 671.695 Q258.839 664.566 257.01 661.024 Q255.204 657.459 251.57 657.459 M251.57 653.755 Q257.38 653.755 260.436 658.362 Q263.515 662.945 263.515 671.695 Q263.515 680.422 260.436 685.028 Q257.38 689.612 251.57 689.612 Q245.76 689.612 242.681 685.028 Q239.626 680.422 239.626 671.695 Q239.626 662.945 242.681 658.362 Q245.76 653.755 251.57 653.755 Z\" fill=\"#000000\" fill-rule=\"evenodd\" fill-opacity=\"1\" /><path clip-path=\"url(#clip950)\" d=\"M299.903 663.478 L289.325 674.103 L299.903 684.681 L297.149 687.482 L286.524 676.857 L275.899 687.482 L273.167 684.681 L283.723 674.103 L273.167 663.478 L275.899 660.677 L286.524 671.302 L297.149 660.677 L299.903 663.478 Z\" fill=\"#000000\" fill-rule=\"evenodd\" fill-opacity=\"1\" /><path clip-path=\"url(#clip950)\" d=\"M312.264 685.005 L319.903 685.005 L319.903 658.64 L311.593 660.306 L311.593 656.047 L319.857 654.38 L324.533 654.38 L324.533 685.005 L332.172 685.005 L332.172 688.94 L312.264 688.94 L312.264 685.005 Z\" fill=\"#000000\" fill-rule=\"evenodd\" fill-opacity=\"1\" /><path clip-path=\"url(#clip950)\" d=\"M351.616 657.459 Q348.005 657.459 346.176 661.024 Q344.371 664.566 344.371 671.695 Q344.371 678.802 346.176 682.366 Q348.005 685.908 351.616 685.908 Q355.25 685.908 357.056 682.366 Q358.884 678.802 358.884 671.695 Q358.884 664.566 357.056 661.024 Q355.25 657.459 351.616 657.459 M351.616 653.755 Q357.426 653.755 360.482 658.362 Q363.56 662.945 363.56 671.695 Q363.56 680.422 360.482 685.028 Q357.426 689.612 351.616 689.612 Q345.806 689.612 342.727 685.028 Q339.672 680.422 339.672 671.695 Q339.672 662.945 342.727 658.362 Q345.806 653.755 351.616 653.755 Z\" fill=\"#000000\" fill-rule=\"evenodd\" fill-opacity=\"1\" /><path clip-path=\"url(#clip950)\" d=\"M364.745 633.45 L379.66 633.45 L379.66 636.647 L368.225 636.647 L368.225 643.531 Q369.052 643.249 369.88 643.117 Q370.707 642.967 371.535 642.967 Q376.237 642.967 378.983 645.543 Q381.729 648.12 381.729 652.521 Q381.729 657.054 378.907 659.574 Q376.086 662.075 370.952 662.075 Q369.184 662.075 367.341 661.774 Q365.516 661.474 363.56 660.872 L363.56 657.054 Q365.253 657.975 367.059 658.427 Q368.864 658.878 370.877 658.878 Q374.13 658.878 376.03 657.167 Q377.929 655.455 377.929 652.521 Q377.929 649.587 376.03 647.876 Q374.13 646.164 370.877 646.164 Q369.353 646.164 367.83 646.503 Q366.325 646.841 364.745 647.556 L364.745 633.45 Z\" fill=\"#000000\" fill-rule=\"evenodd\" fill-opacity=\"1\" /><path clip-path=\"url(#clip950)\" d=\"M136.825 574.869 L144.464 574.869 L144.464 548.504 L136.154 550.17 L136.154 545.911 L144.418 544.244 L149.094 544.244 L149.094 574.869 L156.733 574.869 L156.733 578.804 L136.825 578.804 L136.825 574.869 Z\" fill=\"#000000\" fill-rule=\"evenodd\" fill-opacity=\"1\" /><path clip-path=\"url(#clip950)\" d=\"M166.177 572.925 L171.061 572.925 L171.061 578.804 L166.177 578.804 L166.177 572.925 Z\" fill=\"#000000\" fill-rule=\"evenodd\" fill-opacity=\"1\" /><path clip-path=\"url(#clip950)\" d=\"M185.274 574.869 L201.594 574.869 L201.594 578.804 L179.649 578.804 L179.649 574.869 Q182.311 572.115 186.895 567.485 Q191.501 562.832 192.682 561.49 Q194.927 558.966 195.807 557.23 Q196.709 555.471 196.709 553.781 Q196.709 551.027 194.765 549.291 Q192.844 547.555 189.742 547.555 Q187.543 547.555 185.089 548.318 Q182.659 549.082 179.881 550.633 L179.881 545.911 Q182.705 544.777 185.159 544.198 Q187.612 543.619 189.649 543.619 Q195.02 543.619 198.214 546.305 Q201.408 548.99 201.408 553.48 Q201.408 555.61 200.598 557.531 Q199.811 559.429 197.705 562.022 Q197.126 562.693 194.024 565.911 Q190.922 569.105 185.274 574.869 Z\" fill=\"#000000\" fill-rule=\"evenodd\" fill-opacity=\"1\" /><path clip-path=\"url(#clip950)\" d=\"M211.455 544.244 L229.811 544.244 L229.811 548.179 L215.737 548.179 L215.737 556.652 Q216.756 556.304 217.774 556.142 Q218.793 555.957 219.811 555.957 Q225.598 555.957 228.978 559.129 Q232.357 562.3 232.357 567.716 Q232.357 573.295 228.885 576.397 Q225.413 579.476 219.094 579.476 Q216.918 579.476 214.649 579.105 Q212.404 578.735 209.996 577.994 L209.996 573.295 Q212.08 574.429 214.302 574.985 Q216.524 575.54 219.001 575.54 Q223.006 575.54 225.343 573.434 Q227.681 571.328 227.681 567.716 Q227.681 564.105 225.343 561.999 Q223.006 559.892 219.001 559.892 Q217.126 559.892 215.251 560.309 Q213.399 560.726 211.455 561.605 L211.455 544.244 Z\" fill=\"#000000\" fill-rule=\"evenodd\" fill-opacity=\"1\" /><path clip-path=\"url(#clip950)\" d=\"M251.57 547.323 Q247.959 547.323 246.13 550.888 Q244.325 554.429 244.325 561.559 Q244.325 568.666 246.13 572.23 Q247.959 575.772 251.57 575.772 Q255.204 575.772 257.01 572.23 Q258.839 568.666 258.839 561.559 Q258.839 554.429 257.01 550.888 Q255.204 547.323 251.57 547.323 M251.57 543.619 Q257.38 543.619 260.436 548.226 Q263.515 552.809 263.515 561.559 Q263.515 570.286 260.436 574.892 Q257.38 579.476 251.57 579.476 Q245.76 579.476 242.681 574.892 Q239.626 570.286 239.626 561.559 Q239.626 552.809 242.681 548.226 Q245.76 543.619 251.57 543.619 Z\" fill=\"#000000\" fill-rule=\"evenodd\" fill-opacity=\"1\" /><path clip-path=\"url(#clip950)\" d=\"M299.903 553.342 L289.325 563.966 L299.903 574.545 L297.149 577.346 L286.524 566.721 L275.899 577.346 L273.167 574.545 L283.723 563.966 L273.167 553.342 L275.899 550.541 L286.524 561.166 L297.149 550.541 L299.903 553.342 Z\" fill=\"#000000\" fill-rule=\"evenodd\" fill-opacity=\"1\" /><path clip-path=\"url(#clip950)\" d=\"M312.264 574.869 L319.903 574.869 L319.903 548.504 L311.593 550.17 L311.593 545.911 L319.857 544.244 L324.533 544.244 L324.533 574.869 L332.172 574.869 L332.172 578.804 L312.264 578.804 L312.264 574.869 Z\" fill=\"#000000\" fill-rule=\"evenodd\" fill-opacity=\"1\" /><path clip-path=\"url(#clip950)\" d=\"M351.616 547.323 Q348.005 547.323 346.176 550.888 Q344.371 554.429 344.371 561.559 Q344.371 568.666 346.176 572.23 Q348.005 575.772 351.616 575.772 Q355.25 575.772 357.056 572.23 Q358.884 568.666 358.884 561.559 Q358.884 554.429 357.056 550.888 Q355.25 547.323 351.616 547.323 M351.616 543.619 Q357.426 543.619 360.482 548.226 Q363.56 552.809 363.56 561.559 Q363.56 570.286 360.482 574.892 Q357.426 579.476 351.616 579.476 Q345.806 579.476 342.727 574.892 Q339.672 570.286 339.672 561.559 Q339.672 552.809 342.727 548.226 Q345.806 543.619 351.616 543.619 Z\" fill=\"#000000\" fill-rule=\"evenodd\" fill-opacity=\"1\" /><path clip-path=\"url(#clip950)\" d=\"M364.745 523.314 L379.66 523.314 L379.66 526.511 L368.225 526.511 L368.225 533.395 Q369.052 533.113 369.88 532.981 Q370.707 532.831 371.535 532.831 Q376.237 532.831 378.983 535.407 Q381.729 537.984 381.729 542.385 Q381.729 546.918 378.907 549.438 Q376.086 551.939 370.952 551.939 Q369.184 551.939 367.341 551.638 Q365.516 551.338 363.56 550.736 L363.56 546.918 Q365.253 547.839 367.059 548.291 Q368.864 548.742 370.877 548.742 Q374.13 548.742 376.03 547.031 Q377.929 545.319 377.929 542.385 Q377.929 539.451 376.03 537.739 Q374.13 536.028 370.877 536.028 Q369.353 536.028 367.83 536.367 Q366.325 536.705 364.745 537.42 L364.745 523.314 Z\" fill=\"#000000\" fill-rule=\"evenodd\" fill-opacity=\"1\" /><path clip-path=\"url(#clip950)\" d=\"M136.825 464.733 L144.464 464.733 L144.464 438.368 L136.154 440.034 L136.154 435.775 L144.418 434.108 L149.094 434.108 L149.094 464.733 L156.733 464.733 L156.733 468.668 L136.825 468.668 L136.825 464.733 Z\" fill=\"#000000\" fill-rule=\"evenodd\" fill-opacity=\"1\" /><path clip-path=\"url(#clip950)\" d=\"M166.177 462.789 L171.061 462.789 L171.061 468.668 L166.177 468.668 L166.177 462.789 Z\" fill=\"#000000\" fill-rule=\"evenodd\" fill-opacity=\"1\" /><path clip-path=\"url(#clip950)\" d=\"M181.293 434.108 L199.649 434.108 L199.649 438.043 L185.575 438.043 L185.575 446.516 Q186.594 446.168 187.612 446.006 Q188.631 445.821 189.649 445.821 Q195.436 445.821 198.816 448.992 Q202.195 452.164 202.195 457.58 Q202.195 463.159 198.723 466.261 Q195.251 469.34 188.932 469.34 Q186.756 469.34 184.487 468.969 Q182.242 468.599 179.834 467.858 L179.834 463.159 Q181.918 464.293 184.14 464.849 Q186.362 465.404 188.839 465.404 Q192.844 465.404 195.182 463.298 Q197.52 461.191 197.52 457.58 Q197.52 453.969 195.182 451.863 Q192.844 449.756 188.839 449.756 Q186.964 449.756 185.089 450.173 Q183.237 450.59 181.293 451.469 L181.293 434.108 Z\" fill=\"#000000\" fill-rule=\"evenodd\" fill-opacity=\"1\" /><path clip-path=\"url(#clip950)\" d=\"M221.408 437.187 Q217.797 437.187 215.969 440.752 Q214.163 444.293 214.163 451.423 Q214.163 458.529 215.969 462.094 Q217.797 465.636 221.408 465.636 Q225.043 465.636 226.848 462.094 Q228.677 458.529 228.677 451.423 Q228.677 444.293 226.848 440.752 Q225.043 437.187 221.408 437.187 M221.408 433.483 Q227.218 433.483 230.274 438.09 Q233.353 442.673 233.353 451.423 Q233.353 460.15 230.274 464.756 Q227.218 469.34 221.408 469.34 Q215.598 469.34 212.519 464.756 Q209.464 460.15 209.464 451.423 Q209.464 442.673 212.519 438.09 Q215.598 433.483 221.408 433.483 Z\" fill=\"#000000\" fill-rule=\"evenodd\" fill-opacity=\"1\" /><path clip-path=\"url(#clip950)\" d=\"M251.57 437.187 Q247.959 437.187 246.13 440.752 Q244.325 444.293 244.325 451.423 Q244.325 458.529 246.13 462.094 Q247.959 465.636 251.57 465.636 Q255.204 465.636 257.01 462.094 Q258.839 458.529 258.839 451.423 Q258.839 444.293 257.01 440.752 Q255.204 437.187 251.57 437.187 M251.57 433.483 Q257.38 433.483 260.436 438.09 Q263.515 442.673 263.515 451.423 Q263.515 460.15 260.436 464.756 Q257.38 469.34 251.57 469.34 Q245.76 469.34 242.681 464.756 Q239.626 460.15 239.626 451.423 Q239.626 442.673 242.681 438.09 Q245.76 433.483 251.57 433.483 Z\" fill=\"#000000\" fill-rule=\"evenodd\" fill-opacity=\"1\" /><path clip-path=\"url(#clip950)\" d=\"M299.903 443.205 L289.325 453.83 L299.903 464.409 L297.149 467.21 L286.524 456.585 L275.899 467.21 L273.167 464.409 L283.723 453.83 L273.167 443.205 L275.899 440.405 L286.524 451.029 L297.149 440.405 L299.903 443.205 Z\" fill=\"#000000\" fill-rule=\"evenodd\" fill-opacity=\"1\" /><path clip-path=\"url(#clip950)\" d=\"M312.264 464.733 L319.903 464.733 L319.903 438.368 L311.593 440.034 L311.593 435.775 L319.857 434.108 L324.533 434.108 L324.533 464.733 L332.172 464.733 L332.172 468.668 L312.264 468.668 L312.264 464.733 Z\" fill=\"#000000\" fill-rule=\"evenodd\" fill-opacity=\"1\" /><path clip-path=\"url(#clip950)\" d=\"M351.616 437.187 Q348.005 437.187 346.176 440.752 Q344.371 444.293 344.371 451.423 Q344.371 458.529 346.176 462.094 Q348.005 465.636 351.616 465.636 Q355.25 465.636 357.056 462.094 Q358.884 458.529 358.884 451.423 Q358.884 444.293 357.056 440.752 Q355.25 437.187 351.616 437.187 M351.616 433.483 Q357.426 433.483 360.482 438.09 Q363.56 442.673 363.56 451.423 Q363.56 460.15 360.482 464.756 Q357.426 469.34 351.616 469.34 Q345.806 469.34 342.727 464.756 Q339.672 460.15 339.672 451.423 Q339.672 442.673 342.727 438.09 Q345.806 433.483 351.616 433.483 Z\" fill=\"#000000\" fill-rule=\"evenodd\" fill-opacity=\"1\" /><path clip-path=\"url(#clip950)\" d=\"M364.745 413.178 L379.66 413.178 L379.66 416.375 L368.225 416.375 L368.225 423.259 Q369.052 422.977 369.88 422.845 Q370.707 422.695 371.535 422.695 Q376.237 422.695 378.983 425.271 Q381.729 427.848 381.729 432.249 Q381.729 436.782 378.907 439.302 Q376.086 441.803 370.952 441.803 Q369.184 441.803 367.341 441.502 Q365.516 441.201 363.56 440.6 L363.56 436.782 Q365.253 437.703 367.059 438.155 Q368.864 438.606 370.877 438.606 Q374.13 438.606 376.03 436.894 Q377.929 435.183 377.929 432.249 Q377.929 429.315 376.03 427.603 Q374.13 425.892 370.877 425.892 Q369.353 425.892 367.83 426.23 Q366.325 426.569 364.745 427.284 L364.745 413.178 Z\" fill=\"#000000\" fill-rule=\"evenodd\" fill-opacity=\"1\" /><path clip-path=\"url(#clip950)\" d=\"M136.825 354.597 L144.464 354.597 L144.464 328.231 L136.154 329.898 L136.154 325.639 L144.418 323.972 L149.094 323.972 L149.094 354.597 L156.733 354.597 L156.733 358.532 L136.825 358.532 L136.825 354.597 Z\" fill=\"#000000\" fill-rule=\"evenodd\" fill-opacity=\"1\" /><path clip-path=\"url(#clip950)\" d=\"M166.177 352.653 L171.061 352.653 L171.061 358.532 L166.177 358.532 L166.177 352.653 Z\" fill=\"#000000\" fill-rule=\"evenodd\" fill-opacity=\"1\" /><path clip-path=\"url(#clip950)\" d=\"M180.066 323.972 L202.288 323.972 L202.288 325.963 L189.742 358.532 L184.858 358.532 L196.663 327.907 L180.066 327.907 L180.066 323.972 Z\" fill=\"#000000\" fill-rule=\"evenodd\" fill-opacity=\"1\" /><path clip-path=\"url(#clip950)\" d=\"M211.455 323.972 L229.811 323.972 L229.811 327.907 L215.737 327.907 L215.737 336.38 Q216.756 336.032 217.774 335.87 Q218.793 335.685 219.811 335.685 Q225.598 335.685 228.978 338.856 Q232.357 342.028 232.357 347.444 Q232.357 353.023 228.885 356.125 Q225.413 359.204 219.094 359.204 Q216.918 359.204 214.649 358.833 Q212.404 358.463 209.996 357.722 L209.996 353.023 Q212.08 354.157 214.302 354.713 Q216.524 355.268 219.001 355.268 Q223.006 355.268 225.343 353.162 Q227.681 351.055 227.681 347.444 Q227.681 343.833 225.343 341.727 Q223.006 339.62 219.001 339.62 Q217.126 339.62 215.251 340.037 Q213.399 340.454 211.455 341.333 L211.455 323.972 Z\" fill=\"#000000\" fill-rule=\"evenodd\" fill-opacity=\"1\" /><path clip-path=\"url(#clip950)\" d=\"M251.57 327.051 Q247.959 327.051 246.13 330.616 Q244.325 334.157 244.325 341.287 Q244.325 348.393 246.13 351.958 Q247.959 355.5 251.57 355.5 Q255.204 355.5 257.01 351.958 Q258.839 348.393 258.839 341.287 Q258.839 334.157 257.01 330.616 Q255.204 327.051 251.57 327.051 M251.57 323.347 Q257.38 323.347 260.436 327.954 Q263.515 332.537 263.515 341.287 Q263.515 350.014 260.436 354.62 Q257.38 359.204 251.57 359.204 Q245.76 359.204 242.681 354.62 Q239.626 350.014 239.626 341.287 Q239.626 332.537 242.681 327.954 Q245.76 323.347 251.57 323.347 Z\" fill=\"#000000\" fill-rule=\"evenodd\" fill-opacity=\"1\" /><path clip-path=\"url(#clip950)\" d=\"M299.903 333.069 L289.325 343.694 L299.903 354.273 L297.149 357.074 L286.524 346.449 L275.899 357.074 L273.167 354.273 L283.723 343.694 L273.167 333.069 L275.899 330.268 L286.524 340.893 L297.149 330.268 L299.903 333.069 Z\" fill=\"#000000\" fill-rule=\"evenodd\" fill-opacity=\"1\" /><path clip-path=\"url(#clip950)\" d=\"M312.264 354.597 L319.903 354.597 L319.903 328.231 L311.593 329.898 L311.593 325.639 L319.857 323.972 L324.533 323.972 L324.533 354.597 L332.172 354.597 L332.172 358.532 L312.264 358.532 L312.264 354.597 Z\" fill=\"#000000\" fill-rule=\"evenodd\" fill-opacity=\"1\" /><path clip-path=\"url(#clip950)\" d=\"M351.616 327.051 Q348.005 327.051 346.176 330.616 Q344.371 334.157 344.371 341.287 Q344.371 348.393 346.176 351.958 Q348.005 355.5 351.616 355.5 Q355.25 355.5 357.056 351.958 Q358.884 348.393 358.884 341.287 Q358.884 334.157 357.056 330.616 Q355.25 327.051 351.616 327.051 M351.616 323.347 Q357.426 323.347 360.482 327.954 Q363.56 332.537 363.56 341.287 Q363.56 350.014 360.482 354.62 Q357.426 359.204 351.616 359.204 Q345.806 359.204 342.727 354.62 Q339.672 350.014 339.672 341.287 Q339.672 332.537 342.727 327.954 Q345.806 323.347 351.616 323.347 Z\" fill=\"#000000\" fill-rule=\"evenodd\" fill-opacity=\"1\" /><path clip-path=\"url(#clip950)\" d=\"M364.745 303.042 L379.66 303.042 L379.66 306.239 L368.225 306.239 L368.225 313.123 Q369.052 312.841 369.88 312.709 Q370.707 312.559 371.535 312.559 Q376.237 312.559 378.983 315.135 Q381.729 317.712 381.729 322.113 Q381.729 326.646 378.907 329.166 Q376.086 331.667 370.952 331.667 Q369.184 331.667 367.341 331.366 Q365.516 331.065 363.56 330.464 L363.56 326.646 Q365.253 327.567 367.059 328.019 Q368.864 328.47 370.877 328.47 Q374.13 328.47 376.03 326.758 Q377.929 325.047 377.929 322.113 Q377.929 319.179 376.03 317.467 Q374.13 315.756 370.877 315.756 Q369.353 315.756 367.83 316.094 Q366.325 316.433 364.745 317.148 L364.745 303.042 Z\" fill=\"#000000\" fill-rule=\"evenodd\" fill-opacity=\"1\" /><path clip-path=\"url(#clip950)\" d=\"M140.043 244.461 L156.362 244.461 L156.362 248.396 L134.418 248.396 L134.418 244.461 Q137.08 241.706 141.663 237.077 Q146.27 232.424 147.45 231.081 Q149.696 228.558 150.575 226.822 Q151.478 225.063 151.478 223.373 Q151.478 220.619 149.534 218.882 Q147.612 217.146 144.511 217.146 Q142.312 217.146 139.858 217.91 Q137.427 218.674 134.65 220.225 L134.65 215.503 Q137.474 214.369 139.927 213.79 Q142.381 213.211 144.418 213.211 Q149.788 213.211 152.983 215.896 Q156.177 218.582 156.177 223.072 Q156.177 225.202 155.367 227.123 Q154.58 229.021 152.473 231.614 Q151.895 232.285 148.793 235.503 Q145.691 238.697 140.043 244.461 Z\" fill=\"#000000\" fill-rule=\"evenodd\" fill-opacity=\"1\" /><path clip-path=\"url(#clip950)\" d=\"M166.177 242.517 L171.061 242.517 L171.061 248.396 L166.177 248.396 L166.177 242.517 Z\" fill=\"#000000\" fill-rule=\"evenodd\" fill-opacity=\"1\" /><path clip-path=\"url(#clip950)\" d=\"M191.246 216.915 Q187.635 216.915 185.807 220.48 Q184.001 224.021 184.001 231.151 Q184.001 238.257 185.807 241.822 Q187.635 245.364 191.246 245.364 Q194.881 245.364 196.686 241.822 Q198.515 238.257 198.515 231.151 Q198.515 224.021 196.686 220.48 Q194.881 216.915 191.246 216.915 M191.246 213.211 Q197.057 213.211 200.112 217.818 Q203.191 222.401 203.191 231.151 Q203.191 239.878 200.112 244.484 Q197.057 249.067 191.246 249.067 Q185.436 249.067 182.358 244.484 Q179.302 239.878 179.302 231.151 Q179.302 222.401 182.358 217.818 Q185.436 213.211 191.246 213.211 Z\" fill=\"#000000\" fill-rule=\"evenodd\" fill-opacity=\"1\" /><path clip-path=\"url(#clip950)\" d=\"M221.408 216.915 Q217.797 216.915 215.969 220.48 Q214.163 224.021 214.163 231.151 Q214.163 238.257 215.969 241.822 Q217.797 245.364 221.408 245.364 Q225.043 245.364 226.848 241.822 Q228.677 238.257 228.677 231.151 Q228.677 224.021 226.848 220.48 Q225.043 216.915 221.408 216.915 M221.408 213.211 Q227.218 213.211 230.274 217.818 Q233.353 222.401 233.353 231.151 Q233.353 239.878 230.274 244.484 Q227.218 249.067 221.408 249.067 Q215.598 249.067 212.519 244.484 Q209.464 239.878 209.464 231.151 Q209.464 222.401 212.519 217.818 Q215.598 213.211 221.408 213.211 Z\" fill=\"#000000\" fill-rule=\"evenodd\" fill-opacity=\"1\" /><path clip-path=\"url(#clip950)\" d=\"M251.57 216.915 Q247.959 216.915 246.13 220.48 Q244.325 224.021 244.325 231.151 Q244.325 238.257 246.13 241.822 Q247.959 245.364 251.57 245.364 Q255.204 245.364 257.01 241.822 Q258.839 238.257 258.839 231.151 Q258.839 224.021 257.01 220.48 Q255.204 216.915 251.57 216.915 M251.57 213.211 Q257.38 213.211 260.436 217.818 Q263.515 222.401 263.515 231.151 Q263.515 239.878 260.436 244.484 Q257.38 249.067 251.57 249.067 Q245.76 249.067 242.681 244.484 Q239.626 239.878 239.626 231.151 Q239.626 222.401 242.681 217.818 Q245.76 213.211 251.57 213.211 Z\" fill=\"#000000\" fill-rule=\"evenodd\" fill-opacity=\"1\" /><path clip-path=\"url(#clip950)\" d=\"M299.903 222.933 L289.325 233.558 L299.903 244.137 L297.149 246.938 L286.524 236.313 L275.899 246.938 L273.167 244.137 L283.723 233.558 L273.167 222.933 L275.899 220.132 L286.524 230.757 L297.149 220.132 L299.903 222.933 Z\" fill=\"#000000\" fill-rule=\"evenodd\" fill-opacity=\"1\" /><path clip-path=\"url(#clip950)\" d=\"M312.264 244.461 L319.903 244.461 L319.903 218.095 L311.593 219.762 L311.593 215.503 L319.857 213.836 L324.533 213.836 L324.533 244.461 L332.172 244.461 L332.172 248.396 L312.264 248.396 L312.264 244.461 Z\" fill=\"#000000\" fill-rule=\"evenodd\" fill-opacity=\"1\" /><path clip-path=\"url(#clip950)\" d=\"M351.616 216.915 Q348.005 216.915 346.176 220.48 Q344.371 224.021 344.371 231.151 Q344.371 238.257 346.176 241.822 Q348.005 245.364 351.616 245.364 Q355.25 245.364 357.056 241.822 Q358.884 238.257 358.884 231.151 Q358.884 224.021 357.056 220.48 Q355.25 216.915 351.616 216.915 M351.616 213.211 Q357.426 213.211 360.482 217.818 Q363.56 222.401 363.56 231.151 Q363.56 239.878 360.482 244.484 Q357.426 249.067 351.616 249.067 Q345.806 249.067 342.727 244.484 Q339.672 239.878 339.672 231.151 Q339.672 222.401 342.727 217.818 Q345.806 213.211 351.616 213.211 Z\" fill=\"#000000\" fill-rule=\"evenodd\" fill-opacity=\"1\" /><path clip-path=\"url(#clip950)\" d=\"M364.745 192.906 L379.66 192.906 L379.66 196.103 L368.225 196.103 L368.225 202.987 Q369.052 202.705 369.88 202.573 Q370.707 202.422 371.535 202.422 Q376.237 202.422 378.983 204.999 Q381.729 207.576 381.729 211.977 Q381.729 216.51 378.907 219.03 Q376.086 221.531 370.952 221.531 Q369.184 221.531 367.341 221.23 Q365.516 220.929 363.56 220.327 L363.56 216.51 Q365.253 217.431 367.059 217.882 Q368.864 218.334 370.877 218.334 Q374.13 218.334 376.03 216.622 Q377.929 214.911 377.929 211.977 Q377.929 209.043 376.03 207.331 Q374.13 205.62 370.877 205.62 Q369.353 205.62 367.83 205.958 Q366.325 206.297 364.745 207.012 L364.745 192.906 Z\" fill=\"#000000\" fill-rule=\"evenodd\" fill-opacity=\"1\" /><path clip-path=\"url(#clip950)\" d=\"M140.043 134.325 L156.362 134.325 L156.362 138.26 L134.418 138.26 L134.418 134.325 Q137.08 131.57 141.663 126.941 Q146.27 122.288 147.45 120.945 Q149.696 118.422 150.575 116.686 Q151.478 114.927 151.478 113.237 Q151.478 110.482 149.534 108.746 Q147.612 107.01 144.511 107.01 Q142.312 107.01 139.858 107.774 Q137.427 108.538 134.65 110.089 L134.65 105.367 Q137.474 104.233 139.927 103.654 Q142.381 103.075 144.418 103.075 Q149.788 103.075 152.983 105.76 Q156.177 108.445 156.177 112.936 Q156.177 115.066 155.367 116.987 Q154.58 118.885 152.473 121.478 Q151.895 122.149 148.793 125.367 Q145.691 128.561 140.043 134.325 Z\" fill=\"#000000\" fill-rule=\"evenodd\" fill-opacity=\"1\" /><path clip-path=\"url(#clip950)\" d=\"M166.177 132.381 L171.061 132.381 L171.061 138.26 L166.177 138.26 L166.177 132.381 Z\" fill=\"#000000\" fill-rule=\"evenodd\" fill-opacity=\"1\" /><path clip-path=\"url(#clip950)\" d=\"M185.274 134.325 L201.594 134.325 L201.594 138.26 L179.649 138.26 L179.649 134.325 Q182.311 131.57 186.895 126.941 Q191.501 122.288 192.682 120.945 Q194.927 118.422 195.807 116.686 Q196.709 114.927 196.709 113.237 Q196.709 110.482 194.765 108.746 Q192.844 107.01 189.742 107.01 Q187.543 107.01 185.089 107.774 Q182.659 108.538 179.881 110.089 L179.881 105.367 Q182.705 104.233 185.159 103.654 Q187.612 103.075 189.649 103.075 Q195.02 103.075 198.214 105.76 Q201.408 108.445 201.408 112.936 Q201.408 115.066 200.598 116.987 Q199.811 118.885 197.705 121.478 Q197.126 122.149 194.024 125.367 Q190.922 128.561 185.274 134.325 Z\" fill=\"#000000\" fill-rule=\"evenodd\" fill-opacity=\"1\" /><path clip-path=\"url(#clip950)\" d=\"M211.455 103.7 L229.811 103.7 L229.811 107.635 L215.737 107.635 L215.737 116.107 Q216.756 115.76 217.774 115.598 Q218.793 115.413 219.811 115.413 Q225.598 115.413 228.978 118.584 Q232.357 121.756 232.357 127.172 Q232.357 132.751 228.885 135.853 Q225.413 138.931 219.094 138.931 Q216.918 138.931 214.649 138.561 Q212.404 138.191 209.996 137.45 L209.996 132.751 Q212.08 133.885 214.302 134.441 Q216.524 134.996 219.001 134.996 Q223.006 134.996 225.343 132.89 Q227.681 130.783 227.681 127.172 Q227.681 123.561 225.343 121.455 Q223.006 119.348 219.001 119.348 Q217.126 119.348 215.251 119.765 Q213.399 120.181 211.455 121.061 L211.455 103.7 Z\" fill=\"#000000\" fill-rule=\"evenodd\" fill-opacity=\"1\" /><path clip-path=\"url(#clip950)\" d=\"M251.57 106.779 Q247.959 106.779 246.13 110.344 Q244.325 113.885 244.325 121.015 Q244.325 128.121 246.13 131.686 Q247.959 135.228 251.57 135.228 Q255.204 135.228 257.01 131.686 Q258.839 128.121 258.839 121.015 Q258.839 113.885 257.01 110.344 Q255.204 106.779 251.57 106.779 M251.57 103.075 Q257.38 103.075 260.436 107.682 Q263.515 112.265 263.515 121.015 Q263.515 129.742 260.436 134.348 Q257.38 138.931 251.57 138.931 Q245.76 138.931 242.681 134.348 Q239.626 129.742 239.626 121.015 Q239.626 112.265 242.681 107.682 Q245.76 103.075 251.57 103.075 Z\" fill=\"#000000\" fill-rule=\"evenodd\" fill-opacity=\"1\" /><path clip-path=\"url(#clip950)\" d=\"M299.903 112.797 L289.325 123.422 L299.903 134.001 L297.149 136.802 L286.524 126.177 L275.899 136.802 L273.167 134.001 L283.723 123.422 L273.167 112.797 L275.899 109.996 L286.524 120.621 L297.149 109.996 L299.903 112.797 Z\" fill=\"#000000\" fill-rule=\"evenodd\" fill-opacity=\"1\" /><path clip-path=\"url(#clip950)\" d=\"M312.264 134.325 L319.903 134.325 L319.903 107.959 L311.593 109.626 L311.593 105.367 L319.857 103.7 L324.533 103.7 L324.533 134.325 L332.172 134.325 L332.172 138.26 L312.264 138.26 L312.264 134.325 Z\" fill=\"#000000\" fill-rule=\"evenodd\" fill-opacity=\"1\" /><path clip-path=\"url(#clip950)\" d=\"M351.616 106.779 Q348.005 106.779 346.176 110.344 Q344.371 113.885 344.371 121.015 Q344.371 128.121 346.176 131.686 Q348.005 135.228 351.616 135.228 Q355.25 135.228 357.056 131.686 Q358.884 128.121 358.884 121.015 Q358.884 113.885 357.056 110.344 Q355.25 106.779 351.616 106.779 M351.616 103.075 Q357.426 103.075 360.482 107.682 Q363.56 112.265 363.56 121.015 Q363.56 129.742 360.482 134.348 Q357.426 138.931 351.616 138.931 Q345.806 138.931 342.727 134.348 Q339.672 129.742 339.672 121.015 Q339.672 112.265 342.727 107.682 Q345.806 103.075 351.616 103.075 Z\" fill=\"#000000\" fill-rule=\"evenodd\" fill-opacity=\"1\" /><path clip-path=\"url(#clip950)\" d=\"M364.745 82.7697 L379.66 82.7697 L379.66 85.967 L368.225 85.967 L368.225 92.8507 Q369.052 92.5686 369.88 92.4369 Q370.707 92.2864 371.535 92.2864 Q376.237 92.2864 378.983 94.8631 Q381.729 97.4398 381.729 101.841 Q381.729 106.373 378.907 108.894 Q376.086 111.395 370.952 111.395 Q369.184 111.395 367.341 111.094 Q365.516 110.793 363.56 110.191 L363.56 106.373 Q365.253 107.295 367.059 107.746 Q368.864 108.198 370.877 108.198 Q374.13 108.198 376.03 106.486 Q377.929 104.775 377.929 101.841 Q377.929 98.9068 376.03 97.1953 Q374.13 95.4838 370.877 95.4838 Q369.353 95.4838 367.83 95.8223 Q366.325 96.1608 364.745 96.8755 L364.745 82.7697 Z\" fill=\"#000000\" fill-rule=\"evenodd\" fill-opacity=\"1\" /><path clip-path=\"url(#clip950)\" d=\"M37.7642 745.921 L37.7642 736.34 L70.1019 724.214 L37.7642 712.023 L37.7642 702.443 L85.2842 702.443 L85.2842 708.713 L43.557 708.713 L76.1494 720.967 L76.1494 727.428 L43.557 739.682 L85.2842 739.682 L85.2842 745.921 L37.7642 745.921 Z\" fill=\"#000000\" fill-rule=\"evenodd\" fill-opacity=\"1\" /><path clip-path=\"url(#clip950)\" d=\"M65.9961 659.443 L68.8606 659.443 L68.8606 686.37 Q74.9081 685.988 78.0909 682.741 Q81.2419 679.463 81.2419 673.638 Q81.2419 670.264 80.4144 667.113 Q79.5869 663.93 77.9318 660.811 L83.4699 660.811 Q84.8067 663.962 85.507 667.272 Q86.2072 670.583 86.2072 673.988 Q86.2072 682.518 81.2419 687.515 Q76.2767 692.481 67.8103 692.481 Q59.0574 692.481 53.9331 687.77 Q48.7768 683.028 48.7768 675.007 Q48.7768 667.814 53.4238 663.644 Q58.0389 659.443 65.9961 659.443 M64.2773 665.299 Q59.4712 665.363 56.6066 668.005 Q53.7421 670.614 53.7421 674.943 Q53.7421 679.845 56.5112 682.805 Q59.2802 685.733 64.3092 686.179 L64.2773 665.299 Z\" fill=\"#000000\" fill-rule=\"evenodd\" fill-opacity=\"1\" /><path clip-path=\"url(#clip950)\" d=\"M67.3647 633.63 Q67.3647 640.727 68.9879 643.465 Q70.6112 646.202 74.5261 646.202 Q77.6453 646.202 79.4914 644.165 Q81.3056 642.096 81.3056 638.563 Q81.3056 633.693 77.8681 630.765 Q74.3988 627.805 68.6697 627.805 L67.3647 627.805 L67.3647 633.63 M64.9457 621.949 L85.2842 621.949 L85.2842 627.805 L79.8733 627.805 Q83.1198 629.81 84.6794 632.802 Q86.2072 635.794 86.2072 640.123 Q86.2072 645.597 83.1516 648.844 Q80.0643 652.058 74.9081 652.058 Q68.8925 652.058 65.8369 648.048 Q62.7814 644.006 62.7814 636.017 L62.7814 627.805 L62.2085 627.805 Q58.1662 627.805 55.9701 630.479 Q53.7421 633.12 53.7421 637.927 Q53.7421 640.982 54.4741 643.879 Q55.2062 646.775 56.6703 649.449 L51.2595 649.449 Q50.0181 646.234 49.4134 643.21 Q48.7768 640.186 48.7768 637.322 Q48.7768 629.588 52.7872 625.768 Q56.7976 621.949 64.9457 621.949 Z\" fill=\"#000000\" fill-rule=\"evenodd\" fill-opacity=\"1\" /><path clip-path=\"url(#clip950)\" d=\"M63.7681 580.253 L85.2842 580.253 L85.2842 586.11 L63.959 586.11 Q58.8983 586.11 56.3838 588.083 Q53.8694 590.056 53.8694 594.003 Q53.8694 598.746 56.8931 601.483 Q59.9168 604.22 65.1367 604.22 L85.2842 604.22 L85.2842 610.108 L49.6362 610.108 L49.6362 604.22 L55.1744 604.22 Q51.9597 602.119 50.3683 599.287 Q48.7768 596.422 48.7768 592.698 Q48.7768 586.555 52.5963 583.404 Q56.3838 580.253 63.7681 580.253 Z\" fill=\"#000000\" fill-rule=\"evenodd\" fill-opacity=\"1\" /><path clip-path=\"url(#clip950)\" d=\"M44.098 552.435 L67.7466 561.156 L67.7466 543.682 L44.098 552.435 M37.7642 556.064 L37.7642 548.775 L85.2842 530.664 L85.2842 537.348 L73.0938 541.677 L73.0938 563.098 L85.2842 567.426 L85.2842 574.206 L37.7642 556.064 Z\" fill=\"#000000\" fill-rule=\"evenodd\" fill-opacity=\"1\" /><path clip-path=\"url(#clip950)\" d=\"M67.492 498.39 Q61.0308 498.39 57.3705 501.064 Q53.6784 503.706 53.6784 508.353 Q53.6784 513 57.3705 515.673 Q61.0308 518.315 67.492 518.315 Q73.9532 518.315 77.6453 515.673 Q81.3056 513 81.3056 508.353 Q81.3056 503.706 77.6453 501.064 Q73.9532 498.39 67.492 498.39 M55.0471 518.315 Q51.8642 516.469 50.3364 513.668 Q48.7768 510.835 48.7768 506.92 Q48.7768 500.427 53.9331 496.385 Q59.0893 492.311 67.492 492.311 Q75.8947 492.311 81.051 496.385 Q86.2072 500.427 86.2072 506.92 Q86.2072 510.835 84.6794 513.668 Q83.1198 516.469 79.937 518.315 L85.2842 518.315 L85.2842 524.203 L35.759 524.203 L35.759 518.315 L55.0471 518.315 Z\" fill=\"#000000\" fill-rule=\"evenodd\" fill-opacity=\"1\" /><path clip-path=\"url(#clip950)\" d=\"M50.6865 459.878 L56.2247 459.878 Q54.9516 462.36 54.315 465.034 Q53.6784 467.708 53.6784 470.572 Q53.6784 474.933 55.0152 477.129 Q56.352 479.293 59.0256 479.293 Q61.0626 479.293 62.2403 477.734 Q63.3861 476.174 64.4365 471.463 L64.8821 469.458 Q66.2189 463.22 68.6697 460.61 Q71.0886 457.968 75.4491 457.968 Q80.4144 457.968 83.3108 461.915 Q86.2072 465.83 86.2072 472.705 Q86.2072 475.569 85.6343 478.688 Q85.0932 481.776 83.9792 485.213 L77.9318 485.213 Q79.6187 481.967 80.478 478.816 Q81.3056 475.665 81.3056 472.577 Q81.3056 468.44 79.9051 466.212 Q78.4729 463.984 75.8947 463.984 Q73.5076 463.984 72.2345 465.607 Q70.9613 467.198 69.7837 472.641 L69.3062 474.678 Q68.1604 480.121 65.8051 482.54 Q63.418 484.959 59.2802 484.959 Q54.2513 484.959 51.5141 481.394 Q48.7768 477.829 48.7768 471.272 Q48.7768 468.026 49.2543 465.161 Q49.7317 462.297 50.6865 459.878 Z\" fill=\"#000000\" fill-rule=\"evenodd\" fill-opacity=\"1\" /><path clip-path=\"url(#clip950)\" d=\"M53.7421 434.829 Q53.7421 439.539 57.4342 442.277 Q61.0945 445.014 67.492 445.014 Q73.8895 445.014 77.5817 442.308 Q81.2419 439.571 81.2419 434.829 Q81.2419 430.15 77.5498 427.413 Q73.8577 424.675 67.492 424.675 Q61.1581 424.675 57.466 427.413 Q53.7421 430.15 53.7421 434.829 M48.7768 434.829 Q48.7768 427.19 53.7421 422.829 Q58.7073 418.469 67.492 418.469 Q76.2449 418.469 81.2419 422.829 Q86.2072 427.19 86.2072 434.829 Q86.2072 442.499 81.2419 446.86 Q76.2449 451.189 67.492 451.189 Q58.7073 451.189 53.7421 446.86 Q48.7768 442.499 48.7768 434.829 Z\" fill=\"#000000\" fill-rule=\"evenodd\" fill-opacity=\"1\" /><path clip-path=\"url(#clip950)\" d=\"M35.759 408.761 L35.759 402.905 L85.2842 402.905 L85.2842 408.761 L35.759 408.761 Z\" fill=\"#000000\" fill-rule=\"evenodd\" fill-opacity=\"1\" /><path clip-path=\"url(#clip950)\" d=\"M71.2159 391.255 L49.6362 391.255 L49.6362 385.399 L70.9931 385.399 Q76.0539 385.399 78.6002 383.426 Q81.1146 381.452 81.1146 377.506 Q81.1146 372.763 78.0909 370.026 Q75.0672 367.257 69.8473 367.257 L49.6362 367.257 L49.6362 361.4 L85.2842 361.4 L85.2842 367.257 L79.8096 367.257 Q83.0562 369.389 84.6476 372.222 Q86.2072 375.023 86.2072 378.747 Q86.2072 384.89 82.3878 388.073 Q78.5683 391.255 71.2159 391.255 M48.7768 376.519 L48.7768 376.519 Z\" fill=\"#000000\" fill-rule=\"evenodd\" fill-opacity=\"1\" /><path clip-path=\"url(#clip950)\" d=\"M39.5147 343.544 L49.6362 343.544 L49.6362 331.481 L54.1877 331.481 L54.1877 343.544 L73.5394 343.544 Q77.8999 343.544 79.1413 342.367 Q80.3826 341.157 80.3826 337.497 L80.3826 331.481 L85.2842 331.481 L85.2842 337.497 Q85.2842 344.277 82.7697 346.855 Q80.2234 349.433 73.5394 349.433 L54.1877 349.433 L54.1877 353.73 L49.6362 353.73 L49.6362 349.433 L39.5147 349.433 L39.5147 343.544 Z\" fill=\"#000000\" fill-rule=\"evenodd\" fill-opacity=\"1\" /><path clip-path=\"url(#clip950)\" d=\"M65.9961 293.287 L68.8606 293.287 L68.8606 320.214 Q74.9081 319.832 78.0909 316.586 Q81.2419 313.307 81.2419 307.483 Q81.2419 304.109 80.4144 300.958 Q79.5869 297.775 77.9318 294.656 L83.4699 294.656 Q84.8067 297.807 85.507 301.117 Q86.2072 304.427 86.2072 307.833 Q86.2072 316.363 81.2419 321.36 Q76.2767 326.325 67.8103 326.325 Q59.0574 326.325 53.9331 321.615 Q48.7768 316.872 48.7768 308.851 Q48.7768 301.658 53.4238 297.489 Q58.0389 293.287 65.9961 293.287 M64.2773 299.144 Q59.4712 299.207 56.6066 301.849 Q53.7421 304.459 53.7421 308.788 Q53.7421 313.689 56.5112 316.649 Q59.2802 319.578 64.3092 320.023 L64.2773 299.144 Z\" fill=\"#000000\" fill-rule=\"evenodd\" fill-opacity=\"1\" /><path clip-path=\"url(#clip950)\" d=\"M37.7642 283.42 L37.7642 253.374 L43.175 253.374 L43.175 276.991 L57.2432 276.991 L57.2432 254.361 L62.6541 254.361 L62.6541 276.991 L79.8733 276.991 L79.8733 252.801 L85.2842 252.801 L85.2842 283.42 L37.7642 283.42 Z\" fill=\"#000000\" fill-rule=\"evenodd\" fill-opacity=\"1\" /><path clip-path=\"url(#clip950)\" d=\"M55.1107 221.832 Q54.5378 222.819 54.2832 223.997 Q53.9967 225.142 53.9967 226.543 Q53.9967 231.508 57.2432 234.182 Q60.4579 236.823 66.5053 236.823 L85.2842 236.823 L85.2842 242.712 L49.6362 242.712 L49.6362 236.823 L55.1744 236.823 Q51.9279 234.977 50.3683 232.017 Q48.7768 229.057 48.7768 224.824 Q48.7768 224.219 48.8723 223.487 Q48.936 222.755 49.0951 221.864 L55.1107 221.832 Z\" fill=\"#000000\" fill-rule=\"evenodd\" fill-opacity=\"1\" /><path clip-path=\"url(#clip950)\" d=\"M55.1107 196.178 Q54.5378 197.165 54.2832 198.343 Q53.9967 199.489 53.9967 200.889 Q53.9967 205.854 57.2432 208.528 Q60.4579 211.17 66.5053 211.17 L85.2842 211.17 L85.2842 217.058 L49.6362 217.058 L49.6362 211.17 L55.1744 211.17 Q51.9279 209.324 50.3683 206.364 Q48.7768 203.403 48.7768 199.17 Q48.7768 198.566 48.8723 197.833 Q48.936 197.101 49.0951 196.21 L55.1107 196.178 Z\" fill=\"#000000\" fill-rule=\"evenodd\" fill-opacity=\"1\" /><path clip-path=\"url(#clip950)\" d=\"M53.7421 177.654 Q53.7421 182.365 57.4342 185.102 Q61.0945 187.839 67.492 187.839 Q73.8895 187.839 77.5817 185.134 Q81.2419 182.397 81.2419 177.654 Q81.2419 172.975 77.5498 170.238 Q73.8577 167.501 67.492 167.501 Q61.1581 167.501 57.466 170.238 Q53.7421 172.975 53.7421 177.654 M48.7768 177.654 Q48.7768 170.015 53.7421 165.655 Q58.7073 161.294 67.492 161.294 Q76.2449 161.294 81.2419 165.655 Q86.2072 170.015 86.2072 177.654 Q86.2072 185.325 81.2419 189.685 Q76.2449 194.014 67.492 194.014 Q58.7073 194.014 53.7421 189.685 Q48.7768 185.325 48.7768 177.654 Z\" fill=\"#000000\" fill-rule=\"evenodd\" fill-opacity=\"1\" /><path clip-path=\"url(#clip950)\" d=\"M55.1107 130.93 Q54.5378 131.917 54.2832 133.094 Q53.9967 134.24 53.9967 135.641 Q53.9967 140.606 57.2432 143.279 Q60.4579 145.921 66.5053 145.921 L85.2842 145.921 L85.2842 151.809 L49.6362 151.809 L49.6362 145.921 L55.1744 145.921 Q51.9279 144.075 50.3683 141.115 Q48.7768 138.155 48.7768 133.922 Q48.7768 133.317 48.8723 132.585 Q48.936 131.853 49.0951 130.962 L55.1107 130.93 Z\" fill=\"#000000\" fill-rule=\"evenodd\" fill-opacity=\"1\" /><circle clip-path=\"url(#clip952)\" cx=\"815.821\" cy=\"803.771\" r=\"14\" fill=\"#009af9\" fill-rule=\"evenodd\" fill-opacity=\"1\" stroke=\"#000000\" stroke-opacity=\"1\" stroke-width=\"4\"/>\n",
       "<circle clip-path=\"url(#clip952)\" cx=\"596.944\" cy=\"734.856\" r=\"14\" fill=\"#009af9\" fill-rule=\"evenodd\" fill-opacity=\"1\" stroke=\"#000000\" stroke-opacity=\"1\" stroke-width=\"4\"/>\n",
       "<circle clip-path=\"url(#clip952)\" cx=\"596.944\" cy=\"686.919\" r=\"14\" fill=\"#009af9\" fill-rule=\"evenodd\" fill-opacity=\"1\" stroke=\"#000000\" stroke-opacity=\"1\" stroke-width=\"4\"/>\n",
       "<circle clip-path=\"url(#clip952)\" cx=\"706.383\" cy=\"724.101\" r=\"14\" fill=\"#009af9\" fill-rule=\"evenodd\" fill-opacity=\"1\" stroke=\"#000000\" stroke-opacity=\"1\" stroke-width=\"4\"/>\n",
       "<circle clip-path=\"url(#clip952)\" cx=\"596.944\" cy=\"734.856\" r=\"14\" fill=\"#009af9\" fill-rule=\"evenodd\" fill-opacity=\"1\" stroke=\"#000000\" stroke-opacity=\"1\" stroke-width=\"4\"/>\n",
       "<circle clip-path=\"url(#clip952)\" cx=\"596.944\" cy=\"727.423\" r=\"14\" fill=\"#009af9\" fill-rule=\"evenodd\" fill-opacity=\"1\" stroke=\"#000000\" stroke-opacity=\"1\" stroke-width=\"4\"/>\n",
       "<circle clip-path=\"url(#clip952)\" cx=\"596.944\" cy=\"734.856\" r=\"14\" fill=\"#009af9\" fill-rule=\"evenodd\" fill-opacity=\"1\" stroke=\"#000000\" stroke-opacity=\"1\" stroke-width=\"4\"/>\n",
       "<circle clip-path=\"url(#clip952)\" cx=\"925.26\" cy=\"772.461\" r=\"14\" fill=\"#009af9\" fill-rule=\"evenodd\" fill-opacity=\"1\" stroke=\"#000000\" stroke-opacity=\"1\" stroke-width=\"4\"/>\n",
       "<circle clip-path=\"url(#clip952)\" cx=\"979.979\" cy=\"795.353\" r=\"14\" fill=\"#009af9\" fill-rule=\"evenodd\" fill-opacity=\"1\" stroke=\"#000000\" stroke-opacity=\"1\" stroke-width=\"4\"/>\n",
       "<circle clip-path=\"url(#clip952)\" cx=\"761.102\" cy=\"798.654\" r=\"14\" fill=\"#009af9\" fill-rule=\"evenodd\" fill-opacity=\"1\" stroke=\"#000000\" stroke-opacity=\"1\" stroke-width=\"4\"/>\n",
       "<circle clip-path=\"url(#clip952)\" cx=\"925.26\" cy=\"772.461\" r=\"14\" fill=\"#009af9\" fill-rule=\"evenodd\" fill-opacity=\"1\" stroke=\"#000000\" stroke-opacity=\"1\" stroke-width=\"4\"/>\n",
       "<circle clip-path=\"url(#clip952)\" cx=\"432.786\" cy=\"69.3864\" r=\"14\" fill=\"#009af9\" fill-rule=\"evenodd\" fill-opacity=\"1\" stroke=\"#000000\" stroke-opacity=\"1\" stroke-width=\"4\"/>\n",
       "<circle clip-path=\"url(#clip952)\" cx=\"815.821\" cy=\"803.771\" r=\"14\" fill=\"#009af9\" fill-rule=\"evenodd\" fill-opacity=\"1\" stroke=\"#000000\" stroke-opacity=\"1\" stroke-width=\"4\"/>\n",
       "<circle clip-path=\"url(#clip952)\" cx=\"761.102\" cy=\"766.504\" r=\"14\" fill=\"#009af9\" fill-rule=\"evenodd\" fill-opacity=\"1\" stroke=\"#000000\" stroke-opacity=\"1\" stroke-width=\"4\"/>\n",
       "<circle clip-path=\"url(#clip952)\" cx=\"870.541\" cy=\"732.854\" r=\"14\" fill=\"#009af9\" fill-rule=\"evenodd\" fill-opacity=\"1\" stroke=\"#000000\" stroke-opacity=\"1\" stroke-width=\"4\"/>\n",
       "<circle clip-path=\"url(#clip952)\" cx=\"487.505\" cy=\"599.833\" r=\"14\" fill=\"#009af9\" fill-rule=\"evenodd\" fill-opacity=\"1\" stroke=\"#000000\" stroke-opacity=\"1\" stroke-width=\"4\"/>\n",
       "<circle clip-path=\"url(#clip952)\" cx=\"761.102\" cy=\"730.137\" r=\"14\" fill=\"#009af9\" fill-rule=\"evenodd\" fill-opacity=\"1\" stroke=\"#000000\" stroke-opacity=\"1\" stroke-width=\"4\"/>\n",
       "<circle clip-path=\"url(#clip952)\" cx=\"761.102\" cy=\"789.569\" r=\"14\" fill=\"#009af9\" fill-rule=\"evenodd\" fill-opacity=\"1\" stroke=\"#000000\" stroke-opacity=\"1\" stroke-width=\"4\"/>\n",
       "<circle clip-path=\"url(#clip952)\" cx=\"596.944\" cy=\"734.856\" r=\"14\" fill=\"#009af9\" fill-rule=\"evenodd\" fill-opacity=\"1\" stroke=\"#000000\" stroke-opacity=\"1\" stroke-width=\"4\"/>\n",
       "<circle clip-path=\"url(#clip952)\" cx=\"706.383\" cy=\"775.481\" r=\"14\" fill=\"#009af9\" fill-rule=\"evenodd\" fill-opacity=\"1\" stroke=\"#000000\" stroke-opacity=\"1\" stroke-width=\"4\"/>\n",
       "<circle clip-path=\"url(#clip952)\" cx=\"925.26\" cy=\"731.593\" r=\"14\" fill=\"#009af9\" fill-rule=\"evenodd\" fill-opacity=\"1\" stroke=\"#000000\" stroke-opacity=\"1\" stroke-width=\"4\"/>\n",
       "<circle clip-path=\"url(#clip952)\" cx=\"979.979\" cy=\"767.884\" r=\"14\" fill=\"#009af9\" fill-rule=\"evenodd\" fill-opacity=\"1\" stroke=\"#000000\" stroke-opacity=\"1\" stroke-width=\"4\"/>\n",
       "<circle clip-path=\"url(#clip952)\" cx=\"487.505\" cy=\"606.303\" r=\"14\" fill=\"#009af9\" fill-rule=\"evenodd\" fill-opacity=\"1\" stroke=\"#000000\" stroke-opacity=\"1\" stroke-width=\"4\"/>\n",
       "<circle clip-path=\"url(#clip952)\" cx=\"761.102\" cy=\"730.137\" r=\"14\" fill=\"#009af9\" fill-rule=\"evenodd\" fill-opacity=\"1\" stroke=\"#000000\" stroke-opacity=\"1\" stroke-width=\"4\"/>\n",
       "<circle clip-path=\"url(#clip952)\" cx=\"432.786\" cy=\"69.3864\" r=\"14\" fill=\"#009af9\" fill-rule=\"evenodd\" fill-opacity=\"1\" stroke=\"#000000\" stroke-opacity=\"1\" stroke-width=\"4\"/>\n",
       "<circle clip-path=\"url(#clip952)\" cx=\"925.26\" cy=\"807.464\" r=\"14\" fill=\"#009af9\" fill-rule=\"evenodd\" fill-opacity=\"1\" stroke=\"#000000\" stroke-opacity=\"1\" stroke-width=\"4\"/>\n",
       "<circle clip-path=\"url(#clip952)\" cx=\"925.26\" cy=\"807.464\" r=\"14\" fill=\"#009af9\" fill-rule=\"evenodd\" fill-opacity=\"1\" stroke=\"#000000\" stroke-opacity=\"1\" stroke-width=\"4\"/>\n",
       "<circle clip-path=\"url(#clip952)\" cx=\"651.663\" cy=\"757.455\" r=\"14\" fill=\"#009af9\" fill-rule=\"evenodd\" fill-opacity=\"1\" stroke=\"#000000\" stroke-opacity=\"1\" stroke-width=\"4\"/>\n",
       "<circle clip-path=\"url(#clip952)\" cx=\"979.979\" cy=\"795.353\" r=\"14\" fill=\"#009af9\" fill-rule=\"evenodd\" fill-opacity=\"1\" stroke=\"#000000\" stroke-opacity=\"1\" stroke-width=\"4\"/>\n",
       "<circle clip-path=\"url(#clip952)\" cx=\"596.944\" cy=\"743.788\" r=\"14\" fill=\"#009af9\" fill-rule=\"evenodd\" fill-opacity=\"1\" stroke=\"#000000\" stroke-opacity=\"1\" stroke-width=\"4\"/>\n",
       "<circle clip-path=\"url(#clip952)\" cx=\"815.821\" cy=\"774.874\" r=\"14\" fill=\"#009af9\" fill-rule=\"evenodd\" fill-opacity=\"1\" stroke=\"#000000\" stroke-opacity=\"1\" stroke-width=\"4\"/>\n",
       "<circle clip-path=\"url(#clip952)\" cx=\"925.26\" cy=\"731.593\" r=\"14\" fill=\"#009af9\" fill-rule=\"evenodd\" fill-opacity=\"1\" stroke=\"#000000\" stroke-opacity=\"1\" stroke-width=\"4\"/>\n",
       "<circle clip-path=\"url(#clip952)\" cx=\"706.383\" cy=\"724.101\" r=\"14\" fill=\"#009af9\" fill-rule=\"evenodd\" fill-opacity=\"1\" stroke=\"#000000\" stroke-opacity=\"1\" stroke-width=\"4\"/>\n",
       "<circle clip-path=\"url(#clip952)\" cx=\"542.225\" cy=\"678.038\" r=\"14\" fill=\"#009af9\" fill-rule=\"evenodd\" fill-opacity=\"1\" stroke=\"#000000\" stroke-opacity=\"1\" stroke-width=\"4\"/>\n",
       "<circle clip-path=\"url(#clip952)\" cx=\"1034.7\" cy=\"799.109\" r=\"14\" fill=\"#009af9\" fill-rule=\"evenodd\" fill-opacity=\"1\" stroke=\"#000000\" stroke-opacity=\"1\" stroke-width=\"4\"/>\n",
       "<circle clip-path=\"url(#clip952)\" cx=\"1034.7\" cy=\"791.085\" r=\"14\" fill=\"#009af9\" fill-rule=\"evenodd\" fill-opacity=\"1\" stroke=\"#000000\" stroke-opacity=\"1\" stroke-width=\"4\"/>\n",
       "<circle clip-path=\"url(#clip952)\" cx=\"651.663\" cy=\"708.562\" r=\"14\" fill=\"#009af9\" fill-rule=\"evenodd\" fill-opacity=\"1\" stroke=\"#000000\" stroke-opacity=\"1\" stroke-width=\"4\"/>\n",
       "<circle clip-path=\"url(#clip952)\" cx=\"596.944\" cy=\"686.919\" r=\"14\" fill=\"#009af9\" fill-rule=\"evenodd\" fill-opacity=\"1\" stroke=\"#000000\" stroke-opacity=\"1\" stroke-width=\"4\"/>\n",
       "<circle clip-path=\"url(#clip952)\" cx=\"706.383\" cy=\"775.481\" r=\"14\" fill=\"#009af9\" fill-rule=\"evenodd\" fill-opacity=\"1\" stroke=\"#000000\" stroke-opacity=\"1\" stroke-width=\"4\"/>\n",
       "<circle clip-path=\"url(#clip952)\" cx=\"870.541\" cy=\"795.132\" r=\"14\" fill=\"#009af9\" fill-rule=\"evenodd\" fill-opacity=\"1\" stroke=\"#000000\" stroke-opacity=\"1\" stroke-width=\"4\"/>\n",
       "<path clip-path=\"url(#clip950)\" d=\"\n",
       "M1514.73 829.607 L2152.76 829.607 L2152.76 47.2441 L1514.73 47.2441  Z\n",
       "  \" fill=\"#ffffff\" fill-rule=\"evenodd\" fill-opacity=\"1\"/>\n",
       "<defs>\n",
       "  <clipPath id=\"clip953\">\n",
       "    <rect x=\"1514\" y=\"47\" width=\"639\" height=\"783\"/>\n",
       "  </clipPath>\n",
       "</defs>\n",
       "<path clip-path=\"url(#clip950)\" d=\"\n",
       "M414.729 1789.33 L1052.76 1789.33 L1052.76 1006.97 L414.729 1006.97  Z\n",
       "  \" fill=\"#ffffff\" fill-rule=\"evenodd\" fill-opacity=\"1\"/>\n",
       "<defs>\n",
       "  <clipPath id=\"clip954\">\n",
       "    <rect x=\"414\" y=\"1006\" width=\"639\" height=\"783\"/>\n",
       "  </clipPath>\n",
       "</defs>\n",
       "<polyline clip-path=\"url(#clip954)\" style=\"stroke:#000000; stroke-linecap:butt; stroke-linejoin:round; stroke-width:2; stroke-opacity:0.1; fill:none\" points=\"\n",
       "  514.865,1789.33 514.865,1006.97 \n",
       "  \"/>\n",
       "<polyline clip-path=\"url(#clip954)\" style=\"stroke:#000000; stroke-linecap:butt; stroke-linejoin:round; stroke-width:2; stroke-opacity:0.1; fill:none\" points=\"\n",
       "  651.663,1789.33 651.663,1006.97 \n",
       "  \"/>\n",
       "<polyline clip-path=\"url(#clip954)\" style=\"stroke:#000000; stroke-linecap:butt; stroke-linejoin:round; stroke-width:2; stroke-opacity:0.1; fill:none\" points=\"\n",
       "  788.462,1789.33 788.462,1006.97 \n",
       "  \"/>\n",
       "<polyline clip-path=\"url(#clip954)\" style=\"stroke:#000000; stroke-linecap:butt; stroke-linejoin:round; stroke-width:2; stroke-opacity:0.1; fill:none\" points=\"\n",
       "  925.26,1789.33 925.26,1006.97 \n",
       "  \"/>\n",
       "<polyline clip-path=\"url(#clip950)\" style=\"stroke:#000000; stroke-linecap:butt; stroke-linejoin:round; stroke-width:4; stroke-opacity:1; fill:none\" points=\"\n",
       "  414.729,1789.33 1052.76,1789.33 \n",
       "  \"/>\n",
       "<polyline clip-path=\"url(#clip950)\" style=\"stroke:#000000; stroke-linecap:butt; stroke-linejoin:round; stroke-width:4; stroke-opacity:1; fill:none\" points=\"\n",
       "  414.729,1006.97 1052.76,1006.97 \n",
       "  \"/>\n",
       "<polyline clip-path=\"url(#clip950)\" style=\"stroke:#000000; stroke-linecap:butt; stroke-linejoin:round; stroke-width:4; stroke-opacity:1; fill:none\" points=\"\n",
       "  514.865,1789.33 514.865,1770.43 \n",
       "  \"/>\n",
       "<polyline clip-path=\"url(#clip950)\" style=\"stroke:#000000; stroke-linecap:butt; stroke-linejoin:round; stroke-width:4; stroke-opacity:1; fill:none\" points=\"\n",
       "  651.663,1789.33 651.663,1770.43 \n",
       "  \"/>\n",
       "<polyline clip-path=\"url(#clip950)\" style=\"stroke:#000000; stroke-linecap:butt; stroke-linejoin:round; stroke-width:4; stroke-opacity:1; fill:none\" points=\"\n",
       "  788.462,1789.33 788.462,1770.43 \n",
       "  \"/>\n",
       "<polyline clip-path=\"url(#clip950)\" style=\"stroke:#000000; stroke-linecap:butt; stroke-linejoin:round; stroke-width:4; stroke-opacity:1; fill:none\" points=\"\n",
       "  925.26,1789.33 925.26,1770.43 \n",
       "  \"/>\n",
       "<path clip-path=\"url(#clip950)\" d=\"M486.601 1846.2 L502.921 1846.2 L502.921 1850.13 L480.976 1850.13 L480.976 1846.2 Q483.638 1843.44 488.222 1838.81 Q492.828 1834.16 494.009 1832.82 Q496.254 1830.29 497.134 1828.56 Q498.036 1826.8 498.036 1825.11 Q498.036 1822.35 496.092 1820.62 Q494.171 1818.88 491.069 1818.88 Q488.87 1818.88 486.416 1819.65 Q483.986 1820.41 481.208 1821.96 L481.208 1817.24 Q484.032 1816.1 486.486 1815.53 Q488.939 1814.95 490.976 1814.95 Q496.347 1814.95 499.541 1817.63 Q502.735 1820.32 502.735 1824.81 Q502.735 1826.94 501.925 1828.86 Q501.138 1830.76 499.032 1833.35 Q498.453 1834.02 495.351 1837.24 Q492.249 1840.43 486.601 1846.2 Z\" fill=\"#000000\" fill-rule=\"evenodd\" fill-opacity=\"1\" /><path clip-path=\"url(#clip950)\" d=\"M512.735 1844.25 L517.62 1844.25 L517.62 1850.13 L512.735 1850.13 L512.735 1844.25 Z\" fill=\"#000000\" fill-rule=\"evenodd\" fill-opacity=\"1\" /><path clip-path=\"url(#clip950)\" d=\"M527.851 1815.57 L546.207 1815.57 L546.207 1819.51 L532.133 1819.51 L532.133 1827.98 Q533.152 1827.63 534.17 1827.47 Q535.189 1827.29 536.207 1827.29 Q541.994 1827.29 545.374 1830.46 Q548.754 1833.63 548.754 1839.04 Q548.754 1844.62 545.281 1847.73 Q541.809 1850.8 535.49 1850.8 Q533.314 1850.8 531.045 1850.43 Q528.8 1850.06 526.393 1849.32 L526.393 1844.62 Q528.476 1845.76 530.698 1846.31 Q532.92 1846.87 535.397 1846.87 Q539.402 1846.87 541.74 1844.76 Q544.078 1842.66 544.078 1839.04 Q544.078 1835.43 541.74 1833.33 Q539.402 1831.22 535.397 1831.22 Q533.522 1831.22 531.647 1831.64 Q529.795 1832.05 527.851 1832.93 L527.851 1815.57 Z\" fill=\"#000000\" fill-rule=\"evenodd\" fill-opacity=\"1\" /><path clip-path=\"url(#clip950)\" d=\"M618.828 1815.57 L637.184 1815.57 L637.184 1819.51 L623.11 1819.51 L623.11 1827.98 Q624.129 1827.63 625.147 1827.47 Q626.166 1827.29 627.184 1827.29 Q632.971 1827.29 636.351 1830.46 Q639.73 1833.63 639.73 1839.04 Q639.73 1844.62 636.258 1847.73 Q632.786 1850.8 626.467 1850.8 Q624.291 1850.8 622.022 1850.43 Q619.777 1850.06 617.369 1849.32 L617.369 1844.62 Q619.453 1845.76 621.675 1846.31 Q623.897 1846.87 626.374 1846.87 Q630.379 1846.87 632.717 1844.76 Q635.055 1842.66 635.055 1839.04 Q635.055 1835.43 632.717 1833.33 Q630.379 1831.22 626.374 1831.22 Q624.499 1831.22 622.624 1831.64 Q620.772 1832.05 618.828 1832.93 L618.828 1815.57 Z\" fill=\"#000000\" fill-rule=\"evenodd\" fill-opacity=\"1\" /><path clip-path=\"url(#clip950)\" d=\"M648.943 1844.25 L653.828 1844.25 L653.828 1850.13 L648.943 1850.13 L648.943 1844.25 Z\" fill=\"#000000\" fill-rule=\"evenodd\" fill-opacity=\"1\" /><path clip-path=\"url(#clip950)\" d=\"M674.013 1818.65 Q670.402 1818.65 668.573 1822.22 Q666.767 1825.76 666.767 1832.89 Q666.767 1839.99 668.573 1843.56 Q670.402 1847.1 674.013 1847.1 Q677.647 1847.1 679.452 1843.56 Q681.281 1839.99 681.281 1832.89 Q681.281 1825.76 679.452 1822.22 Q677.647 1818.65 674.013 1818.65 M674.013 1814.95 Q679.823 1814.95 682.878 1819.55 Q685.957 1824.14 685.957 1832.89 Q685.957 1841.61 682.878 1846.22 Q679.823 1850.8 674.013 1850.8 Q668.203 1850.8 665.124 1846.22 Q662.068 1841.61 662.068 1832.89 Q662.068 1824.14 665.124 1819.55 Q668.203 1814.95 674.013 1814.95 Z\" fill=\"#000000\" fill-rule=\"evenodd\" fill-opacity=\"1\" /><path clip-path=\"url(#clip950)\" d=\"M754.781 1815.57 L777.003 1815.57 L777.003 1817.56 L764.457 1850.13 L759.573 1850.13 L771.378 1819.51 L754.781 1819.51 L754.781 1815.57 Z\" fill=\"#000000\" fill-rule=\"evenodd\" fill-opacity=\"1\" /><path clip-path=\"url(#clip950)\" d=\"M786.124 1844.25 L791.008 1844.25 L791.008 1850.13 L786.124 1850.13 L786.124 1844.25 Z\" fill=\"#000000\" fill-rule=\"evenodd\" fill-opacity=\"1\" /><path clip-path=\"url(#clip950)\" d=\"M801.239 1815.57 L819.596 1815.57 L819.596 1819.51 L805.522 1819.51 L805.522 1827.98 Q806.54 1827.63 807.559 1827.47 Q808.577 1827.29 809.596 1827.29 Q815.383 1827.29 818.762 1830.46 Q822.142 1833.63 822.142 1839.04 Q822.142 1844.62 818.67 1847.73 Q815.198 1850.8 808.878 1850.8 Q806.702 1850.8 804.434 1850.43 Q802.188 1850.06 799.781 1849.32 L799.781 1844.62 Q801.864 1845.76 804.087 1846.31 Q806.309 1846.87 808.786 1846.87 Q812.79 1846.87 815.128 1844.76 Q817.466 1842.66 817.466 1839.04 Q817.466 1835.43 815.128 1833.33 Q812.79 1831.22 808.786 1831.22 Q806.911 1831.22 805.036 1831.64 Q803.184 1832.05 801.239 1832.93 L801.239 1815.57 Z\" fill=\"#000000\" fill-rule=\"evenodd\" fill-opacity=\"1\" /><path clip-path=\"url(#clip950)\" d=\"M877.332 1846.2 L884.971 1846.2 L884.971 1819.83 L876.661 1821.5 L876.661 1817.24 L884.924 1815.57 L889.6 1815.57 L889.6 1846.2 L897.239 1846.2 L897.239 1850.13 L877.332 1850.13 L877.332 1846.2 Z\" fill=\"#000000\" fill-rule=\"evenodd\" fill-opacity=\"1\" /><path clip-path=\"url(#clip950)\" d=\"M916.684 1818.65 Q913.072 1818.65 911.244 1822.22 Q909.438 1825.76 909.438 1832.89 Q909.438 1839.99 911.244 1843.56 Q913.072 1847.1 916.684 1847.1 Q920.318 1847.1 922.123 1843.56 Q923.952 1839.99 923.952 1832.89 Q923.952 1825.76 922.123 1822.22 Q920.318 1818.65 916.684 1818.65 M916.684 1814.95 Q922.494 1814.95 925.549 1819.55 Q928.628 1824.14 928.628 1832.89 Q928.628 1841.61 925.549 1846.22 Q922.494 1850.8 916.684 1850.8 Q910.873 1850.8 907.795 1846.22 Q904.739 1841.61 904.739 1832.89 Q904.739 1824.14 907.795 1819.55 Q910.873 1814.95 916.684 1814.95 Z\" fill=\"#000000\" fill-rule=\"evenodd\" fill-opacity=\"1\" /><path clip-path=\"url(#clip950)\" d=\"M936.845 1844.25 L941.73 1844.25 L941.73 1850.13 L936.845 1850.13 L936.845 1844.25 Z\" fill=\"#000000\" fill-rule=\"evenodd\" fill-opacity=\"1\" /><path clip-path=\"url(#clip950)\" d=\"M961.915 1818.65 Q958.304 1818.65 956.475 1822.22 Q954.669 1825.76 954.669 1832.89 Q954.669 1839.99 956.475 1843.56 Q958.304 1847.1 961.915 1847.1 Q965.549 1847.1 967.355 1843.56 Q969.183 1839.99 969.183 1832.89 Q969.183 1825.76 967.355 1822.22 Q965.549 1818.65 961.915 1818.65 M961.915 1814.95 Q967.725 1814.95 970.78 1819.55 Q973.859 1824.14 973.859 1832.89 Q973.859 1841.61 970.78 1846.22 Q967.725 1850.8 961.915 1850.8 Q956.105 1850.8 953.026 1846.22 Q949.97 1841.61 949.97 1832.89 Q949.97 1824.14 953.026 1819.55 Q956.105 1814.95 961.915 1814.95 Z\" fill=\"#000000\" fill-rule=\"evenodd\" fill-opacity=\"1\" /><path clip-path=\"url(#clip950)\" d=\"M270.908 1911.91 L270.908 1914.77 L243.981 1914.77 Q244.363 1920.82 247.609 1924 Q250.888 1927.15 256.712 1927.15 Q260.086 1927.15 263.237 1926.33 Q266.42 1925.5 269.539 1923.84 L269.539 1929.38 Q266.388 1930.72 263.078 1931.42 Q259.768 1932.12 256.362 1932.12 Q247.832 1932.12 242.835 1927.15 Q237.87 1922.19 237.87 1913.72 Q237.87 1904.97 242.58 1899.85 Q247.323 1894.69 255.344 1894.69 Q262.537 1894.69 266.706 1899.34 Q270.908 1903.95 270.908 1911.91 M265.051 1910.19 Q264.988 1905.38 262.346 1902.52 Q259.736 1899.65 255.407 1899.65 Q250.506 1899.65 247.546 1902.42 Q244.617 1905.19 244.172 1910.22 L265.051 1910.19 Z\" fill=\"#000000\" fill-rule=\"evenodd\" fill-opacity=\"1\" /><path clip-path=\"url(#clip950)\" d=\"M276.319 1895.55 L282.525 1895.55 L293.665 1925.47 L304.805 1895.55 L311.012 1895.55 L297.644 1931.2 L289.686 1931.2 L276.319 1895.55 Z\" fill=\"#000000\" fill-rule=\"evenodd\" fill-opacity=\"1\" /><path clip-path=\"url(#clip950)\" d=\"M332.91 1899.65 Q328.199 1899.65 325.462 1903.35 Q322.725 1907.01 322.725 1913.4 Q322.725 1919.8 325.43 1923.49 Q328.167 1927.15 332.91 1927.15 Q337.588 1927.15 340.326 1923.46 Q343.063 1919.77 343.063 1913.4 Q343.063 1907.07 340.326 1903.38 Q337.588 1899.65 332.91 1899.65 M332.91 1894.69 Q340.548 1894.69 344.909 1899.65 Q349.27 1904.62 349.27 1913.4 Q349.27 1922.16 344.909 1927.15 Q340.548 1932.12 332.91 1932.12 Q325.239 1932.12 320.878 1927.15 Q316.55 1922.16 316.55 1913.4 Q316.55 1904.62 320.878 1899.65 Q325.239 1894.69 332.91 1894.69 Z\" fill=\"#000000\" fill-rule=\"evenodd\" fill-opacity=\"1\" /><path clip-path=\"url(#clip950)\" d=\"M386.063 1942.02 L386.063 1946.57 L352.198 1946.57 L352.198 1942.02 L386.063 1942.02 Z\" fill=\"#000000\" fill-rule=\"evenodd\" fill-opacity=\"1\" /><path clip-path=\"url(#clip950)\" d=\"M397.362 1885.43 L397.362 1895.55 L409.425 1895.55 L409.425 1900.1 L397.362 1900.1 L397.362 1919.45 Q397.362 1923.81 398.54 1925.05 Q399.75 1926.29 403.41 1926.29 L409.425 1926.29 L409.425 1931.2 L403.41 1931.2 Q396.63 1931.2 394.052 1928.68 Q391.474 1926.14 391.474 1919.45 L391.474 1900.1 L387.177 1900.1 L387.177 1895.55 L391.474 1895.55 L391.474 1885.43 L397.362 1885.43 Z\" fill=\"#000000\" fill-rule=\"evenodd\" fill-opacity=\"1\" /><path clip-path=\"url(#clip950)\" d=\"M437.785 1901.02 Q436.798 1900.45 435.62 1900.2 Q434.474 1899.91 433.074 1899.91 Q428.109 1899.91 425.435 1903.16 Q422.793 1906.37 422.793 1912.42 L422.793 1931.2 L416.905 1931.2 L416.905 1895.55 L422.793 1895.55 L422.793 1901.09 Q424.639 1897.84 427.6 1896.28 Q430.56 1894.69 434.793 1894.69 Q435.398 1894.69 436.13 1894.78 Q436.862 1894.85 437.753 1895.01 L437.785 1901.02 Z\" fill=\"#000000\" fill-rule=\"evenodd\" fill-opacity=\"1\" /><path clip-path=\"url(#clip950)\" d=\"M472.987 1911.91 L472.987 1914.77 L446.06 1914.77 Q446.442 1920.82 449.689 1924 Q452.967 1927.15 458.791 1927.15 Q462.165 1927.15 465.316 1926.33 Q468.499 1925.5 471.618 1923.84 L471.618 1929.38 Q468.467 1930.72 465.157 1931.42 Q461.847 1932.12 458.441 1932.12 Q449.911 1932.12 444.914 1927.15 Q439.949 1922.19 439.949 1913.72 Q439.949 1904.97 444.66 1899.85 Q449.402 1894.69 457.423 1894.69 Q464.616 1894.69 468.786 1899.34 Q472.987 1903.95 472.987 1911.91 M467.131 1910.19 Q467.067 1905.38 464.425 1902.52 Q461.815 1899.65 457.487 1899.65 Q452.585 1899.65 449.625 1902.42 Q446.697 1905.19 446.251 1910.22 L467.131 1910.19 Z\" fill=\"#000000\" fill-rule=\"evenodd\" fill-opacity=\"1\" /><path clip-path=\"url(#clip950)\" d=\"M513.091 1911.91 L513.091 1914.77 L486.164 1914.77 Q486.546 1920.82 489.792 1924 Q493.071 1927.15 498.895 1927.15 Q502.269 1927.15 505.42 1926.33 Q508.603 1925.5 511.722 1923.84 L511.722 1929.38 Q508.571 1930.72 505.261 1931.42 Q501.951 1932.12 498.545 1932.12 Q490.015 1932.12 485.018 1927.15 Q480.053 1922.19 480.053 1913.72 Q480.053 1904.97 484.764 1899.85 Q489.506 1894.69 497.527 1894.69 Q504.72 1894.69 508.89 1899.34 Q513.091 1903.95 513.091 1911.91 M507.235 1910.19 Q507.171 1905.38 504.529 1902.52 Q501.919 1899.65 497.59 1899.65 Q492.689 1899.65 489.729 1902.42 Q486.801 1905.19 486.355 1910.22 L507.235 1910.19 Z\" fill=\"#000000\" fill-rule=\"evenodd\" fill-opacity=\"1\" /><path clip-path=\"url(#clip950)\" d=\"M549.789 1942.02 L549.789 1946.57 L515.924 1946.57 L515.924 1942.02 L549.789 1942.02 Z\" fill=\"#000000\" fill-rule=\"evenodd\" fill-opacity=\"1\" /><path clip-path=\"url(#clip950)\" d=\"M575.952 1901.02 Q574.966 1900.45 573.788 1900.2 Q572.642 1899.91 571.242 1899.91 Q566.276 1899.91 563.603 1903.16 Q560.961 1906.37 560.961 1912.42 L560.961 1931.2 L555.073 1931.2 L555.073 1895.55 L560.961 1895.55 L560.961 1901.09 Q562.807 1897.84 565.767 1896.28 Q568.727 1894.69 572.96 1894.69 Q573.565 1894.69 574.297 1894.78 Q575.029 1894.85 575.92 1895.01 L575.952 1901.02 Z\" fill=\"#000000\" fill-rule=\"evenodd\" fill-opacity=\"1\" /><path clip-path=\"url(#clip950)\" d=\"M611.155 1911.91 L611.155 1914.77 L584.228 1914.77 Q584.61 1920.82 587.856 1924 Q591.135 1927.15 596.959 1927.15 Q600.333 1927.15 603.484 1926.33 Q606.667 1925.5 609.786 1923.84 L609.786 1929.38 Q606.635 1930.72 603.325 1931.42 Q600.015 1932.12 596.609 1932.12 Q588.079 1932.12 583.082 1927.15 Q578.117 1922.19 578.117 1913.72 Q578.117 1904.97 582.827 1899.85 Q587.57 1894.69 595.591 1894.69 Q602.784 1894.69 606.953 1899.34 Q611.155 1903.95 611.155 1911.91 M605.298 1910.19 Q605.235 1905.38 602.593 1902.52 Q599.983 1899.65 595.654 1899.65 Q590.753 1899.65 587.793 1902.42 Q584.864 1905.19 584.419 1910.22 L605.298 1910.19 Z\" fill=\"#000000\" fill-rule=\"evenodd\" fill-opacity=\"1\" /><path clip-path=\"url(#clip950)\" d=\"M644.225 1912.96 Q644.225 1906.59 641.583 1903.09 Q638.973 1899.59 634.23 1899.59 Q629.52 1899.59 626.878 1903.09 Q624.268 1906.59 624.268 1912.96 Q624.268 1919.29 626.878 1922.79 Q629.52 1926.29 634.23 1926.29 Q638.973 1926.29 641.583 1922.79 Q644.225 1919.29 644.225 1912.96 M650.081 1926.77 Q650.081 1935.88 646.039 1940.3 Q641.997 1944.76 633.657 1944.76 Q630.57 1944.76 627.833 1944.28 Q625.096 1943.83 622.517 1942.88 L622.517 1937.18 Q625.096 1938.58 627.61 1939.25 Q630.124 1939.92 632.734 1939.92 Q638.495 1939.92 641.36 1936.89 Q644.225 1933.9 644.225 1927.82 L644.225 1924.93 Q642.41 1928.08 639.578 1929.64 Q636.745 1931.2 632.798 1931.2 Q626.241 1931.2 622.231 1926.2 Q618.221 1921.2 618.221 1912.96 Q618.221 1904.68 622.231 1899.69 Q626.241 1894.69 632.798 1894.69 Q636.745 1894.69 639.578 1896.25 Q642.41 1897.81 644.225 1900.96 L644.225 1895.55 L650.081 1895.55 L650.081 1926.77 Z\" fill=\"#000000\" fill-rule=\"evenodd\" fill-opacity=\"1\" /><path clip-path=\"url(#clip950)\" d=\"M682.801 1901.02 Q681.814 1900.45 680.636 1900.2 Q679.491 1899.91 678.09 1899.91 Q673.125 1899.91 670.451 1903.16 Q667.809 1906.37 667.809 1912.42 L667.809 1931.2 L661.921 1931.2 L661.921 1895.55 L667.809 1895.55 L667.809 1901.09 Q669.656 1897.84 672.616 1896.28 Q675.576 1894.69 679.809 1894.69 Q680.414 1894.69 681.146 1894.78 Q681.878 1894.85 682.769 1895.01 L682.801 1901.02 Z\" fill=\"#000000\" fill-rule=\"evenodd\" fill-opacity=\"1\" /><path clip-path=\"url(#clip950)\" d=\"M718.003 1911.91 L718.003 1914.77 L691.076 1914.77 Q691.458 1920.82 694.705 1924 Q697.983 1927.15 703.808 1927.15 Q707.181 1927.15 710.332 1926.33 Q713.515 1925.5 716.634 1923.84 L716.634 1929.38 Q713.483 1930.72 710.173 1931.42 Q706.863 1932.12 703.457 1932.12 Q694.927 1932.12 689.93 1927.15 Q684.965 1922.19 684.965 1913.72 Q684.965 1904.97 689.676 1899.85 Q694.418 1894.69 702.439 1894.69 Q709.632 1894.69 713.802 1899.34 Q718.003 1903.95 718.003 1911.91 M712.147 1910.19 Q712.083 1905.38 709.441 1902.52 Q706.831 1899.65 702.503 1899.65 Q697.601 1899.65 694.641 1902.42 Q691.713 1905.19 691.267 1910.22 L712.147 1910.19 Z\" fill=\"#000000\" fill-rule=\"evenodd\" fill-opacity=\"1\" /><path clip-path=\"url(#clip950)\" d=\"M750.341 1896.6 L750.341 1902.14 Q747.858 1900.86 745.185 1900.23 Q742.511 1899.59 739.646 1899.59 Q735.286 1899.59 733.09 1900.93 Q730.925 1902.26 730.925 1904.94 Q730.925 1906.98 732.485 1908.15 Q734.045 1909.3 738.755 1910.35 L740.76 1910.79 Q746.999 1912.13 749.609 1914.58 Q752.251 1917 752.251 1921.36 Q752.251 1926.33 748.304 1929.22 Q744.389 1932.12 737.514 1932.12 Q734.649 1932.12 731.53 1931.55 Q728.443 1931.01 725.005 1929.89 L725.005 1923.84 Q728.252 1925.53 731.403 1926.39 Q734.554 1927.22 737.641 1927.22 Q741.779 1927.22 744.007 1925.82 Q746.235 1924.39 746.235 1921.81 Q746.235 1919.42 744.612 1918.15 Q743.02 1916.87 737.578 1915.7 L735.541 1915.22 Q730.098 1914.07 727.679 1911.72 Q725.26 1909.33 725.26 1905.19 Q725.26 1900.16 728.825 1897.43 Q732.39 1894.69 738.946 1894.69 Q742.193 1894.69 745.057 1895.17 Q747.922 1895.64 750.341 1896.6 Z\" fill=\"#000000\" fill-rule=\"evenodd\" fill-opacity=\"1\" /><path clip-path=\"url(#clip950)\" d=\"M784.302 1896.6 L784.302 1902.14 Q781.819 1900.86 779.146 1900.23 Q776.472 1899.59 773.608 1899.59 Q769.247 1899.59 767.051 1900.93 Q764.886 1902.26 764.886 1904.94 Q764.886 1906.98 766.446 1908.15 Q768.006 1909.3 772.716 1910.35 L774.722 1910.79 Q780.96 1912.13 783.57 1914.58 Q786.212 1917 786.212 1921.36 Q786.212 1926.33 782.265 1929.22 Q778.35 1932.12 771.475 1932.12 Q768.61 1932.12 765.491 1931.55 Q762.404 1931.01 758.966 1929.89 L758.966 1923.84 Q762.213 1925.53 765.364 1926.39 Q768.515 1927.22 771.602 1927.22 Q775.74 1927.22 777.968 1925.82 Q780.196 1924.39 780.196 1921.81 Q780.196 1919.42 778.573 1918.15 Q776.981 1916.87 771.539 1915.7 L769.502 1915.22 Q764.059 1914.07 761.64 1911.72 Q759.221 1909.33 759.221 1905.19 Q759.221 1900.16 762.786 1897.43 Q766.351 1894.69 772.907 1894.69 Q776.154 1894.69 779.018 1895.17 Q781.883 1895.64 784.302 1896.6 Z\" fill=\"#000000\" fill-rule=\"evenodd\" fill-opacity=\"1\" /><path clip-path=\"url(#clip950)\" d=\"M809.351 1899.65 Q804.64 1899.65 801.903 1903.35 Q799.166 1907.01 799.166 1913.4 Q799.166 1919.8 801.871 1923.49 Q804.609 1927.15 809.351 1927.15 Q814.03 1927.15 816.767 1923.46 Q819.504 1919.77 819.504 1913.4 Q819.504 1907.07 816.767 1903.38 Q814.03 1899.65 809.351 1899.65 M809.351 1894.69 Q816.99 1894.69 821.35 1899.65 Q825.711 1904.62 825.711 1913.4 Q825.711 1922.16 821.35 1927.15 Q816.99 1932.12 809.351 1932.12 Q801.68 1932.12 797.32 1927.15 Q792.991 1922.16 792.991 1913.4 Q792.991 1904.62 797.32 1899.65 Q801.68 1894.69 809.351 1894.69 Z\" fill=\"#000000\" fill-rule=\"evenodd\" fill-opacity=\"1\" /><path clip-path=\"url(#clip950)\" d=\"M856.075 1901.02 Q855.089 1900.45 853.911 1900.2 Q852.765 1899.91 851.365 1899.91 Q846.399 1899.91 843.726 1903.16 Q841.084 1906.37 841.084 1912.42 L841.084 1931.2 L835.196 1931.2 L835.196 1895.55 L841.084 1895.55 L841.084 1901.09 Q842.93 1897.84 845.89 1896.28 Q848.85 1894.69 853.083 1894.69 Q853.688 1894.69 854.42 1894.78 Q855.152 1894.85 856.043 1895.01 L856.075 1901.02 Z\" fill=\"#000000\" fill-rule=\"evenodd\" fill-opacity=\"1\" /><path clip-path=\"url(#clip950)\" d=\"M857.062 1923.11 L863.778 1923.11 L863.778 1931.2 L857.062 1931.2 L857.062 1923.11 Z\" fill=\"#000000\" fill-rule=\"evenodd\" fill-opacity=\"1\" /><path clip-path=\"url(#clip950)\" d=\"M904.709 1902.39 Q906.905 1898.45 909.961 1896.57 Q913.016 1894.69 917.154 1894.69 Q922.724 1894.69 925.748 1898.6 Q928.772 1902.49 928.772 1909.68 L928.772 1931.2 L922.883 1931.2 L922.883 1909.87 Q922.883 1904.75 921.069 1902.26 Q919.255 1899.78 915.531 1899.78 Q910.979 1899.78 908.338 1902.81 Q905.696 1905.83 905.696 1911.05 L905.696 1931.2 L899.808 1931.2 L899.808 1909.87 Q899.808 1904.72 897.993 1902.26 Q896.179 1899.78 892.392 1899.78 Q887.904 1899.78 885.262 1902.84 Q882.62 1905.86 882.62 1911.05 L882.62 1931.2 L876.732 1931.2 L876.732 1895.55 L882.62 1895.55 L882.62 1901.09 Q884.625 1897.81 887.426 1896.25 Q890.227 1894.69 894.079 1894.69 Q897.962 1894.69 900.667 1896.66 Q903.404 1898.64 904.709 1902.39 Z\" fill=\"#000000\" fill-rule=\"evenodd\" fill-opacity=\"1\" /><path clip-path=\"url(#clip950)\" d=\"M956.653 1913.28 Q949.556 1913.28 946.818 1914.9 Q944.081 1916.52 944.081 1920.44 Q944.081 1923.56 946.118 1925.4 Q948.187 1927.22 951.72 1927.22 Q956.59 1927.22 959.518 1923.78 Q962.478 1920.31 962.478 1914.58 L962.478 1913.28 L956.653 1913.28 M968.334 1910.86 L968.334 1931.2 L962.478 1931.2 L962.478 1925.79 Q960.473 1929.03 957.481 1930.59 Q954.489 1932.12 950.16 1932.12 Q944.686 1932.12 941.439 1929.06 Q938.225 1925.98 938.225 1920.82 Q938.225 1914.8 942.235 1911.75 Q946.277 1908.69 954.266 1908.69 L962.478 1908.69 L962.478 1908.12 Q962.478 1904.08 959.804 1901.88 Q957.163 1899.65 952.357 1899.65 Q949.301 1899.65 946.405 1900.39 Q943.508 1901.12 940.835 1902.58 L940.835 1897.17 Q944.049 1895.93 947.073 1895.33 Q950.097 1894.69 952.961 1894.69 Q960.696 1894.69 964.515 1898.7 Q968.334 1902.71 968.334 1910.86 Z\" fill=\"#000000\" fill-rule=\"evenodd\" fill-opacity=\"1\" /><path clip-path=\"url(#clip950)\" d=\"M1010.03 1895.55 L997.139 1912.9 L1010.7 1931.2 L1003.79 1931.2 L993.415 1917.19 L983.039 1931.2 L976.132 1931.2 L989.978 1912.55 L977.31 1895.55 L984.217 1895.55 L993.67 1908.25 L1003.12 1895.55 L1010.03 1895.55 Z\" fill=\"#000000\" fill-rule=\"evenodd\" fill-opacity=\"1\" /><path clip-path=\"url(#clip950)\" d=\"M1046.06 1942.02 L1046.06 1946.57 L1012.19 1946.57 L1012.19 1942.02 L1046.06 1942.02 Z\" fill=\"#000000\" fill-rule=\"evenodd\" fill-opacity=\"1\" /><path clip-path=\"url(#clip950)\" d=\"M1075.02 1900.96 L1075.02 1881.67 L1080.88 1881.67 L1080.88 1931.2 L1075.02 1931.2 L1075.02 1925.85 Q1073.18 1929.03 1070.34 1930.59 Q1067.54 1932.12 1063.6 1932.12 Q1057.14 1932.12 1053.06 1926.96 Q1049.02 1921.81 1049.02 1913.4 Q1049.02 1905 1053.06 1899.85 Q1057.14 1894.69 1063.6 1894.69 Q1067.54 1894.69 1070.34 1896.25 Q1073.18 1897.78 1075.02 1900.96 M1055.07 1913.4 Q1055.07 1919.87 1057.71 1923.56 Q1060.38 1927.22 1065.03 1927.22 Q1069.68 1927.22 1072.35 1923.56 Q1075.02 1919.87 1075.02 1913.4 Q1075.02 1906.94 1072.35 1903.28 Q1069.68 1899.59 1065.03 1899.59 Q1060.38 1899.59 1057.71 1903.28 Q1055.07 1906.94 1055.07 1913.4 Z\" fill=\"#000000\" fill-rule=\"evenodd\" fill-opacity=\"1\" /><path clip-path=\"url(#clip950)\" d=\"M1123.43 1911.91 L1123.43 1914.77 L1096.51 1914.77 Q1096.89 1920.82 1100.14 1924 Q1103.41 1927.15 1109.24 1927.15 Q1112.61 1927.15 1115.76 1926.33 Q1118.95 1925.5 1122.07 1923.84 L1122.07 1929.38 Q1118.92 1930.72 1115.61 1931.42 Q1112.29 1932.12 1108.89 1932.12 Q1100.36 1932.12 1095.36 1927.15 Q1090.4 1922.19 1090.4 1913.72 Q1090.4 1904.97 1095.11 1899.85 Q1099.85 1894.69 1107.87 1894.69 Q1115.06 1894.69 1119.23 1899.34 Q1123.43 1903.95 1123.43 1911.91 M1117.58 1910.19 Q1117.51 1905.38 1114.87 1902.52 Q1112.26 1899.65 1107.93 1899.65 Q1103.03 1899.65 1100.07 1902.42 Q1097.14 1905.19 1096.7 1910.22 L1117.58 1910.19 Z\" fill=\"#000000\" fill-rule=\"evenodd\" fill-opacity=\"1\" /><path clip-path=\"url(#clip950)\" d=\"M1138.71 1925.85 L1138.71 1944.76 L1132.82 1944.76 L1132.82 1895.55 L1138.71 1895.55 L1138.71 1900.96 Q1140.56 1897.78 1143.36 1896.25 Q1146.19 1894.69 1150.11 1894.69 Q1156.6 1894.69 1160.64 1899.85 Q1164.72 1905 1164.72 1913.4 Q1164.72 1921.81 1160.64 1926.96 Q1156.6 1932.12 1150.11 1932.12 Q1146.19 1932.12 1143.36 1930.59 Q1140.56 1929.03 1138.71 1925.85 M1158.64 1913.4 Q1158.64 1906.94 1155.96 1903.28 Q1153.32 1899.59 1148.67 1899.59 Q1144.03 1899.59 1141.35 1903.28 Q1138.71 1906.94 1138.71 1913.4 Q1138.71 1919.87 1141.35 1923.56 Q1144.03 1927.22 1148.67 1927.22 Q1153.32 1927.22 1155.96 1923.56 Q1158.64 1919.87 1158.64 1913.4 Z\" fill=\"#000000\" fill-rule=\"evenodd\" fill-opacity=\"1\" /><path clip-path=\"url(#clip950)\" d=\"M1180.22 1885.43 L1180.22 1895.55 L1192.28 1895.55 L1192.28 1900.1 L1180.22 1900.1 L1180.22 1919.45 Q1180.22 1923.81 1181.39 1925.05 Q1182.6 1926.29 1186.26 1926.29 L1192.28 1926.29 L1192.28 1931.2 L1186.26 1931.2 Q1179.48 1931.2 1176.91 1928.68 Q1174.33 1926.14 1174.33 1919.45 L1174.33 1900.1 L1170.03 1900.1 L1170.03 1895.55 L1174.33 1895.55 L1174.33 1885.43 L1180.22 1885.43 Z\" fill=\"#000000\" fill-rule=\"evenodd\" fill-opacity=\"1\" /><path clip-path=\"url(#clip950)\" d=\"M1229.61 1909.68 L1229.61 1931.2 L1223.76 1931.2 L1223.76 1909.87 Q1223.76 1904.81 1221.79 1902.3 Q1219.81 1899.78 1215.86 1899.78 Q1211.12 1899.78 1208.39 1902.81 Q1205.65 1905.83 1205.65 1911.05 L1205.65 1931.2 L1199.76 1931.2 L1199.76 1881.67 L1205.65 1881.67 L1205.65 1901.09 Q1207.75 1897.87 1210.58 1896.28 Q1213.45 1894.69 1217.17 1894.69 Q1223.31 1894.69 1226.46 1898.51 Q1229.61 1902.3 1229.61 1909.68 Z\" fill=\"#000000\" fill-rule=\"evenodd\" fill-opacity=\"1\" /><polyline clip-path=\"url(#clip954)\" style=\"stroke:#000000; stroke-linecap:butt; stroke-linejoin:round; stroke-width:2; stroke-opacity:0.1; fill:none\" points=\"\n",
       "  414.729,1662.63 1052.76,1662.63 \n",
       "  \"/>\n",
       "<polyline clip-path=\"url(#clip954)\" style=\"stroke:#000000; stroke-linecap:butt; stroke-linejoin:round; stroke-width:2; stroke-opacity:0.1; fill:none\" points=\"\n",
       "  414.729,1508.86 1052.76,1508.86 \n",
       "  \"/>\n",
       "<polyline clip-path=\"url(#clip954)\" style=\"stroke:#000000; stroke-linecap:butt; stroke-linejoin:round; stroke-width:2; stroke-opacity:0.1; fill:none\" points=\"\n",
       "  414.729,1355.1 1052.76,1355.1 \n",
       "  \"/>\n",
       "<polyline clip-path=\"url(#clip954)\" style=\"stroke:#000000; stroke-linecap:butt; stroke-linejoin:round; stroke-width:2; stroke-opacity:0.1; fill:none\" points=\"\n",
       "  414.729,1201.33 1052.76,1201.33 \n",
       "  \"/>\n",
       "<polyline clip-path=\"url(#clip954)\" style=\"stroke:#000000; stroke-linecap:butt; stroke-linejoin:round; stroke-width:2; stroke-opacity:0.1; fill:none\" points=\"\n",
       "  414.729,1047.56 1052.76,1047.56 \n",
       "  \"/>\n",
       "<polyline clip-path=\"url(#clip950)\" style=\"stroke:#000000; stroke-linecap:butt; stroke-linejoin:round; stroke-width:4; stroke-opacity:1; fill:none\" points=\"\n",
       "  414.729,1789.33 414.729,1006.97 \n",
       "  \"/>\n",
       "<polyline clip-path=\"url(#clip950)\" style=\"stroke:#000000; stroke-linecap:butt; stroke-linejoin:round; stroke-width:4; stroke-opacity:1; fill:none\" points=\"\n",
       "  1052.76,1789.33 1052.76,1006.97 \n",
       "  \"/>\n",
       "<polyline clip-path=\"url(#clip950)\" style=\"stroke:#000000; stroke-linecap:butt; stroke-linejoin:round; stroke-width:4; stroke-opacity:1; fill:none\" points=\"\n",
       "  414.729,1662.63 433.626,1662.63 \n",
       "  \"/>\n",
       "<polyline clip-path=\"url(#clip950)\" style=\"stroke:#000000; stroke-linecap:butt; stroke-linejoin:round; stroke-width:4; stroke-opacity:1; fill:none\" points=\"\n",
       "  414.729,1508.86 433.626,1508.86 \n",
       "  \"/>\n",
       "<polyline clip-path=\"url(#clip950)\" style=\"stroke:#000000; stroke-linecap:butt; stroke-linejoin:round; stroke-width:4; stroke-opacity:1; fill:none\" points=\"\n",
       "  414.729,1355.1 433.626,1355.1 \n",
       "  \"/>\n",
       "<polyline clip-path=\"url(#clip950)\" style=\"stroke:#000000; stroke-linecap:butt; stroke-linejoin:round; stroke-width:4; stroke-opacity:1; fill:none\" points=\"\n",
       "  414.729,1201.33 433.626,1201.33 \n",
       "  \"/>\n",
       "<polyline clip-path=\"url(#clip950)\" style=\"stroke:#000000; stroke-linecap:butt; stroke-linejoin:round; stroke-width:4; stroke-opacity:1; fill:none\" points=\"\n",
       "  414.729,1047.56 433.626,1047.56 \n",
       "  \"/>\n",
       "<path clip-path=\"url(#clip950)\" d=\"M334.646 1675.97 L350.965 1675.97 L350.965 1679.91 L329.021 1679.91 L329.021 1675.97 Q331.683 1673.22 336.266 1668.59 Q340.872 1663.94 342.053 1662.59 Q344.298 1660.07 345.178 1658.34 Q346.081 1656.58 346.081 1654.89 Q346.081 1652.13 344.136 1650.4 Q342.215 1648.66 339.113 1648.66 Q336.914 1648.66 334.46 1649.42 Q332.03 1650.19 329.252 1651.74 L329.252 1647.02 Q332.076 1645.88 334.53 1645.3 Q336.984 1644.72 339.021 1644.72 Q344.391 1644.72 347.585 1647.41 Q350.78 1650.09 350.78 1654.59 Q350.78 1656.71 349.97 1658.64 Q349.183 1660.53 347.076 1663.13 Q346.497 1663.8 343.396 1667.02 Q340.294 1670.21 334.646 1675.97 Z\" fill=\"#000000\" fill-rule=\"evenodd\" fill-opacity=\"1\" /><path clip-path=\"url(#clip950)\" d=\"M360.826 1645.35 L379.182 1645.35 L379.182 1649.28 L365.108 1649.28 L365.108 1657.76 Q366.127 1657.41 367.145 1657.25 Q368.164 1657.06 369.182 1657.06 Q374.969 1657.06 378.349 1660.23 Q381.729 1663.4 381.729 1668.82 Q381.729 1674.4 378.256 1677.5 Q374.784 1680.58 368.465 1680.58 Q366.289 1680.58 364.02 1680.21 Q361.775 1679.84 359.368 1679.1 L359.368 1674.4 Q361.451 1675.53 363.673 1676.09 Q365.895 1676.65 368.372 1676.65 Q372.377 1676.65 374.715 1674.54 Q377.053 1672.43 377.053 1668.82 Q377.053 1665.21 374.715 1663.1 Q372.377 1661 368.372 1661 Q366.497 1661 364.622 1661.41 Q362.77 1661.83 360.826 1662.71 L360.826 1645.35 Z\" fill=\"#000000\" fill-rule=\"evenodd\" fill-opacity=\"1\" /><path clip-path=\"url(#clip950)\" d=\"M329.669 1491.58 L348.025 1491.58 L348.025 1495.52 L333.951 1495.52 L333.951 1503.99 Q334.97 1503.64 335.988 1503.48 Q337.007 1503.3 338.025 1503.3 Q343.812 1503.3 347.192 1506.47 Q350.571 1509.64 350.571 1515.06 Q350.571 1520.63 347.099 1523.74 Q343.627 1526.81 337.308 1526.81 Q335.132 1526.81 332.863 1526.44 Q330.618 1526.07 328.21 1525.33 L328.21 1520.63 Q330.294 1521.77 332.516 1522.32 Q334.738 1522.88 337.215 1522.88 Q341.22 1522.88 343.558 1520.77 Q345.895 1518.67 345.895 1515.06 Q345.895 1511.44 343.558 1509.34 Q341.22 1507.23 337.215 1507.23 Q335.34 1507.23 333.465 1507.65 Q331.613 1508.06 329.669 1508.94 L329.669 1491.58 Z\" fill=\"#000000\" fill-rule=\"evenodd\" fill-opacity=\"1\" /><path clip-path=\"url(#clip950)\" d=\"M369.784 1494.66 Q366.173 1494.66 364.344 1498.23 Q362.539 1501.77 362.539 1508.9 Q362.539 1516 364.344 1519.57 Q366.173 1523.11 369.784 1523.11 Q373.418 1523.11 375.224 1519.57 Q377.053 1516 377.053 1508.9 Q377.053 1501.77 375.224 1498.23 Q373.418 1494.66 369.784 1494.66 M369.784 1490.96 Q375.594 1490.96 378.65 1495.56 Q381.729 1500.15 381.729 1508.9 Q381.729 1517.62 378.65 1522.23 Q375.594 1526.81 369.784 1526.81 Q363.974 1526.81 360.895 1522.23 Q357.84 1517.62 357.84 1508.9 Q357.84 1500.15 360.895 1495.56 Q363.974 1490.96 369.784 1490.96 Z\" fill=\"#000000\" fill-rule=\"evenodd\" fill-opacity=\"1\" /><path clip-path=\"url(#clip950)\" d=\"M329.437 1337.82 L351.659 1337.82 L351.659 1339.81 L339.113 1372.38 L334.229 1372.38 L346.034 1341.75 L329.437 1341.75 L329.437 1337.82 Z\" fill=\"#000000\" fill-rule=\"evenodd\" fill-opacity=\"1\" /><path clip-path=\"url(#clip950)\" d=\"M360.826 1337.82 L379.182 1337.82 L379.182 1341.75 L365.108 1341.75 L365.108 1350.22 Q366.127 1349.88 367.145 1349.71 Q368.164 1349.53 369.182 1349.53 Q374.969 1349.53 378.349 1352.7 Q381.729 1355.87 381.729 1361.29 Q381.729 1366.87 378.256 1369.97 Q374.784 1373.05 368.465 1373.05 Q366.289 1373.05 364.02 1372.68 Q361.775 1372.31 359.368 1371.57 L359.368 1366.87 Q361.451 1368 363.673 1368.56 Q365.895 1369.11 368.372 1369.11 Q372.377 1369.11 374.715 1367.01 Q377.053 1364.9 377.053 1361.29 Q377.053 1357.68 374.715 1355.57 Q372.377 1353.46 368.372 1353.46 Q366.497 1353.46 364.622 1353.88 Q362.77 1354.3 360.826 1355.18 L360.826 1337.82 Z\" fill=\"#000000\" fill-rule=\"evenodd\" fill-opacity=\"1\" /><path clip-path=\"url(#clip950)\" d=\"M300.271 1214.68 L307.91 1214.68 L307.91 1188.31 L299.599 1189.98 L299.599 1185.72 L307.863 1184.05 L312.539 1184.05 L312.539 1214.68 L320.178 1214.68 L320.178 1218.61 L300.271 1218.61 L300.271 1214.68 Z\" fill=\"#000000\" fill-rule=\"evenodd\" fill-opacity=\"1\" /><path clip-path=\"url(#clip950)\" d=\"M339.622 1187.13 Q336.011 1187.13 334.183 1190.69 Q332.377 1194.24 332.377 1201.37 Q332.377 1208.47 334.183 1212.04 Q336.011 1215.58 339.622 1215.58 Q343.257 1215.58 345.062 1212.04 Q346.891 1208.47 346.891 1201.37 Q346.891 1194.24 345.062 1190.69 Q343.257 1187.13 339.622 1187.13 M339.622 1183.43 Q345.433 1183.43 348.488 1188.03 Q351.567 1192.62 351.567 1201.37 Q351.567 1210.09 348.488 1214.7 Q345.433 1219.28 339.622 1219.28 Q333.812 1219.28 330.734 1214.7 Q327.678 1210.09 327.678 1201.37 Q327.678 1192.62 330.734 1188.03 Q333.812 1183.43 339.622 1183.43 Z\" fill=\"#000000\" fill-rule=\"evenodd\" fill-opacity=\"1\" /><path clip-path=\"url(#clip950)\" d=\"M369.784 1187.13 Q366.173 1187.13 364.344 1190.69 Q362.539 1194.24 362.539 1201.37 Q362.539 1208.47 364.344 1212.04 Q366.173 1215.58 369.784 1215.58 Q373.418 1215.58 375.224 1212.04 Q377.053 1208.47 377.053 1201.37 Q377.053 1194.24 375.224 1190.69 Q373.418 1187.13 369.784 1187.13 M369.784 1183.43 Q375.594 1183.43 378.65 1188.03 Q381.729 1192.62 381.729 1201.37 Q381.729 1210.09 378.65 1214.7 Q375.594 1219.28 369.784 1219.28 Q363.974 1219.28 360.895 1214.7 Q357.84 1210.09 357.84 1201.37 Q357.84 1192.62 360.895 1188.03 Q363.974 1183.43 369.784 1183.43 Z\" fill=\"#000000\" fill-rule=\"evenodd\" fill-opacity=\"1\" /><path clip-path=\"url(#clip950)\" d=\"M301.266 1060.91 L308.905 1060.91 L308.905 1034.54 L300.595 1036.21 L300.595 1031.95 L308.859 1030.28 L313.535 1030.28 L313.535 1060.91 L321.173 1060.91 L321.173 1064.84 L301.266 1064.84 L301.266 1060.91 Z\" fill=\"#000000\" fill-rule=\"evenodd\" fill-opacity=\"1\" /><path clip-path=\"url(#clip950)\" d=\"M334.646 1060.91 L350.965 1060.91 L350.965 1064.84 L329.021 1064.84 L329.021 1060.91 Q331.683 1058.15 336.266 1053.52 Q340.872 1048.87 342.053 1047.53 Q344.298 1045.01 345.178 1043.27 Q346.081 1041.51 346.081 1039.82 Q346.081 1037.07 344.136 1035.33 Q342.215 1033.59 339.113 1033.59 Q336.914 1033.59 334.46 1034.36 Q332.03 1035.12 329.252 1036.67 L329.252 1031.95 Q332.076 1030.82 334.53 1030.24 Q336.984 1029.66 339.021 1029.66 Q344.391 1029.66 347.585 1032.34 Q350.78 1035.03 350.78 1039.52 Q350.78 1041.65 349.97 1043.57 Q349.183 1045.47 347.076 1048.06 Q346.497 1048.73 343.396 1051.95 Q340.294 1055.15 334.646 1060.91 Z\" fill=\"#000000\" fill-rule=\"evenodd\" fill-opacity=\"1\" /><path clip-path=\"url(#clip950)\" d=\"M360.826 1030.28 L379.182 1030.28 L379.182 1034.22 L365.108 1034.22 L365.108 1042.69 Q366.127 1042.34 367.145 1042.18 Q368.164 1042 369.182 1042 Q374.969 1042 378.349 1045.17 Q381.729 1048.34 381.729 1053.76 Q381.729 1059.34 378.256 1062.44 Q374.784 1065.52 368.465 1065.52 Q366.289 1065.52 364.02 1065.15 Q361.775 1064.77 359.368 1064.03 L359.368 1059.34 Q361.451 1060.47 363.673 1061.02 Q365.895 1061.58 368.372 1061.58 Q372.377 1061.58 374.715 1059.47 Q377.053 1057.37 377.053 1053.76 Q377.053 1050.15 374.715 1048.04 Q372.377 1045.93 368.372 1045.93 Q366.497 1045.93 364.622 1046.35 Q362.77 1046.77 360.826 1047.65 L360.826 1030.28 Z\" fill=\"#000000\" fill-rule=\"evenodd\" fill-opacity=\"1\" /><path clip-path=\"url(#clip950)\" d=\"M233.055 1768.03 L235.92 1768.03 L235.92 1794.96 Q241.967 1794.58 245.15 1791.33 Q248.301 1788.05 248.301 1782.23 Q248.301 1778.85 247.474 1775.7 Q246.646 1772.52 244.991 1769.4 L250.529 1769.4 Q251.866 1772.55 252.566 1775.86 Q253.266 1779.17 253.266 1782.58 Q253.266 1791.11 248.301 1796.1 Q243.336 1801.07 234.87 1801.07 Q226.117 1801.07 220.992 1796.36 Q215.836 1791.62 215.836 1783.59 Q215.836 1776.4 220.483 1772.23 Q225.098 1768.03 233.055 1768.03 M231.337 1773.89 Q226.531 1773.95 223.666 1776.59 Q220.801 1779.2 220.801 1783.53 Q220.801 1788.43 223.57 1791.39 Q226.34 1794.32 231.368 1794.77 L231.337 1773.89 Z\" fill=\"#000000\" fill-rule=\"evenodd\" fill-opacity=\"1\" /><path clip-path=\"url(#clip950)\" d=\"M216.695 1762.62 L216.695 1756.41 L246.614 1745.27 L216.695 1734.13 L216.695 1727.93 L252.343 1741.29 L252.343 1749.25 L216.695 1762.62 Z\" fill=\"#000000\" fill-rule=\"evenodd\" fill-opacity=\"1\" /><path clip-path=\"url(#clip950)\" d=\"M220.801 1706.03 Q220.801 1710.74 224.493 1713.48 Q228.154 1716.21 234.551 1716.21 Q240.949 1716.21 244.641 1713.51 Q248.301 1710.77 248.301 1706.03 Q248.301 1701.35 244.609 1698.61 Q240.917 1695.88 234.551 1695.88 Q228.217 1695.88 224.525 1698.61 Q220.801 1701.35 220.801 1706.03 M215.836 1706.03 Q215.836 1698.39 220.801 1694.03 Q225.767 1689.67 234.551 1689.67 Q243.304 1689.67 248.301 1694.03 Q253.266 1698.39 253.266 1706.03 Q253.266 1713.7 248.301 1718.06 Q243.304 1722.39 234.551 1722.39 Q225.767 1722.39 220.801 1718.06 Q215.836 1713.7 215.836 1706.03 Z\" fill=\"#000000\" fill-rule=\"evenodd\" fill-opacity=\"1\" /><path clip-path=\"url(#clip950)\" d=\"M263.165 1652.88 L267.717 1652.88 L267.717 1686.74 L263.165 1686.74 L263.165 1652.88 Z\" fill=\"#000000\" fill-rule=\"evenodd\" fill-opacity=\"1\" /><path clip-path=\"url(#clip950)\" d=\"M206.574 1641.58 L216.695 1641.58 L216.695 1629.51 L221.247 1629.51 L221.247 1641.58 L240.599 1641.58 Q244.959 1641.58 246.201 1640.4 Q247.442 1639.19 247.442 1635.53 L247.442 1629.51 L252.343 1629.51 L252.343 1635.53 Q252.343 1642.31 249.829 1644.89 Q247.283 1647.46 240.599 1647.46 L221.247 1647.46 L221.247 1651.76 L216.695 1651.76 L216.695 1647.46 L206.574 1647.46 L206.574 1641.58 Z\" fill=\"#000000\" fill-rule=\"evenodd\" fill-opacity=\"1\" /><path clip-path=\"url(#clip950)\" d=\"M222.17 1601.15 Q221.597 1602.14 221.342 1603.32 Q221.056 1604.46 221.056 1605.86 Q221.056 1610.83 224.303 1613.5 Q227.517 1616.14 233.565 1616.14 L252.343 1616.14 L252.343 1622.03 L216.695 1622.03 L216.695 1616.14 L222.234 1616.14 Q218.987 1614.3 217.428 1611.34 Q215.836 1608.38 215.836 1604.15 Q215.836 1603.54 215.932 1602.81 Q215.995 1602.08 216.154 1601.19 L222.17 1601.15 Z\" fill=\"#000000\" fill-rule=\"evenodd\" fill-opacity=\"1\" /><path clip-path=\"url(#clip950)\" d=\"M233.055 1565.95 L235.92 1565.95 L235.92 1592.88 Q241.967 1592.5 245.15 1589.25 Q248.301 1585.97 248.301 1580.15 Q248.301 1576.77 247.474 1573.62 Q246.646 1570.44 244.991 1567.32 L250.529 1567.32 Q251.866 1570.47 252.566 1573.78 Q253.266 1577.09 253.266 1580.5 Q253.266 1589.03 248.301 1594.02 Q243.336 1598.99 234.87 1598.99 Q226.117 1598.99 220.992 1594.28 Q215.836 1589.54 215.836 1581.52 Q215.836 1574.32 220.483 1570.15 Q225.098 1565.95 233.055 1565.95 M231.337 1571.81 Q226.531 1571.87 223.666 1574.51 Q220.801 1577.12 220.801 1581.45 Q220.801 1586.35 223.57 1589.31 Q226.34 1592.24 231.368 1592.69 L231.337 1571.81 Z\" fill=\"#000000\" fill-rule=\"evenodd\" fill-opacity=\"1\" /><path clip-path=\"url(#clip950)\" d=\"M233.055 1525.85 L235.92 1525.85 L235.92 1552.77 Q241.967 1552.39 245.15 1549.15 Q248.301 1545.87 248.301 1540.04 Q248.301 1536.67 247.474 1533.52 Q246.646 1530.34 244.991 1527.22 L250.529 1527.22 Q251.866 1530.37 252.566 1533.68 Q253.266 1536.99 253.266 1540.39 Q253.266 1548.92 248.301 1553.92 Q243.336 1558.89 234.87 1558.89 Q226.117 1558.89 220.992 1554.17 Q215.836 1549.43 215.836 1541.41 Q215.836 1534.22 220.483 1530.05 Q225.098 1525.85 233.055 1525.85 M231.337 1531.7 Q226.531 1531.77 223.666 1534.41 Q220.801 1537.02 220.801 1541.35 Q220.801 1546.25 223.57 1549.21 Q226.34 1552.14 231.368 1552.58 L231.337 1531.7 Z\" fill=\"#000000\" fill-rule=\"evenodd\" fill-opacity=\"1\" /><path clip-path=\"url(#clip950)\" d=\"M263.165 1489.15 L267.717 1489.15 L267.717 1523.01 L263.165 1523.01 L263.165 1489.15 Z\" fill=\"#000000\" fill-rule=\"evenodd\" fill-opacity=\"1\" /><path clip-path=\"url(#clip950)\" d=\"M222.17 1462.99 Q221.597 1463.97 221.342 1465.15 Q221.056 1466.3 221.056 1467.7 Q221.056 1472.66 224.303 1475.34 Q227.517 1477.98 233.565 1477.98 L252.343 1477.98 L252.343 1483.87 L216.695 1483.87 L216.695 1477.98 L222.234 1477.98 Q218.987 1476.13 217.428 1473.17 Q215.836 1470.21 215.836 1465.98 Q215.836 1465.37 215.932 1464.64 Q215.995 1463.91 216.154 1463.02 L222.17 1462.99 Z\" fill=\"#000000\" fill-rule=\"evenodd\" fill-opacity=\"1\" /><path clip-path=\"url(#clip950)\" d=\"M233.055 1427.78 L235.92 1427.78 L235.92 1454.71 Q241.967 1454.33 245.15 1451.08 Q248.301 1447.8 248.301 1441.98 Q248.301 1438.61 247.474 1435.45 Q246.646 1432.27 244.991 1429.15 L250.529 1429.15 Q251.866 1432.3 252.566 1435.61 Q253.266 1438.92 253.266 1442.33 Q253.266 1450.86 248.301 1455.86 Q243.336 1460.82 234.87 1460.82 Q226.117 1460.82 220.992 1456.11 Q215.836 1451.37 215.836 1443.35 Q215.836 1436.15 220.483 1431.99 Q225.098 1427.78 233.055 1427.78 M231.337 1433.64 Q226.531 1433.7 223.666 1436.35 Q220.801 1438.96 220.801 1443.28 Q220.801 1448.19 223.57 1451.15 Q226.34 1454.07 231.368 1454.52 L231.337 1433.64 Z\" fill=\"#000000\" fill-rule=\"evenodd\" fill-opacity=\"1\" /><path clip-path=\"url(#clip950)\" d=\"M234.106 1394.71 Q227.74 1394.71 224.239 1397.36 Q220.738 1399.97 220.738 1404.71 Q220.738 1409.42 224.239 1412.06 Q227.74 1414.67 234.106 1414.67 Q240.44 1414.67 243.941 1412.06 Q247.442 1409.42 247.442 1404.71 Q247.442 1399.97 243.941 1397.36 Q240.44 1394.71 234.106 1394.71 M247.919 1388.86 Q257.022 1388.86 261.446 1392.9 Q265.902 1396.94 265.902 1405.28 Q265.902 1408.37 265.425 1411.11 Q264.979 1413.84 264.025 1416.42 L258.327 1416.42 Q259.728 1413.84 260.396 1411.33 Q261.064 1408.81 261.064 1406.2 Q261.064 1400.44 258.041 1397.58 Q255.049 1394.71 248.97 1394.71 L246.073 1394.71 Q249.224 1396.53 250.784 1399.36 Q252.343 1402.19 252.343 1406.14 Q252.343 1412.7 247.346 1416.71 Q242.349 1420.72 234.106 1420.72 Q225.83 1420.72 220.833 1416.71 Q215.836 1412.7 215.836 1406.14 Q215.836 1402.19 217.396 1399.36 Q218.955 1396.53 222.106 1394.71 L216.695 1394.71 L216.695 1388.86 L247.919 1388.86 Z\" fill=\"#000000\" fill-rule=\"evenodd\" fill-opacity=\"1\" /><path clip-path=\"url(#clip950)\" d=\"M222.17 1356.14 Q221.597 1357.12 221.342 1358.3 Q221.056 1359.45 221.056 1360.85 Q221.056 1365.81 224.303 1368.49 Q227.517 1371.13 233.565 1371.13 L252.343 1371.13 L252.343 1377.02 L216.695 1377.02 L216.695 1371.13 L222.234 1371.13 Q218.987 1369.28 217.428 1366.32 Q215.836 1363.36 215.836 1359.13 Q215.836 1358.52 215.932 1357.79 Q215.995 1357.06 216.154 1356.17 L222.17 1356.14 Z\" fill=\"#000000\" fill-rule=\"evenodd\" fill-opacity=\"1\" /><path clip-path=\"url(#clip950)\" d=\"M233.055 1320.94 L235.92 1320.94 L235.92 1347.86 Q241.967 1347.48 245.15 1344.23 Q248.301 1340.96 248.301 1335.13 Q248.301 1331.76 247.474 1328.61 Q246.646 1325.42 244.991 1322.3 L250.529 1322.3 Q251.866 1325.45 252.566 1328.77 Q253.266 1332.08 253.266 1335.48 Q253.266 1344.01 248.301 1349.01 Q243.336 1353.97 234.87 1353.97 Q226.117 1353.97 220.992 1349.26 Q215.836 1344.52 215.836 1336.5 Q215.836 1329.31 220.483 1325.14 Q225.098 1320.94 233.055 1320.94 M231.337 1326.79 Q226.531 1326.86 223.666 1329.5 Q220.801 1332.11 220.801 1336.44 Q220.801 1341.34 223.57 1344.3 Q226.34 1347.23 231.368 1347.67 L231.337 1326.79 Z\" fill=\"#000000\" fill-rule=\"evenodd\" fill-opacity=\"1\" /><path clip-path=\"url(#clip950)\" d=\"M217.746 1288.6 L223.284 1288.6 Q222.011 1291.08 221.374 1293.75 Q220.738 1296.43 220.738 1299.29 Q220.738 1303.65 222.075 1305.85 Q223.411 1308.01 226.085 1308.01 Q228.122 1308.01 229.3 1306.45 Q230.445 1304.89 231.496 1300.18 L231.941 1298.18 Q233.278 1291.94 235.729 1289.33 Q238.148 1286.69 242.508 1286.69 Q247.474 1286.69 250.37 1290.63 Q253.266 1294.55 253.266 1301.42 Q253.266 1304.29 252.694 1307.41 Q252.152 1310.5 251.038 1313.93 L244.991 1313.93 Q246.678 1310.69 247.537 1307.54 Q248.365 1304.38 248.365 1301.3 Q248.365 1297.16 246.964 1294.93 Q245.532 1292.7 242.954 1292.7 Q240.567 1292.7 239.294 1294.33 Q238.021 1295.92 236.843 1301.36 L236.366 1303.4 Q235.22 1308.84 232.864 1311.26 Q230.477 1313.68 226.34 1313.68 Q221.311 1313.68 218.573 1310.11 Q215.836 1306.55 215.836 1299.99 Q215.836 1296.75 216.314 1293.88 Q216.791 1291.02 217.746 1288.6 Z\" fill=\"#000000\" fill-rule=\"evenodd\" fill-opacity=\"1\" /><path clip-path=\"url(#clip950)\" d=\"M217.746 1254.64 L223.284 1254.64 Q222.011 1257.12 221.374 1259.79 Q220.738 1262.47 220.738 1265.33 Q220.738 1269.69 222.075 1271.89 Q223.411 1274.05 226.085 1274.05 Q228.122 1274.05 229.3 1272.49 Q230.445 1270.93 231.496 1266.22 L231.941 1264.22 Q233.278 1257.98 235.729 1255.37 Q238.148 1252.73 242.508 1252.73 Q247.474 1252.73 250.37 1256.67 Q253.266 1260.59 253.266 1267.46 Q253.266 1270.33 252.694 1273.45 Q252.152 1276.53 251.038 1279.97 L244.991 1279.97 Q246.678 1276.73 247.537 1273.57 Q248.365 1270.42 248.365 1267.34 Q248.365 1263.2 246.964 1260.97 Q245.532 1258.74 242.954 1258.74 Q240.567 1258.74 239.294 1260.37 Q238.021 1261.96 236.843 1267.4 L236.366 1269.44 Q235.22 1274.88 232.864 1277.3 Q230.477 1279.72 226.34 1279.72 Q221.311 1279.72 218.573 1276.15 Q215.836 1272.59 215.836 1266.03 Q215.836 1262.78 216.314 1259.92 Q216.791 1257.06 217.746 1254.64 Z\" fill=\"#000000\" fill-rule=\"evenodd\" fill-opacity=\"1\" /><path clip-path=\"url(#clip950)\" d=\"M220.801 1229.59 Q220.801 1234.3 224.493 1237.04 Q228.154 1239.77 234.551 1239.77 Q240.949 1239.77 244.641 1237.07 Q248.301 1234.33 248.301 1229.59 Q248.301 1224.91 244.609 1222.17 Q240.917 1219.43 234.551 1219.43 Q228.217 1219.43 224.525 1222.17 Q220.801 1224.91 220.801 1229.59 M215.836 1229.59 Q215.836 1221.95 220.801 1217.59 Q225.767 1213.23 234.551 1213.23 Q243.304 1213.23 248.301 1217.59 Q253.266 1221.95 253.266 1229.59 Q253.266 1237.26 248.301 1241.62 Q243.304 1245.95 234.551 1245.95 Q225.767 1245.95 220.801 1241.62 Q215.836 1237.26 215.836 1229.59 Z\" fill=\"#000000\" fill-rule=\"evenodd\" fill-opacity=\"1\" /><path clip-path=\"url(#clip950)\" d=\"M222.17 1182.86 Q221.597 1183.85 221.342 1185.03 Q221.056 1186.17 221.056 1187.57 Q221.056 1192.54 224.303 1195.21 Q227.517 1197.85 233.565 1197.85 L252.343 1197.85 L252.343 1203.74 L216.695 1203.74 L216.695 1197.85 L222.234 1197.85 Q218.987 1196.01 217.428 1193.05 Q215.836 1190.09 215.836 1185.86 Q215.836 1185.25 215.932 1184.52 Q215.995 1183.79 216.154 1182.89 L222.17 1182.86 Z\" fill=\"#000000\" fill-rule=\"evenodd\" fill-opacity=\"1\" /><path clip-path=\"url(#clip950)\" d=\"M244.259 1181.88 L244.259 1175.16 L252.343 1175.16 L252.343 1181.88 L244.259 1181.88 Z\" fill=\"#000000\" fill-rule=\"evenodd\" fill-opacity=\"1\" /><path clip-path=\"url(#clip950)\" d=\"M230.827 1132.35 L252.343 1132.35 L252.343 1138.21 L231.018 1138.21 Q225.958 1138.21 223.443 1140.18 Q220.929 1142.15 220.929 1146.1 Q220.929 1150.84 223.952 1153.58 Q226.976 1156.32 232.196 1156.32 L252.343 1156.32 L252.343 1162.21 L216.695 1162.21 L216.695 1156.32 L222.234 1156.32 Q219.019 1154.22 217.428 1151.38 Q215.836 1148.52 215.836 1144.8 Q215.836 1138.65 219.656 1135.5 Q223.443 1132.35 230.827 1132.35 Z\" fill=\"#000000\" fill-rule=\"evenodd\" fill-opacity=\"1\" /><path clip-path=\"url(#clip950)\" d=\"M234.551 1095.08 Q228.09 1095.08 224.43 1097.75 Q220.738 1100.4 220.738 1105.04 Q220.738 1109.69 224.43 1112.36 Q228.09 1115 234.551 1115 Q241.012 1115 244.705 1112.36 Q248.365 1109.69 248.365 1105.04 Q248.365 1100.4 244.705 1097.75 Q241.012 1095.08 234.551 1095.08 M222.106 1115 Q218.923 1113.16 217.396 1110.36 Q215.836 1107.52 215.836 1103.61 Q215.836 1097.12 220.992 1093.07 Q226.149 1089 234.551 1089 Q242.954 1089 248.11 1093.07 Q253.266 1097.12 253.266 1103.61 Q253.266 1107.52 251.739 1110.36 Q250.179 1113.16 246.996 1115 L252.343 1115 L252.343 1120.89 L202.818 1120.89 L202.818 1115 L222.106 1115 Z\" fill=\"#000000\" fill-rule=\"evenodd\" fill-opacity=\"1\" /><path clip-path=\"url(#clip950)\" d=\"M216.695 1079.29 L216.695 1073.44 L252.343 1073.44 L252.343 1079.29 L216.695 1079.29 M202.818 1079.29 L202.818 1073.44 L210.234 1073.44 L210.234 1079.29 L202.818 1079.29 Z\" fill=\"#000000\" fill-rule=\"evenodd\" fill-opacity=\"1\" /><path clip-path=\"url(#clip950)\" d=\"M230.827 1031.55 L252.343 1031.55 L252.343 1037.41 L231.018 1037.41 Q225.958 1037.41 223.443 1039.38 Q220.929 1041.35 220.929 1045.3 Q220.929 1050.04 223.952 1052.78 Q226.976 1055.52 232.196 1055.52 L252.343 1055.52 L252.343 1061.41 L216.695 1061.41 L216.695 1055.52 L222.234 1055.52 Q219.019 1053.42 217.428 1050.58 Q215.836 1047.72 215.836 1044 Q215.836 1037.85 219.656 1034.7 Q223.443 1031.55 230.827 1031.55 Z\" fill=\"#000000\" fill-rule=\"evenodd\" fill-opacity=\"1\" /><path clip-path=\"url(#clip950)\" d=\"M217.746 997.144 L223.284 997.144 Q222.011 999.626 221.374 1002.3 Q220.738 1004.97 220.738 1007.84 Q220.738 1012.2 222.075 1014.39 Q223.411 1016.56 226.085 1016.56 Q228.122 1016.56 229.3 1015 Q230.445 1013.44 231.496 1008.73 L231.941 1006.72 Q233.278 1000.49 235.729 997.876 Q238.148 995.234 242.508 995.234 Q247.474 995.234 250.37 999.181 Q253.266 1003.1 253.266 1009.97 Q253.266 1012.84 252.694 1015.95 Q252.152 1019.04 251.038 1022.48 L244.991 1022.48 Q246.678 1019.23 247.537 1016.08 Q248.365 1012.93 248.365 1009.84 Q248.365 1005.71 246.964 1003.48 Q245.532 1001.25 242.954 1001.25 Q240.567 1001.25 239.294 1002.87 Q238.021 1004.46 236.843 1009.91 L236.366 1011.94 Q235.22 1017.39 232.864 1019.81 Q230.477 1022.22 226.34 1022.22 Q221.311 1022.22 218.573 1018.66 Q215.836 1015.09 215.836 1008.54 Q215.836 1005.29 216.314 1002.43 Q216.791 999.563 217.746 997.144 Z\" fill=\"#000000\" fill-rule=\"evenodd\" fill-opacity=\"1\" /><circle clip-path=\"url(#clip954)\" cx=\"815.821\" cy=\"1029.11\" r=\"4\" fill=\"#000005\" fill-rule=\"evenodd\" fill-opacity=\"1\" stroke=\"#000000\" stroke-opacity=\"1\" stroke-width=\"4\"/>\n",
       "<circle clip-path=\"url(#clip954)\" cx=\"596.944\" cy=\"1422.75\" r=\"11\" fill=\"#160b39\" fill-rule=\"evenodd\" fill-opacity=\"1\" stroke=\"#000000\" stroke-opacity=\"1\" stroke-width=\"4\"/>\n",
       "<circle clip-path=\"url(#clip954)\" cx=\"596.944\" cy=\"1767.19\" r=\"15\" fill=\"#31095d\" fill-rule=\"evenodd\" fill-opacity=\"1\" stroke=\"#000000\" stroke-opacity=\"1\" stroke-width=\"4\"/>\n",
       "<circle clip-path=\"url(#clip954)\" cx=\"706.383\" cy=\"1767.19\" r=\"12\" fill=\"#1b0c42\" fill-rule=\"evenodd\" fill-opacity=\"1\" stroke=\"#000000\" stroke-opacity=\"1\" stroke-width=\"4\"/>\n",
       "<circle clip-path=\"url(#clip954)\" cx=\"596.944\" cy=\"1422.75\" r=\"11\" fill=\"#160b39\" fill-rule=\"evenodd\" fill-opacity=\"1\" stroke=\"#000000\" stroke-opacity=\"1\" stroke-width=\"4\"/>\n",
       "<circle clip-path=\"url(#clip954)\" cx=\"596.944\" cy=\"1619.57\" r=\"12\" fill=\"#1a0b3f\" fill-rule=\"evenodd\" fill-opacity=\"1\" stroke=\"#000000\" stroke-opacity=\"1\" stroke-width=\"4\"/>\n",
       "<circle clip-path=\"url(#clip954)\" cx=\"596.944\" cy=\"1422.75\" r=\"11\" fill=\"#160b39\" fill-rule=\"evenodd\" fill-opacity=\"1\" stroke=\"#000000\" stroke-opacity=\"1\" stroke-width=\"4\"/>\n",
       "<circle clip-path=\"url(#clip954)\" cx=\"925.26\" cy=\"1717.99\" r=\"7\" fill=\"#06041b\" fill-rule=\"evenodd\" fill-opacity=\"1\" stroke=\"#000000\" stroke-opacity=\"1\" stroke-width=\"4\"/>\n",
       "<circle clip-path=\"url(#clip954)\" cx=\"979.979\" cy=\"1422.75\" r=\"4\" fill=\"#01010a\" fill-rule=\"evenodd\" fill-opacity=\"1\" stroke=\"#000000\" stroke-opacity=\"1\" stroke-width=\"4\"/>\n",
       "<circle clip-path=\"url(#clip954)\" cx=\"761.102\" cy=\"1029.11\" r=\"4\" fill=\"#010007\" fill-rule=\"evenodd\" fill-opacity=\"1\" stroke=\"#000000\" stroke-opacity=\"1\" stroke-width=\"4\"/>\n",
       "<circle clip-path=\"url(#clip954)\" cx=\"925.26\" cy=\"1717.99\" r=\"7\" fill=\"#06041b\" fill-rule=\"evenodd\" fill-opacity=\"1\" stroke=\"#000000\" stroke-opacity=\"1\" stroke-width=\"4\"/>\n",
       "<circle clip-path=\"url(#clip954)\" cx=\"432.786\" cy=\"1619.57\" r=\"61\" fill=\"#fcfea4\" fill-rule=\"evenodd\" fill-opacity=\"1\" stroke=\"#000000\" stroke-opacity=\"1\" stroke-width=\"4\"/>\n",
       "<circle clip-path=\"url(#clip954)\" cx=\"815.821\" cy=\"1029.11\" r=\"4\" fill=\"#000005\" fill-rule=\"evenodd\" fill-opacity=\"1\" stroke=\"#000000\" stroke-opacity=\"1\" stroke-width=\"4\"/>\n",
       "<circle clip-path=\"url(#clip954)\" cx=\"761.102\" cy=\"1717.99\" r=\"8\" fill=\"#08061f\" fill-rule=\"evenodd\" fill-opacity=\"1\" stroke=\"#000000\" stroke-opacity=\"1\" stroke-width=\"4\"/>\n",
       "<circle clip-path=\"url(#clip954)\" cx=\"870.541\" cy=\"1767.19\" r=\"11\" fill=\"#170b3b\" fill-rule=\"evenodd\" fill-opacity=\"1\" stroke=\"#000000\" stroke-opacity=\"1\" stroke-width=\"4\"/>\n",
       "<circle clip-path=\"url(#clip954)\" cx=\"487.505\" cy=\"1422.75\" r=\"23\" fill=\"#63146e\" fill-rule=\"evenodd\" fill-opacity=\"1\" stroke=\"#000000\" stroke-opacity=\"1\" stroke-width=\"4\"/>\n",
       "<circle clip-path=\"url(#clip954)\" cx=\"761.102\" cy=\"1767.19\" r=\"11\" fill=\"#180b3d\" fill-rule=\"evenodd\" fill-opacity=\"1\" stroke=\"#000000\" stroke-opacity=\"1\" stroke-width=\"4\"/>\n",
       "<circle clip-path=\"url(#clip954)\" cx=\"761.102\" cy=\"1422.75\" r=\"5\" fill=\"#02020e\" fill-rule=\"evenodd\" fill-opacity=\"1\" stroke=\"#000000\" stroke-opacity=\"1\" stroke-width=\"4\"/>\n",
       "<circle clip-path=\"url(#clip954)\" cx=\"596.944\" cy=\"1422.75\" r=\"11\" fill=\"#160b39\" fill-rule=\"evenodd\" fill-opacity=\"1\" stroke=\"#000000\" stroke-opacity=\"1\" stroke-width=\"4\"/>\n",
       "<circle clip-path=\"url(#clip954)\" cx=\"706.383\" cy=\"1619.57\" r=\"7\" fill=\"#050418\" fill-rule=\"evenodd\" fill-opacity=\"1\" stroke=\"#000000\" stroke-opacity=\"1\" stroke-width=\"4\"/>\n",
       "<circle clip-path=\"url(#clip954)\" cx=\"925.26\" cy=\"1767.19\" r=\"11\" fill=\"#180b3c\" fill-rule=\"evenodd\" fill-opacity=\"1\" stroke=\"#000000\" stroke-opacity=\"1\" stroke-width=\"4\"/>\n",
       "<circle clip-path=\"url(#clip954)\" cx=\"979.979\" cy=\"1717.99\" r=\"7\" fill=\"#08051e\" fill-rule=\"evenodd\" fill-opacity=\"1\" stroke=\"#000000\" stroke-opacity=\"1\" stroke-width=\"4\"/>\n",
       "<circle clip-path=\"url(#clip954)\" cx=\"487.505\" cy=\"1029.11\" r=\"23\" fill=\"#5f136e\" fill-rule=\"evenodd\" fill-opacity=\"1\" stroke=\"#000000\" stroke-opacity=\"1\" stroke-width=\"4\"/>\n",
       "<circle clip-path=\"url(#clip954)\" cx=\"761.102\" cy=\"1767.19\" r=\"11\" fill=\"#180b3d\" fill-rule=\"evenodd\" fill-opacity=\"1\" stroke=\"#000000\" stroke-opacity=\"1\" stroke-width=\"4\"/>\n",
       "<circle clip-path=\"url(#clip954)\" cx=\"432.786\" cy=\"1029.11\" r=\"61\" fill=\"#fcfea4\" fill-rule=\"evenodd\" fill-opacity=\"1\" stroke=\"#000000\" stroke-opacity=\"1\" stroke-width=\"4\"/>\n",
       "<circle clip-path=\"url(#clip954)\" cx=\"925.26\" cy=\"1029.11\" r=\"3\" fill=\"#000003\" fill-rule=\"evenodd\" fill-opacity=\"1\" stroke=\"#000000\" stroke-opacity=\"1\" stroke-width=\"4\"/>\n",
       "<circle clip-path=\"url(#clip954)\" cx=\"925.26\" cy=\"1029.11\" r=\"3\" fill=\"#000003\" fill-rule=\"evenodd\" fill-opacity=\"1\" stroke=\"#000000\" stroke-opacity=\"1\" stroke-width=\"4\"/>\n",
       "<circle clip-path=\"url(#clip954)\" cx=\"651.663\" cy=\"1619.57\" r=\"8\" fill=\"#0c0726\" fill-rule=\"evenodd\" fill-opacity=\"1\" stroke=\"#000000\" stroke-opacity=\"1\" stroke-width=\"4\"/>\n",
       "<circle clip-path=\"url(#clip954)\" cx=\"979.979\" cy=\"1422.75\" r=\"4\" fill=\"#01010a\" fill-rule=\"evenodd\" fill-opacity=\"1\" stroke=\"#000000\" stroke-opacity=\"1\" stroke-width=\"4\"/>\n",
       "<circle clip-path=\"url(#clip954)\" cx=\"596.944\" cy=\"1029.11\" r=\"10\" fill=\"#120a32\" fill-rule=\"evenodd\" fill-opacity=\"1\" stroke=\"#000000\" stroke-opacity=\"1\" stroke-width=\"4\"/>\n",
       "<circle clip-path=\"url(#clip954)\" cx=\"815.821\" cy=\"1717.99\" r=\"7\" fill=\"#050419\" fill-rule=\"evenodd\" fill-opacity=\"1\" stroke=\"#000000\" stroke-opacity=\"1\" stroke-width=\"4\"/>\n",
       "<circle clip-path=\"url(#clip954)\" cx=\"925.26\" cy=\"1767.19\" r=\"11\" fill=\"#180b3c\" fill-rule=\"evenodd\" fill-opacity=\"1\" stroke=\"#000000\" stroke-opacity=\"1\" stroke-width=\"4\"/>\n",
       "<circle clip-path=\"url(#clip954)\" cx=\"706.383\" cy=\"1767.19\" r=\"12\" fill=\"#1b0c42\" fill-rule=\"evenodd\" fill-opacity=\"1\" stroke=\"#000000\" stroke-opacity=\"1\" stroke-width=\"4\"/>\n",
       "<circle clip-path=\"url(#clip954)\" cx=\"542.225\" cy=\"1717.99\" r=\"16\" fill=\"#370961\" fill-rule=\"evenodd\" fill-opacity=\"1\" stroke=\"#000000\" stroke-opacity=\"1\" stroke-width=\"4\"/>\n",
       "<circle clip-path=\"url(#clip954)\" cx=\"1034.7\" cy=\"1029.11\" r=\"4\" fill=\"#010007\" fill-rule=\"evenodd\" fill-opacity=\"1\" stroke=\"#000000\" stroke-opacity=\"1\" stroke-width=\"4\"/>\n",
       "<circle clip-path=\"url(#clip954)\" cx=\"1034.7\" cy=\"1422.75\" r=\"5\" fill=\"#02010d\" fill-rule=\"evenodd\" fill-opacity=\"1\" stroke=\"#000000\" stroke-opacity=\"1\" stroke-width=\"4\"/>\n",
       "<circle clip-path=\"url(#clip954)\" cx=\"651.663\" cy=\"1767.19\" r=\"13\" fill=\"#240b4f\" fill-rule=\"evenodd\" fill-opacity=\"1\" stroke=\"#000000\" stroke-opacity=\"1\" stroke-width=\"4\"/>\n",
       "<circle clip-path=\"url(#clip954)\" cx=\"596.944\" cy=\"1767.19\" r=\"15\" fill=\"#31095d\" fill-rule=\"evenodd\" fill-opacity=\"1\" stroke=\"#000000\" stroke-opacity=\"1\" stroke-width=\"4\"/>\n",
       "<circle clip-path=\"url(#clip954)\" cx=\"706.383\" cy=\"1619.57\" r=\"7\" fill=\"#050418\" fill-rule=\"evenodd\" fill-opacity=\"1\" stroke=\"#000000\" stroke-opacity=\"1\" stroke-width=\"4\"/>\n",
       "<circle clip-path=\"url(#clip954)\" cx=\"870.541\" cy=\"1619.57\" r=\"4\" fill=\"#01010a\" fill-rule=\"evenodd\" fill-opacity=\"1\" stroke=\"#000000\" stroke-opacity=\"1\" stroke-width=\"4\"/>\n",
       "<path clip-path=\"url(#clip950)\" d=\"\n",
       "M1514.73 1789.33 L2152.76 1789.33 L2152.76 1006.97 L1514.73 1006.97  Z\n",
       "  \" fill=\"#ffffff\" fill-rule=\"evenodd\" fill-opacity=\"1\"/>\n",
       "<defs>\n",
       "  <clipPath id=\"clip955\">\n",
       "    <rect x=\"1514\" y=\"1006\" width=\"639\" height=\"783\"/>\n",
       "  </clipPath>\n",
       "</defs>\n",
       "<polyline clip-path=\"url(#clip955)\" style=\"stroke:#000000; stroke-linecap:butt; stroke-linejoin:round; stroke-width:2; stroke-opacity:0.1; fill:none\" points=\"\n",
       "  1618.06,1789.33 1618.06,1006.97 \n",
       "  \"/>\n",
       "<polyline clip-path=\"url(#clip955)\" style=\"stroke:#000000; stroke-linecap:butt; stroke-linejoin:round; stroke-width:2; stroke-opacity:0.1; fill:none\" points=\"\n",
       "  1743.46,1789.33 1743.46,1006.97 \n",
       "  \"/>\n",
       "<polyline clip-path=\"url(#clip955)\" style=\"stroke:#000000; stroke-linecap:butt; stroke-linejoin:round; stroke-width:2; stroke-opacity:0.1; fill:none\" points=\"\n",
       "  1868.85,1789.33 1868.85,1006.97 \n",
       "  \"/>\n",
       "<polyline clip-path=\"url(#clip955)\" style=\"stroke:#000000; stroke-linecap:butt; stroke-linejoin:round; stroke-width:2; stroke-opacity:0.1; fill:none\" points=\"\n",
       "  1994.25,1789.33 1994.25,1006.97 \n",
       "  \"/>\n",
       "<polyline clip-path=\"url(#clip955)\" style=\"stroke:#000000; stroke-linecap:butt; stroke-linejoin:round; stroke-width:2; stroke-opacity:0.1; fill:none\" points=\"\n",
       "  2119.65,1789.33 2119.65,1006.97 \n",
       "  \"/>\n",
       "<polyline clip-path=\"url(#clip950)\" style=\"stroke:#000000; stroke-linecap:butt; stroke-linejoin:round; stroke-width:4; stroke-opacity:1; fill:none\" points=\"\n",
       "  1514.73,1789.33 2152.76,1789.33 \n",
       "  \"/>\n",
       "<polyline clip-path=\"url(#clip950)\" style=\"stroke:#000000; stroke-linecap:butt; stroke-linejoin:round; stroke-width:4; stroke-opacity:1; fill:none\" points=\"\n",
       "  1514.73,1006.97 2152.76,1006.97 \n",
       "  \"/>\n",
       "<polyline clip-path=\"url(#clip950)\" style=\"stroke:#000000; stroke-linecap:butt; stroke-linejoin:round; stroke-width:4; stroke-opacity:1; fill:none\" points=\"\n",
       "  1618.06,1789.33 1618.06,1770.43 \n",
       "  \"/>\n",
       "<polyline clip-path=\"url(#clip950)\" style=\"stroke:#000000; stroke-linecap:butt; stroke-linejoin:round; stroke-width:4; stroke-opacity:1; fill:none\" points=\"\n",
       "  1743.46,1789.33 1743.46,1770.43 \n",
       "  \"/>\n",
       "<polyline clip-path=\"url(#clip950)\" style=\"stroke:#000000; stroke-linecap:butt; stroke-linejoin:round; stroke-width:4; stroke-opacity:1; fill:none\" points=\"\n",
       "  1868.85,1789.33 1868.85,1770.43 \n",
       "  \"/>\n",
       "<polyline clip-path=\"url(#clip950)\" style=\"stroke:#000000; stroke-linecap:butt; stroke-linejoin:round; stroke-width:4; stroke-opacity:1; fill:none\" points=\"\n",
       "  1994.25,1789.33 1994.25,1770.43 \n",
       "  \"/>\n",
       "<polyline clip-path=\"url(#clip950)\" style=\"stroke:#000000; stroke-linecap:butt; stroke-linejoin:round; stroke-width:4; stroke-opacity:1; fill:none\" points=\"\n",
       "  2119.65,1789.33 2119.65,1770.43 \n",
       "  \"/>\n",
       "<path clip-path=\"url(#clip950)\" d=\"M1597.33 1846.2 L1613.65 1846.2 L1613.65 1850.13 L1591.7 1850.13 L1591.7 1846.2 Q1594.36 1843.44 1598.95 1838.81 Q1603.55 1834.16 1604.74 1832.82 Q1606.98 1830.29 1607.86 1828.56 Q1608.76 1826.8 1608.76 1825.11 Q1608.76 1822.35 1606.82 1820.62 Q1604.9 1818.88 1601.8 1818.88 Q1599.6 1818.88 1597.14 1819.65 Q1594.71 1820.41 1591.93 1821.96 L1591.93 1817.24 Q1594.76 1816.1 1597.21 1815.53 Q1599.67 1814.95 1601.7 1814.95 Q1607.07 1814.95 1610.27 1817.63 Q1613.46 1820.32 1613.46 1824.81 Q1613.46 1826.94 1612.65 1828.86 Q1611.86 1830.76 1609.76 1833.35 Q1609.18 1834.02 1606.08 1837.24 Q1602.98 1840.43 1597.33 1846.2 Z\" fill=\"#000000\" fill-rule=\"evenodd\" fill-opacity=\"1\" /><path clip-path=\"url(#clip950)\" d=\"M1623.51 1815.57 L1641.86 1815.57 L1641.86 1819.51 L1627.79 1819.51 L1627.79 1827.98 Q1628.81 1827.63 1629.83 1827.47 Q1630.85 1827.29 1631.86 1827.29 Q1637.65 1827.29 1641.03 1830.46 Q1644.41 1833.63 1644.41 1839.04 Q1644.41 1844.62 1640.94 1847.73 Q1637.47 1850.8 1631.15 1850.8 Q1628.97 1850.8 1626.7 1850.43 Q1624.46 1850.06 1622.05 1849.32 L1622.05 1844.62 Q1624.13 1845.76 1626.36 1846.31 Q1628.58 1846.87 1631.05 1846.87 Q1635.06 1846.87 1637.4 1844.76 Q1639.74 1842.66 1639.74 1839.04 Q1639.74 1835.43 1637.4 1833.33 Q1635.06 1831.22 1631.05 1831.22 Q1629.18 1831.22 1627.3 1831.64 Q1625.45 1832.05 1623.51 1832.93 L1623.51 1815.57 Z\" fill=\"#000000\" fill-rule=\"evenodd\" fill-opacity=\"1\" /><path clip-path=\"url(#clip950)\" d=\"M1718.15 1815.57 L1736.51 1815.57 L1736.51 1819.51 L1722.44 1819.51 L1722.44 1827.98 Q1723.46 1827.63 1724.47 1827.47 Q1725.49 1827.29 1726.51 1827.29 Q1732.3 1827.29 1735.68 1830.46 Q1739.06 1833.63 1739.06 1839.04 Q1739.06 1844.62 1735.59 1847.73 Q1732.11 1850.8 1725.79 1850.8 Q1723.62 1850.8 1721.35 1850.43 Q1719.1 1850.06 1716.7 1849.32 L1716.7 1844.62 Q1718.78 1845.76 1721 1846.31 Q1723.22 1846.87 1725.7 1846.87 Q1729.71 1846.87 1732.04 1844.76 Q1734.38 1842.66 1734.38 1839.04 Q1734.38 1835.43 1732.04 1833.33 Q1729.71 1831.22 1725.7 1831.22 Q1723.83 1831.22 1721.95 1831.64 Q1720.1 1832.05 1718.15 1832.93 L1718.15 1815.57 Z\" fill=\"#000000\" fill-rule=\"evenodd\" fill-opacity=\"1\" /><path clip-path=\"url(#clip950)\" d=\"M1758.27 1818.65 Q1754.66 1818.65 1752.83 1822.22 Q1751.02 1825.76 1751.02 1832.89 Q1751.02 1839.99 1752.83 1843.56 Q1754.66 1847.1 1758.27 1847.1 Q1761.9 1847.1 1763.71 1843.56 Q1765.54 1839.99 1765.54 1832.89 Q1765.54 1825.76 1763.71 1822.22 Q1761.9 1818.65 1758.27 1818.65 M1758.27 1814.95 Q1764.08 1814.95 1767.14 1819.55 Q1770.21 1824.14 1770.21 1832.89 Q1770.21 1841.61 1767.14 1846.22 Q1764.08 1850.8 1758.27 1850.8 Q1752.46 1850.8 1749.38 1846.22 Q1746.33 1841.61 1746.33 1832.89 Q1746.33 1824.14 1749.38 1819.55 Q1752.46 1814.95 1758.27 1814.95 Z\" fill=\"#000000\" fill-rule=\"evenodd\" fill-opacity=\"1\" /><path clip-path=\"url(#clip950)\" d=\"M1842.71 1815.57 L1864.93 1815.57 L1864.93 1817.56 L1852.38 1850.13 L1847.5 1850.13 L1859.31 1819.51 L1842.71 1819.51 L1842.71 1815.57 Z\" fill=\"#000000\" fill-rule=\"evenodd\" fill-opacity=\"1\" /><path clip-path=\"url(#clip950)\" d=\"M1874.1 1815.57 L1892.45 1815.57 L1892.45 1819.51 L1878.38 1819.51 L1878.38 1827.98 Q1879.4 1827.63 1880.42 1827.47 Q1881.43 1827.29 1882.45 1827.29 Q1888.24 1827.29 1891.62 1830.46 Q1895 1833.63 1895 1839.04 Q1895 1844.62 1891.53 1847.73 Q1888.06 1850.8 1881.74 1850.8 Q1879.56 1850.8 1877.29 1850.43 Q1875.05 1850.06 1872.64 1849.32 L1872.64 1844.62 Q1874.72 1845.76 1876.94 1846.31 Q1879.17 1846.87 1881.64 1846.87 Q1885.65 1846.87 1887.99 1844.76 Q1890.32 1842.66 1890.32 1839.04 Q1890.32 1835.43 1887.99 1833.33 Q1885.65 1831.22 1881.64 1831.22 Q1879.77 1831.22 1877.89 1831.64 Q1876.04 1832.05 1874.1 1832.93 L1874.1 1815.57 Z\" fill=\"#000000\" fill-rule=\"evenodd\" fill-opacity=\"1\" /><path clip-path=\"url(#clip950)\" d=\"M1953.86 1846.2 L1961.5 1846.2 L1961.5 1819.83 L1953.19 1821.5 L1953.19 1817.24 L1961.45 1815.57 L1966.13 1815.57 L1966.13 1846.2 L1973.77 1846.2 L1973.77 1850.13 L1953.86 1850.13 L1953.86 1846.2 Z\" fill=\"#000000\" fill-rule=\"evenodd\" fill-opacity=\"1\" /><path clip-path=\"url(#clip950)\" d=\"M1993.21 1818.65 Q1989.6 1818.65 1987.77 1822.22 Q1985.97 1825.76 1985.97 1832.89 Q1985.97 1839.99 1987.77 1843.56 Q1989.6 1847.1 1993.21 1847.1 Q1996.84 1847.1 1998.65 1843.56 Q2000.48 1839.99 2000.48 1832.89 Q2000.48 1825.76 1998.65 1822.22 Q1996.84 1818.65 1993.21 1818.65 M1993.21 1814.95 Q1999.02 1814.95 2002.08 1819.55 Q2005.15 1824.14 2005.15 1832.89 Q2005.15 1841.61 2002.08 1846.22 Q1999.02 1850.8 1993.21 1850.8 Q1987.4 1850.8 1984.32 1846.22 Q1981.27 1841.61 1981.27 1832.89 Q1981.27 1824.14 1984.32 1819.55 Q1987.4 1814.95 1993.21 1814.95 Z\" fill=\"#000000\" fill-rule=\"evenodd\" fill-opacity=\"1\" /><path clip-path=\"url(#clip950)\" d=\"M2023.37 1818.65 Q2019.76 1818.65 2017.93 1822.22 Q2016.13 1825.76 2016.13 1832.89 Q2016.13 1839.99 2017.93 1843.56 Q2019.76 1847.1 2023.37 1847.1 Q2027.01 1847.1 2028.81 1843.56 Q2030.64 1839.99 2030.64 1832.89 Q2030.64 1825.76 2028.81 1822.22 Q2027.01 1818.65 2023.37 1818.65 M2023.37 1814.95 Q2029.18 1814.95 2032.24 1819.55 Q2035.32 1824.14 2035.32 1832.89 Q2035.32 1841.61 2032.24 1846.22 Q2029.18 1850.8 2023.37 1850.8 Q2017.56 1850.8 2014.48 1846.22 Q2011.43 1841.61 2011.43 1832.89 Q2011.43 1824.14 2014.48 1819.55 Q2017.56 1814.95 2023.37 1814.95 Z\" fill=\"#000000\" fill-rule=\"evenodd\" fill-opacity=\"1\" /><path clip-path=\"url(#clip950)\" d=\"M2079.76 1846.2 L2087.39 1846.2 L2087.39 1819.83 L2079.08 1821.5 L2079.08 1817.24 L2087.35 1815.57 L2092.02 1815.57 L2092.02 1846.2 L2099.66 1846.2 L2099.66 1850.13 L2079.76 1850.13 L2079.76 1846.2 Z\" fill=\"#000000\" fill-rule=\"evenodd\" fill-opacity=\"1\" /><path clip-path=\"url(#clip950)\" d=\"M2113.13 1846.2 L2129.45 1846.2 L2129.45 1850.13 L2107.51 1850.13 L2107.51 1846.2 Q2110.17 1843.44 2114.75 1838.81 Q2119.36 1834.16 2120.54 1832.82 Q2122.79 1830.29 2123.67 1828.56 Q2124.57 1826.8 2124.57 1825.11 Q2124.57 1822.35 2122.63 1820.62 Q2120.7 1818.88 2117.6 1818.88 Q2115.4 1818.88 2112.95 1819.65 Q2110.52 1820.41 2107.74 1821.96 L2107.74 1817.24 Q2110.57 1816.1 2113.02 1815.53 Q2115.47 1814.95 2117.51 1814.95 Q2122.88 1814.95 2126.07 1817.63 Q2129.27 1820.32 2129.27 1824.81 Q2129.27 1826.94 2128.46 1828.86 Q2127.67 1830.76 2125.57 1833.35 Q2124.99 1834.02 2121.88 1837.24 Q2118.78 1840.43 2113.13 1846.2 Z\" fill=\"#000000\" fill-rule=\"evenodd\" fill-opacity=\"1\" /><path clip-path=\"url(#clip950)\" d=\"M2139.31 1815.57 L2157.67 1815.57 L2157.67 1819.51 L2143.6 1819.51 L2143.6 1827.98 Q2144.62 1827.63 2145.63 1827.47 Q2146.65 1827.29 2147.67 1827.29 Q2153.46 1827.29 2156.84 1830.46 Q2160.22 1833.63 2160.22 1839.04 Q2160.22 1844.62 2156.75 1847.73 Q2153.27 1850.8 2146.95 1850.8 Q2144.78 1850.8 2142.51 1850.43 Q2140.26 1850.06 2137.86 1849.32 L2137.86 1844.62 Q2139.94 1845.76 2142.16 1846.31 Q2144.38 1846.87 2146.86 1846.87 Q2150.87 1846.87 2153.2 1844.76 Q2155.54 1842.66 2155.54 1839.04 Q2155.54 1835.43 2153.2 1833.33 Q2150.87 1831.22 2146.86 1831.22 Q2144.99 1831.22 2143.11 1831.64 Q2141.26 1832.05 2139.31 1832.93 L2139.31 1815.57 Z\" fill=\"#000000\" fill-rule=\"evenodd\" fill-opacity=\"1\" /><path clip-path=\"url(#clip950)\" d=\"M1463.86 1911.91 L1463.86 1914.77 L1436.94 1914.77 Q1437.32 1920.82 1440.56 1924 Q1443.84 1927.15 1449.67 1927.15 Q1453.04 1927.15 1456.19 1926.33 Q1459.38 1925.5 1462.49 1923.84 L1462.49 1929.38 Q1459.34 1930.72 1456.03 1931.42 Q1452.72 1932.12 1449.32 1932.12 Q1440.79 1932.12 1435.79 1927.15 Q1430.82 1922.19 1430.82 1913.72 Q1430.82 1904.97 1435.54 1899.85 Q1440.28 1894.69 1448.3 1894.69 Q1455.49 1894.69 1459.66 1899.34 Q1463.86 1903.95 1463.86 1911.91 M1458.01 1910.19 Q1457.94 1905.38 1455.3 1902.52 Q1452.69 1899.65 1448.36 1899.65 Q1443.46 1899.65 1440.5 1902.42 Q1437.57 1905.19 1437.13 1910.22 L1458.01 1910.19 Z\" fill=\"#000000\" fill-rule=\"evenodd\" fill-opacity=\"1\" /><path clip-path=\"url(#clip950)\" d=\"M1469.27 1895.55 L1475.48 1895.55 L1486.62 1925.47 L1497.76 1895.55 L1503.97 1895.55 L1490.6 1931.2 L1482.64 1931.2 L1469.27 1895.55 Z\" fill=\"#000000\" fill-rule=\"evenodd\" fill-opacity=\"1\" /><path clip-path=\"url(#clip950)\" d=\"M1525.86 1899.65 Q1521.15 1899.65 1518.42 1903.35 Q1515.68 1907.01 1515.68 1913.4 Q1515.68 1919.8 1518.39 1923.49 Q1521.12 1927.15 1525.86 1927.15 Q1530.54 1927.15 1533.28 1923.46 Q1536.02 1919.77 1536.02 1913.4 Q1536.02 1907.07 1533.28 1903.38 Q1530.54 1899.65 1525.86 1899.65 M1525.86 1894.69 Q1533.5 1894.69 1537.86 1899.65 Q1542.22 1904.62 1542.22 1913.4 Q1542.22 1922.16 1537.86 1927.15 Q1533.5 1932.12 1525.86 1932.12 Q1518.19 1932.12 1513.83 1927.15 Q1509.51 1922.16 1509.51 1913.4 Q1509.51 1904.62 1513.83 1899.65 Q1518.19 1894.69 1525.86 1894.69 Z\" fill=\"#000000\" fill-rule=\"evenodd\" fill-opacity=\"1\" /><path clip-path=\"url(#clip950)\" d=\"M1579.02 1942.02 L1579.02 1946.57 L1545.15 1946.57 L1545.15 1942.02 L1579.02 1942.02 Z\" fill=\"#000000\" fill-rule=\"evenodd\" fill-opacity=\"1\" /><path clip-path=\"url(#clip950)\" d=\"M1590.32 1885.43 L1590.32 1895.55 L1602.38 1895.55 L1602.38 1900.1 L1590.32 1900.1 L1590.32 1919.45 Q1590.32 1923.81 1591.5 1925.05 Q1592.7 1926.29 1596.37 1926.29 L1602.38 1926.29 L1602.38 1931.2 L1596.37 1931.2 Q1589.59 1931.2 1587.01 1928.68 Q1584.43 1926.14 1584.43 1919.45 L1584.43 1900.1 L1580.13 1900.1 L1580.13 1895.55 L1584.43 1895.55 L1584.43 1885.43 L1590.32 1885.43 Z\" fill=\"#000000\" fill-rule=\"evenodd\" fill-opacity=\"1\" /><path clip-path=\"url(#clip950)\" d=\"M1630.74 1901.02 Q1629.75 1900.45 1628.58 1900.2 Q1627.43 1899.91 1626.03 1899.91 Q1621.06 1899.91 1618.39 1903.16 Q1615.75 1906.37 1615.75 1912.42 L1615.75 1931.2 L1609.86 1931.2 L1609.86 1895.55 L1615.75 1895.55 L1615.75 1901.09 Q1617.59 1897.84 1620.55 1896.28 Q1623.51 1894.69 1627.75 1894.69 Q1628.35 1894.69 1629.08 1894.78 Q1629.82 1894.85 1630.71 1895.01 L1630.74 1901.02 Z\" fill=\"#000000\" fill-rule=\"evenodd\" fill-opacity=\"1\" /><path clip-path=\"url(#clip950)\" d=\"M1665.94 1911.91 L1665.94 1914.77 L1639.02 1914.77 Q1639.4 1920.82 1642.64 1924 Q1645.92 1927.15 1651.75 1927.15 Q1655.12 1927.15 1658.27 1926.33 Q1661.45 1925.5 1664.57 1923.84 L1664.57 1929.38 Q1661.42 1930.72 1658.11 1931.42 Q1654.8 1932.12 1651.4 1932.12 Q1642.87 1932.12 1637.87 1927.15 Q1632.9 1922.19 1632.9 1913.72 Q1632.9 1904.97 1637.61 1899.85 Q1642.36 1894.69 1650.38 1894.69 Q1657.57 1894.69 1661.74 1899.34 Q1665.94 1903.95 1665.94 1911.91 M1660.09 1910.19 Q1660.02 1905.38 1657.38 1902.52 Q1654.77 1899.65 1650.44 1899.65 Q1645.54 1899.65 1642.58 1902.42 Q1639.65 1905.19 1639.21 1910.22 L1660.09 1910.19 Z\" fill=\"#000000\" fill-rule=\"evenodd\" fill-opacity=\"1\" /><path clip-path=\"url(#clip950)\" d=\"M1706.05 1911.91 L1706.05 1914.77 L1679.12 1914.77 Q1679.5 1920.82 1682.75 1924 Q1686.03 1927.15 1691.85 1927.15 Q1695.22 1927.15 1698.38 1926.33 Q1701.56 1925.5 1704.68 1923.84 L1704.68 1929.38 Q1701.53 1930.72 1698.22 1931.42 Q1694.91 1932.12 1691.5 1932.12 Q1682.97 1932.12 1677.97 1927.15 Q1673.01 1922.19 1673.01 1913.72 Q1673.01 1904.97 1677.72 1899.85 Q1682.46 1894.69 1690.48 1894.69 Q1697.68 1894.69 1701.84 1899.34 Q1706.05 1903.95 1706.05 1911.91 M1700.19 1910.19 Q1700.13 1905.38 1697.48 1902.52 Q1694.87 1899.65 1690.55 1899.65 Q1685.64 1899.65 1682.68 1902.42 Q1679.76 1905.19 1679.31 1910.22 L1700.19 1910.19 Z\" fill=\"#000000\" fill-rule=\"evenodd\" fill-opacity=\"1\" /><path clip-path=\"url(#clip950)\" d=\"M1742.74 1942.02 L1742.74 1946.57 L1708.88 1946.57 L1708.88 1942.02 L1742.74 1942.02 Z\" fill=\"#000000\" fill-rule=\"evenodd\" fill-opacity=\"1\" /><path clip-path=\"url(#clip950)\" d=\"M1768.91 1901.02 Q1767.92 1900.45 1766.74 1900.2 Q1765.6 1899.91 1764.2 1899.91 Q1759.23 1899.91 1756.56 1903.16 Q1753.92 1906.37 1753.92 1912.42 L1753.92 1931.2 L1748.03 1931.2 L1748.03 1895.55 L1753.92 1895.55 L1753.92 1901.09 Q1755.76 1897.84 1758.72 1896.28 Q1761.68 1894.69 1765.92 1894.69 Q1766.52 1894.69 1767.25 1894.78 Q1767.98 1894.85 1768.88 1895.01 L1768.91 1901.02 Z\" fill=\"#000000\" fill-rule=\"evenodd\" fill-opacity=\"1\" /><path clip-path=\"url(#clip950)\" d=\"M1804.11 1911.91 L1804.11 1914.77 L1777.18 1914.77 Q1777.56 1920.82 1780.81 1924 Q1784.09 1927.15 1789.91 1927.15 Q1793.29 1927.15 1796.44 1926.33 Q1799.62 1925.5 1802.74 1923.84 L1802.74 1929.38 Q1799.59 1930.72 1796.28 1931.42 Q1792.97 1932.12 1789.56 1932.12 Q1781.03 1932.12 1776.04 1927.15 Q1771.07 1922.19 1771.07 1913.72 Q1771.07 1904.97 1775.78 1899.85 Q1780.52 1894.69 1788.55 1894.69 Q1795.74 1894.69 1799.91 1899.34 Q1804.11 1903.95 1804.11 1911.91 M1798.25 1910.19 Q1798.19 1905.38 1795.55 1902.52 Q1792.94 1899.65 1788.61 1899.65 Q1783.71 1899.65 1780.75 1902.42 Q1777.82 1905.19 1777.37 1910.22 L1798.25 1910.19 Z\" fill=\"#000000\" fill-rule=\"evenodd\" fill-opacity=\"1\" /><path clip-path=\"url(#clip950)\" d=\"M1837.18 1912.96 Q1837.18 1906.59 1834.54 1903.09 Q1831.93 1899.59 1827.19 1899.59 Q1822.47 1899.59 1819.83 1903.09 Q1817.22 1906.59 1817.22 1912.96 Q1817.22 1919.29 1819.83 1922.79 Q1822.47 1926.29 1827.19 1926.29 Q1831.93 1926.29 1834.54 1922.79 Q1837.18 1919.29 1837.18 1912.96 M1843.04 1926.77 Q1843.04 1935.88 1838.99 1940.3 Q1834.95 1944.76 1826.61 1944.76 Q1823.53 1944.76 1820.79 1944.28 Q1818.05 1943.83 1815.47 1942.88 L1815.47 1937.18 Q1818.05 1938.58 1820.57 1939.25 Q1823.08 1939.92 1825.69 1939.92 Q1831.45 1939.92 1834.32 1936.89 Q1837.18 1933.9 1837.18 1927.82 L1837.18 1924.93 Q1835.37 1928.08 1832.53 1929.64 Q1829.7 1931.2 1825.75 1931.2 Q1819.2 1931.2 1815.19 1926.2 Q1811.18 1921.2 1811.18 1912.96 Q1811.18 1904.68 1815.19 1899.69 Q1819.2 1894.69 1825.75 1894.69 Q1829.7 1894.69 1832.53 1896.25 Q1835.37 1897.81 1837.18 1900.96 L1837.18 1895.55 L1843.04 1895.55 L1843.04 1926.77 Z\" fill=\"#000000\" fill-rule=\"evenodd\" fill-opacity=\"1\" /><path clip-path=\"url(#clip950)\" d=\"M1875.76 1901.02 Q1874.77 1900.45 1873.59 1900.2 Q1872.45 1899.91 1871.05 1899.91 Q1866.08 1899.91 1863.41 1903.16 Q1860.76 1906.37 1860.76 1912.42 L1860.76 1931.2 L1854.88 1931.2 L1854.88 1895.55 L1860.76 1895.55 L1860.76 1901.09 Q1862.61 1897.84 1865.57 1896.28 Q1868.53 1894.69 1872.76 1894.69 Q1873.37 1894.69 1874.1 1894.78 Q1874.83 1894.85 1875.72 1895.01 L1875.76 1901.02 Z\" fill=\"#000000\" fill-rule=\"evenodd\" fill-opacity=\"1\" /><path clip-path=\"url(#clip950)\" d=\"M1910.96 1911.91 L1910.96 1914.77 L1884.03 1914.77 Q1884.41 1920.82 1887.66 1924 Q1890.94 1927.15 1896.76 1927.15 Q1900.14 1927.15 1903.29 1926.33 Q1906.47 1925.5 1909.59 1923.84 L1909.59 1929.38 Q1906.44 1930.72 1903.13 1931.42 Q1899.82 1932.12 1896.41 1932.12 Q1887.88 1932.12 1882.89 1927.15 Q1877.92 1922.19 1877.92 1913.72 Q1877.92 1904.97 1882.63 1899.85 Q1887.37 1894.69 1895.39 1894.69 Q1902.59 1894.69 1906.76 1899.34 Q1910.96 1903.95 1910.96 1911.91 M1905.1 1910.19 Q1905.04 1905.38 1902.4 1902.52 Q1899.79 1899.65 1895.46 1899.65 Q1890.56 1899.65 1887.6 1902.42 Q1884.67 1905.19 1884.22 1910.22 L1905.1 1910.19 Z\" fill=\"#000000\" fill-rule=\"evenodd\" fill-opacity=\"1\" /><path clip-path=\"url(#clip950)\" d=\"M1943.3 1896.6 L1943.3 1902.14 Q1940.81 1900.86 1938.14 1900.23 Q1935.47 1899.59 1932.6 1899.59 Q1928.24 1899.59 1926.05 1900.93 Q1923.88 1902.26 1923.88 1904.94 Q1923.88 1906.98 1925.44 1908.15 Q1927 1909.3 1931.71 1910.35 L1933.72 1910.79 Q1939.95 1912.13 1942.56 1914.58 Q1945.21 1917 1945.21 1921.36 Q1945.21 1926.33 1941.26 1929.22 Q1937.34 1932.12 1930.47 1932.12 Q1927.6 1932.12 1924.49 1931.55 Q1921.4 1931.01 1917.96 1929.89 L1917.96 1923.84 Q1921.21 1925.53 1924.36 1926.39 Q1927.51 1927.22 1930.6 1927.22 Q1934.73 1927.22 1936.96 1925.82 Q1939.19 1924.39 1939.19 1921.81 Q1939.19 1919.42 1937.57 1918.15 Q1935.98 1916.87 1930.53 1915.7 L1928.5 1915.22 Q1923.05 1914.07 1920.63 1911.72 Q1918.22 1909.33 1918.22 1905.19 Q1918.22 1900.16 1921.78 1897.43 Q1925.34 1894.69 1931.9 1894.69 Q1935.15 1894.69 1938.01 1895.17 Q1940.88 1895.64 1943.3 1896.6 Z\" fill=\"#000000\" fill-rule=\"evenodd\" fill-opacity=\"1\" /><path clip-path=\"url(#clip950)\" d=\"M1977.26 1896.6 L1977.26 1902.14 Q1974.77 1900.86 1972.1 1900.23 Q1969.43 1899.59 1966.56 1899.59 Q1962.2 1899.59 1960.01 1900.93 Q1957.84 1902.26 1957.84 1904.94 Q1957.84 1906.98 1959.4 1908.15 Q1960.96 1909.3 1965.67 1910.35 L1967.68 1910.79 Q1973.92 1912.13 1976.53 1914.58 Q1979.17 1917 1979.17 1921.36 Q1979.17 1926.33 1975.22 1929.22 Q1971.31 1932.12 1964.43 1932.12 Q1961.57 1932.12 1958.45 1931.55 Q1955.36 1931.01 1951.92 1929.89 L1951.92 1923.84 Q1955.17 1925.53 1958.32 1926.39 Q1961.47 1927.22 1964.56 1927.22 Q1968.7 1927.22 1970.92 1925.82 Q1973.15 1924.39 1973.15 1921.81 Q1973.15 1919.42 1971.53 1918.15 Q1969.94 1916.87 1964.49 1915.7 L1962.46 1915.22 Q1957.01 1914.07 1954.6 1911.72 Q1952.18 1909.33 1952.18 1905.19 Q1952.18 1900.16 1955.74 1897.43 Q1959.31 1894.69 1965.86 1894.69 Q1969.11 1894.69 1971.97 1895.17 Q1974.84 1895.64 1977.26 1896.6 Z\" fill=\"#000000\" fill-rule=\"evenodd\" fill-opacity=\"1\" /><path clip-path=\"url(#clip950)\" d=\"M2002.31 1899.65 Q1997.6 1899.65 1994.86 1903.35 Q1992.12 1907.01 1992.12 1913.4 Q1992.12 1919.8 1994.83 1923.49 Q1997.56 1927.15 2002.31 1927.15 Q2006.98 1927.15 2009.72 1923.46 Q2012.46 1919.77 2012.46 1913.4 Q2012.46 1907.07 2009.72 1903.38 Q2006.98 1899.65 2002.31 1899.65 M2002.31 1894.69 Q2009.95 1894.69 2014.31 1899.65 Q2018.67 1904.62 2018.67 1913.4 Q2018.67 1922.16 2014.31 1927.15 Q2009.95 1932.12 2002.31 1932.12 Q1994.64 1932.12 1990.27 1927.15 Q1985.95 1922.16 1985.95 1913.4 Q1985.95 1904.62 1990.27 1899.65 Q1994.64 1894.69 2002.31 1894.69 Z\" fill=\"#000000\" fill-rule=\"evenodd\" fill-opacity=\"1\" /><path clip-path=\"url(#clip950)\" d=\"M2049.03 1901.02 Q2048.04 1900.45 2046.87 1900.2 Q2045.72 1899.91 2044.32 1899.91 Q2039.35 1899.91 2036.68 1903.16 Q2034.04 1906.37 2034.04 1912.42 L2034.04 1931.2 L2028.15 1931.2 L2028.15 1895.55 L2034.04 1895.55 L2034.04 1901.09 Q2035.89 1897.84 2038.85 1896.28 Q2041.81 1894.69 2046.04 1894.69 Q2046.64 1894.69 2047.38 1894.78 Q2048.11 1894.85 2049 1895.01 L2049.03 1901.02 Z\" fill=\"#000000\" fill-rule=\"evenodd\" fill-opacity=\"1\" /><path clip-path=\"url(#clip950)\" d=\"M2050.02 1923.11 L2056.73 1923.11 L2056.73 1931.2 L2050.02 1931.2 L2050.02 1923.11 Z\" fill=\"#000000\" fill-rule=\"evenodd\" fill-opacity=\"1\" /><path clip-path=\"url(#clip950)\" d=\"M2099.54 1909.68 L2099.54 1931.2 L2093.69 1931.2 L2093.69 1909.87 Q2093.69 1904.81 2091.71 1902.3 Q2089.74 1899.78 2085.79 1899.78 Q2081.05 1899.78 2078.31 1902.81 Q2075.58 1905.83 2075.58 1911.05 L2075.58 1931.2 L2069.69 1931.2 L2069.69 1895.55 L2075.58 1895.55 L2075.58 1901.09 Q2077.68 1897.87 2080.51 1896.28 Q2083.37 1894.69 2087.1 1894.69 Q2093.24 1894.69 2096.39 1898.51 Q2099.54 1902.3 2099.54 1909.68 Z\" fill=\"#000000\" fill-rule=\"evenodd\" fill-opacity=\"1\" /><path clip-path=\"url(#clip950)\" d=\"M2136.81 1913.4 Q2136.81 1906.94 2134.14 1903.28 Q2131.5 1899.59 2126.85 1899.59 Q2122.2 1899.59 2119.53 1903.28 Q2116.89 1906.94 2116.89 1913.4 Q2116.89 1919.87 2119.53 1923.56 Q2122.2 1927.22 2126.85 1927.22 Q2131.5 1927.22 2134.14 1923.56 Q2136.81 1919.87 2136.81 1913.4 M2116.89 1900.96 Q2118.73 1897.78 2121.54 1896.25 Q2124.37 1894.69 2128.28 1894.69 Q2134.78 1894.69 2138.82 1899.85 Q2142.89 1905 2142.89 1913.4 Q2142.89 1921.81 2138.82 1926.96 Q2134.78 1932.12 2128.28 1932.12 Q2124.37 1932.12 2121.54 1930.59 Q2118.73 1929.03 2116.89 1925.85 L2116.89 1931.2 L2111 1931.2 L2111 1881.67 L2116.89 1881.67 L2116.89 1900.96 Z\" fill=\"#000000\" fill-rule=\"evenodd\" fill-opacity=\"1\" /><path clip-path=\"url(#clip950)\" d=\"M2152.6 1895.55 L2158.46 1895.55 L2158.46 1931.2 L2152.6 1931.2 L2152.6 1895.55 M2152.6 1881.67 L2158.46 1881.67 L2158.46 1889.09 L2152.6 1889.09 L2152.6 1881.67 Z\" fill=\"#000000\" fill-rule=\"evenodd\" fill-opacity=\"1\" /><path clip-path=\"url(#clip950)\" d=\"M2200.34 1909.68 L2200.34 1931.2 L2194.49 1931.2 L2194.49 1909.87 Q2194.49 1904.81 2192.51 1902.3 Q2190.54 1899.78 2186.59 1899.78 Q2181.85 1899.78 2179.11 1902.81 Q2176.38 1905.83 2176.38 1911.05 L2176.38 1931.2 L2170.49 1931.2 L2170.49 1895.55 L2176.38 1895.55 L2176.38 1901.09 Q2178.48 1897.87 2181.31 1896.28 Q2184.17 1894.69 2187.9 1894.69 Q2194.04 1894.69 2197.19 1898.51 Q2200.34 1902.3 2200.34 1909.68 Z\" fill=\"#000000\" fill-rule=\"evenodd\" fill-opacity=\"1\" /><path clip-path=\"url(#clip950)\" d=\"M2234.75 1896.6 L2234.75 1902.14 Q2232.27 1900.86 2229.59 1900.23 Q2226.92 1899.59 2224.06 1899.59 Q2219.7 1899.59 2217.5 1900.93 Q2215.33 1902.26 2215.33 1904.94 Q2215.33 1906.98 2216.89 1908.15 Q2218.45 1909.3 2223.16 1910.35 L2225.17 1910.79 Q2231.41 1912.13 2234.02 1914.58 Q2236.66 1917 2236.66 1921.36 Q2236.66 1926.33 2232.71 1929.22 Q2228.8 1932.12 2221.92 1932.12 Q2219.06 1932.12 2215.94 1931.55 Q2212.85 1931.01 2209.41 1929.89 L2209.41 1923.84 Q2212.66 1925.53 2215.81 1926.39 Q2218.96 1927.22 2222.05 1927.22 Q2226.19 1927.22 2228.42 1925.82 Q2230.64 1924.39 2230.64 1921.81 Q2230.64 1919.42 2229.02 1918.15 Q2227.43 1916.87 2221.99 1915.7 L2219.95 1915.22 Q2214.51 1914.07 2212.09 1911.72 Q2209.67 1909.33 2209.67 1905.19 Q2209.67 1900.16 2213.23 1897.43 Q2216.8 1894.69 2223.36 1894.69 Q2226.6 1894.69 2229.47 1895.17 Q2232.33 1895.64 2234.75 1896.6 Z\" fill=\"#000000\" fill-rule=\"evenodd\" fill-opacity=\"1\" /><polyline clip-path=\"url(#clip955)\" style=\"stroke:#000000; stroke-linecap:butt; stroke-linejoin:round; stroke-width:2; stroke-opacity:0.1; fill:none\" points=\"\n",
       "  1514.73,1735.07 2152.76,1735.07 \n",
       "  \"/>\n",
       "<polyline clip-path=\"url(#clip955)\" style=\"stroke:#000000; stroke-linecap:butt; stroke-linejoin:round; stroke-width:2; stroke-opacity:0.1; fill:none\" points=\"\n",
       "  1514.73,1624.94 2152.76,1624.94 \n",
       "  \"/>\n",
       "<polyline clip-path=\"url(#clip955)\" style=\"stroke:#000000; stroke-linecap:butt; stroke-linejoin:round; stroke-width:2; stroke-opacity:0.1; fill:none\" points=\"\n",
       "  1514.73,1514.8 2152.76,1514.8 \n",
       "  \"/>\n",
       "<polyline clip-path=\"url(#clip955)\" style=\"stroke:#000000; stroke-linecap:butt; stroke-linejoin:round; stroke-width:2; stroke-opacity:0.1; fill:none\" points=\"\n",
       "  1514.73,1404.67 2152.76,1404.67 \n",
       "  \"/>\n",
       "<polyline clip-path=\"url(#clip955)\" style=\"stroke:#000000; stroke-linecap:butt; stroke-linejoin:round; stroke-width:2; stroke-opacity:0.1; fill:none\" points=\"\n",
       "  1514.73,1294.53 2152.76,1294.53 \n",
       "  \"/>\n",
       "<polyline clip-path=\"url(#clip955)\" style=\"stroke:#000000; stroke-linecap:butt; stroke-linejoin:round; stroke-width:2; stroke-opacity:0.1; fill:none\" points=\"\n",
       "  1514.73,1184.39 2152.76,1184.39 \n",
       "  \"/>\n",
       "<polyline clip-path=\"url(#clip955)\" style=\"stroke:#000000; stroke-linecap:butt; stroke-linejoin:round; stroke-width:2; stroke-opacity:0.1; fill:none\" points=\"\n",
       "  1514.73,1074.26 2152.76,1074.26 \n",
       "  \"/>\n",
       "<polyline clip-path=\"url(#clip950)\" style=\"stroke:#000000; stroke-linecap:butt; stroke-linejoin:round; stroke-width:4; stroke-opacity:1; fill:none\" points=\"\n",
       "  1514.73,1789.33 1514.73,1006.97 \n",
       "  \"/>\n",
       "<polyline clip-path=\"url(#clip950)\" style=\"stroke:#000000; stroke-linecap:butt; stroke-linejoin:round; stroke-width:4; stroke-opacity:1; fill:none\" points=\"\n",
       "  2152.76,1789.33 2152.76,1006.97 \n",
       "  \"/>\n",
       "<polyline clip-path=\"url(#clip950)\" style=\"stroke:#000000; stroke-linecap:butt; stroke-linejoin:round; stroke-width:4; stroke-opacity:1; fill:none\" points=\"\n",
       "  1514.73,1735.07 1533.63,1735.07 \n",
       "  \"/>\n",
       "<polyline clip-path=\"url(#clip950)\" style=\"stroke:#000000; stroke-linecap:butt; stroke-linejoin:round; stroke-width:4; stroke-opacity:1; fill:none\" points=\"\n",
       "  1514.73,1624.94 1533.63,1624.94 \n",
       "  \"/>\n",
       "<polyline clip-path=\"url(#clip950)\" style=\"stroke:#000000; stroke-linecap:butt; stroke-linejoin:round; stroke-width:4; stroke-opacity:1; fill:none\" points=\"\n",
       "  1514.73,1514.8 1533.63,1514.8 \n",
       "  \"/>\n",
       "<polyline clip-path=\"url(#clip950)\" style=\"stroke:#000000; stroke-linecap:butt; stroke-linejoin:round; stroke-width:4; stroke-opacity:1; fill:none\" points=\"\n",
       "  1514.73,1404.67 1533.63,1404.67 \n",
       "  \"/>\n",
       "<polyline clip-path=\"url(#clip950)\" style=\"stroke:#000000; stroke-linecap:butt; stroke-linejoin:round; stroke-width:4; stroke-opacity:1; fill:none\" points=\"\n",
       "  1514.73,1294.53 1533.63,1294.53 \n",
       "  \"/>\n",
       "<polyline clip-path=\"url(#clip950)\" style=\"stroke:#000000; stroke-linecap:butt; stroke-linejoin:round; stroke-width:4; stroke-opacity:1; fill:none\" points=\"\n",
       "  1514.73,1184.39 1533.63,1184.39 \n",
       "  \"/>\n",
       "<polyline clip-path=\"url(#clip950)\" style=\"stroke:#000000; stroke-linecap:butt; stroke-linejoin:round; stroke-width:4; stroke-opacity:1; fill:none\" points=\"\n",
       "  1514.73,1074.26 1533.63,1074.26 \n",
       "  \"/>\n",
       "<path clip-path=\"url(#clip950)\" d=\"M1232.54 1724.24 L1254.76 1724.24 L1254.76 1726.23 L1242.22 1758.8 L1237.33 1758.8 L1249.14 1728.18 L1232.54 1728.18 L1232.54 1724.24 Z\" fill=\"#000000\" fill-rule=\"evenodd\" fill-opacity=\"1\" /><path clip-path=\"url(#clip950)\" d=\"M1263.88 1752.92 L1268.77 1752.92 L1268.77 1758.8 L1263.88 1758.8 L1263.88 1752.92 Z\" fill=\"#000000\" fill-rule=\"evenodd\" fill-opacity=\"1\" /><path clip-path=\"url(#clip950)\" d=\"M1279 1724.24 L1297.35 1724.24 L1297.35 1728.18 L1283.28 1728.18 L1283.28 1736.65 Q1284.3 1736.3 1285.32 1736.14 Q1286.34 1735.96 1287.35 1735.96 Q1293.14 1735.96 1296.52 1739.13 Q1299.9 1742.3 1299.9 1747.71 Q1299.9 1753.29 1296.43 1756.4 Q1292.96 1759.47 1286.64 1759.47 Q1284.46 1759.47 1282.19 1759.1 Q1279.95 1758.73 1277.54 1757.99 L1277.54 1753.29 Q1279.62 1754.43 1281.85 1754.98 Q1284.07 1755.54 1286.54 1755.54 Q1290.55 1755.54 1292.89 1753.43 Q1295.23 1751.33 1295.23 1747.71 Q1295.23 1744.1 1292.89 1742 Q1290.55 1739.89 1286.54 1739.89 Q1284.67 1739.89 1282.79 1740.31 Q1280.94 1740.72 1279 1741.6 L1279 1724.24 Z\" fill=\"#000000\" fill-rule=\"evenodd\" fill-opacity=\"1\" /><path clip-path=\"url(#clip950)\" d=\"M1319.11 1727.32 Q1315.5 1727.32 1313.67 1730.89 Q1311.87 1734.43 1311.87 1741.56 Q1311.87 1748.66 1313.67 1752.23 Q1315.5 1755.77 1319.11 1755.77 Q1322.75 1755.77 1324.55 1752.23 Q1326.38 1748.66 1326.38 1741.56 Q1326.38 1734.43 1324.55 1730.89 Q1322.75 1727.32 1319.11 1727.32 M1319.11 1723.62 Q1324.92 1723.62 1327.98 1728.22 Q1331.06 1732.81 1331.06 1741.56 Q1331.06 1750.28 1327.98 1754.89 Q1324.92 1759.47 1319.11 1759.47 Q1313.3 1759.47 1310.22 1754.89 Q1307.17 1750.28 1307.17 1741.56 Q1307.17 1732.81 1310.22 1728.22 Q1313.3 1723.62 1319.11 1723.62 Z\" fill=\"#000000\" fill-rule=\"evenodd\" fill-opacity=\"1\" /><path clip-path=\"url(#clip950)\" d=\"M1349.28 1727.32 Q1345.66 1727.32 1343.84 1730.89 Q1342.03 1734.43 1342.03 1741.56 Q1342.03 1748.66 1343.84 1752.23 Q1345.66 1755.77 1349.28 1755.77 Q1352.91 1755.77 1354.72 1752.23 Q1356.54 1748.66 1356.54 1741.56 Q1356.54 1734.43 1354.72 1730.89 Q1352.91 1727.32 1349.28 1727.32 M1349.28 1723.62 Q1355.09 1723.62 1358.14 1728.22 Q1361.22 1732.81 1361.22 1741.56 Q1361.22 1750.28 1358.14 1754.89 Q1355.09 1759.47 1349.28 1759.47 Q1343.47 1759.47 1340.39 1754.89 Q1337.33 1750.28 1337.33 1741.56 Q1337.33 1732.81 1340.39 1728.22 Q1343.47 1723.62 1349.28 1723.62 Z\" fill=\"#000000\" fill-rule=\"evenodd\" fill-opacity=\"1\" /><path clip-path=\"url(#clip950)\" d=\"M1397.61 1733.34 L1387.03 1743.96 L1397.61 1754.54 L1394.85 1757.34 L1384.23 1746.72 L1373.6 1757.34 L1370.87 1754.54 L1381.43 1743.96 L1370.87 1733.34 L1373.6 1730.54 L1384.23 1741.16 L1394.85 1730.54 L1397.61 1733.34 Z\" fill=\"#000000\" fill-rule=\"evenodd\" fill-opacity=\"1\" /><path clip-path=\"url(#clip950)\" d=\"M1409.97 1754.87 L1417.61 1754.87 L1417.61 1728.5 L1409.3 1730.17 L1409.3 1725.91 L1417.56 1724.24 L1422.24 1724.24 L1422.24 1754.87 L1429.88 1754.87 L1429.88 1758.8 L1409.97 1758.8 L1409.97 1754.87 Z\" fill=\"#000000\" fill-rule=\"evenodd\" fill-opacity=\"1\" /><path clip-path=\"url(#clip950)\" d=\"M1449.32 1727.32 Q1445.71 1727.32 1443.88 1730.89 Q1442.08 1734.43 1442.08 1741.56 Q1442.08 1748.66 1443.88 1752.23 Q1445.71 1755.77 1449.32 1755.77 Q1452.96 1755.77 1454.76 1752.23 Q1456.59 1748.66 1456.59 1741.56 Q1456.59 1734.43 1454.76 1730.89 Q1452.96 1727.32 1449.32 1727.32 M1449.32 1723.62 Q1455.13 1723.62 1458.19 1728.22 Q1461.27 1732.81 1461.27 1741.56 Q1461.27 1750.28 1458.19 1754.89 Q1455.13 1759.47 1449.32 1759.47 Q1443.51 1759.47 1440.43 1754.89 Q1437.38 1750.28 1437.38 1741.56 Q1437.38 1732.81 1440.43 1728.22 Q1443.51 1723.62 1449.32 1723.62 Z\" fill=\"#000000\" fill-rule=\"evenodd\" fill-opacity=\"1\" /><path clip-path=\"url(#clip950)\" d=\"M1473.94 1706.62 L1464.35 1721.61 L1473.94 1721.61 L1473.94 1706.62 M1472.95 1703.31 L1477.72 1703.31 L1477.72 1721.61 L1481.73 1721.61 L1481.73 1724.77 L1477.72 1724.77 L1477.72 1731.39 L1473.94 1731.39 L1473.94 1724.77 L1461.27 1724.77 L1461.27 1721.1 L1472.95 1703.31 Z\" fill=\"#000000\" fill-rule=\"evenodd\" fill-opacity=\"1\" /><path clip-path=\"url(#clip950)\" d=\"M1236.83 1644.73 L1244.46 1644.73 L1244.46 1618.37 L1236.15 1620.03 L1236.15 1615.77 L1244.42 1614.11 L1249.09 1614.11 L1249.09 1644.73 L1256.73 1644.73 L1256.73 1648.67 L1236.83 1648.67 L1236.83 1644.73 Z\" fill=\"#000000\" fill-rule=\"evenodd\" fill-opacity=\"1\" /><path clip-path=\"url(#clip950)\" d=\"M1266.18 1642.79 L1271.06 1642.79 L1271.06 1648.67 L1266.18 1648.67 L1266.18 1642.79 Z\" fill=\"#000000\" fill-rule=\"evenodd\" fill-opacity=\"1\" /><path clip-path=\"url(#clip950)\" d=\"M1291.25 1617.19 Q1287.64 1617.19 1285.81 1620.75 Q1284 1624.29 1284 1631.42 Q1284 1638.53 1285.81 1642.09 Q1287.64 1645.63 1291.25 1645.63 Q1294.88 1645.63 1296.69 1642.09 Q1298.51 1638.53 1298.51 1631.42 Q1298.51 1624.29 1296.69 1620.75 Q1294.88 1617.19 1291.25 1617.19 M1291.25 1613.48 Q1297.06 1613.48 1300.11 1618.09 Q1303.19 1622.67 1303.19 1631.42 Q1303.19 1640.15 1300.11 1644.75 Q1297.06 1649.34 1291.25 1649.34 Q1285.44 1649.34 1282.36 1644.75 Q1279.3 1640.15 1279.3 1631.42 Q1279.3 1622.67 1282.36 1618.09 Q1285.44 1613.48 1291.25 1613.48 Z\" fill=\"#000000\" fill-rule=\"evenodd\" fill-opacity=\"1\" /><path clip-path=\"url(#clip950)\" d=\"M1321.41 1617.19 Q1317.8 1617.19 1315.97 1620.75 Q1314.16 1624.29 1314.16 1631.42 Q1314.16 1638.53 1315.97 1642.09 Q1317.8 1645.63 1321.41 1645.63 Q1325.04 1645.63 1326.85 1642.09 Q1328.68 1638.53 1328.68 1631.42 Q1328.68 1624.29 1326.85 1620.75 Q1325.04 1617.19 1321.41 1617.19 M1321.41 1613.48 Q1327.22 1613.48 1330.27 1618.09 Q1333.35 1622.67 1333.35 1631.42 Q1333.35 1640.15 1330.27 1644.75 Q1327.22 1649.34 1321.41 1649.34 Q1315.6 1649.34 1312.52 1644.75 Q1309.46 1640.15 1309.46 1631.42 Q1309.46 1622.67 1312.52 1618.09 Q1315.6 1613.48 1321.41 1613.48 Z\" fill=\"#000000\" fill-rule=\"evenodd\" fill-opacity=\"1\" /><path clip-path=\"url(#clip950)\" d=\"M1351.57 1617.19 Q1347.96 1617.19 1346.13 1620.75 Q1344.32 1624.29 1344.32 1631.42 Q1344.32 1638.53 1346.13 1642.09 Q1347.96 1645.63 1351.57 1645.63 Q1355.2 1645.63 1357.01 1642.09 Q1358.84 1638.53 1358.84 1631.42 Q1358.84 1624.29 1357.01 1620.75 Q1355.2 1617.19 1351.57 1617.19 M1351.57 1613.48 Q1357.38 1613.48 1360.44 1618.09 Q1363.51 1622.67 1363.51 1631.42 Q1363.51 1640.15 1360.44 1644.75 Q1357.38 1649.34 1351.57 1649.34 Q1345.76 1649.34 1342.68 1644.75 Q1339.63 1640.15 1339.63 1631.42 Q1339.63 1622.67 1342.68 1618.09 Q1345.76 1613.48 1351.57 1613.48 Z\" fill=\"#000000\" fill-rule=\"evenodd\" fill-opacity=\"1\" /><path clip-path=\"url(#clip950)\" d=\"M1399.9 1623.2 L1389.32 1633.83 L1399.9 1644.41 L1397.15 1647.21 L1386.52 1636.58 L1375.9 1647.21 L1373.17 1644.41 L1383.72 1633.83 L1373.17 1623.2 L1375.9 1620.4 L1386.52 1631.03 L1397.15 1620.4 L1399.9 1623.2 Z\" fill=\"#000000\" fill-rule=\"evenodd\" fill-opacity=\"1\" /><path clip-path=\"url(#clip950)\" d=\"M1412.26 1644.73 L1419.9 1644.73 L1419.9 1618.37 L1411.59 1620.03 L1411.59 1615.77 L1419.86 1614.11 L1424.53 1614.11 L1424.53 1644.73 L1432.17 1644.73 L1432.17 1648.67 L1412.26 1648.67 L1412.26 1644.73 Z\" fill=\"#000000\" fill-rule=\"evenodd\" fill-opacity=\"1\" /><path clip-path=\"url(#clip950)\" d=\"M1451.62 1617.19 Q1448 1617.19 1446.18 1620.75 Q1444.37 1624.29 1444.37 1631.42 Q1444.37 1638.53 1446.18 1642.09 Q1448 1645.63 1451.62 1645.63 Q1455.25 1645.63 1457.06 1642.09 Q1458.88 1638.53 1458.88 1631.42 Q1458.88 1624.29 1457.06 1620.75 Q1455.25 1617.19 1451.62 1617.19 M1451.62 1613.48 Q1457.43 1613.48 1460.48 1618.09 Q1463.56 1622.67 1463.56 1631.42 Q1463.56 1640.15 1460.48 1644.75 Q1457.43 1649.34 1451.62 1649.34 Q1445.81 1649.34 1442.73 1644.75 Q1439.67 1640.15 1439.67 1631.42 Q1439.67 1622.67 1442.73 1618.09 Q1445.81 1613.48 1451.62 1613.48 Z\" fill=\"#000000\" fill-rule=\"evenodd\" fill-opacity=\"1\" /><path clip-path=\"url(#clip950)\" d=\"M1464.75 1593.18 L1479.66 1593.18 L1479.66 1596.37 L1468.22 1596.37 L1468.22 1603.26 Q1469.05 1602.97 1469.88 1602.84 Q1470.71 1602.69 1471.53 1602.69 Q1476.24 1602.69 1478.98 1605.27 Q1481.73 1607.85 1481.73 1612.25 Q1481.73 1616.78 1478.91 1619.3 Q1476.09 1621.8 1470.95 1621.8 Q1469.18 1621.8 1467.34 1621.5 Q1465.52 1621.2 1463.56 1620.6 L1463.56 1616.78 Q1465.25 1617.7 1467.06 1618.15 Q1468.86 1618.6 1470.88 1618.6 Q1474.13 1618.6 1476.03 1616.89 Q1477.93 1615.18 1477.93 1612.25 Q1477.93 1609.31 1476.03 1607.6 Q1474.13 1605.89 1470.88 1605.89 Q1469.35 1605.89 1467.83 1606.23 Q1466.33 1606.57 1464.75 1607.28 L1464.75 1593.18 Z\" fill=\"#000000\" fill-rule=\"evenodd\" fill-opacity=\"1\" /><path clip-path=\"url(#clip950)\" d=\"M1236.83 1534.6 L1244.46 1534.6 L1244.46 1508.23 L1236.15 1509.9 L1236.15 1505.64 L1244.42 1503.97 L1249.09 1503.97 L1249.09 1534.6 L1256.73 1534.6 L1256.73 1538.53 L1236.83 1538.53 L1236.83 1534.6 Z\" fill=\"#000000\" fill-rule=\"evenodd\" fill-opacity=\"1\" /><path clip-path=\"url(#clip950)\" d=\"M1266.18 1532.65 L1271.06 1532.65 L1271.06 1538.53 L1266.18 1538.53 L1266.18 1532.65 Z\" fill=\"#000000\" fill-rule=\"evenodd\" fill-opacity=\"1\" /><path clip-path=\"url(#clip950)\" d=\"M1285.27 1534.6 L1301.59 1534.6 L1301.59 1538.53 L1279.65 1538.53 L1279.65 1534.6 Q1282.31 1531.84 1286.89 1527.21 Q1291.5 1522.56 1292.68 1521.22 Q1294.93 1518.69 1295.81 1516.96 Q1296.71 1515.2 1296.71 1513.51 Q1296.71 1510.75 1294.76 1509.02 Q1292.84 1507.28 1289.74 1507.28 Q1287.54 1507.28 1285.09 1508.04 Q1282.66 1508.81 1279.88 1510.36 L1279.88 1505.64 Q1282.7 1504.5 1285.16 1503.92 Q1287.61 1503.35 1289.65 1503.35 Q1295.02 1503.35 1298.21 1506.03 Q1301.41 1508.72 1301.41 1513.21 Q1301.41 1515.34 1300.6 1517.26 Q1299.81 1519.16 1297.7 1521.75 Q1297.13 1522.42 1294.02 1525.64 Q1290.92 1528.83 1285.27 1534.6 Z\" fill=\"#000000\" fill-rule=\"evenodd\" fill-opacity=\"1\" /><path clip-path=\"url(#clip950)\" d=\"M1311.45 1503.97 L1329.81 1503.97 L1329.81 1507.91 L1315.74 1507.91 L1315.74 1516.38 Q1316.76 1516.03 1317.77 1515.87 Q1318.79 1515.68 1319.81 1515.68 Q1325.6 1515.68 1328.98 1518.85 Q1332.36 1522.03 1332.36 1527.44 Q1332.36 1533.02 1328.89 1536.12 Q1325.41 1539.2 1319.09 1539.2 Q1316.92 1539.2 1314.65 1538.83 Q1312.4 1538.46 1310 1537.72 L1310 1533.02 Q1312.08 1534.16 1314.3 1534.71 Q1316.52 1535.27 1319 1535.27 Q1323.01 1535.27 1325.34 1533.16 Q1327.68 1531.05 1327.68 1527.44 Q1327.68 1523.83 1325.34 1521.72 Q1323.01 1519.62 1319 1519.62 Q1317.13 1519.62 1315.25 1520.04 Q1313.4 1520.45 1311.45 1521.33 L1311.45 1503.97 Z\" fill=\"#000000\" fill-rule=\"evenodd\" fill-opacity=\"1\" /><path clip-path=\"url(#clip950)\" d=\"M1351.57 1507.05 Q1347.96 1507.05 1346.13 1510.61 Q1344.32 1514.16 1344.32 1521.29 Q1344.32 1528.39 1346.13 1531.96 Q1347.96 1535.5 1351.57 1535.5 Q1355.2 1535.5 1357.01 1531.96 Q1358.84 1528.39 1358.84 1521.29 Q1358.84 1514.16 1357.01 1510.61 Q1355.2 1507.05 1351.57 1507.05 M1351.57 1503.35 Q1357.38 1503.35 1360.44 1507.95 Q1363.51 1512.54 1363.51 1521.29 Q1363.51 1530.01 1360.44 1534.62 Q1357.38 1539.2 1351.57 1539.2 Q1345.76 1539.2 1342.68 1534.62 Q1339.63 1530.01 1339.63 1521.29 Q1339.63 1512.54 1342.68 1507.95 Q1345.76 1503.35 1351.57 1503.35 Z\" fill=\"#000000\" fill-rule=\"evenodd\" fill-opacity=\"1\" /><path clip-path=\"url(#clip950)\" d=\"M1399.9 1513.07 L1389.32 1523.69 L1399.9 1534.27 L1397.15 1537.07 L1386.52 1526.45 L1375.9 1537.07 L1373.17 1534.27 L1383.72 1523.69 L1373.17 1513.07 L1375.9 1510.27 L1386.52 1520.89 L1397.15 1510.27 L1399.9 1513.07 Z\" fill=\"#000000\" fill-rule=\"evenodd\" fill-opacity=\"1\" /><path clip-path=\"url(#clip950)\" d=\"M1412.26 1534.6 L1419.9 1534.6 L1419.9 1508.23 L1411.59 1509.9 L1411.59 1505.64 L1419.86 1503.97 L1424.53 1503.97 L1424.53 1534.6 L1432.17 1534.6 L1432.17 1538.53 L1412.26 1538.53 L1412.26 1534.6 Z\" fill=\"#000000\" fill-rule=\"evenodd\" fill-opacity=\"1\" /><path clip-path=\"url(#clip950)\" d=\"M1451.62 1507.05 Q1448 1507.05 1446.18 1510.61 Q1444.37 1514.16 1444.37 1521.29 Q1444.37 1528.39 1446.18 1531.96 Q1448 1535.5 1451.62 1535.5 Q1455.25 1535.5 1457.06 1531.96 Q1458.88 1528.39 1458.88 1521.29 Q1458.88 1514.16 1457.06 1510.61 Q1455.25 1507.05 1451.62 1507.05 M1451.62 1503.35 Q1457.43 1503.35 1460.48 1507.95 Q1463.56 1512.54 1463.56 1521.29 Q1463.56 1530.01 1460.48 1534.62 Q1457.43 1539.2 1451.62 1539.2 Q1445.81 1539.2 1442.73 1534.62 Q1439.67 1530.01 1439.67 1521.29 Q1439.67 1512.54 1442.73 1507.95 Q1445.81 1503.35 1451.62 1503.35 Z\" fill=\"#000000\" fill-rule=\"evenodd\" fill-opacity=\"1\" /><path clip-path=\"url(#clip950)\" d=\"M1464.75 1483.04 L1479.66 1483.04 L1479.66 1486.24 L1468.22 1486.24 L1468.22 1493.12 Q1469.05 1492.84 1469.88 1492.71 Q1470.71 1492.56 1471.53 1492.56 Q1476.24 1492.56 1478.98 1495.13 Q1481.73 1497.71 1481.73 1502.11 Q1481.73 1506.64 1478.91 1509.16 Q1476.09 1511.67 1470.95 1511.67 Q1469.18 1511.67 1467.34 1511.36 Q1465.52 1511.06 1463.56 1510.46 L1463.56 1506.64 Q1465.25 1507.57 1467.06 1508.02 Q1468.86 1508.47 1470.88 1508.47 Q1474.13 1508.47 1476.03 1506.76 Q1477.93 1505.05 1477.93 1502.11 Q1477.93 1499.18 1476.03 1497.47 Q1474.13 1495.75 1470.88 1495.75 Q1469.35 1495.75 1467.83 1496.09 Q1466.33 1496.43 1464.75 1497.15 L1464.75 1483.04 Z\" fill=\"#000000\" fill-rule=\"evenodd\" fill-opacity=\"1\" /><path clip-path=\"url(#clip950)\" d=\"M1236.83 1424.46 L1244.46 1424.46 L1244.46 1398.09 L1236.15 1399.76 L1236.15 1395.5 L1244.42 1393.83 L1249.09 1393.83 L1249.09 1424.46 L1256.73 1424.46 L1256.73 1428.39 L1236.83 1428.39 L1236.83 1424.46 Z\" fill=\"#000000\" fill-rule=\"evenodd\" fill-opacity=\"1\" /><path clip-path=\"url(#clip950)\" d=\"M1266.18 1422.51 L1271.06 1422.51 L1271.06 1428.39 L1266.18 1428.39 L1266.18 1422.51 Z\" fill=\"#000000\" fill-rule=\"evenodd\" fill-opacity=\"1\" /><path clip-path=\"url(#clip950)\" d=\"M1281.29 1393.83 L1299.65 1393.83 L1299.65 1397.77 L1285.58 1397.77 L1285.58 1406.24 Q1286.59 1405.89 1287.61 1405.73 Q1288.63 1405.55 1289.65 1405.55 Q1295.44 1405.55 1298.82 1408.72 Q1302.2 1411.89 1302.2 1417.31 Q1302.2 1422.89 1298.72 1425.99 Q1295.25 1429.07 1288.93 1429.07 Q1286.76 1429.07 1284.49 1428.7 Q1282.24 1428.32 1279.83 1427.58 L1279.83 1422.89 Q1281.92 1424.02 1284.14 1424.57 Q1286.36 1425.13 1288.84 1425.13 Q1292.84 1425.13 1295.18 1423.02 Q1297.52 1420.92 1297.52 1417.31 Q1297.52 1413.7 1295.18 1411.59 Q1292.84 1409.48 1288.84 1409.48 Q1286.96 1409.48 1285.09 1409.9 Q1283.24 1410.32 1281.29 1411.2 L1281.29 1393.83 Z\" fill=\"#000000\" fill-rule=\"evenodd\" fill-opacity=\"1\" /><path clip-path=\"url(#clip950)\" d=\"M1321.41 1396.91 Q1317.8 1396.91 1315.97 1400.48 Q1314.16 1404.02 1314.16 1411.15 Q1314.16 1418.26 1315.97 1421.82 Q1317.8 1425.36 1321.41 1425.36 Q1325.04 1425.36 1326.85 1421.82 Q1328.68 1418.26 1328.68 1411.15 Q1328.68 1404.02 1326.85 1400.48 Q1325.04 1396.91 1321.41 1396.91 M1321.41 1393.21 Q1327.22 1393.21 1330.27 1397.82 Q1333.35 1402.4 1333.35 1411.15 Q1333.35 1419.88 1330.27 1424.48 Q1327.22 1429.07 1321.41 1429.07 Q1315.6 1429.07 1312.52 1424.48 Q1309.46 1419.88 1309.46 1411.15 Q1309.46 1402.4 1312.52 1397.82 Q1315.6 1393.21 1321.41 1393.21 Z\" fill=\"#000000\" fill-rule=\"evenodd\" fill-opacity=\"1\" /><path clip-path=\"url(#clip950)\" d=\"M1351.57 1396.91 Q1347.96 1396.91 1346.13 1400.48 Q1344.32 1404.02 1344.32 1411.15 Q1344.32 1418.26 1346.13 1421.82 Q1347.96 1425.36 1351.57 1425.36 Q1355.2 1425.36 1357.01 1421.82 Q1358.84 1418.26 1358.84 1411.15 Q1358.84 1404.02 1357.01 1400.48 Q1355.2 1396.91 1351.57 1396.91 M1351.57 1393.21 Q1357.38 1393.21 1360.44 1397.82 Q1363.51 1402.4 1363.51 1411.15 Q1363.51 1419.88 1360.44 1424.48 Q1357.38 1429.07 1351.57 1429.07 Q1345.76 1429.07 1342.68 1424.48 Q1339.63 1419.88 1339.63 1411.15 Q1339.63 1402.4 1342.68 1397.82 Q1345.76 1393.21 1351.57 1393.21 Z\" fill=\"#000000\" fill-rule=\"evenodd\" fill-opacity=\"1\" /><path clip-path=\"url(#clip950)\" d=\"M1399.9 1402.93 L1389.32 1413.56 L1399.9 1424.14 L1397.15 1426.94 L1386.52 1416.31 L1375.9 1426.94 L1373.17 1424.14 L1383.72 1413.56 L1373.17 1402.93 L1375.9 1400.13 L1386.52 1410.76 L1397.15 1400.13 L1399.9 1402.93 Z\" fill=\"#000000\" fill-rule=\"evenodd\" fill-opacity=\"1\" /><path clip-path=\"url(#clip950)\" d=\"M1412.26 1424.46 L1419.9 1424.46 L1419.9 1398.09 L1411.59 1399.76 L1411.59 1395.5 L1419.86 1393.83 L1424.53 1393.83 L1424.53 1424.46 L1432.17 1424.46 L1432.17 1428.39 L1412.26 1428.39 L1412.26 1424.46 Z\" fill=\"#000000\" fill-rule=\"evenodd\" fill-opacity=\"1\" /><path clip-path=\"url(#clip950)\" d=\"M1451.62 1396.91 Q1448 1396.91 1446.18 1400.48 Q1444.37 1404.02 1444.37 1411.15 Q1444.37 1418.26 1446.18 1421.82 Q1448 1425.36 1451.62 1425.36 Q1455.25 1425.36 1457.06 1421.82 Q1458.88 1418.26 1458.88 1411.15 Q1458.88 1404.02 1457.06 1400.48 Q1455.25 1396.91 1451.62 1396.91 M1451.62 1393.21 Q1457.43 1393.21 1460.48 1397.82 Q1463.56 1402.4 1463.56 1411.15 Q1463.56 1419.88 1460.48 1424.48 Q1457.43 1429.07 1451.62 1429.07 Q1445.81 1429.07 1442.73 1424.48 Q1439.67 1419.88 1439.67 1411.15 Q1439.67 1402.4 1442.73 1397.82 Q1445.81 1393.21 1451.62 1393.21 Z\" fill=\"#000000\" fill-rule=\"evenodd\" fill-opacity=\"1\" /><path clip-path=\"url(#clip950)\" d=\"M1464.75 1372.9 L1479.66 1372.9 L1479.66 1376.1 L1468.22 1376.1 L1468.22 1382.98 Q1469.05 1382.7 1469.88 1382.57 Q1470.71 1382.42 1471.53 1382.42 Q1476.24 1382.42 1478.98 1385 Q1481.73 1387.57 1481.73 1391.97 Q1481.73 1396.51 1478.91 1399.03 Q1476.09 1401.53 1470.95 1401.53 Q1469.18 1401.53 1467.34 1401.23 Q1465.52 1400.93 1463.56 1400.33 L1463.56 1396.51 Q1465.25 1397.43 1467.06 1397.88 Q1468.86 1398.33 1470.88 1398.33 Q1474.13 1398.33 1476.03 1396.62 Q1477.93 1394.91 1477.93 1391.97 Q1477.93 1389.04 1476.03 1387.33 Q1474.13 1385.62 1470.88 1385.62 Q1469.35 1385.62 1467.83 1385.96 Q1466.33 1386.29 1464.75 1387.01 L1464.75 1372.9 Z\" fill=\"#000000\" fill-rule=\"evenodd\" fill-opacity=\"1\" /><path clip-path=\"url(#clip950)\" d=\"M1236.83 1314.32 L1244.46 1314.32 L1244.46 1287.96 L1236.15 1289.62 L1236.15 1285.36 L1244.42 1283.7 L1249.09 1283.7 L1249.09 1314.32 L1256.73 1314.32 L1256.73 1318.26 L1236.83 1318.26 L1236.83 1314.32 Z\" fill=\"#000000\" fill-rule=\"evenodd\" fill-opacity=\"1\" /><path clip-path=\"url(#clip950)\" d=\"M1266.18 1312.38 L1271.06 1312.38 L1271.06 1318.26 L1266.18 1318.26 L1266.18 1312.38 Z\" fill=\"#000000\" fill-rule=\"evenodd\" fill-opacity=\"1\" /><path clip-path=\"url(#clip950)\" d=\"M1280.07 1283.7 L1302.29 1283.7 L1302.29 1285.69 L1289.74 1318.26 L1284.86 1318.26 L1296.66 1287.63 L1280.07 1287.63 L1280.07 1283.7 Z\" fill=\"#000000\" fill-rule=\"evenodd\" fill-opacity=\"1\" /><path clip-path=\"url(#clip950)\" d=\"M1311.45 1283.7 L1329.81 1283.7 L1329.81 1287.63 L1315.74 1287.63 L1315.74 1296.11 Q1316.76 1295.76 1317.77 1295.6 Q1318.79 1295.41 1319.81 1295.41 Q1325.6 1295.41 1328.98 1298.58 Q1332.36 1301.75 1332.36 1307.17 Q1332.36 1312.75 1328.89 1315.85 Q1325.41 1318.93 1319.09 1318.93 Q1316.92 1318.93 1314.65 1318.56 Q1312.4 1318.19 1310 1317.45 L1310 1312.75 Q1312.08 1313.88 1314.3 1314.44 Q1316.52 1314.99 1319 1314.99 Q1323.01 1314.99 1325.34 1312.89 Q1327.68 1310.78 1327.68 1307.17 Q1327.68 1303.56 1325.34 1301.45 Q1323.01 1299.35 1319 1299.35 Q1317.13 1299.35 1315.25 1299.76 Q1313.4 1300.18 1311.45 1301.06 L1311.45 1283.7 Z\" fill=\"#000000\" fill-rule=\"evenodd\" fill-opacity=\"1\" /><path clip-path=\"url(#clip950)\" d=\"M1351.57 1286.78 Q1347.96 1286.78 1346.13 1290.34 Q1344.32 1293.88 1344.32 1301.01 Q1344.32 1308.12 1346.13 1311.68 Q1347.96 1315.23 1351.57 1315.23 Q1355.2 1315.23 1357.01 1311.68 Q1358.84 1308.12 1358.84 1301.01 Q1358.84 1293.88 1357.01 1290.34 Q1355.2 1286.78 1351.57 1286.78 M1351.57 1283.07 Q1357.38 1283.07 1360.44 1287.68 Q1363.51 1292.26 1363.51 1301.01 Q1363.51 1309.74 1360.44 1314.35 Q1357.38 1318.93 1351.57 1318.93 Q1345.76 1318.93 1342.68 1314.35 Q1339.63 1309.74 1339.63 1301.01 Q1339.63 1292.26 1342.68 1287.68 Q1345.76 1283.07 1351.57 1283.07 Z\" fill=\"#000000\" fill-rule=\"evenodd\" fill-opacity=\"1\" /><path clip-path=\"url(#clip950)\" d=\"M1399.9 1292.8 L1389.32 1303.42 L1399.9 1314 L1397.15 1316.8 L1386.52 1306.17 L1375.9 1316.8 L1373.17 1314 L1383.72 1303.42 L1373.17 1292.8 L1375.9 1289.99 L1386.52 1300.62 L1397.15 1289.99 L1399.9 1292.8 Z\" fill=\"#000000\" fill-rule=\"evenodd\" fill-opacity=\"1\" /><path clip-path=\"url(#clip950)\" d=\"M1412.26 1314.32 L1419.9 1314.32 L1419.9 1287.96 L1411.59 1289.62 L1411.59 1285.36 L1419.86 1283.7 L1424.53 1283.7 L1424.53 1314.32 L1432.17 1314.32 L1432.17 1318.26 L1412.26 1318.26 L1412.26 1314.32 Z\" fill=\"#000000\" fill-rule=\"evenodd\" fill-opacity=\"1\" /><path clip-path=\"url(#clip950)\" d=\"M1451.62 1286.78 Q1448 1286.78 1446.18 1290.34 Q1444.37 1293.88 1444.37 1301.01 Q1444.37 1308.12 1446.18 1311.68 Q1448 1315.23 1451.62 1315.23 Q1455.25 1315.23 1457.06 1311.68 Q1458.88 1308.12 1458.88 1301.01 Q1458.88 1293.88 1457.06 1290.34 Q1455.25 1286.78 1451.62 1286.78 M1451.62 1283.07 Q1457.43 1283.07 1460.48 1287.68 Q1463.56 1292.26 1463.56 1301.01 Q1463.56 1309.74 1460.48 1314.35 Q1457.43 1318.93 1451.62 1318.93 Q1445.81 1318.93 1442.73 1314.35 Q1439.67 1309.74 1439.67 1301.01 Q1439.67 1292.26 1442.73 1287.68 Q1445.81 1283.07 1451.62 1283.07 Z\" fill=\"#000000\" fill-rule=\"evenodd\" fill-opacity=\"1\" /><path clip-path=\"url(#clip950)\" d=\"M1464.75 1262.77 L1479.66 1262.77 L1479.66 1265.97 L1468.22 1265.97 L1468.22 1272.85 Q1469.05 1272.57 1469.88 1272.43 Q1470.71 1272.28 1471.53 1272.28 Q1476.24 1272.28 1478.98 1274.86 Q1481.73 1277.44 1481.73 1281.84 Q1481.73 1286.37 1478.91 1288.89 Q1476.09 1291.39 1470.95 1291.39 Q1469.18 1291.39 1467.34 1291.09 Q1465.52 1290.79 1463.56 1290.19 L1463.56 1286.37 Q1465.25 1287.29 1467.06 1287.74 Q1468.86 1288.2 1470.88 1288.2 Q1474.13 1288.2 1476.03 1286.48 Q1477.93 1284.77 1477.93 1281.84 Q1477.93 1278.9 1476.03 1277.19 Q1474.13 1275.48 1470.88 1275.48 Q1469.35 1275.48 1467.83 1275.82 Q1466.33 1276.16 1464.75 1276.87 L1464.75 1262.77 Z\" fill=\"#000000\" fill-rule=\"evenodd\" fill-opacity=\"1\" /><path clip-path=\"url(#clip950)\" d=\"M1240.04 1204.19 L1256.36 1204.19 L1256.36 1208.12 L1234.42 1208.12 L1234.42 1204.19 Q1237.08 1201.43 1241.66 1196.8 Q1246.27 1192.15 1247.45 1190.81 Q1249.7 1188.28 1250.58 1186.55 Q1251.48 1184.79 1251.48 1183.1 Q1251.48 1180.34 1249.53 1178.61 Q1247.61 1176.87 1244.51 1176.87 Q1242.31 1176.87 1239.86 1177.64 Q1237.43 1178.4 1234.65 1179.95 L1234.65 1175.23 Q1237.47 1174.09 1239.93 1173.52 Q1242.38 1172.94 1244.42 1172.94 Q1249.79 1172.94 1252.98 1175.62 Q1256.18 1178.31 1256.18 1182.8 Q1256.18 1184.93 1255.37 1186.85 Q1254.58 1188.75 1252.47 1191.34 Q1251.89 1192.01 1248.79 1195.23 Q1245.69 1198.42 1240.04 1204.19 Z\" fill=\"#000000\" fill-rule=\"evenodd\" fill-opacity=\"1\" /><path clip-path=\"url(#clip950)\" d=\"M1266.18 1202.24 L1271.06 1202.24 L1271.06 1208.12 L1266.18 1208.12 L1266.18 1202.24 Z\" fill=\"#000000\" fill-rule=\"evenodd\" fill-opacity=\"1\" /><path clip-path=\"url(#clip950)\" d=\"M1291.25 1176.64 Q1287.64 1176.64 1285.81 1180.21 Q1284 1183.75 1284 1190.88 Q1284 1197.98 1285.81 1201.55 Q1287.64 1205.09 1291.25 1205.09 Q1294.88 1205.09 1296.69 1201.55 Q1298.51 1197.98 1298.51 1190.88 Q1298.51 1183.75 1296.69 1180.21 Q1294.88 1176.64 1291.25 1176.64 M1291.25 1172.94 Q1297.06 1172.94 1300.11 1177.54 Q1303.19 1182.13 1303.19 1190.88 Q1303.19 1199.6 1300.11 1204.21 Q1297.06 1208.79 1291.25 1208.79 Q1285.44 1208.79 1282.36 1204.21 Q1279.3 1199.6 1279.3 1190.88 Q1279.3 1182.13 1282.36 1177.54 Q1285.44 1172.94 1291.25 1172.94 Z\" fill=\"#000000\" fill-rule=\"evenodd\" fill-opacity=\"1\" /><path clip-path=\"url(#clip950)\" d=\"M1321.41 1176.64 Q1317.8 1176.64 1315.97 1180.21 Q1314.16 1183.75 1314.16 1190.88 Q1314.16 1197.98 1315.97 1201.55 Q1317.8 1205.09 1321.41 1205.09 Q1325.04 1205.09 1326.85 1201.55 Q1328.68 1197.98 1328.68 1190.88 Q1328.68 1183.75 1326.85 1180.21 Q1325.04 1176.64 1321.41 1176.64 M1321.41 1172.94 Q1327.22 1172.94 1330.27 1177.54 Q1333.35 1182.13 1333.35 1190.88 Q1333.35 1199.6 1330.27 1204.21 Q1327.22 1208.79 1321.41 1208.79 Q1315.6 1208.79 1312.52 1204.21 Q1309.46 1199.6 1309.46 1190.88 Q1309.46 1182.13 1312.52 1177.54 Q1315.6 1172.94 1321.41 1172.94 Z\" fill=\"#000000\" fill-rule=\"evenodd\" fill-opacity=\"1\" /><path clip-path=\"url(#clip950)\" d=\"M1351.57 1176.64 Q1347.96 1176.64 1346.13 1180.21 Q1344.32 1183.75 1344.32 1190.88 Q1344.32 1197.98 1346.13 1201.55 Q1347.96 1205.09 1351.57 1205.09 Q1355.2 1205.09 1357.01 1201.55 Q1358.84 1197.98 1358.84 1190.88 Q1358.84 1183.75 1357.01 1180.21 Q1355.2 1176.64 1351.57 1176.64 M1351.57 1172.94 Q1357.38 1172.94 1360.44 1177.54 Q1363.51 1182.13 1363.51 1190.88 Q1363.51 1199.6 1360.44 1204.21 Q1357.38 1208.79 1351.57 1208.79 Q1345.76 1208.79 1342.68 1204.21 Q1339.63 1199.6 1339.63 1190.88 Q1339.63 1182.13 1342.68 1177.54 Q1345.76 1172.94 1351.57 1172.94 Z\" fill=\"#000000\" fill-rule=\"evenodd\" fill-opacity=\"1\" /><path clip-path=\"url(#clip950)\" d=\"M1399.9 1182.66 L1389.32 1193.28 L1399.9 1203.86 L1397.15 1206.66 L1386.52 1196.04 L1375.9 1206.66 L1373.17 1203.86 L1383.72 1193.28 L1373.17 1182.66 L1375.9 1179.86 L1386.52 1190.48 L1397.15 1179.86 L1399.9 1182.66 Z\" fill=\"#000000\" fill-rule=\"evenodd\" fill-opacity=\"1\" /><path clip-path=\"url(#clip950)\" d=\"M1412.26 1204.19 L1419.9 1204.19 L1419.9 1177.82 L1411.59 1179.49 L1411.59 1175.23 L1419.86 1173.56 L1424.53 1173.56 L1424.53 1204.19 L1432.17 1204.19 L1432.17 1208.12 L1412.26 1208.12 L1412.26 1204.19 Z\" fill=\"#000000\" fill-rule=\"evenodd\" fill-opacity=\"1\" /><path clip-path=\"url(#clip950)\" d=\"M1451.62 1176.64 Q1448 1176.64 1446.18 1180.21 Q1444.37 1183.75 1444.37 1190.88 Q1444.37 1197.98 1446.18 1201.55 Q1448 1205.09 1451.62 1205.09 Q1455.25 1205.09 1457.06 1201.55 Q1458.88 1197.98 1458.88 1190.88 Q1458.88 1183.75 1457.06 1180.21 Q1455.25 1176.64 1451.62 1176.64 M1451.62 1172.94 Q1457.43 1172.94 1460.48 1177.54 Q1463.56 1182.13 1463.56 1190.88 Q1463.56 1199.6 1460.48 1204.21 Q1457.43 1208.79 1451.62 1208.79 Q1445.81 1208.79 1442.73 1204.21 Q1439.67 1199.6 1439.67 1190.88 Q1439.67 1182.13 1442.73 1177.54 Q1445.81 1172.94 1451.62 1172.94 Z\" fill=\"#000000\" fill-rule=\"evenodd\" fill-opacity=\"1\" /><path clip-path=\"url(#clip950)\" d=\"M1464.75 1152.63 L1479.66 1152.63 L1479.66 1155.83 L1468.22 1155.83 L1468.22 1162.71 Q1469.05 1162.43 1469.88 1162.3 Q1470.71 1162.15 1471.53 1162.15 Q1476.24 1162.15 1478.98 1164.73 Q1481.73 1167.3 1481.73 1171.7 Q1481.73 1176.24 1478.91 1178.76 Q1476.09 1181.26 1470.95 1181.26 Q1469.18 1181.26 1467.34 1180.96 Q1465.52 1180.66 1463.56 1180.05 L1463.56 1176.24 Q1465.25 1177.16 1467.06 1177.61 Q1468.86 1178.06 1470.88 1178.06 Q1474.13 1178.06 1476.03 1176.35 Q1477.93 1174.64 1477.93 1171.7 Q1477.93 1168.77 1476.03 1167.06 Q1474.13 1165.35 1470.88 1165.35 Q1469.35 1165.35 1467.83 1165.68 Q1466.33 1166.02 1464.75 1166.74 L1464.75 1152.63 Z\" fill=\"#000000\" fill-rule=\"evenodd\" fill-opacity=\"1\" /><path clip-path=\"url(#clip950)\" d=\"M1240.04 1094.05 L1256.36 1094.05 L1256.36 1097.99 L1234.42 1097.99 L1234.42 1094.05 Q1237.08 1091.3 1241.66 1086.67 Q1246.27 1082.01 1247.45 1080.67 Q1249.7 1078.15 1250.58 1076.41 Q1251.48 1074.65 1251.48 1072.96 Q1251.48 1070.21 1249.53 1068.47 Q1247.61 1066.74 1244.51 1066.74 Q1242.31 1066.74 1239.86 1067.5 Q1237.43 1068.26 1234.65 1069.81 L1234.65 1065.09 Q1237.47 1063.96 1239.93 1063.38 Q1242.38 1062.8 1244.42 1062.8 Q1249.79 1062.8 1252.98 1065.49 Q1256.18 1068.17 1256.18 1072.66 Q1256.18 1074.79 1255.37 1076.71 Q1254.58 1078.61 1252.47 1081.2 Q1251.89 1081.88 1248.79 1085.09 Q1245.69 1088.29 1240.04 1094.05 Z\" fill=\"#000000\" fill-rule=\"evenodd\" fill-opacity=\"1\" /><path clip-path=\"url(#clip950)\" d=\"M1266.18 1092.11 L1271.06 1092.11 L1271.06 1097.99 L1266.18 1097.99 L1266.18 1092.11 Z\" fill=\"#000000\" fill-rule=\"evenodd\" fill-opacity=\"1\" /><path clip-path=\"url(#clip950)\" d=\"M1285.27 1094.05 L1301.59 1094.05 L1301.59 1097.99 L1279.65 1097.99 L1279.65 1094.05 Q1282.31 1091.3 1286.89 1086.67 Q1291.5 1082.01 1292.68 1080.67 Q1294.93 1078.15 1295.81 1076.41 Q1296.71 1074.65 1296.71 1072.96 Q1296.71 1070.21 1294.76 1068.47 Q1292.84 1066.74 1289.74 1066.74 Q1287.54 1066.74 1285.09 1067.5 Q1282.66 1068.26 1279.88 1069.81 L1279.88 1065.09 Q1282.7 1063.96 1285.16 1063.38 Q1287.61 1062.8 1289.65 1062.8 Q1295.02 1062.8 1298.21 1065.49 Q1301.41 1068.17 1301.41 1072.66 Q1301.41 1074.79 1300.6 1076.71 Q1299.81 1078.61 1297.7 1081.2 Q1297.13 1081.88 1294.02 1085.09 Q1290.92 1088.29 1285.27 1094.05 Z\" fill=\"#000000\" fill-rule=\"evenodd\" fill-opacity=\"1\" /><path clip-path=\"url(#clip950)\" d=\"M1311.45 1063.43 L1329.81 1063.43 L1329.81 1067.36 L1315.74 1067.36 L1315.74 1075.83 Q1316.76 1075.49 1317.77 1075.32 Q1318.79 1075.14 1319.81 1075.14 Q1325.6 1075.14 1328.98 1078.31 Q1332.36 1081.48 1332.36 1086.9 Q1332.36 1092.48 1328.89 1095.58 Q1325.41 1098.66 1319.09 1098.66 Q1316.92 1098.66 1314.65 1098.29 Q1312.4 1097.92 1310 1097.18 L1310 1092.48 Q1312.08 1093.61 1314.3 1094.17 Q1316.52 1094.72 1319 1094.72 Q1323.01 1094.72 1325.34 1092.62 Q1327.68 1090.51 1327.68 1086.9 Q1327.68 1083.29 1325.34 1081.18 Q1323.01 1079.07 1319 1079.07 Q1317.13 1079.07 1315.25 1079.49 Q1313.4 1079.91 1311.45 1080.79 L1311.45 1063.43 Z\" fill=\"#000000\" fill-rule=\"evenodd\" fill-opacity=\"1\" /><path clip-path=\"url(#clip950)\" d=\"M1351.57 1066.5 Q1347.96 1066.5 1346.13 1070.07 Q1344.32 1073.61 1344.32 1080.74 Q1344.32 1087.85 1346.13 1091.41 Q1347.96 1094.95 1351.57 1094.95 Q1355.2 1094.95 1357.01 1091.41 Q1358.84 1087.85 1358.84 1080.74 Q1358.84 1073.61 1357.01 1070.07 Q1355.2 1066.5 1351.57 1066.5 M1351.57 1062.8 Q1357.38 1062.8 1360.44 1067.41 Q1363.51 1071.99 1363.51 1080.74 Q1363.51 1089.47 1360.44 1094.07 Q1357.38 1098.66 1351.57 1098.66 Q1345.76 1098.66 1342.68 1094.07 Q1339.63 1089.47 1339.63 1080.74 Q1339.63 1071.99 1342.68 1067.41 Q1345.76 1062.8 1351.57 1062.8 Z\" fill=\"#000000\" fill-rule=\"evenodd\" fill-opacity=\"1\" /><path clip-path=\"url(#clip950)\" d=\"M1399.9 1072.52 L1389.32 1083.15 L1399.9 1093.73 L1397.15 1096.53 L1386.52 1085.9 L1375.9 1096.53 L1373.17 1093.73 L1383.72 1083.15 L1373.17 1072.52 L1375.9 1069.72 L1386.52 1080.35 L1397.15 1069.72 L1399.9 1072.52 Z\" fill=\"#000000\" fill-rule=\"evenodd\" fill-opacity=\"1\" /><path clip-path=\"url(#clip950)\" d=\"M1412.26 1094.05 L1419.9 1094.05 L1419.9 1067.69 L1411.59 1069.35 L1411.59 1065.09 L1419.86 1063.43 L1424.53 1063.43 L1424.53 1094.05 L1432.17 1094.05 L1432.17 1097.99 L1412.26 1097.99 L1412.26 1094.05 Z\" fill=\"#000000\" fill-rule=\"evenodd\" fill-opacity=\"1\" /><path clip-path=\"url(#clip950)\" d=\"M1451.62 1066.5 Q1448 1066.5 1446.18 1070.07 Q1444.37 1073.61 1444.37 1080.74 Q1444.37 1087.85 1446.18 1091.41 Q1448 1094.95 1451.62 1094.95 Q1455.25 1094.95 1457.06 1091.41 Q1458.88 1087.85 1458.88 1080.74 Q1458.88 1073.61 1457.06 1070.07 Q1455.25 1066.5 1451.62 1066.5 M1451.62 1062.8 Q1457.43 1062.8 1460.48 1067.41 Q1463.56 1071.99 1463.56 1080.74 Q1463.56 1089.47 1460.48 1094.07 Q1457.43 1098.66 1451.62 1098.66 Q1445.81 1098.66 1442.73 1094.07 Q1439.67 1089.47 1439.67 1080.74 Q1439.67 1071.99 1442.73 1067.41 Q1445.81 1062.8 1451.62 1062.8 Z\" fill=\"#000000\" fill-rule=\"evenodd\" fill-opacity=\"1\" /><path clip-path=\"url(#clip950)\" d=\"M1464.75 1042.5 L1479.66 1042.5 L1479.66 1045.69 L1468.22 1045.69 L1468.22 1052.58 Q1469.05 1052.29 1469.88 1052.16 Q1470.71 1052.01 1471.53 1052.01 Q1476.24 1052.01 1478.98 1054.59 Q1481.73 1057.17 1481.73 1061.57 Q1481.73 1066.1 1478.91 1068.62 Q1476.09 1071.12 1470.95 1071.12 Q1469.18 1071.12 1467.34 1070.82 Q1465.52 1070.52 1463.56 1069.92 L1463.56 1066.1 Q1465.25 1067.02 1467.06 1067.47 Q1468.86 1067.92 1470.88 1067.92 Q1474.13 1067.92 1476.03 1066.21 Q1477.93 1064.5 1477.93 1061.57 Q1477.93 1058.63 1476.03 1056.92 Q1474.13 1055.21 1470.88 1055.21 Q1469.35 1055.21 1467.83 1055.55 Q1466.33 1055.89 1464.75 1056.6 L1464.75 1042.5 Z\" fill=\"#000000\" fill-rule=\"evenodd\" fill-opacity=\"1\" /><path clip-path=\"url(#clip950)\" d=\"M1137.76 1705.65 L1137.76 1696.07 L1170.1 1683.94 L1137.76 1671.75 L1137.76 1662.17 L1185.28 1662.17 L1185.28 1668.44 L1143.56 1668.44 L1176.15 1680.69 L1176.15 1687.15 L1143.56 1699.41 L1185.28 1699.41 L1185.28 1705.65 L1137.76 1705.65 Z\" fill=\"#000000\" fill-rule=\"evenodd\" fill-opacity=\"1\" /><path clip-path=\"url(#clip950)\" d=\"M1166 1619.17 L1168.86 1619.17 L1168.86 1646.1 Q1174.91 1645.71 1178.09 1642.47 Q1181.24 1639.19 1181.24 1633.36 Q1181.24 1629.99 1180.41 1626.84 Q1179.59 1623.66 1177.93 1620.54 L1183.47 1620.54 Q1184.81 1623.69 1185.51 1627 Q1186.21 1630.31 1186.21 1633.71 Q1186.21 1642.24 1181.24 1647.24 Q1176.28 1652.21 1167.81 1652.21 Q1159.06 1652.21 1153.93 1647.5 Q1148.78 1642.75 1148.78 1634.73 Q1148.78 1627.54 1153.42 1623.37 Q1158.04 1619.17 1166 1619.17 M1164.28 1625.03 Q1159.47 1625.09 1156.61 1627.73 Q1153.74 1630.34 1153.74 1634.67 Q1153.74 1639.57 1156.51 1642.53 Q1159.28 1645.46 1164.31 1645.9 L1164.28 1625.03 Z\" fill=\"#000000\" fill-rule=\"evenodd\" fill-opacity=\"1\" /><path clip-path=\"url(#clip950)\" d=\"M1167.36 1593.36 Q1167.36 1600.45 1168.99 1603.19 Q1170.61 1605.93 1174.53 1605.93 Q1177.65 1605.93 1179.49 1603.89 Q1181.31 1601.82 1181.31 1598.29 Q1181.31 1593.42 1177.87 1590.49 Q1174.4 1587.53 1168.67 1587.53 L1167.36 1587.53 L1167.36 1593.36 M1164.95 1581.67 L1185.28 1581.67 L1185.28 1587.53 L1179.87 1587.53 Q1183.12 1589.54 1184.68 1592.53 Q1186.21 1595.52 1186.21 1599.85 Q1186.21 1605.32 1183.15 1608.57 Q1180.06 1611.78 1174.91 1611.78 Q1168.89 1611.78 1165.84 1607.77 Q1162.78 1603.73 1162.78 1595.74 L1162.78 1587.53 L1162.21 1587.53 Q1158.17 1587.53 1155.97 1590.2 Q1153.74 1592.85 1153.74 1597.65 Q1153.74 1600.71 1154.47 1603.6 Q1155.21 1606.5 1156.67 1609.17 L1151.26 1609.17 Q1150.02 1605.96 1149.41 1602.94 Q1148.78 1599.91 1148.78 1597.05 Q1148.78 1589.31 1152.79 1585.49 Q1156.8 1581.67 1164.95 1581.67 Z\" fill=\"#000000\" fill-rule=\"evenodd\" fill-opacity=\"1\" /><path clip-path=\"url(#clip950)\" d=\"M1163.77 1539.98 L1185.28 1539.98 L1185.28 1545.84 L1163.96 1545.84 Q1158.9 1545.84 1156.38 1547.81 Q1153.87 1549.78 1153.87 1553.73 Q1153.87 1558.47 1156.89 1561.21 Q1159.92 1563.95 1165.14 1563.95 L1185.28 1563.95 L1185.28 1569.83 L1149.64 1569.83 L1149.64 1563.95 L1155.17 1563.95 Q1151.96 1561.85 1150.37 1559.01 Q1148.78 1556.15 1148.78 1552.42 Q1148.78 1546.28 1152.6 1543.13 Q1156.38 1539.98 1163.77 1539.98 Z\" fill=\"#000000\" fill-rule=\"evenodd\" fill-opacity=\"1\" /><path clip-path=\"url(#clip950)\" d=\"M1144.1 1512.16 L1167.75 1520.88 L1167.75 1503.41 L1144.1 1512.16 M1137.76 1515.79 L1137.76 1508.5 L1185.28 1490.39 L1185.28 1497.07 L1173.09 1501.4 L1173.09 1522.82 L1185.28 1527.15 L1185.28 1533.93 L1137.76 1515.79 Z\" fill=\"#000000\" fill-rule=\"evenodd\" fill-opacity=\"1\" /><path clip-path=\"url(#clip950)\" d=\"M1167.49 1458.12 Q1161.03 1458.12 1157.37 1460.79 Q1153.68 1463.43 1153.68 1468.08 Q1153.68 1472.73 1157.37 1475.4 Q1161.03 1478.04 1167.49 1478.04 Q1173.95 1478.04 1177.65 1475.4 Q1181.31 1472.73 1181.31 1468.08 Q1181.31 1463.43 1177.65 1460.79 Q1173.95 1458.12 1167.49 1458.12 M1155.05 1478.04 Q1151.86 1476.19 1150.34 1473.39 Q1148.78 1470.56 1148.78 1466.65 Q1148.78 1460.15 1153.93 1456.11 Q1159.09 1452.04 1167.49 1452.04 Q1175.89 1452.04 1181.05 1456.11 Q1186.21 1460.15 1186.21 1466.65 Q1186.21 1470.56 1184.68 1473.39 Q1183.12 1476.19 1179.94 1478.04 L1185.28 1478.04 L1185.28 1483.93 L1135.76 1483.93 L1135.76 1478.04 L1155.05 1478.04 Z\" fill=\"#000000\" fill-rule=\"evenodd\" fill-opacity=\"1\" /><path clip-path=\"url(#clip950)\" d=\"M1150.69 1419.6 L1156.22 1419.6 Q1154.95 1422.09 1154.31 1424.76 Q1153.68 1427.43 1153.68 1430.3 Q1153.68 1434.66 1155.02 1436.85 Q1156.35 1439.02 1159.03 1439.02 Q1161.06 1439.02 1162.24 1437.46 Q1163.39 1435.9 1164.44 1431.19 L1164.88 1429.18 Q1166.22 1422.95 1168.67 1420.34 Q1171.09 1417.69 1175.45 1417.69 Q1180.41 1417.69 1183.31 1421.64 Q1186.21 1425.56 1186.21 1432.43 Q1186.21 1435.3 1185.63 1438.41 Q1185.09 1441.5 1183.98 1444.94 L1177.93 1444.94 Q1179.62 1441.69 1180.48 1438.54 Q1181.31 1435.39 1181.31 1432.3 Q1181.31 1428.17 1179.91 1425.94 Q1178.47 1423.71 1175.89 1423.71 Q1173.51 1423.71 1172.23 1425.33 Q1170.96 1426.92 1169.78 1432.37 L1169.31 1434.4 Q1168.16 1439.85 1165.81 1442.27 Q1163.42 1444.68 1159.28 1444.68 Q1154.25 1444.68 1151.51 1441.12 Q1148.78 1437.56 1148.78 1431 Q1148.78 1427.75 1149.25 1424.89 Q1149.73 1422.02 1150.69 1419.6 Z\" fill=\"#000000\" fill-rule=\"evenodd\" fill-opacity=\"1\" /><path clip-path=\"url(#clip950)\" d=\"M1153.74 1394.55 Q1153.74 1399.27 1157.43 1402 Q1161.09 1404.74 1167.49 1404.74 Q1173.89 1404.74 1177.58 1402.03 Q1181.24 1399.3 1181.24 1394.55 Q1181.24 1389.88 1177.55 1387.14 Q1173.86 1384.4 1167.49 1384.4 Q1161.16 1384.4 1157.47 1387.14 Q1153.74 1389.88 1153.74 1394.55 M1148.78 1394.55 Q1148.78 1386.92 1153.74 1382.56 Q1158.71 1378.19 1167.49 1378.19 Q1176.24 1378.19 1181.24 1382.56 Q1186.21 1386.92 1186.21 1394.55 Q1186.21 1402.23 1181.24 1406.59 Q1176.24 1410.91 1167.49 1410.91 Q1158.71 1410.91 1153.74 1406.59 Q1148.78 1402.23 1148.78 1394.55 Z\" fill=\"#000000\" fill-rule=\"evenodd\" fill-opacity=\"1\" /><path clip-path=\"url(#clip950)\" d=\"M1135.76 1368.49 L1135.76 1362.63 L1185.28 1362.63 L1185.28 1368.49 L1135.76 1368.49 Z\" fill=\"#000000\" fill-rule=\"evenodd\" fill-opacity=\"1\" /><path clip-path=\"url(#clip950)\" d=\"M1171.22 1350.98 L1149.64 1350.98 L1149.64 1345.12 L1170.99 1345.12 Q1176.05 1345.12 1178.6 1343.15 Q1181.11 1341.18 1181.11 1337.23 Q1181.11 1332.49 1178.09 1329.75 Q1175.07 1326.98 1169.85 1326.98 L1149.64 1326.98 L1149.64 1321.13 L1185.28 1321.13 L1185.28 1326.98 L1179.81 1326.98 Q1183.06 1329.12 1184.65 1331.95 Q1186.21 1334.75 1186.21 1338.47 Q1186.21 1344.62 1182.39 1347.8 Q1178.57 1350.98 1171.22 1350.98 M1148.78 1336.24 L1148.78 1336.24 Z\" fill=\"#000000\" fill-rule=\"evenodd\" fill-opacity=\"1\" /><path clip-path=\"url(#clip950)\" d=\"M1139.51 1303.27 L1149.64 1303.27 L1149.64 1291.21 L1154.19 1291.21 L1154.19 1303.27 L1173.54 1303.27 Q1177.9 1303.27 1179.14 1302.09 Q1180.38 1300.88 1180.38 1297.22 L1180.38 1291.21 L1185.28 1291.21 L1185.28 1297.22 Q1185.28 1304 1182.77 1306.58 Q1180.22 1309.16 1173.54 1309.16 L1154.19 1309.16 L1154.19 1313.46 L1149.64 1313.46 L1149.64 1309.16 L1139.51 1309.16 L1139.51 1303.27 Z\" fill=\"#000000\" fill-rule=\"evenodd\" fill-opacity=\"1\" /><path clip-path=\"url(#clip950)\" d=\"M1166 1253.01 L1168.86 1253.01 L1168.86 1279.94 Q1174.91 1279.56 1178.09 1276.31 Q1181.24 1273.03 1181.24 1267.21 Q1181.24 1263.83 1180.41 1260.68 Q1179.59 1257.5 1177.93 1254.38 L1183.47 1254.38 Q1184.81 1257.53 1185.51 1260.84 Q1186.21 1264.15 1186.21 1267.56 Q1186.21 1276.09 1181.24 1281.09 Q1176.28 1286.05 1167.81 1286.05 Q1159.06 1286.05 1153.93 1281.34 Q1148.78 1276.6 1148.78 1268.58 Q1148.78 1261.38 1153.42 1257.21 Q1158.04 1253.01 1166 1253.01 M1164.28 1258.87 Q1159.47 1258.93 1156.61 1261.58 Q1153.74 1264.19 1153.74 1268.51 Q1153.74 1273.42 1156.51 1276.38 Q1159.28 1279.3 1164.31 1279.75 L1164.28 1258.87 Z\" fill=\"#000000\" fill-rule=\"evenodd\" fill-opacity=\"1\" /><path clip-path=\"url(#clip950)\" d=\"M1137.76 1243.15 L1137.76 1213.1 L1143.18 1213.1 L1143.18 1236.72 L1157.24 1236.72 L1157.24 1214.09 L1162.65 1214.09 L1162.65 1236.72 L1179.87 1236.72 L1179.87 1212.53 L1185.28 1212.53 L1185.28 1243.15 L1137.76 1243.15 Z\" fill=\"#000000\" fill-rule=\"evenodd\" fill-opacity=\"1\" /><path clip-path=\"url(#clip950)\" d=\"M1155.11 1181.56 Q1154.54 1182.54 1154.28 1183.72 Q1154 1184.87 1154 1186.27 Q1154 1191.23 1157.24 1193.91 Q1160.46 1196.55 1166.51 1196.55 L1185.28 1196.55 L1185.28 1202.44 L1149.64 1202.44 L1149.64 1196.55 L1155.17 1196.55 Q1151.93 1194.7 1150.37 1191.74 Q1148.78 1188.78 1148.78 1184.55 Q1148.78 1183.95 1148.87 1183.21 Q1148.94 1182.48 1149.1 1181.59 L1155.11 1181.56 Z\" fill=\"#000000\" fill-rule=\"evenodd\" fill-opacity=\"1\" /><path clip-path=\"url(#clip950)\" d=\"M1155.11 1155.9 Q1154.54 1156.89 1154.28 1158.07 Q1154 1159.21 1154 1160.61 Q1154 1165.58 1157.24 1168.25 Q1160.46 1170.9 1166.51 1170.9 L1185.28 1170.9 L1185.28 1176.78 L1149.64 1176.78 L1149.64 1170.9 L1155.17 1170.9 Q1151.93 1169.05 1150.37 1166.09 Q1148.78 1163.13 1148.78 1158.9 Q1148.78 1158.29 1148.87 1157.56 Q1148.94 1156.83 1149.1 1155.94 L1155.11 1155.9 Z\" fill=\"#000000\" fill-rule=\"evenodd\" fill-opacity=\"1\" /><path clip-path=\"url(#clip950)\" d=\"M1153.74 1137.38 Q1153.74 1142.09 1157.43 1144.83 Q1161.09 1147.57 1167.49 1147.57 Q1173.89 1147.57 1177.58 1144.86 Q1181.24 1142.12 1181.24 1137.38 Q1181.24 1132.7 1177.55 1129.96 Q1173.86 1127.23 1167.49 1127.23 Q1161.16 1127.23 1157.47 1129.96 Q1153.74 1132.7 1153.74 1137.38 M1148.78 1137.38 Q1148.78 1129.74 1153.74 1125.38 Q1158.71 1121.02 1167.49 1121.02 Q1176.24 1121.02 1181.24 1125.38 Q1186.21 1129.74 1186.21 1137.38 Q1186.21 1145.05 1181.24 1149.41 Q1176.24 1153.74 1167.49 1153.74 Q1158.71 1153.74 1153.74 1149.41 Q1148.78 1145.05 1148.78 1137.38 Z\" fill=\"#000000\" fill-rule=\"evenodd\" fill-opacity=\"1\" /><path clip-path=\"url(#clip950)\" d=\"M1155.11 1090.66 Q1154.54 1091.64 1154.28 1092.82 Q1154 1093.97 1154 1095.37 Q1154 1100.33 1157.24 1103.01 Q1160.46 1105.65 1166.51 1105.65 L1185.28 1105.65 L1185.28 1111.54 L1149.64 1111.54 L1149.64 1105.65 L1155.17 1105.65 Q1151.93 1103.8 1150.37 1100.84 Q1148.78 1097.88 1148.78 1093.65 Q1148.78 1093.04 1148.87 1092.31 Q1148.94 1091.58 1149.1 1090.69 L1155.11 1090.66 Z\" fill=\"#000000\" fill-rule=\"evenodd\" fill-opacity=\"1\" /><circle clip-path=\"url(#clip955)\" cx=\"2134.7\" cy=\"1763.5\" r=\"14\" fill=\"#009af9\" fill-rule=\"evenodd\" fill-opacity=\"1\" stroke=\"#000000\" stroke-opacity=\"1\" stroke-width=\"4\"/>\n",
       "<circle clip-path=\"url(#clip955)\" cx=\"1813.68\" cy=\"1694.58\" r=\"14\" fill=\"#009af9\" fill-rule=\"evenodd\" fill-opacity=\"1\" stroke=\"#000000\" stroke-opacity=\"1\" stroke-width=\"4\"/>\n",
       "<circle clip-path=\"url(#clip955)\" cx=\"1532.79\" cy=\"1646.65\" r=\"14\" fill=\"#009af9\" fill-rule=\"evenodd\" fill-opacity=\"1\" stroke=\"#000000\" stroke-opacity=\"1\" stroke-width=\"4\"/>\n",
       "<circle clip-path=\"url(#clip955)\" cx=\"1532.79\" cy=\"1683.83\" r=\"14\" fill=\"#009af9\" fill-rule=\"evenodd\" fill-opacity=\"1\" stroke=\"#000000\" stroke-opacity=\"1\" stroke-width=\"4\"/>\n",
       "<circle clip-path=\"url(#clip955)\" cx=\"1813.68\" cy=\"1694.58\" r=\"14\" fill=\"#009af9\" fill-rule=\"evenodd\" fill-opacity=\"1\" stroke=\"#000000\" stroke-opacity=\"1\" stroke-width=\"4\"/>\n",
       "<circle clip-path=\"url(#clip955)\" cx=\"1653.17\" cy=\"1687.15\" r=\"14\" fill=\"#009af9\" fill-rule=\"evenodd\" fill-opacity=\"1\" stroke=\"#000000\" stroke-opacity=\"1\" stroke-width=\"4\"/>\n",
       "<circle clip-path=\"url(#clip955)\" cx=\"1813.68\" cy=\"1694.58\" r=\"14\" fill=\"#009af9\" fill-rule=\"evenodd\" fill-opacity=\"1\" stroke=\"#000000\" stroke-opacity=\"1\" stroke-width=\"4\"/>\n",
       "<circle clip-path=\"url(#clip955)\" cx=\"1572.91\" cy=\"1732.19\" r=\"14\" fill=\"#009af9\" fill-rule=\"evenodd\" fill-opacity=\"1\" stroke=\"#000000\" stroke-opacity=\"1\" stroke-width=\"4\"/>\n",
       "<circle clip-path=\"url(#clip955)\" cx=\"1813.68\" cy=\"1755.08\" r=\"14\" fill=\"#009af9\" fill-rule=\"evenodd\" fill-opacity=\"1\" stroke=\"#000000\" stroke-opacity=\"1\" stroke-width=\"4\"/>\n",
       "<circle clip-path=\"url(#clip955)\" cx=\"2134.7\" cy=\"1758.38\" r=\"14\" fill=\"#009af9\" fill-rule=\"evenodd\" fill-opacity=\"1\" stroke=\"#000000\" stroke-opacity=\"1\" stroke-width=\"4\"/>\n",
       "<circle clip-path=\"url(#clip955)\" cx=\"1572.91\" cy=\"1732.19\" r=\"14\" fill=\"#009af9\" fill-rule=\"evenodd\" fill-opacity=\"1\" stroke=\"#000000\" stroke-opacity=\"1\" stroke-width=\"4\"/>\n",
       "<circle clip-path=\"url(#clip955)\" cx=\"1653.17\" cy=\"1029.11\" r=\"14\" fill=\"#009af9\" fill-rule=\"evenodd\" fill-opacity=\"1\" stroke=\"#000000\" stroke-opacity=\"1\" stroke-width=\"4\"/>\n",
       "<circle clip-path=\"url(#clip955)\" cx=\"2134.7\" cy=\"1763.5\" r=\"14\" fill=\"#009af9\" fill-rule=\"evenodd\" fill-opacity=\"1\" stroke=\"#000000\" stroke-opacity=\"1\" stroke-width=\"4\"/>\n",
       "<circle clip-path=\"url(#clip955)\" cx=\"1572.91\" cy=\"1726.23\" r=\"14\" fill=\"#009af9\" fill-rule=\"evenodd\" fill-opacity=\"1\" stroke=\"#000000\" stroke-opacity=\"1\" stroke-width=\"4\"/>\n",
       "<circle clip-path=\"url(#clip955)\" cx=\"1532.79\" cy=\"1692.58\" r=\"14\" fill=\"#009af9\" fill-rule=\"evenodd\" fill-opacity=\"1\" stroke=\"#000000\" stroke-opacity=\"1\" stroke-width=\"4\"/>\n",
       "<circle clip-path=\"url(#clip955)\" cx=\"1813.68\" cy=\"1559.56\" r=\"14\" fill=\"#009af9\" fill-rule=\"evenodd\" fill-opacity=\"1\" stroke=\"#000000\" stroke-opacity=\"1\" stroke-width=\"4\"/>\n",
       "<circle clip-path=\"url(#clip955)\" cx=\"1532.79\" cy=\"1689.86\" r=\"14\" fill=\"#009af9\" fill-rule=\"evenodd\" fill-opacity=\"1\" stroke=\"#000000\" stroke-opacity=\"1\" stroke-width=\"4\"/>\n",
       "<circle clip-path=\"url(#clip955)\" cx=\"1813.68\" cy=\"1749.3\" r=\"14\" fill=\"#009af9\" fill-rule=\"evenodd\" fill-opacity=\"1\" stroke=\"#000000\" stroke-opacity=\"1\" stroke-width=\"4\"/>\n",
       "<circle clip-path=\"url(#clip955)\" cx=\"1813.68\" cy=\"1694.58\" r=\"14\" fill=\"#009af9\" fill-rule=\"evenodd\" fill-opacity=\"1\" stroke=\"#000000\" stroke-opacity=\"1\" stroke-width=\"4\"/>\n",
       "<circle clip-path=\"url(#clip955)\" cx=\"1653.17\" cy=\"1735.21\" r=\"14\" fill=\"#009af9\" fill-rule=\"evenodd\" fill-opacity=\"1\" stroke=\"#000000\" stroke-opacity=\"1\" stroke-width=\"4\"/>\n",
       "<circle clip-path=\"url(#clip955)\" cx=\"1532.79\" cy=\"1691.32\" r=\"14\" fill=\"#009af9\" fill-rule=\"evenodd\" fill-opacity=\"1\" stroke=\"#000000\" stroke-opacity=\"1\" stroke-width=\"4\"/>\n",
       "<circle clip-path=\"url(#clip955)\" cx=\"1572.91\" cy=\"1727.61\" r=\"14\" fill=\"#009af9\" fill-rule=\"evenodd\" fill-opacity=\"1\" stroke=\"#000000\" stroke-opacity=\"1\" stroke-width=\"4\"/>\n",
       "<circle clip-path=\"url(#clip955)\" cx=\"2134.7\" cy=\"1566.03\" r=\"14\" fill=\"#009af9\" fill-rule=\"evenodd\" fill-opacity=\"1\" stroke=\"#000000\" stroke-opacity=\"1\" stroke-width=\"4\"/>\n",
       "<circle clip-path=\"url(#clip955)\" cx=\"1532.79\" cy=\"1689.86\" r=\"14\" fill=\"#009af9\" fill-rule=\"evenodd\" fill-opacity=\"1\" stroke=\"#000000\" stroke-opacity=\"1\" stroke-width=\"4\"/>\n",
       "<circle clip-path=\"url(#clip955)\" cx=\"2134.7\" cy=\"1029.11\" r=\"14\" fill=\"#009af9\" fill-rule=\"evenodd\" fill-opacity=\"1\" stroke=\"#000000\" stroke-opacity=\"1\" stroke-width=\"4\"/>\n",
       "<circle clip-path=\"url(#clip955)\" cx=\"2134.7\" cy=\"1767.19\" r=\"14\" fill=\"#009af9\" fill-rule=\"evenodd\" fill-opacity=\"1\" stroke=\"#000000\" stroke-opacity=\"1\" stroke-width=\"4\"/>\n",
       "<circle clip-path=\"url(#clip955)\" cx=\"2134.7\" cy=\"1767.19\" r=\"14\" fill=\"#009af9\" fill-rule=\"evenodd\" fill-opacity=\"1\" stroke=\"#000000\" stroke-opacity=\"1\" stroke-width=\"4\"/>\n",
       "<circle clip-path=\"url(#clip955)\" cx=\"1653.17\" cy=\"1717.18\" r=\"14\" fill=\"#009af9\" fill-rule=\"evenodd\" fill-opacity=\"1\" stroke=\"#000000\" stroke-opacity=\"1\" stroke-width=\"4\"/>\n",
       "<circle clip-path=\"url(#clip955)\" cx=\"1813.68\" cy=\"1755.08\" r=\"14\" fill=\"#009af9\" fill-rule=\"evenodd\" fill-opacity=\"1\" stroke=\"#000000\" stroke-opacity=\"1\" stroke-width=\"4\"/>\n",
       "<circle clip-path=\"url(#clip955)\" cx=\"2134.7\" cy=\"1703.51\" r=\"14\" fill=\"#009af9\" fill-rule=\"evenodd\" fill-opacity=\"1\" stroke=\"#000000\" stroke-opacity=\"1\" stroke-width=\"4\"/>\n",
       "<circle clip-path=\"url(#clip955)\" cx=\"1572.91\" cy=\"1734.6\" r=\"14\" fill=\"#009af9\" fill-rule=\"evenodd\" fill-opacity=\"1\" stroke=\"#000000\" stroke-opacity=\"1\" stroke-width=\"4\"/>\n",
       "<circle clip-path=\"url(#clip955)\" cx=\"1532.79\" cy=\"1691.32\" r=\"14\" fill=\"#009af9\" fill-rule=\"evenodd\" fill-opacity=\"1\" stroke=\"#000000\" stroke-opacity=\"1\" stroke-width=\"4\"/>\n",
       "<circle clip-path=\"url(#clip955)\" cx=\"1532.79\" cy=\"1683.83\" r=\"14\" fill=\"#009af9\" fill-rule=\"evenodd\" fill-opacity=\"1\" stroke=\"#000000\" stroke-opacity=\"1\" stroke-width=\"4\"/>\n",
       "<circle clip-path=\"url(#clip955)\" cx=\"1572.91\" cy=\"1637.76\" r=\"14\" fill=\"#009af9\" fill-rule=\"evenodd\" fill-opacity=\"1\" stroke=\"#000000\" stroke-opacity=\"1\" stroke-width=\"4\"/>\n",
       "<circle clip-path=\"url(#clip955)\" cx=\"2134.7\" cy=\"1758.83\" r=\"14\" fill=\"#009af9\" fill-rule=\"evenodd\" fill-opacity=\"1\" stroke=\"#000000\" stroke-opacity=\"1\" stroke-width=\"4\"/>\n",
       "<circle clip-path=\"url(#clip955)\" cx=\"1813.68\" cy=\"1750.81\" r=\"14\" fill=\"#009af9\" fill-rule=\"evenodd\" fill-opacity=\"1\" stroke=\"#000000\" stroke-opacity=\"1\" stroke-width=\"4\"/>\n",
       "<circle clip-path=\"url(#clip955)\" cx=\"1532.79\" cy=\"1668.29\" r=\"14\" fill=\"#009af9\" fill-rule=\"evenodd\" fill-opacity=\"1\" stroke=\"#000000\" stroke-opacity=\"1\" stroke-width=\"4\"/>\n",
       "<circle clip-path=\"url(#clip955)\" cx=\"1532.79\" cy=\"1646.65\" r=\"14\" fill=\"#009af9\" fill-rule=\"evenodd\" fill-opacity=\"1\" stroke=\"#000000\" stroke-opacity=\"1\" stroke-width=\"4\"/>\n",
       "<circle clip-path=\"url(#clip955)\" cx=\"1653.17\" cy=\"1735.21\" r=\"14\" fill=\"#009af9\" fill-rule=\"evenodd\" fill-opacity=\"1\" stroke=\"#000000\" stroke-opacity=\"1\" stroke-width=\"4\"/>\n",
       "<circle clip-path=\"url(#clip955)\" cx=\"1653.17\" cy=\"1754.86\" r=\"14\" fill=\"#009af9\" fill-rule=\"evenodd\" fill-opacity=\"1\" stroke=\"#000000\" stroke-opacity=\"1\" stroke-width=\"4\"/>\n",
       "</svg>\n"
      ]
     },
     "execution_count": 33,
     "metadata": {},
     "output_type": "execute_result"
    }
   ],
   "source": [
    "tuned_model = TunedModel(model=model,\n",
    "                         ranges=[r1, r2],\n",
    "                         resampling=Holdout(),\n",
    "                         measures=mae,\n",
    "                         tuning=RandomSearch(rng=123),\n",
    "                         n=40)\n",
    "\n",
    "tuned_mach = machine(tuned_model, X, y) |> fit!\n",
    "plt = plot(tuned_mach)\n",
    "savefig(\"exercise_8c.png\")\n",
    "plt"
   ]
  },
  {
   "cell_type": "markdown",
   "metadata": {},
   "source": [
    "(d)"
   ]
  },
  {
   "cell_type": "code",
   "execution_count": 34,
   "metadata": {},
   "outputs": [
    {
     "name": "stderr",
     "output_type": "stream",
     "text": [
      "\u001b[33mEvaluating over 3 folds: 100%[=========================] Time: 0:00:41\u001b[39m\n"
     ]
    },
    {
     "data": {
      "text/plain": [
       "PerformanceEvaluation object with these fields:\n",
       "  measure, measurement, operation, per_fold,\n",
       "  per_observation, fitted_params_per_fold,\n",
       "  report_per_fold, train_test_pairs\n",
       "Extract:\n",
       "┌─────────────────────┬─────────────┬───────────┬─────────────────────────────┐\n",
       "│\u001b[22m measure             \u001b[0m│\u001b[22m measurement \u001b[0m│\u001b[22m operation \u001b[0m│\u001b[22m per_fold                    \u001b[0m│\n",
       "├─────────────────────┼─────────────┼───────────┼─────────────────────────────┤\n",
       "│ MeanAbsoluteError() │ 68700.0     │ predict   │ [68800.0, 67800.0, 69500.0] │\n",
       "└─────────────────────┴─────────────┴───────────┴─────────────────────────────┘\n"
      ]
     },
     "execution_count": 34,
     "metadata": {},
     "output_type": "execute_result"
    }
   ],
   "source": [
    "best_model = report(tuned_mach).best_model;\n",
    "best_mach = machine(best_model, X, y);\n",
    "best_err = evaluate!(best_mach, resampling=CV(nfolds=3), measure=mae)"
   ]
  },
  {
   "cell_type": "code",
   "execution_count": 35,
   "metadata": {},
   "outputs": [
    {
     "name": "stderr",
     "output_type": "stream",
     "text": [
      "\u001b[33mEvaluating over 3 folds: 100%[=========================] Time: 0:06:16\u001b[39m\n"
     ]
    },
    {
     "data": {
      "text/plain": [
       "PerformanceEvaluation object with these fields:\n",
       "  measure, measurement, operation, per_fold,\n",
       "  per_observation, fitted_params_per_fold,\n",
       "  report_per_fold, train_test_pairs\n",
       "Extract:\n",
       "┌─────────────────────┬─────────────┬───────────┬─────────────────────────────┐\n",
       "│\u001b[22m measure             \u001b[0m│\u001b[22m measurement \u001b[0m│\u001b[22m operation \u001b[0m│\u001b[22m per_fold                    \u001b[0m│\n",
       "├─────────────────────┼─────────────┼───────────┼─────────────────────────────┤\n",
       "│ MeanAbsoluteError() │ 69900.0     │ predict   │ [71400.0, 67800.0, 70500.0] │\n",
       "└─────────────────────┴─────────────┴───────────┴─────────────────────────────┘\n"
      ]
     },
     "execution_count": 35,
     "metadata": {},
     "output_type": "execute_result"
    }
   ],
   "source": [
    "tuned_err = evaluate!(tuned_mach, resampling=CV(nfolds=3), measure=mae)"
   ]
  },
  {
   "cell_type": "markdown",
   "metadata": {},
   "source": [
    "---\n",
    "\n",
    "*This notebook was generated using [Literate.jl](https://github.com/fredrikekre/Literate.jl).*"
   ]
  }
 ],
 "metadata": {
  "kernelspec": {
   "display_name": "Julia 1.6.3",
   "language": "julia",
   "name": "julia-1.6"
  },
  "language_info": {
   "file_extension": ".jl",
   "mimetype": "application/julia",
   "name": "julia",
   "version": "1.6.3"
  }
 },
 "nbformat": 4,
 "nbformat_minor": 3
}
